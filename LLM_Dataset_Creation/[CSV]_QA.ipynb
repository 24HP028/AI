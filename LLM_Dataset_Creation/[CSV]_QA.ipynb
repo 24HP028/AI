{
  "nbformat": 4,
  "nbformat_minor": 0,
  "metadata": {
    "colab": {
      "provenance": []
    },
    "kernelspec": {
      "name": "python3",
      "display_name": "Python 3"
    },
    "language_info": {
      "name": "python"
    }
  },
  "cells": [
    {
      "cell_type": "markdown",
      "source": [
        "##pip install"
      ],
      "metadata": {
        "id": "H9QpUx-03NTO"
      }
    },
    {
      "cell_type": "code",
      "execution_count": null,
      "metadata": {
        "colab": {
          "base_uri": "https://localhost:8080/"
        },
        "id": "Uvz-5DeVz9e7",
        "outputId": "b6dd34fc-eadf-4f6f-c336-2a4b16c5beb6"
      },
      "outputs": [
        {
          "output_type": "stream",
          "name": "stdout",
          "text": [
            "Collecting openai\n",
            "  Downloading openai-1.35.13-py3-none-any.whl (328 kB)\n",
            "\u001b[2K     \u001b[90m━━━━━━━━━━━━━━━━━━━━━━━━━━━━━━━━━━━━━━━━\u001b[0m \u001b[32m328.5/328.5 kB\u001b[0m \u001b[31m4.9 MB/s\u001b[0m eta \u001b[36m0:00:00\u001b[0m\n",
            "\u001b[?25hRequirement already satisfied: anyio<5,>=3.5.0 in /usr/local/lib/python3.10/dist-packages (from openai) (3.7.1)\n",
            "Requirement already satisfied: distro<2,>=1.7.0 in /usr/lib/python3/dist-packages (from openai) (1.7.0)\n",
            "Collecting httpx<1,>=0.23.0 (from openai)\n",
            "  Downloading httpx-0.27.0-py3-none-any.whl (75 kB)\n",
            "\u001b[2K     \u001b[90m━━━━━━━━━━━━━━━━━━━━━━━━━━━━━━━━━━━━━━━━\u001b[0m \u001b[32m75.6/75.6 kB\u001b[0m \u001b[31m6.1 MB/s\u001b[0m eta \u001b[36m0:00:00\u001b[0m\n",
            "\u001b[?25hRequirement already satisfied: pydantic<3,>=1.9.0 in /usr/local/lib/python3.10/dist-packages (from openai) (2.8.2)\n",
            "Requirement already satisfied: sniffio in /usr/local/lib/python3.10/dist-packages (from openai) (1.3.1)\n",
            "Requirement already satisfied: tqdm>4 in /usr/local/lib/python3.10/dist-packages (from openai) (4.66.4)\n",
            "Requirement already satisfied: typing-extensions<5,>=4.7 in /usr/local/lib/python3.10/dist-packages (from openai) (4.12.2)\n",
            "Requirement already satisfied: idna>=2.8 in /usr/local/lib/python3.10/dist-packages (from anyio<5,>=3.5.0->openai) (3.7)\n",
            "Requirement already satisfied: exceptiongroup in /usr/local/lib/python3.10/dist-packages (from anyio<5,>=3.5.0->openai) (1.2.1)\n",
            "Requirement already satisfied: certifi in /usr/local/lib/python3.10/dist-packages (from httpx<1,>=0.23.0->openai) (2024.7.4)\n",
            "Collecting httpcore==1.* (from httpx<1,>=0.23.0->openai)\n",
            "  Downloading httpcore-1.0.5-py3-none-any.whl (77 kB)\n",
            "\u001b[2K     \u001b[90m━━━━━━━━━━━━━━━━━━━━━━━━━━━━━━━━━━━━━━━━\u001b[0m \u001b[32m77.9/77.9 kB\u001b[0m \u001b[31m5.0 MB/s\u001b[0m eta \u001b[36m0:00:00\u001b[0m\n",
            "\u001b[?25hCollecting h11<0.15,>=0.13 (from httpcore==1.*->httpx<1,>=0.23.0->openai)\n",
            "  Downloading h11-0.14.0-py3-none-any.whl (58 kB)\n",
            "\u001b[2K     \u001b[90m━━━━━━━━━━━━━━━━━━━━━━━━━━━━━━━━━━━━━━━━\u001b[0m \u001b[32m58.3/58.3 kB\u001b[0m \u001b[31m6.2 MB/s\u001b[0m eta \u001b[36m0:00:00\u001b[0m\n",
            "\u001b[?25hRequirement already satisfied: annotated-types>=0.4.0 in /usr/local/lib/python3.10/dist-packages (from pydantic<3,>=1.9.0->openai) (0.7.0)\n",
            "Requirement already satisfied: pydantic-core==2.20.1 in /usr/local/lib/python3.10/dist-packages (from pydantic<3,>=1.9.0->openai) (2.20.1)\n",
            "Installing collected packages: h11, httpcore, httpx, openai\n",
            "Successfully installed h11-0.14.0 httpcore-1.0.5 httpx-0.27.0 openai-1.35.13\n"
          ]
        }
      ],
      "source": [
        "pip install openai\n"
      ]
    },
    {
      "cell_type": "code",
      "source": [
        "pip install openai==0.28"
      ],
      "metadata": {
        "colab": {
          "base_uri": "https://localhost:8080/",
          "height": 536
        },
        "id": "zqbMdD7h4GIk",
        "outputId": "e6881361-e08e-46c5-fa79-4501dcb4c2de"
      },
      "execution_count": null,
      "outputs": [
        {
          "output_type": "stream",
          "name": "stdout",
          "text": [
            "Collecting openai==0.28\n",
            "  Downloading openai-0.28.0-py3-none-any.whl (76 kB)\n",
            "\u001b[?25l     \u001b[90m━━━━━━━━━━━━━━━━━━━━━━━━━━━━━━━━━━━━━━━━\u001b[0m \u001b[32m0.0/76.5 kB\u001b[0m \u001b[31m?\u001b[0m eta \u001b[36m-:--:--\u001b[0m\r\u001b[2K     \u001b[90m━━━━━━━━━━━━━━━━━━━━━━━━━━━━━━━━━━━━━━━━\u001b[0m \u001b[32m76.5/76.5 kB\u001b[0m \u001b[31m2.1 MB/s\u001b[0m eta \u001b[36m0:00:00\u001b[0m\n",
            "\u001b[?25hRequirement already satisfied: requests>=2.20 in /usr/local/lib/python3.10/dist-packages (from openai==0.28) (2.31.0)\n",
            "Requirement already satisfied: tqdm in /usr/local/lib/python3.10/dist-packages (from openai==0.28) (4.66.4)\n",
            "Requirement already satisfied: aiohttp in /usr/local/lib/python3.10/dist-packages (from openai==0.28) (3.9.5)\n",
            "Requirement already satisfied: charset-normalizer<4,>=2 in /usr/local/lib/python3.10/dist-packages (from requests>=2.20->openai==0.28) (3.3.2)\n",
            "Requirement already satisfied: idna<4,>=2.5 in /usr/local/lib/python3.10/dist-packages (from requests>=2.20->openai==0.28) (3.7)\n",
            "Requirement already satisfied: urllib3<3,>=1.21.1 in /usr/local/lib/python3.10/dist-packages (from requests>=2.20->openai==0.28) (2.0.7)\n",
            "Requirement already satisfied: certifi>=2017.4.17 in /usr/local/lib/python3.10/dist-packages (from requests>=2.20->openai==0.28) (2024.7.4)\n",
            "Requirement already satisfied: aiosignal>=1.1.2 in /usr/local/lib/python3.10/dist-packages (from aiohttp->openai==0.28) (1.3.1)\n",
            "Requirement already satisfied: attrs>=17.3.0 in /usr/local/lib/python3.10/dist-packages (from aiohttp->openai==0.28) (23.2.0)\n",
            "Requirement already satisfied: frozenlist>=1.1.1 in /usr/local/lib/python3.10/dist-packages (from aiohttp->openai==0.28) (1.4.1)\n",
            "Requirement already satisfied: multidict<7.0,>=4.5 in /usr/local/lib/python3.10/dist-packages (from aiohttp->openai==0.28) (6.0.5)\n",
            "Requirement already satisfied: yarl<2.0,>=1.0 in /usr/local/lib/python3.10/dist-packages (from aiohttp->openai==0.28) (1.9.4)\n",
            "Requirement already satisfied: async-timeout<5.0,>=4.0 in /usr/local/lib/python3.10/dist-packages (from aiohttp->openai==0.28) (4.0.3)\n",
            "Installing collected packages: openai\n",
            "  Attempting uninstall: openai\n",
            "    Found existing installation: openai 1.35.13\n",
            "    Uninstalling openai-1.35.13:\n",
            "      Successfully uninstalled openai-1.35.13\n",
            "Successfully installed openai-0.28.0\n"
          ]
        },
        {
          "output_type": "display_data",
          "data": {
            "application/vnd.colab-display-data+json": {
              "pip_warning": {
                "packages": [
                  "openai"
                ]
              },
              "id": "7f281365623c41a78b900587c3efd6c2"
            }
          },
          "metadata": {}
        }
      ]
    },
    {
      "cell_type": "code",
      "source": [
        "!pip install langchain\n"
      ],
      "metadata": {
        "colab": {
          "base_uri": "https://localhost:8080/"
        },
        "id": "FRZ24vbf2dhX",
        "outputId": "3c817904-0427-49df-c749-be788581214d"
      },
      "execution_count": null,
      "outputs": [
        {
          "output_type": "stream",
          "name": "stdout",
          "text": [
            "Requirement already satisfied: langchain in /usr/local/lib/python3.10/dist-packages (0.2.7)\n",
            "Requirement already satisfied: PyYAML>=5.3 in /usr/local/lib/python3.10/dist-packages (from langchain) (6.0.1)\n",
            "Requirement already satisfied: SQLAlchemy<3,>=1.4 in /usr/local/lib/python3.10/dist-packages (from langchain) (2.0.31)\n",
            "Requirement already satisfied: aiohttp<4.0.0,>=3.8.3 in /usr/local/lib/python3.10/dist-packages (from langchain) (3.9.5)\n",
            "Requirement already satisfied: async-timeout<5.0.0,>=4.0.0 in /usr/local/lib/python3.10/dist-packages (from langchain) (4.0.3)\n",
            "Requirement already satisfied: langchain-core<0.3.0,>=0.2.12 in /usr/local/lib/python3.10/dist-packages (from langchain) (0.2.16)\n",
            "Requirement already satisfied: langchain-text-splitters<0.3.0,>=0.2.0 in /usr/local/lib/python3.10/dist-packages (from langchain) (0.2.2)\n",
            "Requirement already satisfied: langsmith<0.2.0,>=0.1.17 in /usr/local/lib/python3.10/dist-packages (from langchain) (0.1.85)\n",
            "Requirement already satisfied: numpy<2,>=1 in /usr/local/lib/python3.10/dist-packages (from langchain) (1.25.2)\n",
            "Requirement already satisfied: pydantic<3,>=1 in /usr/local/lib/python3.10/dist-packages (from langchain) (2.8.2)\n",
            "Requirement already satisfied: requests<3,>=2 in /usr/local/lib/python3.10/dist-packages (from langchain) (2.31.0)\n",
            "Requirement already satisfied: tenacity!=8.4.0,<9.0.0,>=8.1.0 in /usr/local/lib/python3.10/dist-packages (from langchain) (8.5.0)\n",
            "Requirement already satisfied: aiosignal>=1.1.2 in /usr/local/lib/python3.10/dist-packages (from aiohttp<4.0.0,>=3.8.3->langchain) (1.3.1)\n",
            "Requirement already satisfied: attrs>=17.3.0 in /usr/local/lib/python3.10/dist-packages (from aiohttp<4.0.0,>=3.8.3->langchain) (23.2.0)\n",
            "Requirement already satisfied: frozenlist>=1.1.1 in /usr/local/lib/python3.10/dist-packages (from aiohttp<4.0.0,>=3.8.3->langchain) (1.4.1)\n",
            "Requirement already satisfied: multidict<7.0,>=4.5 in /usr/local/lib/python3.10/dist-packages (from aiohttp<4.0.0,>=3.8.3->langchain) (6.0.5)\n",
            "Requirement already satisfied: yarl<2.0,>=1.0 in /usr/local/lib/python3.10/dist-packages (from aiohttp<4.0.0,>=3.8.3->langchain) (1.9.4)\n",
            "Requirement already satisfied: jsonpatch<2.0,>=1.33 in /usr/local/lib/python3.10/dist-packages (from langchain-core<0.3.0,>=0.2.12->langchain) (1.33)\n",
            "Requirement already satisfied: packaging<25,>=23.2 in /usr/local/lib/python3.10/dist-packages (from langchain-core<0.3.0,>=0.2.12->langchain) (24.1)\n",
            "Requirement already satisfied: orjson<4.0.0,>=3.9.14 in /usr/local/lib/python3.10/dist-packages (from langsmith<0.2.0,>=0.1.17->langchain) (3.10.6)\n",
            "Requirement already satisfied: annotated-types>=0.4.0 in /usr/local/lib/python3.10/dist-packages (from pydantic<3,>=1->langchain) (0.7.0)\n",
            "Requirement already satisfied: pydantic-core==2.20.1 in /usr/local/lib/python3.10/dist-packages (from pydantic<3,>=1->langchain) (2.20.1)\n",
            "Requirement already satisfied: typing-extensions>=4.6.1 in /usr/local/lib/python3.10/dist-packages (from pydantic<3,>=1->langchain) (4.12.2)\n",
            "Requirement already satisfied: charset-normalizer<4,>=2 in /usr/local/lib/python3.10/dist-packages (from requests<3,>=2->langchain) (3.3.2)\n",
            "Requirement already satisfied: idna<4,>=2.5 in /usr/local/lib/python3.10/dist-packages (from requests<3,>=2->langchain) (3.7)\n",
            "Requirement already satisfied: urllib3<3,>=1.21.1 in /usr/local/lib/python3.10/dist-packages (from requests<3,>=2->langchain) (2.0.7)\n",
            "Requirement already satisfied: certifi>=2017.4.17 in /usr/local/lib/python3.10/dist-packages (from requests<3,>=2->langchain) (2024.7.4)\n",
            "Requirement already satisfied: greenlet!=0.4.17 in /usr/local/lib/python3.10/dist-packages (from SQLAlchemy<3,>=1.4->langchain) (3.0.3)\n",
            "Requirement already satisfied: jsonpointer>=1.9 in /usr/local/lib/python3.10/dist-packages (from jsonpatch<2.0,>=1.33->langchain-core<0.3.0,>=0.2.12->langchain) (3.0.0)\n"
          ]
        }
      ]
    },
    {
      "cell_type": "code",
      "source": [
        "pip install PyPDF2\n"
      ],
      "metadata": {
        "colab": {
          "base_uri": "https://localhost:8080/"
        },
        "id": "sBg0T31Y2iAR",
        "outputId": "511ae86d-89dd-443a-8cd1-fad32fbaf342"
      },
      "execution_count": null,
      "outputs": [
        {
          "output_type": "stream",
          "name": "stdout",
          "text": [
            "Collecting PyPDF2\n",
            "  Downloading pypdf2-3.0.1-py3-none-any.whl (232 kB)\n",
            "\u001b[?25l     \u001b[90m━━━━━━━━━━━━━━━━━━━━━━━━━━━━━━━━━━━━━━━━\u001b[0m \u001b[32m0.0/232.6 kB\u001b[0m \u001b[31m?\u001b[0m eta \u001b[36m-:--:--\u001b[0m\r\u001b[2K     \u001b[91m━━━━━━━━━━━━━━━━━━━━━━━━━━\u001b[0m\u001b[90m╺\u001b[0m\u001b[90m━━━━━━━━━━━━━\u001b[0m \u001b[32m153.6/232.6 kB\u001b[0m \u001b[31m4.7 MB/s\u001b[0m eta \u001b[36m0:00:01\u001b[0m\r\u001b[2K     \u001b[90m━━━━━━━━━━━━━━━━━━━━━━━━━━━━━━━━━━━━━━━━\u001b[0m \u001b[32m232.6/232.6 kB\u001b[0m \u001b[31m4.9 MB/s\u001b[0m eta \u001b[36m0:00:00\u001b[0m\n",
            "\u001b[?25hInstalling collected packages: PyPDF2\n",
            "Successfully installed PyPDF2-3.0.1\n"
          ]
        }
      ]
    },
    {
      "cell_type": "code",
      "source": [
        "pip install pandas"
      ],
      "metadata": {
        "colab": {
          "base_uri": "https://localhost:8080/"
        },
        "id": "6zqGzNGv3paB",
        "outputId": "42c13ebb-bc1d-48b8-8a40-ef76ecb10089"
      },
      "execution_count": null,
      "outputs": [
        {
          "output_type": "stream",
          "name": "stdout",
          "text": [
            "Requirement already satisfied: pandas in /usr/local/lib/python3.10/dist-packages (2.0.3)\n",
            "Requirement already satisfied: python-dateutil>=2.8.2 in /usr/local/lib/python3.10/dist-packages (from pandas) (2.8.2)\n",
            "Requirement already satisfied: pytz>=2020.1 in /usr/local/lib/python3.10/dist-packages (from pandas) (2023.4)\n",
            "Requirement already satisfied: tzdata>=2022.1 in /usr/local/lib/python3.10/dist-packages (from pandas) (2024.1)\n",
            "Requirement already satisfied: numpy>=1.21.0 in /usr/local/lib/python3.10/dist-packages (from pandas) (1.25.2)\n",
            "Requirement already satisfied: six>=1.5 in /usr/local/lib/python3.10/dist-packages (from python-dateutil>=2.8.2->pandas) (1.16.0)\n"
          ]
        }
      ]
    },
    {
      "cell_type": "code",
      "source": [
        "pip install -U langchain-community"
      ],
      "metadata": {
        "colab": {
          "base_uri": "https://localhost:8080/"
        },
        "id": "N_kw-6Ge3Kqo",
        "outputId": "7e4b77ab-2abf-4216-a9e7-3d26ba767162"
      },
      "execution_count": null,
      "outputs": [
        {
          "output_type": "stream",
          "name": "stdout",
          "text": [
            "Collecting langchain-community\n",
            "  Downloading langchain_community-0.2.7-py3-none-any.whl (2.2 MB)\n",
            "\u001b[2K     \u001b[90m━━━━━━━━━━━━━━━━━━━━━━━━━━━━━━━━━━━━━━━━\u001b[0m \u001b[32m2.2/2.2 MB\u001b[0m \u001b[31m20.7 MB/s\u001b[0m eta \u001b[36m0:00:00\u001b[0m\n",
            "\u001b[?25hRequirement already satisfied: PyYAML>=5.3 in /usr/local/lib/python3.10/dist-packages (from langchain-community) (6.0.1)\n",
            "Requirement already satisfied: SQLAlchemy<3,>=1.4 in /usr/local/lib/python3.10/dist-packages (from langchain-community) (2.0.31)\n",
            "Requirement already satisfied: aiohttp<4.0.0,>=3.8.3 in /usr/local/lib/python3.10/dist-packages (from langchain-community) (3.9.5)\n",
            "Collecting dataclasses-json<0.7,>=0.5.7 (from langchain-community)\n",
            "  Downloading dataclasses_json-0.6.7-py3-none-any.whl (28 kB)\n",
            "Requirement already satisfied: langchain<0.3.0,>=0.2.7 in /usr/local/lib/python3.10/dist-packages (from langchain-community) (0.2.7)\n",
            "Requirement already satisfied: langchain-core<0.3.0,>=0.2.12 in /usr/local/lib/python3.10/dist-packages (from langchain-community) (0.2.16)\n",
            "Requirement already satisfied: langsmith<0.2.0,>=0.1.0 in /usr/local/lib/python3.10/dist-packages (from langchain-community) (0.1.85)\n",
            "Requirement already satisfied: numpy<2,>=1 in /usr/local/lib/python3.10/dist-packages (from langchain-community) (1.25.2)\n",
            "Requirement already satisfied: requests<3,>=2 in /usr/local/lib/python3.10/dist-packages (from langchain-community) (2.31.0)\n",
            "Requirement already satisfied: tenacity!=8.4.0,<9.0.0,>=8.1.0 in /usr/local/lib/python3.10/dist-packages (from langchain-community) (8.5.0)\n",
            "Requirement already satisfied: aiosignal>=1.1.2 in /usr/local/lib/python3.10/dist-packages (from aiohttp<4.0.0,>=3.8.3->langchain-community) (1.3.1)\n",
            "Requirement already satisfied: attrs>=17.3.0 in /usr/local/lib/python3.10/dist-packages (from aiohttp<4.0.0,>=3.8.3->langchain-community) (23.2.0)\n",
            "Requirement already satisfied: frozenlist>=1.1.1 in /usr/local/lib/python3.10/dist-packages (from aiohttp<4.0.0,>=3.8.3->langchain-community) (1.4.1)\n",
            "Requirement already satisfied: multidict<7.0,>=4.5 in /usr/local/lib/python3.10/dist-packages (from aiohttp<4.0.0,>=3.8.3->langchain-community) (6.0.5)\n",
            "Requirement already satisfied: yarl<2.0,>=1.0 in /usr/local/lib/python3.10/dist-packages (from aiohttp<4.0.0,>=3.8.3->langchain-community) (1.9.4)\n",
            "Requirement already satisfied: async-timeout<5.0,>=4.0 in /usr/local/lib/python3.10/dist-packages (from aiohttp<4.0.0,>=3.8.3->langchain-community) (4.0.3)\n",
            "Collecting marshmallow<4.0.0,>=3.18.0 (from dataclasses-json<0.7,>=0.5.7->langchain-community)\n",
            "  Downloading marshmallow-3.21.3-py3-none-any.whl (49 kB)\n",
            "\u001b[2K     \u001b[90m━━━━━━━━━━━━━━━━━━━━━━━━━━━━━━━━━━━━━━━━\u001b[0m \u001b[32m49.2/49.2 kB\u001b[0m \u001b[31m6.2 MB/s\u001b[0m eta \u001b[36m0:00:00\u001b[0m\n",
            "\u001b[?25hCollecting typing-inspect<1,>=0.4.0 (from dataclasses-json<0.7,>=0.5.7->langchain-community)\n",
            "  Downloading typing_inspect-0.9.0-py3-none-any.whl (8.8 kB)\n",
            "Requirement already satisfied: langchain-text-splitters<0.3.0,>=0.2.0 in /usr/local/lib/python3.10/dist-packages (from langchain<0.3.0,>=0.2.7->langchain-community) (0.2.2)\n",
            "Requirement already satisfied: pydantic<3,>=1 in /usr/local/lib/python3.10/dist-packages (from langchain<0.3.0,>=0.2.7->langchain-community) (2.8.2)\n",
            "Requirement already satisfied: jsonpatch<2.0,>=1.33 in /usr/local/lib/python3.10/dist-packages (from langchain-core<0.3.0,>=0.2.12->langchain-community) (1.33)\n",
            "Requirement already satisfied: packaging<25,>=23.2 in /usr/local/lib/python3.10/dist-packages (from langchain-core<0.3.0,>=0.2.12->langchain-community) (24.1)\n",
            "Requirement already satisfied: orjson<4.0.0,>=3.9.14 in /usr/local/lib/python3.10/dist-packages (from langsmith<0.2.0,>=0.1.0->langchain-community) (3.10.6)\n",
            "Requirement already satisfied: charset-normalizer<4,>=2 in /usr/local/lib/python3.10/dist-packages (from requests<3,>=2->langchain-community) (3.3.2)\n",
            "Requirement already satisfied: idna<4,>=2.5 in /usr/local/lib/python3.10/dist-packages (from requests<3,>=2->langchain-community) (3.7)\n",
            "Requirement already satisfied: urllib3<3,>=1.21.1 in /usr/local/lib/python3.10/dist-packages (from requests<3,>=2->langchain-community) (2.0.7)\n",
            "Requirement already satisfied: certifi>=2017.4.17 in /usr/local/lib/python3.10/dist-packages (from requests<3,>=2->langchain-community) (2024.7.4)\n",
            "Requirement already satisfied: typing-extensions>=4.6.0 in /usr/local/lib/python3.10/dist-packages (from SQLAlchemy<3,>=1.4->langchain-community) (4.12.2)\n",
            "Requirement already satisfied: greenlet!=0.4.17 in /usr/local/lib/python3.10/dist-packages (from SQLAlchemy<3,>=1.4->langchain-community) (3.0.3)\n",
            "Requirement already satisfied: jsonpointer>=1.9 in /usr/local/lib/python3.10/dist-packages (from jsonpatch<2.0,>=1.33->langchain-core<0.3.0,>=0.2.12->langchain-community) (3.0.0)\n",
            "Requirement already satisfied: annotated-types>=0.4.0 in /usr/local/lib/python3.10/dist-packages (from pydantic<3,>=1->langchain<0.3.0,>=0.2.7->langchain-community) (0.7.0)\n",
            "Requirement already satisfied: pydantic-core==2.20.1 in /usr/local/lib/python3.10/dist-packages (from pydantic<3,>=1->langchain<0.3.0,>=0.2.7->langchain-community) (2.20.1)\n",
            "Collecting mypy-extensions>=0.3.0 (from typing-inspect<1,>=0.4.0->dataclasses-json<0.7,>=0.5.7->langchain-community)\n",
            "  Downloading mypy_extensions-1.0.0-py3-none-any.whl (4.7 kB)\n",
            "Installing collected packages: mypy-extensions, marshmallow, typing-inspect, dataclasses-json, langchain-community\n",
            "Successfully installed dataclasses-json-0.6.7 langchain-community-0.2.7 marshmallow-3.21.3 mypy-extensions-1.0.0 typing-inspect-0.9.0\n"
          ]
        }
      ]
    },
    {
      "cell_type": "markdown",
      "source": [
        "##실습"
      ],
      "metadata": {
        "id": "rjsndzimNj17"
      }
    },
    {
      "cell_type": "code",
      "source": [
        "import openai\n",
        "import csv\n",
        "import json\n",
        "import pandas as pd\n",
        "from langchain.document_loaders import CSVLoader\n",
        "from langchain.text_splitter import CharacterTextSplitter\n",
        "\n",
        "# Set your OpenAI API key here\n",
        "openai.api_key = 'key 입력'"
      ],
      "metadata": {
        "id": "LW0YSD9h2inn"
      },
      "execution_count": null,
      "outputs": []
    },
    {
      "cell_type": "code",
      "source": [
        "import pandas as pd\n",
        "\n",
        "# CSV 파일을 로드하는 함수 (한글 인코딩 지정)\n",
        "def load_csv(file_path):\n",
        "    try:\n",
        "        # 먼저 euc-kr로 시도\n",
        "        df = pd.read_csv(file_path, encoding='euc-kr',header=None)\n",
        "    except UnicodeDecodeError:\n",
        "        try:\n",
        "            # 실패하면 latin1으로 시도\n",
        "            df = pd.read_csv(file_path, encoding='latin1',header=None)\n",
        "        except UnicodeDecodeError:\n",
        "            # 그래도 실패하면 utf-8로 시도\n",
        "            df = pd.read_csv(file_path, encoding='utf-8,',header=None)\n",
        "    return df\n",
        "\n",
        "# CSV 파일 경로\n",
        "file_path = '/content/선박코드 조회.CSV'\n",
        "\n",
        "# CSV 파일 로드\n",
        "df = load_csv(file_path)\n",
        "\n",
        "# CSV 파일의 일부를 출력\n",
        "print(df.head())\n"
      ],
      "metadata": {
        "colab": {
          "base_uri": "https://localhost:8080/"
        },
        "id": "rLA6fgyA2uDa",
        "outputId": "b449e046-f4dd-4f94-d274-7d1105d71e70"
      },
      "execution_count": null,
      "outputs": [
        {
          "output_type": "stream",
          "name": "stdout",
          "text": [
            "    0     1      2                        3\n",
            "0  순번  코드ID    코드명                    코드영문명\n",
            "1  1     11    여객선           PASSENGER SHIP\n",
            "2  2     12    화객선     CARGO PASSENGER SHIP\n",
            "3  3     13  국제카페리  INTERNATIONAL CAR FERRY\n",
            "4  4     14   크루즈선                  CRUISER\n"
          ]
        }
      ]
    },
    {
      "cell_type": "code",
      "source": [
        "\n",
        "# 텍스트를 기반으로 질문 생성\n",
        "def generate_questions(context, num_questions=5):\n",
        "    print(\"Context:\\n\", context)\n",
        "    prompt = f\"\"\"\n",
        "Context information is below. You are only aware of this context and nothing else.\n",
        "Don't use information out of context.\n",
        "    ---------------------\n",
        "\n",
        "    {context}\n",
        "\n",
        "    ---------------------\n",
        "You are responsible for generating {num_questions} questions throughout the document, but you must not use any information from outside the document.\n",
        "You are the person who generates questions based on the content of the context.\n",
        "QUESTIONS must be written in Korean.\n",
        "\n",
        "    \"\"\"\n",
        "    response = openai.ChatCompletion.create(\n",
        "        model=\"gpt-3.5-turbo\",\n",
        "        messages=[\n",
        "            {\"role\": \"system\", \"content\": \"Generate question using only the content of the context.\"},\n",
        "            {\"role\": \"user\", \"content\": prompt}\n",
        "        ],\n",
        "        temperature=0.7,\n",
        "        max_tokens=500,\n",
        "    )\n",
        "    questions = response.choices[0].message.content\n",
        "    return questions"
      ],
      "metadata": {
        "id": "R_j8S8Im7RJW"
      },
      "execution_count": null,
      "outputs": []
    },
    {
      "cell_type": "code",
      "source": [
        "# 수정코드\n",
        "# 텍스트를 기반으로 질문 생성\n",
        "def generate_questions(context, num_questions=5):\n",
        "    print(\"Context:\\n\", context)\n",
        "    prompt = f\"\"\"\n",
        "Context information is below. You are only aware of this context and nothing else.\n",
        "Don't use information out of context.\n",
        "    ---------------------\n",
        "\n",
        "    {context}\n",
        "\n",
        "    ---------------------\n",
        "You are responsible for generating {num_questions} questions throughout the document, but you must not use any information from outside the document.\n",
        "You are the person who generates questions based on the content of the context.\n",
        "\n",
        "The purpose of question(s) is to test the understanding of the students on the context information provided.\n",
        "You must also provide the answer to each question. The answer should be based on the context information provided only.\n",
        "QUESTIONS must be written in Korean.\n",
        "\n",
        "    \"\"\"\n",
        "    response = openai.ChatCompletion.create(\n",
        "        model=\"gpt-3.5-turbo\",\n",
        "        messages=[\n",
        "            {\"role\": \"system\", \"content\": \"Generate question using only the content of the context.\"},\n",
        "            {\"role\": \"user\", \"content\": prompt}\n",
        "        ],\n",
        "        temperature=0.7,\n",
        "        max_tokens=500,\n",
        "    )\n",
        "    questions = response.choices[0].message.content\n",
        "    return questions"
      ],
      "metadata": {
        "id": "waA-v4Z0LVmv"
      },
      "execution_count": null,
      "outputs": []
    },
    {
      "cell_type": "code",
      "source": [
        "\n",
        "# 질문에 대한 답변 생성\n",
        "def generate_answers(questions, context):\n",
        "    answers = []\n",
        "    for question in questions:\n",
        "        prompt = f\"\"\"\n",
        "Context information is below. You are only aware of this context and nothing else.\n",
        "Don't use information out of context.\n",
        "    ---------------------\n",
        "\n",
        "    {context}\n",
        "\n",
        "    ---------------------\n",
        "You're an expert on ports, logistics, and ships, so when the question comes up, you're going to give an educated, expert response to the relevant regulations.\n",
        "Don't use information out of context.\n",
        "\n",
        "        Question:\n",
        "        {question}\n",
        "\n",
        "Answers must be 300 characters or less\n",
        "Please condense your answer to the maximum character length.\n",
        "Your answers must be written in Korean.\n",
        "Answers must be in complete sentences.\n",
        "\n",
        "\n",
        "\n",
        " #Format:\n",
        "    {{\n",
        "    \"QUESTION\": \"\",\n",
        "    \"ANSWER\": \"\"\n",
        "    }}\n",
        "\n",
        "        \"\"\"\n",
        "        response = openai.ChatCompletion.create(\n",
        "            model=\"gpt-3.5-turbo\",\n",
        "            messages=[\n",
        "                {\"role\": \"system\", \"content\": \"Provide answers to questions. Don't use information out of context.\"},\n",
        "                {\"role\": \"user\", \"content\": prompt}\n",
        "            ],\n",
        "            temperature=0.7,\n",
        "            max_tokens=300,\n",
        "        )\n",
        "        answer = response.choices[0].message.content\n",
        "        answers.append(answer)\n",
        "    return answers"
      ],
      "metadata": {
        "id": "BHNuKnwx3Y8N"
      },
      "execution_count": null,
      "outputs": []
    },
    {
      "cell_type": "code",
      "source": [
        "# 수정 코드\n",
        "# 질문에 대한 답변 생성\n",
        "def generate_answers(questions, context):\n",
        "    answers = []\n",
        "    for question in questions:\n",
        "        prompt = f\"\"\"\n",
        "Context information is below. You are only aware of this context and nothing else.\n",
        "Don't use information out of context.\n",
        "    ---------------------\n",
        "\n",
        "    {context}\n",
        "\n",
        "    ---------------------\n",
        "You're an expert on ports, logistics, and ships, so when the question comes up, you're going to give an educated, expert response to the relevant regulations.\n",
        "Don't use information out of context.\n",
        "\n",
        "        Question:\n",
        "        {question}\n",
        "\n",
        "The answer should be based on the context information provided only.\n",
        "Answers must be 150 characters or less\n",
        "Please condense your answer to the maximum character length.\n",
        "Your answers must be written in Korean.\n",
        "Answers must be in complete sentences.\n",
        "\n",
        "\n",
        "\n",
        " #Format:\n",
        "    {{\n",
        "    \"QUESTION\": \"\",\n",
        "    \"ANSWER\": \"\"\n",
        "    }}\n",
        "\n",
        "        \"\"\"\n",
        "        response = openai.ChatCompletion.create(\n",
        "            model=\"gpt-3.5-turbo\",\n",
        "            messages=[\n",
        "                {\"role\": \"system\", \"content\": \"Provide answers to questions.\"},\n",
        "                {\"role\": \"user\", \"content\": prompt}\n",
        "            ],\n",
        "            temperature=0.7,\n",
        "            max_tokens=300,\n",
        "        )\n",
        "        answer = response.choices[0].message.content\n",
        "        answers.append(answer)\n",
        "    return answers"
      ],
      "metadata": {
        "id": "E2Obw0-P9ANV"
      },
      "execution_count": null,
      "outputs": []
    },
    {
      "cell_type": "code",
      "source": [
        "# CSV 파일에서 질문과 답변 쌍 생성\n",
        "def generate_qa_from_csv(csv_path, num_questions=5):\n",
        "    # CSV 파일 로드\n",
        "    df = load_csv(csv_path)\n",
        "    context = \" \".join(df.astype(str).values.flatten())\n",
        "\n",
        "    # 질문 생성\n",
        "    questions = generate_questions(context, num_questions=num_questions).split(\"\\n\")\n",
        "\n",
        "    # 답변 생성\n",
        "    answers = generate_answers(questions, context)\n",
        "\n",
        "    # Q&A 쌍 생성\n",
        "    qa_pairs = [{\"QUESTION\": q, \"ANSWER\": a} for q, a in zip(questions, answers)]\n",
        "\n",
        "    return qa_pairs"
      ],
      "metadata": {
        "id": "lnV5G5zr3aXt"
      },
      "execution_count": null,
      "outputs": []
    },
    {
      "cell_type": "code",
      "source": [
        "# CSV 파일 경로\n",
        "csv_path = '/content/선박코드 조회.CSV'\n",
        "qa_pairs = generate_qa_from_csv(csv_path, num_questions=5)"
      ],
      "metadata": {
        "colab": {
          "base_uri": "https://localhost:8080/"
        },
        "id": "uoyqk9RX3bqM",
        "outputId": "5f9fdd02-dd69-4172-9e67-323db40f74ac"
      },
      "execution_count": null,
      "outputs": [
        {
          "output_type": "stream",
          "name": "stdout",
          "text": [
            "Context:\n",
            " 순번 코드ID 코드명 코드영문명 1  11 여객선 PASSENGER SHIP 2  12 화객선 CARGO PASSENGER SHIP 3  13 국제카페리 INTERNATIONAL CAR FERRY 4  14 크루즈선 CRUISER 5  21 산물선(벌크선) BULK SHIP 6  22 양곡운반선 CARRYING GRAIN SHIP 7  23 원목운반선 CARRYING WOOD SHIP 8  24 광석운반선 CARRYING ORE SHIP 9  25 석탄운반선 CARRYING COAL SHIP 10  26 시멘트운반선 CARRYING CEMENT SHIP 11  27 자동차운반선 CARRYING AUTOMOBILE SHIP 12  28 핫코일운반선 CARRYING HOT COIL SHIP 13  29 철강재 운반선 CARRYING STEEL PRODUCTS SHIP 14  30 코일전용선 ONLY COIL SHIP 15  31 모래운반선 CARRYING SAND SHIP 16  32 냉동.냉장선 REFRIGERATOR SHIP 17  33 폐기물 운반선 CARRYING WASTE SHIP 18  39 일반화물선 GENERAL CARGO SHIP 19  41 풀컨테이너선 FULL CONTAINER SHIP 20  42 세미(혼재)컨테이너선 SEMI CONTAINER SHIP 21  51 원유운반선 CARRYING CRUDE OIL SHIP 22  52 석유제품 운반선 CARRYING PETROLEUM PRODUCTS SHIP 23  53 케미칼 운반선 CARRYING CHEMICAL SHIP 24  54 케미칼가스 운반선 CARRYING CHEMICAL GAS SHIP 25  55 LPG 운반선 CARRYING LPG SHIP 26  56 LNG 운반선 CARRYING LNG SHIP 27  59 기타 유조선 THE OTHERS OIL SHIP 28  61 견인용예선 TUGBOAT FOR TOWING 29  62 이.접안용 예선 TUGBOAT FOR BERTHING 30  63 압항 예선 TOWED BOAT 31  64 통선 SAMPAN PLYING SHIP 32  69 기타 예선 THE OTHERS TUGBOAT 33  70 예부선 TUGBOAT-BARGE BOAT 34  71 모래운반용 부선 CARRYING SAND BARGE 35  72 철강재운반용 부선 CARRYING STEAL PRODUCTS BAYE 36  73 원유운반용 부선 CARRING CRUDE OIL BAYE 37  74 석유제품운반용 부선 CARRYING PETROLEUM PRODUCTS BAYE 38  75 화공약품운반용 부선 CARRYING CHEMICAL BAYE 39  76 일반화물운반용 부선 CARRYING GENERAL CARGO BAYE 40  77 공사(작업)용 부선 BARGE FOR CONSTRUCT 41  78 신조선 NEWLY CONSTRUCTED SHIP 42  79 기타 부선 THE OTHERS BARGE 43  81 관공선 GOVERNMENT SHIP 44  82 경찰정 POLICE SHIP 45  83 군함 WARSHIP 46  89 수상레저기구 LEISURE BOAT 47  91 연근해 어선 COASTAL SHIP 48  92 원양 어선 OCEAN GOING SHIP 49  93 급유선 OIL SUPPLY SHIP 50  94 급수선 WATER SUPPLY SHIP 51  95 용달선 DELIVERY SHIP 52  96 준설선 DREDGING SHIP 53  97 유람선 EXCURSION SHIP 54  98 도선 PILOT SHIP 55  99 기타선 THE OTHERS SHIP\n"
          ]
        }
      ]
    },
    {
      "cell_type": "code",
      "source": [
        "# 답변 출력\n",
        "for qa in qa_pairs:\n",
        "    print(qa['ANSWER'])"
      ],
      "metadata": {
        "colab": {
          "base_uri": "https://localhost:8080/"
        },
        "id": "sHLp0aSr3eBA",
        "outputId": "9dc26ecd-6407-4533-93fd-87fd80efb771"
      },
      "execution_count": null,
      "outputs": [
        {
          "output_type": "stream",
          "name": "stdout",
          "text": [
            "{\n",
            "    \"QUESTION\": \"1. 각 코드에 대해 설명하십시오.\",\n",
            "    \"ANSWER\": \"11은 여객선을 나타내며, 21은 산물선(벌크선)을 의미합니다. 31은 모래운반선을 나타내며, 41은 풀컨테이너선을 의미합니다. 51은 원유운반선을 나타내며, 61은 견인용예선을 의미합니다.\"\n",
            "}\n",
            "{\n",
            "    \"QUESTION\": \"2. 어떤 유형의 선박이 석유제품을 운반합니까?\",\n",
            "    \"ANSWER\": \"석유제품을 운반하는 선박 유형은 'CARRYING PETROLEUM PRODUCTS SHIP'입니다.\"\n",
            "}\n",
            "{\n",
            "\"QUESTION\": \"3. 어떤 유형의 선박이 산물을 운반합니까?\",\n",
            "\"ANSWER\": \"산물을 운반하는 선박 유형은 벌크선입니다.\"\n",
            "}\n",
            "{\n",
            "\"QUESTION\": \"4. 코드 88은 어떤 유형의 선박을 나타내나요?\",\n",
            "\"ANSWER\": \"코드 88은 무선기지부선을 나타냅니다.\"\n",
            "}\n",
            "{\n",
            "    \"QUESTION\": \"5. 코드 41은 어떤 유형의 선박을 나타내나요?\",\n",
            "    \"ANSWER\": \"코드 41은 풀컨테이너선을 나타냅니다.\"\n",
            "}\n"
          ]
        }
      ]
    },
    {
      "cell_type": "code",
      "source": [],
      "metadata": {
        "id": "LP5VQRtf4rKn"
      },
      "execution_count": null,
      "outputs": []
    }
  ]
}