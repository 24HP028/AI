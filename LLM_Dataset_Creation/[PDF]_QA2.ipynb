{
  "nbformat": 4,
  "nbformat_minor": 0,
  "metadata": {
    "colab": {
      "provenance": [],
      "collapsed_sections": [
        "AWGQl6CCAQ6p"
      ]
    },
    "kernelspec": {
      "name": "python3",
      "display_name": "Python 3"
    },
    "language_info": {
      "name": "python"
    }
  },
  "cells": [
    {
      "cell_type": "markdown",
      "source": [
        "#방법2\n",
        "\n",
        "###endusertraining_qa_maker 프롬프트 템플릿 사용\n",
        "\n",
        "1. PDF 파일 로드\n",
        "2. 임베딩\n",
        "3. PromptTemplate 정의\n",
        "4. rag prompt 정의\n",
        "5. rag chain 생성\n",
        "6. QA 쌍 출력\n",
        "\n",
        "###pdf 토큰 수 초과(?)로 3번 나눠서 진행\n",
        "\n"
      ],
      "metadata": {
        "id": "0fMu_R7SBBmk"
      }
    },
    {
      "cell_type": "markdown",
      "source": [
        "##pip install"
      ],
      "metadata": {
        "id": "AWGQl6CCAQ6p"
      }
    },
    {
      "cell_type": "code",
      "source": [
        "pip install openai=='0.28'"
      ],
      "metadata": {
        "colab": {
          "base_uri": "https://localhost:8080/"
        },
        "collapsed": true,
        "id": "j2sex3viTAfe",
        "outputId": "8163d12f-9d47-4b57-8f9a-3a6f71bee693"
      },
      "execution_count": null,
      "outputs": [
        {
          "output_type": "stream",
          "name": "stdout",
          "text": [
            "Collecting openai==0.28\n",
            "  Downloading openai-0.28.0-py3-none-any.whl (76 kB)\n",
            "\u001b[2K     \u001b[90m━━━━━━━━━━━━━━━━━━━━━━━━━━━━━━━━━━━━━━━━\u001b[0m \u001b[32m76.5/76.5 kB\u001b[0m \u001b[31m1.1 MB/s\u001b[0m eta \u001b[36m0:00:00\u001b[0m\n",
            "\u001b[?25hRequirement already satisfied: requests>=2.20 in /usr/local/lib/python3.10/dist-packages (from openai==0.28) (2.31.0)\n",
            "Requirement already satisfied: tqdm in /usr/local/lib/python3.10/dist-packages (from openai==0.28) (4.66.4)\n",
            "Requirement already satisfied: aiohttp in /usr/local/lib/python3.10/dist-packages (from openai==0.28) (3.9.5)\n",
            "Requirement already satisfied: charset-normalizer<4,>=2 in /usr/local/lib/python3.10/dist-packages (from requests>=2.20->openai==0.28) (3.3.2)\n",
            "Requirement already satisfied: idna<4,>=2.5 in /usr/local/lib/python3.10/dist-packages (from requests>=2.20->openai==0.28) (3.7)\n",
            "Requirement already satisfied: urllib3<3,>=1.21.1 in /usr/local/lib/python3.10/dist-packages (from requests>=2.20->openai==0.28) (2.0.7)\n",
            "Requirement already satisfied: certifi>=2017.4.17 in /usr/local/lib/python3.10/dist-packages (from requests>=2.20->openai==0.28) (2024.7.4)\n",
            "Requirement already satisfied: aiosignal>=1.1.2 in /usr/local/lib/python3.10/dist-packages (from aiohttp->openai==0.28) (1.3.1)\n",
            "Requirement already satisfied: attrs>=17.3.0 in /usr/local/lib/python3.10/dist-packages (from aiohttp->openai==0.28) (23.2.0)\n",
            "Requirement already satisfied: frozenlist>=1.1.1 in /usr/local/lib/python3.10/dist-packages (from aiohttp->openai==0.28) (1.4.1)\n",
            "Requirement already satisfied: multidict<7.0,>=4.5 in /usr/local/lib/python3.10/dist-packages (from aiohttp->openai==0.28) (6.0.5)\n",
            "Requirement already satisfied: yarl<2.0,>=1.0 in /usr/local/lib/python3.10/dist-packages (from aiohttp->openai==0.28) (1.9.4)\n",
            "Requirement already satisfied: async-timeout<5.0,>=4.0 in /usr/local/lib/python3.10/dist-packages (from aiohttp->openai==0.28) (4.0.3)\n",
            "Installing collected packages: openai\n",
            "Successfully installed openai-0.28.0\n"
          ]
        }
      ]
    },
    {
      "cell_type": "code",
      "source": [
        "!pip install chroma-hnswlib"
      ],
      "metadata": {
        "colab": {
          "base_uri": "https://localhost:8080/"
        },
        "id": "Hyd2rTadaZUX",
        "outputId": "5728b06e-bb17-4a6d-b604-e7efe230129b"
      },
      "execution_count": null,
      "outputs": [
        {
          "output_type": "stream",
          "name": "stdout",
          "text": [
            "Collecting chroma-hnswlib\n",
            "  Downloading chroma_hnswlib-0.7.5-cp310-cp310-manylinux_2_17_x86_64.manylinux2014_x86_64.whl (2.4 MB)\n",
            "\u001b[2K     \u001b[90m━━━━━━━━━━━━━━━━━━━━━━━━━━━━━━━━━━━━━━━━\u001b[0m \u001b[32m2.4/2.4 MB\u001b[0m \u001b[31m16.6 MB/s\u001b[0m eta \u001b[36m0:00:00\u001b[0m\n",
            "\u001b[?25hRequirement already satisfied: numpy in /usr/local/lib/python3.10/dist-packages (from chroma-hnswlib) (1.25.2)\n",
            "Installing collected packages: chroma-hnswlib\n",
            "Successfully installed chroma-hnswlib-0.7.5\n"
          ]
        }
      ]
    },
    {
      "cell_type": "code",
      "source": [
        "pip install chromadb"
      ],
      "metadata": {
        "colab": {
          "base_uri": "https://localhost:8080/"
        },
        "collapsed": true,
        "id": "JfN0NymNactS",
        "outputId": "829ecd14-9b18-41b9-8e32-b3d8b891f9cc"
      },
      "execution_count": null,
      "outputs": [
        {
          "output_type": "stream",
          "name": "stdout",
          "text": [
            "Collecting chromadb\n",
            "  Downloading chromadb-0.5.4-py3-none-any.whl (581 kB)\n",
            "\u001b[2K     \u001b[90m━━━━━━━━━━━━━━━━━━━━━━━━━━━━━━━━━━━━━━━━\u001b[0m \u001b[32m581.4/581.4 kB\u001b[0m \u001b[31m6.7 MB/s\u001b[0m eta \u001b[36m0:00:00\u001b[0m\n",
            "\u001b[?25hRequirement already satisfied: build>=1.0.3 in /usr/local/lib/python3.10/dist-packages (from chromadb) (1.2.1)\n",
            "Requirement already satisfied: pydantic>=1.9 in /usr/local/lib/python3.10/dist-packages (from chromadb) (2.8.2)\n",
            "Requirement already satisfied: chroma-hnswlib==0.7.5 in /usr/local/lib/python3.10/dist-packages (from chromadb) (0.7.5)\n",
            "Collecting fastapi>=0.95.2 (from chromadb)\n",
            "  Downloading fastapi-0.111.0-py3-none-any.whl (91 kB)\n",
            "\u001b[2K     \u001b[90m━━━━━━━━━━━━━━━━━━━━━━━━━━━━━━━━━━━━━━━━\u001b[0m \u001b[32m92.0/92.0 kB\u001b[0m \u001b[31m8.6 MB/s\u001b[0m eta \u001b[36m0:00:00\u001b[0m\n",
            "\u001b[?25hCollecting uvicorn[standard]>=0.18.3 (from chromadb)\n",
            "  Downloading uvicorn-0.30.1-py3-none-any.whl (62 kB)\n",
            "\u001b[2K     \u001b[90m━━━━━━━━━━━━━━━━━━━━━━━━━━━━━━━━━━━━━━━━\u001b[0m \u001b[32m62.4/62.4 kB\u001b[0m \u001b[31m6.7 MB/s\u001b[0m eta \u001b[36m0:00:00\u001b[0m\n",
            "\u001b[?25hRequirement already satisfied: numpy<2.0.0,>=1.22.5 in /usr/local/lib/python3.10/dist-packages (from chromadb) (1.25.2)\n",
            "Collecting posthog>=2.4.0 (from chromadb)\n",
            "  Downloading posthog-3.5.0-py2.py3-none-any.whl (41 kB)\n",
            "\u001b[2K     \u001b[90m━━━━━━━━━━━━━━━━━━━━━━━━━━━━━━━━━━━━━━━━\u001b[0m \u001b[32m41.3/41.3 kB\u001b[0m \u001b[31m4.4 MB/s\u001b[0m eta \u001b[36m0:00:00\u001b[0m\n",
            "\u001b[?25hRequirement already satisfied: typing-extensions>=4.5.0 in /usr/local/lib/python3.10/dist-packages (from chromadb) (4.12.2)\n",
            "Collecting onnxruntime>=1.14.1 (from chromadb)\n",
            "  Downloading onnxruntime-1.18.1-cp310-cp310-manylinux_2_27_x86_64.manylinux_2_28_x86_64.whl (6.8 MB)\n",
            "\u001b[2K     \u001b[90m━━━━━━━━━━━━━━━━━━━━━━━━━━━━━━━━━━━━━━━━\u001b[0m \u001b[32m6.8/6.8 MB\u001b[0m \u001b[31m18.9 MB/s\u001b[0m eta \u001b[36m0:00:00\u001b[0m\n",
            "\u001b[?25hCollecting opentelemetry-api>=1.2.0 (from chromadb)\n",
            "  Downloading opentelemetry_api-1.25.0-py3-none-any.whl (59 kB)\n",
            "\u001b[2K     \u001b[90m━━━━━━━━━━━━━━━━━━━━━━━━━━━━━━━━━━━━━━━━\u001b[0m \u001b[32m59.9/59.9 kB\u001b[0m \u001b[31m7.4 MB/s\u001b[0m eta \u001b[36m0:00:00\u001b[0m\n",
            "\u001b[?25hCollecting opentelemetry-exporter-otlp-proto-grpc>=1.2.0 (from chromadb)\n",
            "  Downloading opentelemetry_exporter_otlp_proto_grpc-1.25.0-py3-none-any.whl (18 kB)\n",
            "Collecting opentelemetry-instrumentation-fastapi>=0.41b0 (from chromadb)\n",
            "  Downloading opentelemetry_instrumentation_fastapi-0.46b0-py3-none-any.whl (11 kB)\n",
            "Collecting opentelemetry-sdk>=1.2.0 (from chromadb)\n",
            "  Downloading opentelemetry_sdk-1.25.0-py3-none-any.whl (107 kB)\n",
            "\u001b[2K     \u001b[90m━━━━━━━━━━━━━━━━━━━━━━━━━━━━━━━━━━━━━━━━\u001b[0m \u001b[32m107.0/107.0 kB\u001b[0m \u001b[31m10.5 MB/s\u001b[0m eta \u001b[36m0:00:00\u001b[0m\n",
            "\u001b[?25hRequirement already satisfied: tokenizers>=0.13.2 in /usr/local/lib/python3.10/dist-packages (from chromadb) (0.19.1)\n",
            "Collecting pypika>=0.48.9 (from chromadb)\n",
            "  Downloading PyPika-0.48.9.tar.gz (67 kB)\n",
            "\u001b[2K     \u001b[90m━━━━━━━━━━━━━━━━━━━━━━━━━━━━━━━━━━━━━━━━\u001b[0m \u001b[32m67.3/67.3 kB\u001b[0m \u001b[31m7.1 MB/s\u001b[0m eta \u001b[36m0:00:00\u001b[0m\n",
            "\u001b[?25h  Installing build dependencies ... \u001b[?25l\u001b[?25hdone\n",
            "  Getting requirements to build wheel ... \u001b[?25l\u001b[?25hdone\n",
            "  Preparing metadata (pyproject.toml) ... \u001b[?25l\u001b[?25hdone\n",
            "Requirement already satisfied: tqdm>=4.65.0 in /usr/local/lib/python3.10/dist-packages (from chromadb) (4.66.4)\n",
            "Collecting overrides>=7.3.1 (from chromadb)\n",
            "  Downloading overrides-7.7.0-py3-none-any.whl (17 kB)\n",
            "Requirement already satisfied: importlib-resources in /usr/local/lib/python3.10/dist-packages (from chromadb) (6.4.0)\n",
            "Requirement already satisfied: grpcio>=1.58.0 in /usr/local/lib/python3.10/dist-packages (from chromadb) (1.64.1)\n",
            "Collecting bcrypt>=4.0.1 (from chromadb)\n",
            "  Downloading bcrypt-4.1.3-cp39-abi3-manylinux_2_28_x86_64.whl (283 kB)\n",
            "\u001b[2K     \u001b[90m━━━━━━━━━━━━━━━━━━━━━━━━━━━━━━━━━━━━━━━━\u001b[0m \u001b[32m283.7/283.7 kB\u001b[0m \u001b[31m26.7 MB/s\u001b[0m eta \u001b[36m0:00:00\u001b[0m\n",
            "\u001b[?25hRequirement already satisfied: typer>=0.9.0 in /usr/local/lib/python3.10/dist-packages (from chromadb) (0.12.3)\n",
            "Collecting kubernetes>=28.1.0 (from chromadb)\n",
            "  Downloading kubernetes-30.1.0-py2.py3-none-any.whl (1.7 MB)\n",
            "\u001b[2K     \u001b[90m━━━━━━━━━━━━━━━━━━━━━━━━━━━━━━━━━━━━━━━━\u001b[0m \u001b[32m1.7/1.7 MB\u001b[0m \u001b[31m40.7 MB/s\u001b[0m eta \u001b[36m0:00:00\u001b[0m\n",
            "\u001b[?25hRequirement already satisfied: tenacity>=8.2.3 in /usr/local/lib/python3.10/dist-packages (from chromadb) (8.5.0)\n",
            "Requirement already satisfied: PyYAML>=6.0.0 in /usr/local/lib/python3.10/dist-packages (from chromadb) (6.0.1)\n",
            "Collecting mmh3>=4.0.1 (from chromadb)\n",
            "  Downloading mmh3-4.1.0-cp310-cp310-manylinux_2_5_x86_64.manylinux1_x86_64.manylinux_2_17_x86_64.manylinux2014_x86_64.whl (67 kB)\n",
            "\u001b[2K     \u001b[90m━━━━━━━━━━━━━━━━━━━━━━━━━━━━━━━━━━━━━━━━\u001b[0m \u001b[32m67.6/67.6 kB\u001b[0m \u001b[31m9.6 MB/s\u001b[0m eta \u001b[36m0:00:00\u001b[0m\n",
            "\u001b[?25hCollecting orjson>=3.9.12 (from chromadb)\n",
            "  Downloading orjson-3.10.6-cp310-cp310-manylinux_2_17_x86_64.manylinux2014_x86_64.whl (141 kB)\n",
            "\u001b[2K     \u001b[90m━━━━━━━━━━━━━━━━━━━━━━━━━━━━━━━━━━━━━━━━\u001b[0m \u001b[32m141.1/141.1 kB\u001b[0m \u001b[31m12.8 MB/s\u001b[0m eta \u001b[36m0:00:00\u001b[0m\n",
            "\u001b[?25hCollecting httpx>=0.27.0 (from chromadb)\n",
            "  Downloading httpx-0.27.0-py3-none-any.whl (75 kB)\n",
            "\u001b[2K     \u001b[90m━━━━━━━━━━━━━━━━━━━━━━━━━━━━━━━━━━━━━━━━\u001b[0m \u001b[32m75.6/75.6 kB\u001b[0m \u001b[31m9.2 MB/s\u001b[0m eta \u001b[36m0:00:00\u001b[0m\n",
            "\u001b[?25hRequirement already satisfied: packaging>=19.1 in /usr/local/lib/python3.10/dist-packages (from build>=1.0.3->chromadb) (24.1)\n",
            "Requirement already satisfied: pyproject_hooks in /usr/local/lib/python3.10/dist-packages (from build>=1.0.3->chromadb) (1.1.0)\n",
            "Requirement already satisfied: tomli>=1.1.0 in /usr/local/lib/python3.10/dist-packages (from build>=1.0.3->chromadb) (2.0.1)\n",
            "Collecting starlette<0.38.0,>=0.37.2 (from fastapi>=0.95.2->chromadb)\n",
            "  Downloading starlette-0.37.2-py3-none-any.whl (71 kB)\n",
            "\u001b[2K     \u001b[90m━━━━━━━━━━━━━━━━━━━━━━━━━━━━━━━━━━━━━━━━\u001b[0m \u001b[32m71.9/71.9 kB\u001b[0m \u001b[31m9.3 MB/s\u001b[0m eta \u001b[36m0:00:00\u001b[0m\n",
            "\u001b[?25hCollecting fastapi-cli>=0.0.2 (from fastapi>=0.95.2->chromadb)\n",
            "  Downloading fastapi_cli-0.0.4-py3-none-any.whl (9.5 kB)\n",
            "Requirement already satisfied: jinja2>=2.11.2 in /usr/local/lib/python3.10/dist-packages (from fastapi>=0.95.2->chromadb) (3.1.4)\n",
            "Collecting python-multipart>=0.0.7 (from fastapi>=0.95.2->chromadb)\n",
            "  Downloading python_multipart-0.0.9-py3-none-any.whl (22 kB)\n",
            "Collecting ujson!=4.0.2,!=4.1.0,!=4.2.0,!=4.3.0,!=5.0.0,!=5.1.0,>=4.0.1 (from fastapi>=0.95.2->chromadb)\n",
            "  Downloading ujson-5.10.0-cp310-cp310-manylinux_2_17_x86_64.manylinux2014_x86_64.whl (53 kB)\n",
            "\u001b[2K     \u001b[90m━━━━━━━━━━━━━━━━━━━━━━━━━━━━━━━━━━━━━━━━\u001b[0m \u001b[32m53.6/53.6 kB\u001b[0m \u001b[31m6.5 MB/s\u001b[0m eta \u001b[36m0:00:00\u001b[0m\n",
            "\u001b[?25hCollecting email_validator>=2.0.0 (from fastapi>=0.95.2->chromadb)\n",
            "  Downloading email_validator-2.2.0-py3-none-any.whl (33 kB)\n",
            "Requirement already satisfied: anyio in /usr/local/lib/python3.10/dist-packages (from httpx>=0.27.0->chromadb) (3.7.1)\n",
            "Requirement already satisfied: certifi in /usr/local/lib/python3.10/dist-packages (from httpx>=0.27.0->chromadb) (2024.7.4)\n",
            "Collecting httpcore==1.* (from httpx>=0.27.0->chromadb)\n",
            "  Downloading httpcore-1.0.5-py3-none-any.whl (77 kB)\n",
            "\u001b[2K     \u001b[90m━━━━━━━━━━━━━━━━━━━━━━━━━━━━━━━━━━━━━━━━\u001b[0m \u001b[32m77.9/77.9 kB\u001b[0m \u001b[31m9.1 MB/s\u001b[0m eta \u001b[36m0:00:00\u001b[0m\n",
            "\u001b[?25hRequirement already satisfied: idna in /usr/local/lib/python3.10/dist-packages (from httpx>=0.27.0->chromadb) (3.7)\n",
            "Requirement already satisfied: sniffio in /usr/local/lib/python3.10/dist-packages (from httpx>=0.27.0->chromadb) (1.3.1)\n",
            "Collecting h11<0.15,>=0.13 (from httpcore==1.*->httpx>=0.27.0->chromadb)\n",
            "  Downloading h11-0.14.0-py3-none-any.whl (58 kB)\n",
            "\u001b[2K     \u001b[90m━━━━━━━━━━━━━━━━━━━━━━━━━━━━━━━━━━━━━━━━\u001b[0m \u001b[32m58.3/58.3 kB\u001b[0m \u001b[31m7.5 MB/s\u001b[0m eta \u001b[36m0:00:00\u001b[0m\n",
            "\u001b[?25hRequirement already satisfied: six>=1.9.0 in /usr/local/lib/python3.10/dist-packages (from kubernetes>=28.1.0->chromadb) (1.16.0)\n",
            "Requirement already satisfied: python-dateutil>=2.5.3 in /usr/local/lib/python3.10/dist-packages (from kubernetes>=28.1.0->chromadb) (2.8.2)\n",
            "Requirement already satisfied: google-auth>=1.0.1 in /usr/local/lib/python3.10/dist-packages (from kubernetes>=28.1.0->chromadb) (2.27.0)\n",
            "Requirement already satisfied: websocket-client!=0.40.0,!=0.41.*,!=0.42.*,>=0.32.0 in /usr/local/lib/python3.10/dist-packages (from kubernetes>=28.1.0->chromadb) (1.8.0)\n",
            "Requirement already satisfied: requests in /usr/local/lib/python3.10/dist-packages (from kubernetes>=28.1.0->chromadb) (2.31.0)\n",
            "Requirement already satisfied: requests-oauthlib in /usr/local/lib/python3.10/dist-packages (from kubernetes>=28.1.0->chromadb) (1.3.1)\n",
            "Requirement already satisfied: oauthlib>=3.2.2 in /usr/local/lib/python3.10/dist-packages (from kubernetes>=28.1.0->chromadb) (3.2.2)\n",
            "Requirement already satisfied: urllib3>=1.24.2 in /usr/local/lib/python3.10/dist-packages (from kubernetes>=28.1.0->chromadb) (2.0.7)\n",
            "Collecting coloredlogs (from onnxruntime>=1.14.1->chromadb)\n",
            "  Downloading coloredlogs-15.0.1-py2.py3-none-any.whl (46 kB)\n",
            "\u001b[2K     \u001b[90m━━━━━━━━━━━━━━━━━━━━━━━━━━━━━━━━━━━━━━━━\u001b[0m \u001b[32m46.0/46.0 kB\u001b[0m \u001b[31m5.8 MB/s\u001b[0m eta \u001b[36m0:00:00\u001b[0m\n",
            "\u001b[?25hRequirement already satisfied: flatbuffers in /usr/local/lib/python3.10/dist-packages (from onnxruntime>=1.14.1->chromadb) (24.3.25)\n",
            "Requirement already satisfied: protobuf in /usr/local/lib/python3.10/dist-packages (from onnxruntime>=1.14.1->chromadb) (3.20.3)\n",
            "Requirement already satisfied: sympy in /usr/local/lib/python3.10/dist-packages (from onnxruntime>=1.14.1->chromadb) (1.13.0)\n",
            "Collecting deprecated>=1.2.6 (from opentelemetry-api>=1.2.0->chromadb)\n",
            "  Downloading Deprecated-1.2.14-py2.py3-none-any.whl (9.6 kB)\n",
            "Collecting importlib-metadata<=7.1,>=6.0 (from opentelemetry-api>=1.2.0->chromadb)\n",
            "  Downloading importlib_metadata-7.1.0-py3-none-any.whl (24 kB)\n",
            "Requirement already satisfied: googleapis-common-protos~=1.52 in /usr/local/lib/python3.10/dist-packages (from opentelemetry-exporter-otlp-proto-grpc>=1.2.0->chromadb) (1.63.2)\n",
            "Collecting opentelemetry-exporter-otlp-proto-common==1.25.0 (from opentelemetry-exporter-otlp-proto-grpc>=1.2.0->chromadb)\n",
            "  Downloading opentelemetry_exporter_otlp_proto_common-1.25.0-py3-none-any.whl (17 kB)\n",
            "Collecting opentelemetry-proto==1.25.0 (from opentelemetry-exporter-otlp-proto-grpc>=1.2.0->chromadb)\n",
            "  Downloading opentelemetry_proto-1.25.0-py3-none-any.whl (52 kB)\n",
            "\u001b[2K     \u001b[90m━━━━━━━━━━━━━━━━━━━━━━━━━━━━━━━━━━━━━━━━\u001b[0m \u001b[32m52.5/52.5 kB\u001b[0m \u001b[31m7.6 MB/s\u001b[0m eta \u001b[36m0:00:00\u001b[0m\n",
            "\u001b[?25hCollecting opentelemetry-instrumentation-asgi==0.46b0 (from opentelemetry-instrumentation-fastapi>=0.41b0->chromadb)\n",
            "  Downloading opentelemetry_instrumentation_asgi-0.46b0-py3-none-any.whl (14 kB)\n",
            "Collecting opentelemetry-instrumentation==0.46b0 (from opentelemetry-instrumentation-fastapi>=0.41b0->chromadb)\n",
            "  Downloading opentelemetry_instrumentation-0.46b0-py3-none-any.whl (29 kB)\n",
            "Collecting opentelemetry-semantic-conventions==0.46b0 (from opentelemetry-instrumentation-fastapi>=0.41b0->chromadb)\n",
            "  Downloading opentelemetry_semantic_conventions-0.46b0-py3-none-any.whl (130 kB)\n",
            "\u001b[2K     \u001b[90m━━━━━━━━━━━━━━━━━━━━━━━━━━━━━━━━━━━━━━━━\u001b[0m \u001b[32m130.5/130.5 kB\u001b[0m \u001b[31m19.4 MB/s\u001b[0m eta \u001b[36m0:00:00\u001b[0m\n",
            "\u001b[?25hCollecting opentelemetry-util-http==0.46b0 (from opentelemetry-instrumentation-fastapi>=0.41b0->chromadb)\n",
            "  Downloading opentelemetry_util_http-0.46b0-py3-none-any.whl (6.9 kB)\n",
            "Requirement already satisfied: setuptools>=16.0 in /usr/local/lib/python3.10/dist-packages (from opentelemetry-instrumentation==0.46b0->opentelemetry-instrumentation-fastapi>=0.41b0->chromadb) (67.7.2)\n",
            "Requirement already satisfied: wrapt<2.0.0,>=1.0.0 in /usr/local/lib/python3.10/dist-packages (from opentelemetry-instrumentation==0.46b0->opentelemetry-instrumentation-fastapi>=0.41b0->chromadb) (1.14.1)\n",
            "Collecting asgiref~=3.0 (from opentelemetry-instrumentation-asgi==0.46b0->opentelemetry-instrumentation-fastapi>=0.41b0->chromadb)\n",
            "  Downloading asgiref-3.8.1-py3-none-any.whl (23 kB)\n",
            "Collecting monotonic>=1.5 (from posthog>=2.4.0->chromadb)\n",
            "  Downloading monotonic-1.6-py2.py3-none-any.whl (8.2 kB)\n",
            "Collecting backoff>=1.10.0 (from posthog>=2.4.0->chromadb)\n",
            "  Downloading backoff-2.2.1-py3-none-any.whl (15 kB)\n",
            "Requirement already satisfied: annotated-types>=0.4.0 in /usr/local/lib/python3.10/dist-packages (from pydantic>=1.9->chromadb) (0.7.0)\n",
            "Requirement already satisfied: pydantic-core==2.20.1 in /usr/local/lib/python3.10/dist-packages (from pydantic>=1.9->chromadb) (2.20.1)\n",
            "Requirement already satisfied: huggingface-hub<1.0,>=0.16.4 in /usr/local/lib/python3.10/dist-packages (from tokenizers>=0.13.2->chromadb) (0.23.4)\n",
            "Requirement already satisfied: click>=8.0.0 in /usr/local/lib/python3.10/dist-packages (from typer>=0.9.0->chromadb) (8.1.7)\n",
            "Requirement already satisfied: shellingham>=1.3.0 in /usr/local/lib/python3.10/dist-packages (from typer>=0.9.0->chromadb) (1.5.4)\n",
            "Requirement already satisfied: rich>=10.11.0 in /usr/local/lib/python3.10/dist-packages (from typer>=0.9.0->chromadb) (13.7.1)\n",
            "Collecting httptools>=0.5.0 (from uvicorn[standard]>=0.18.3->chromadb)\n",
            "  Downloading httptools-0.6.1-cp310-cp310-manylinux_2_5_x86_64.manylinux1_x86_64.manylinux_2_17_x86_64.manylinux2014_x86_64.whl (341 kB)\n",
            "\u001b[2K     \u001b[90m━━━━━━━━━━━━━━━━━━━━━━━━━━━━━━━━━━━━━━━━\u001b[0m \u001b[32m341.4/341.4 kB\u001b[0m \u001b[31m38.8 MB/s\u001b[0m eta \u001b[36m0:00:00\u001b[0m\n",
            "\u001b[?25hCollecting python-dotenv>=0.13 (from uvicorn[standard]>=0.18.3->chromadb)\n",
            "  Downloading python_dotenv-1.0.1-py3-none-any.whl (19 kB)\n",
            "Collecting uvloop!=0.15.0,!=0.15.1,>=0.14.0 (from uvicorn[standard]>=0.18.3->chromadb)\n",
            "  Downloading uvloop-0.19.0-cp310-cp310-manylinux_2_17_x86_64.manylinux2014_x86_64.whl (3.4 MB)\n",
            "\u001b[2K     \u001b[90m━━━━━━━━━━━━━━━━━━━━━━━━━━━━━━━━━━━━━━━━\u001b[0m \u001b[32m3.4/3.4 MB\u001b[0m \u001b[31m51.2 MB/s\u001b[0m eta \u001b[36m0:00:00\u001b[0m\n",
            "\u001b[?25hCollecting watchfiles>=0.13 (from uvicorn[standard]>=0.18.3->chromadb)\n",
            "  Downloading watchfiles-0.22.0-cp310-cp310-manylinux_2_17_x86_64.manylinux2014_x86_64.whl (1.2 MB)\n",
            "\u001b[2K     \u001b[90m━━━━━━━━━━━━━━━━━━━━━━━━━━━━━━━━━━━━━━━━\u001b[0m \u001b[32m1.2/1.2 MB\u001b[0m \u001b[31m54.7 MB/s\u001b[0m eta \u001b[36m0:00:00\u001b[0m\n",
            "\u001b[?25hCollecting websockets>=10.4 (from uvicorn[standard]>=0.18.3->chromadb)\n",
            "  Downloading websockets-12.0-cp310-cp310-manylinux_2_5_x86_64.manylinux1_x86_64.manylinux_2_17_x86_64.manylinux2014_x86_64.whl (130 kB)\n",
            "\u001b[2K     \u001b[90m━━━━━━━━━━━━━━━━━━━━━━━━━━━━━━━━━━━━━━━━\u001b[0m \u001b[32m130.2/130.2 kB\u001b[0m \u001b[31m18.2 MB/s\u001b[0m eta \u001b[36m0:00:00\u001b[0m\n",
            "\u001b[?25hCollecting dnspython>=2.0.0 (from email_validator>=2.0.0->fastapi>=0.95.2->chromadb)\n",
            "  Downloading dnspython-2.6.1-py3-none-any.whl (307 kB)\n",
            "\u001b[2K     \u001b[90m━━━━━━━━━━━━━━━━━━━━━━━━━━━━━━━━━━━━━━━━\u001b[0m \u001b[32m307.7/307.7 kB\u001b[0m \u001b[31m38.5 MB/s\u001b[0m eta \u001b[36m0:00:00\u001b[0m\n",
            "\u001b[?25hRequirement already satisfied: cachetools<6.0,>=2.0.0 in /usr/local/lib/python3.10/dist-packages (from google-auth>=1.0.1->kubernetes>=28.1.0->chromadb) (5.3.3)\n",
            "Requirement already satisfied: pyasn1-modules>=0.2.1 in /usr/local/lib/python3.10/dist-packages (from google-auth>=1.0.1->kubernetes>=28.1.0->chromadb) (0.4.0)\n",
            "Requirement already satisfied: rsa<5,>=3.1.4 in /usr/local/lib/python3.10/dist-packages (from google-auth>=1.0.1->kubernetes>=28.1.0->chromadb) (4.9)\n",
            "Requirement already satisfied: filelock in /usr/local/lib/python3.10/dist-packages (from huggingface-hub<1.0,>=0.16.4->tokenizers>=0.13.2->chromadb) (3.15.4)\n",
            "Requirement already satisfied: fsspec>=2023.5.0 in /usr/local/lib/python3.10/dist-packages (from huggingface-hub<1.0,>=0.16.4->tokenizers>=0.13.2->chromadb) (2023.6.0)\n",
            "Requirement already satisfied: zipp>=0.5 in /usr/local/lib/python3.10/dist-packages (from importlib-metadata<=7.1,>=6.0->opentelemetry-api>=1.2.0->chromadb) (3.19.2)\n",
            "Requirement already satisfied: MarkupSafe>=2.0 in /usr/local/lib/python3.10/dist-packages (from jinja2>=2.11.2->fastapi>=0.95.2->chromadb) (2.1.5)\n",
            "Requirement already satisfied: charset-normalizer<4,>=2 in /usr/local/lib/python3.10/dist-packages (from requests->kubernetes>=28.1.0->chromadb) (3.3.2)\n",
            "Requirement already satisfied: markdown-it-py>=2.2.0 in /usr/local/lib/python3.10/dist-packages (from rich>=10.11.0->typer>=0.9.0->chromadb) (3.0.0)\n",
            "Requirement already satisfied: pygments<3.0.0,>=2.13.0 in /usr/local/lib/python3.10/dist-packages (from rich>=10.11.0->typer>=0.9.0->chromadb) (2.16.1)\n",
            "Requirement already satisfied: exceptiongroup in /usr/local/lib/python3.10/dist-packages (from anyio->httpx>=0.27.0->chromadb) (1.2.1)\n",
            "Collecting humanfriendly>=9.1 (from coloredlogs->onnxruntime>=1.14.1->chromadb)\n",
            "  Downloading humanfriendly-10.0-py2.py3-none-any.whl (86 kB)\n",
            "\u001b[2K     \u001b[90m━━━━━━━━━━━━━━━━━━━━━━━━━━━━━━━━━━━━━━━━\u001b[0m \u001b[32m86.8/86.8 kB\u001b[0m \u001b[31m6.4 MB/s\u001b[0m eta \u001b[36m0:00:00\u001b[0m\n",
            "\u001b[?25hRequirement already satisfied: mpmath<1.4,>=1.1.0 in /usr/local/lib/python3.10/dist-packages (from sympy->onnxruntime>=1.14.1->chromadb) (1.3.0)\n",
            "Requirement already satisfied: mdurl~=0.1 in /usr/local/lib/python3.10/dist-packages (from markdown-it-py>=2.2.0->rich>=10.11.0->typer>=0.9.0->chromadb) (0.1.2)\n",
            "Requirement already satisfied: pyasn1<0.7.0,>=0.4.6 in /usr/local/lib/python3.10/dist-packages (from pyasn1-modules>=0.2.1->google-auth>=1.0.1->kubernetes>=28.1.0->chromadb) (0.6.0)\n",
            "Building wheels for collected packages: pypika\n",
            "  Building wheel for pypika (pyproject.toml) ... \u001b[?25l\u001b[?25hdone\n",
            "  Created wheel for pypika: filename=PyPika-0.48.9-py2.py3-none-any.whl size=53725 sha256=6dc5f4139bddf602d6953fe1774bfdeef105b73f9605de2dc94c834feaecd80b\n",
            "  Stored in directory: /root/.cache/pip/wheels/e1/26/51/d0bffb3d2fd82256676d7ad3003faea3bd6dddc9577af665f4\n",
            "Successfully built pypika\n",
            "Installing collected packages: pypika, monotonic, mmh3, websockets, uvloop, ujson, python-multipart, python-dotenv, overrides, orjson, opentelemetry-util-http, opentelemetry-proto, importlib-metadata, humanfriendly, httptools, h11, dnspython, deprecated, bcrypt, backoff, asgiref, watchfiles, uvicorn, starlette, posthog, opentelemetry-exporter-otlp-proto-common, opentelemetry-api, httpcore, email_validator, coloredlogs, opentelemetry-semantic-conventions, opentelemetry-instrumentation, onnxruntime, kubernetes, httpx, opentelemetry-sdk, opentelemetry-instrumentation-asgi, fastapi-cli, opentelemetry-instrumentation-fastapi, opentelemetry-exporter-otlp-proto-grpc, fastapi, chromadb\n",
            "  Attempting uninstall: importlib-metadata\n",
            "    Found existing installation: importlib_metadata 8.0.0\n",
            "    Uninstalling importlib_metadata-8.0.0:\n",
            "      Successfully uninstalled importlib_metadata-8.0.0\n",
            "Successfully installed asgiref-3.8.1 backoff-2.2.1 bcrypt-4.1.3 chromadb-0.5.4 coloredlogs-15.0.1 deprecated-1.2.14 dnspython-2.6.1 email_validator-2.2.0 fastapi-0.111.0 fastapi-cli-0.0.4 h11-0.14.0 httpcore-1.0.5 httptools-0.6.1 httpx-0.27.0 humanfriendly-10.0 importlib-metadata-7.1.0 kubernetes-30.1.0 mmh3-4.1.0 monotonic-1.6 onnxruntime-1.18.1 opentelemetry-api-1.25.0 opentelemetry-exporter-otlp-proto-common-1.25.0 opentelemetry-exporter-otlp-proto-grpc-1.25.0 opentelemetry-instrumentation-0.46b0 opentelemetry-instrumentation-asgi-0.46b0 opentelemetry-instrumentation-fastapi-0.46b0 opentelemetry-proto-1.25.0 opentelemetry-sdk-1.25.0 opentelemetry-semantic-conventions-0.46b0 opentelemetry-util-http-0.46b0 orjson-3.10.6 overrides-7.7.0 posthog-3.5.0 pypika-0.48.9 python-dotenv-1.0.1 python-multipart-0.0.9 starlette-0.37.2 ujson-5.10.0 uvicorn-0.30.1 uvloop-0.19.0 watchfiles-0.22.0 websockets-12.0\n"
          ]
        }
      ]
    },
    {
      "cell_type": "code",
      "source": [
        "pip install pypdf"
      ],
      "metadata": {
        "colab": {
          "base_uri": "https://localhost:8080/"
        },
        "collapsed": true,
        "id": "wxO18ytRaWOu",
        "outputId": "05153e83-6e4e-4450-b2b7-aab7ff2f1e24"
      },
      "execution_count": null,
      "outputs": [
        {
          "output_type": "stream",
          "name": "stdout",
          "text": [
            "Collecting pypdf\n",
            "  Downloading pypdf-4.2.0-py3-none-any.whl (290 kB)\n",
            "\u001b[?25l     \u001b[90m━━━━━━━━━━━━━━━━━━━━━━━━━━━━━━━━━━━━━━━━\u001b[0m \u001b[32m0.0/290.4 kB\u001b[0m \u001b[31m?\u001b[0m eta \u001b[36m-:--:--\u001b[0m\r\u001b[2K     \u001b[91m━━━━━━━━━━━━━━━━━━━━━\u001b[0m\u001b[90m╺\u001b[0m\u001b[90m━━━━━━━━━━━━━━━━━━\u001b[0m \u001b[32m153.6/290.4 kB\u001b[0m \u001b[31m4.5 MB/s\u001b[0m eta \u001b[36m0:00:01\u001b[0m\r\u001b[2K     \u001b[90m━━━━━━━━━━━━━━━━━━━━━━━━━━━━━━━━━━━━━━━━\u001b[0m \u001b[32m290.4/290.4 kB\u001b[0m \u001b[31m5.2 MB/s\u001b[0m eta \u001b[36m0:00:00\u001b[0m\n",
            "\u001b[?25hRequirement already satisfied: typing_extensions>=4.0 in /usr/local/lib/python3.10/dist-packages (from pypdf) (4.12.2)\n",
            "Installing collected packages: pypdf\n",
            "Successfully installed pypdf-4.2.0\n"
          ]
        }
      ]
    },
    {
      "cell_type": "code",
      "source": [
        "pip install langchain"
      ],
      "metadata": {
        "colab": {
          "base_uri": "https://localhost:8080/"
        },
        "collapsed": true,
        "id": "rsgCbdkyaDbA",
        "outputId": "e74fcb77-0025-4d45-c634-0764f464c103"
      },
      "execution_count": null,
      "outputs": [
        {
          "output_type": "stream",
          "name": "stdout",
          "text": [
            "Collecting langchain\n",
            "  Downloading langchain-0.2.7-py3-none-any.whl (983 kB)\n",
            "\u001b[?25l     \u001b[90m━━━━━━━━━━━━━━━━━━━━━━━━━━━━━━━━━━━━━━━━\u001b[0m \u001b[32m0.0/983.6 kB\u001b[0m \u001b[31m?\u001b[0m eta \u001b[36m-:--:--\u001b[0m\r\u001b[2K     \u001b[91m━━━━━━\u001b[0m\u001b[91m╸\u001b[0m\u001b[90m━━━━━━━━━━━━━━━━━━━━━━━━━━━━━━━━━\u001b[0m \u001b[32m163.8/983.6 kB\u001b[0m \u001b[31m6.0 MB/s\u001b[0m eta \u001b[36m0:00:01\u001b[0m\r\u001b[2K     \u001b[91m━━━━━━━━━━━━━━━━━━━\u001b[0m\u001b[91m╸\u001b[0m\u001b[90m━━━━━━━━━━━━━━━━━━━━\u001b[0m \u001b[32m491.5/983.6 kB\u001b[0m \u001b[31m7.6 MB/s\u001b[0m eta \u001b[36m0:00:01\u001b[0m\r\u001b[2K     \u001b[91m━━━━━━━━━━━━━━━━━━━━━━━━━━━━━━━━━━━\u001b[0m\u001b[90m╺\u001b[0m\u001b[90m━━━━\u001b[0m \u001b[32m870.4/983.6 kB\u001b[0m \u001b[31m8.7 MB/s\u001b[0m eta \u001b[36m0:00:01\u001b[0m\r\u001b[2K     \u001b[90m━━━━━━━━━━━━━━━━━━━━━━━━━━━━━━━━━━━━━━━━\u001b[0m \u001b[32m983.6/983.6 kB\u001b[0m \u001b[31m7.8 MB/s\u001b[0m eta \u001b[36m0:00:00\u001b[0m\n",
            "\u001b[?25hRequirement already satisfied: PyYAML>=5.3 in /usr/local/lib/python3.10/dist-packages (from langchain) (6.0.1)\n",
            "Requirement already satisfied: SQLAlchemy<3,>=1.4 in /usr/local/lib/python3.10/dist-packages (from langchain) (2.0.31)\n",
            "Requirement already satisfied: aiohttp<4.0.0,>=3.8.3 in /usr/local/lib/python3.10/dist-packages (from langchain) (3.9.5)\n",
            "Requirement already satisfied: async-timeout<5.0.0,>=4.0.0 in /usr/local/lib/python3.10/dist-packages (from langchain) (4.0.3)\n",
            "Collecting langchain-core<0.3.0,>=0.2.12 (from langchain)\n",
            "  Downloading langchain_core-0.2.18-py3-none-any.whl (366 kB)\n",
            "\u001b[2K     \u001b[90m━━━━━━━━━━━━━━━━━━━━━━━━━━━━━━━━━━━━━━━━\u001b[0m \u001b[32m366.3/366.3 kB\u001b[0m \u001b[31m9.8 MB/s\u001b[0m eta \u001b[36m0:00:00\u001b[0m\n",
            "\u001b[?25hCollecting langchain-text-splitters<0.3.0,>=0.2.0 (from langchain)\n",
            "  Downloading langchain_text_splitters-0.2.2-py3-none-any.whl (25 kB)\n",
            "Collecting langsmith<0.2.0,>=0.1.17 (from langchain)\n",
            "  Downloading langsmith-0.1.85-py3-none-any.whl (127 kB)\n",
            "\u001b[2K     \u001b[90m━━━━━━━━━━━━━━━━━━━━━━━━━━━━━━━━━━━━━━━━\u001b[0m \u001b[32m127.9/127.9 kB\u001b[0m \u001b[31m7.8 MB/s\u001b[0m eta \u001b[36m0:00:00\u001b[0m\n",
            "\u001b[?25hRequirement already satisfied: numpy<2,>=1 in /usr/local/lib/python3.10/dist-packages (from langchain) (1.25.2)\n",
            "Requirement already satisfied: pydantic<3,>=1 in /usr/local/lib/python3.10/dist-packages (from langchain) (2.8.2)\n",
            "Requirement already satisfied: requests<3,>=2 in /usr/local/lib/python3.10/dist-packages (from langchain) (2.31.0)\n",
            "Requirement already satisfied: tenacity!=8.4.0,<9.0.0,>=8.1.0 in /usr/local/lib/python3.10/dist-packages (from langchain) (8.5.0)\n",
            "Requirement already satisfied: aiosignal>=1.1.2 in /usr/local/lib/python3.10/dist-packages (from aiohttp<4.0.0,>=3.8.3->langchain) (1.3.1)\n",
            "Requirement already satisfied: attrs>=17.3.0 in /usr/local/lib/python3.10/dist-packages (from aiohttp<4.0.0,>=3.8.3->langchain) (23.2.0)\n",
            "Requirement already satisfied: frozenlist>=1.1.1 in /usr/local/lib/python3.10/dist-packages (from aiohttp<4.0.0,>=3.8.3->langchain) (1.4.1)\n",
            "Requirement already satisfied: multidict<7.0,>=4.5 in /usr/local/lib/python3.10/dist-packages (from aiohttp<4.0.0,>=3.8.3->langchain) (6.0.5)\n",
            "Requirement already satisfied: yarl<2.0,>=1.0 in /usr/local/lib/python3.10/dist-packages (from aiohttp<4.0.0,>=3.8.3->langchain) (1.9.4)\n",
            "Collecting jsonpatch<2.0,>=1.33 (from langchain-core<0.3.0,>=0.2.12->langchain)\n",
            "  Downloading jsonpatch-1.33-py2.py3-none-any.whl (12 kB)\n",
            "Requirement already satisfied: packaging<25,>=23.2 in /usr/local/lib/python3.10/dist-packages (from langchain-core<0.3.0,>=0.2.12->langchain) (24.1)\n",
            "Requirement already satisfied: orjson<4.0.0,>=3.9.14 in /usr/local/lib/python3.10/dist-packages (from langsmith<0.2.0,>=0.1.17->langchain) (3.10.6)\n",
            "Requirement already satisfied: annotated-types>=0.4.0 in /usr/local/lib/python3.10/dist-packages (from pydantic<3,>=1->langchain) (0.7.0)\n",
            "Requirement already satisfied: pydantic-core==2.20.1 in /usr/local/lib/python3.10/dist-packages (from pydantic<3,>=1->langchain) (2.20.1)\n",
            "Requirement already satisfied: typing-extensions>=4.6.1 in /usr/local/lib/python3.10/dist-packages (from pydantic<3,>=1->langchain) (4.12.2)\n",
            "Requirement already satisfied: charset-normalizer<4,>=2 in /usr/local/lib/python3.10/dist-packages (from requests<3,>=2->langchain) (3.3.2)\n",
            "Requirement already satisfied: idna<4,>=2.5 in /usr/local/lib/python3.10/dist-packages (from requests<3,>=2->langchain) (3.7)\n",
            "Requirement already satisfied: urllib3<3,>=1.21.1 in /usr/local/lib/python3.10/dist-packages (from requests<3,>=2->langchain) (2.0.7)\n",
            "Requirement already satisfied: certifi>=2017.4.17 in /usr/local/lib/python3.10/dist-packages (from requests<3,>=2->langchain) (2024.7.4)\n",
            "Requirement already satisfied: greenlet!=0.4.17 in /usr/local/lib/python3.10/dist-packages (from SQLAlchemy<3,>=1.4->langchain) (3.0.3)\n",
            "Collecting jsonpointer>=1.9 (from jsonpatch<2.0,>=1.33->langchain-core<0.3.0,>=0.2.12->langchain)\n",
            "  Downloading jsonpointer-3.0.0-py2.py3-none-any.whl (7.6 kB)\n",
            "Installing collected packages: jsonpointer, jsonpatch, langsmith, langchain-core, langchain-text-splitters, langchain\n",
            "Successfully installed jsonpatch-1.33 jsonpointer-3.0.0 langchain-0.2.7 langchain-core-0.2.18 langchain-text-splitters-0.2.2 langsmith-0.1.85\n"
          ]
        }
      ]
    },
    {
      "cell_type": "code",
      "source": [
        "pip install langchainhub"
      ],
      "metadata": {
        "colab": {
          "base_uri": "https://localhost:8080/"
        },
        "id": "EF3UHi-ZbFCf",
        "outputId": "79a6c6a0-e204-43fa-ff1c-9a0ea0ab903a"
      },
      "execution_count": null,
      "outputs": [
        {
          "output_type": "stream",
          "name": "stdout",
          "text": [
            "Collecting langchainhub\n",
            "  Downloading langchainhub-0.1.20-py3-none-any.whl (5.0 kB)\n",
            "Requirement already satisfied: packaging<25,>=23.2 in /usr/local/lib/python3.10/dist-packages (from langchainhub) (24.1)\n",
            "Requirement already satisfied: requests<3,>=2 in /usr/local/lib/python3.10/dist-packages (from langchainhub) (2.31.0)\n",
            "Collecting types-requests<3.0.0.0,>=2.31.0.2 (from langchainhub)\n",
            "  Downloading types_requests-2.32.0.20240712-py3-none-any.whl (15 kB)\n",
            "Requirement already satisfied: charset-normalizer<4,>=2 in /usr/local/lib/python3.10/dist-packages (from requests<3,>=2->langchainhub) (3.3.2)\n",
            "Requirement already satisfied: idna<4,>=2.5 in /usr/local/lib/python3.10/dist-packages (from requests<3,>=2->langchainhub) (3.7)\n",
            "Requirement already satisfied: urllib3<3,>=1.21.1 in /usr/local/lib/python3.10/dist-packages (from requests<3,>=2->langchainhub) (2.0.7)\n",
            "Requirement already satisfied: certifi>=2017.4.17 in /usr/local/lib/python3.10/dist-packages (from requests<3,>=2->langchainhub) (2024.7.4)\n",
            "Installing collected packages: types-requests, langchainhub\n",
            "Successfully installed langchainhub-0.1.20 types-requests-2.32.0.20240712\n"
          ]
        }
      ]
    },
    {
      "cell_type": "code",
      "source": [
        "pip install -U langchain-community"
      ],
      "metadata": {
        "colab": {
          "base_uri": "https://localhost:8080/"
        },
        "collapsed": true,
        "id": "GV7ZI7KjaPhf",
        "outputId": "96d73823-fb6e-42fb-fdae-edd12914a7e4"
      },
      "execution_count": null,
      "outputs": [
        {
          "output_type": "stream",
          "name": "stdout",
          "text": [
            "Collecting langchain-community\n",
            "  Downloading langchain_community-0.2.7-py3-none-any.whl (2.2 MB)\n",
            "\u001b[2K     \u001b[90m━━━━━━━━━━━━━━━━━━━━━━━━━━━━━━━━━━━━━━━━\u001b[0m \u001b[32m2.2/2.2 MB\u001b[0m \u001b[31m10.5 MB/s\u001b[0m eta \u001b[36m0:00:00\u001b[0m\n",
            "\u001b[?25hRequirement already satisfied: PyYAML>=5.3 in /usr/local/lib/python3.10/dist-packages (from langchain-community) (6.0.1)\n",
            "Requirement already satisfied: SQLAlchemy<3,>=1.4 in /usr/local/lib/python3.10/dist-packages (from langchain-community) (2.0.31)\n",
            "Requirement already satisfied: aiohttp<4.0.0,>=3.8.3 in /usr/local/lib/python3.10/dist-packages (from langchain-community) (3.9.5)\n",
            "Collecting dataclasses-json<0.7,>=0.5.7 (from langchain-community)\n",
            "  Downloading dataclasses_json-0.6.7-py3-none-any.whl (28 kB)\n",
            "Requirement already satisfied: langchain<0.3.0,>=0.2.7 in /usr/local/lib/python3.10/dist-packages (from langchain-community) (0.2.7)\n",
            "Requirement already satisfied: langchain-core<0.3.0,>=0.2.12 in /usr/local/lib/python3.10/dist-packages (from langchain-community) (0.2.18)\n",
            "Requirement already satisfied: langsmith<0.2.0,>=0.1.0 in /usr/local/lib/python3.10/dist-packages (from langchain-community) (0.1.85)\n",
            "Requirement already satisfied: numpy<2,>=1 in /usr/local/lib/python3.10/dist-packages (from langchain-community) (1.25.2)\n",
            "Requirement already satisfied: requests<3,>=2 in /usr/local/lib/python3.10/dist-packages (from langchain-community) (2.31.0)\n",
            "Requirement already satisfied: tenacity!=8.4.0,<9.0.0,>=8.1.0 in /usr/local/lib/python3.10/dist-packages (from langchain-community) (8.5.0)\n",
            "Requirement already satisfied: aiosignal>=1.1.2 in /usr/local/lib/python3.10/dist-packages (from aiohttp<4.0.0,>=3.8.3->langchain-community) (1.3.1)\n",
            "Requirement already satisfied: attrs>=17.3.0 in /usr/local/lib/python3.10/dist-packages (from aiohttp<4.0.0,>=3.8.3->langchain-community) (23.2.0)\n",
            "Requirement already satisfied: frozenlist>=1.1.1 in /usr/local/lib/python3.10/dist-packages (from aiohttp<4.0.0,>=3.8.3->langchain-community) (1.4.1)\n",
            "Requirement already satisfied: multidict<7.0,>=4.5 in /usr/local/lib/python3.10/dist-packages (from aiohttp<4.0.0,>=3.8.3->langchain-community) (6.0.5)\n",
            "Requirement already satisfied: yarl<2.0,>=1.0 in /usr/local/lib/python3.10/dist-packages (from aiohttp<4.0.0,>=3.8.3->langchain-community) (1.9.4)\n",
            "Requirement already satisfied: async-timeout<5.0,>=4.0 in /usr/local/lib/python3.10/dist-packages (from aiohttp<4.0.0,>=3.8.3->langchain-community) (4.0.3)\n",
            "Collecting marshmallow<4.0.0,>=3.18.0 (from dataclasses-json<0.7,>=0.5.7->langchain-community)\n",
            "  Downloading marshmallow-3.21.3-py3-none-any.whl (49 kB)\n",
            "\u001b[2K     \u001b[90m━━━━━━━━━━━━━━━━━━━━━━━━━━━━━━━━━━━━━━━━\u001b[0m \u001b[32m49.2/49.2 kB\u001b[0m \u001b[31m6.1 MB/s\u001b[0m eta \u001b[36m0:00:00\u001b[0m\n",
            "\u001b[?25hCollecting typing-inspect<1,>=0.4.0 (from dataclasses-json<0.7,>=0.5.7->langchain-community)\n",
            "  Downloading typing_inspect-0.9.0-py3-none-any.whl (8.8 kB)\n",
            "Requirement already satisfied: langchain-text-splitters<0.3.0,>=0.2.0 in /usr/local/lib/python3.10/dist-packages (from langchain<0.3.0,>=0.2.7->langchain-community) (0.2.2)\n",
            "Requirement already satisfied: pydantic<3,>=1 in /usr/local/lib/python3.10/dist-packages (from langchain<0.3.0,>=0.2.7->langchain-community) (2.8.2)\n",
            "Requirement already satisfied: jsonpatch<2.0,>=1.33 in /usr/local/lib/python3.10/dist-packages (from langchain-core<0.3.0,>=0.2.12->langchain-community) (1.33)\n",
            "Requirement already satisfied: packaging<25,>=23.2 in /usr/local/lib/python3.10/dist-packages (from langchain-core<0.3.0,>=0.2.12->langchain-community) (24.1)\n",
            "Requirement already satisfied: orjson<4.0.0,>=3.9.14 in /usr/local/lib/python3.10/dist-packages (from langsmith<0.2.0,>=0.1.0->langchain-community) (3.10.6)\n",
            "Requirement already satisfied: charset-normalizer<4,>=2 in /usr/local/lib/python3.10/dist-packages (from requests<3,>=2->langchain-community) (3.3.2)\n",
            "Requirement already satisfied: idna<4,>=2.5 in /usr/local/lib/python3.10/dist-packages (from requests<3,>=2->langchain-community) (3.7)\n",
            "Requirement already satisfied: urllib3<3,>=1.21.1 in /usr/local/lib/python3.10/dist-packages (from requests<3,>=2->langchain-community) (2.0.7)\n",
            "Requirement already satisfied: certifi>=2017.4.17 in /usr/local/lib/python3.10/dist-packages (from requests<3,>=2->langchain-community) (2024.7.4)\n",
            "Requirement already satisfied: typing-extensions>=4.6.0 in /usr/local/lib/python3.10/dist-packages (from SQLAlchemy<3,>=1.4->langchain-community) (4.12.2)\n",
            "Requirement already satisfied: greenlet!=0.4.17 in /usr/local/lib/python3.10/dist-packages (from SQLAlchemy<3,>=1.4->langchain-community) (3.0.3)\n",
            "Requirement already satisfied: jsonpointer>=1.9 in /usr/local/lib/python3.10/dist-packages (from jsonpatch<2.0,>=1.33->langchain-core<0.3.0,>=0.2.12->langchain-community) (3.0.0)\n",
            "Requirement already satisfied: annotated-types>=0.4.0 in /usr/local/lib/python3.10/dist-packages (from pydantic<3,>=1->langchain<0.3.0,>=0.2.7->langchain-community) (0.7.0)\n",
            "Requirement already satisfied: pydantic-core==2.20.1 in /usr/local/lib/python3.10/dist-packages (from pydantic<3,>=1->langchain<0.3.0,>=0.2.7->langchain-community) (2.20.1)\n",
            "Collecting mypy-extensions>=0.3.0 (from typing-inspect<1,>=0.4.0->dataclasses-json<0.7,>=0.5.7->langchain-community)\n",
            "  Downloading mypy_extensions-1.0.0-py3-none-any.whl (4.7 kB)\n",
            "Installing collected packages: mypy-extensions, marshmallow, typing-inspect, dataclasses-json, langchain-community\n",
            "Successfully installed dataclasses-json-0.6.7 langchain-community-0.2.7 marshmallow-3.21.3 mypy-extensions-1.0.0 typing-inspect-0.9.0\n"
          ]
        }
      ]
    },
    {
      "cell_type": "code",
      "source": [
        "pip install -U langchain-openai"
      ],
      "metadata": {
        "collapsed": true,
        "colab": {
          "base_uri": "https://localhost:8080/"
        },
        "id": "TOa2OtdZbKZK",
        "outputId": "adcdcd54-4a83-45be-9021-6e6f46e47513"
      },
      "execution_count": null,
      "outputs": [
        {
          "output_type": "stream",
          "name": "stdout",
          "text": [
            "Collecting langchain-openai\n",
            "  Downloading langchain_openai-0.1.16-py3-none-any.whl (46 kB)\n",
            "\u001b[2K     \u001b[90m━━━━━━━━━━━━━━━━━━━━━━━━━━━━━━━━━━━━━━━━\u001b[0m \u001b[32m46.1/46.1 kB\u001b[0m \u001b[31m760.6 kB/s\u001b[0m eta \u001b[36m0:00:00\u001b[0m\n",
            "\u001b[?25hRequirement already satisfied: langchain-core<0.3.0,>=0.2.17 in /usr/local/lib/python3.10/dist-packages (from langchain-openai) (0.2.18)\n",
            "Collecting openai<2.0.0,>=1.32.0 (from langchain-openai)\n",
            "  Downloading openai-1.35.13-py3-none-any.whl (328 kB)\n",
            "\u001b[2K     \u001b[90m━━━━━━━━━━━━━━━━━━━━━━━━━━━━━━━━━━━━━━━━\u001b[0m \u001b[32m328.5/328.5 kB\u001b[0m \u001b[31m13.9 MB/s\u001b[0m eta \u001b[36m0:00:00\u001b[0m\n",
            "\u001b[?25hCollecting tiktoken<1,>=0.7 (from langchain-openai)\n",
            "  Downloading tiktoken-0.7.0-cp310-cp310-manylinux_2_17_x86_64.manylinux2014_x86_64.whl (1.1 MB)\n",
            "\u001b[2K     \u001b[90m━━━━━━━━━━━━━━━━━━━━━━━━━━━━━━━━━━━━━━━━\u001b[0m \u001b[32m1.1/1.1 MB\u001b[0m \u001b[31m8.3 MB/s\u001b[0m eta \u001b[36m0:00:00\u001b[0m\n",
            "\u001b[?25hRequirement already satisfied: PyYAML>=5.3 in /usr/local/lib/python3.10/dist-packages (from langchain-core<0.3.0,>=0.2.17->langchain-openai) (6.0.1)\n",
            "Requirement already satisfied: jsonpatch<2.0,>=1.33 in /usr/local/lib/python3.10/dist-packages (from langchain-core<0.3.0,>=0.2.17->langchain-openai) (1.33)\n",
            "Requirement already satisfied: langsmith<0.2.0,>=0.1.75 in /usr/local/lib/python3.10/dist-packages (from langchain-core<0.3.0,>=0.2.17->langchain-openai) (0.1.85)\n",
            "Requirement already satisfied: packaging<25,>=23.2 in /usr/local/lib/python3.10/dist-packages (from langchain-core<0.3.0,>=0.2.17->langchain-openai) (24.1)\n",
            "Requirement already satisfied: pydantic<3,>=1 in /usr/local/lib/python3.10/dist-packages (from langchain-core<0.3.0,>=0.2.17->langchain-openai) (2.8.2)\n",
            "Requirement already satisfied: tenacity!=8.4.0,<9.0.0,>=8.1.0 in /usr/local/lib/python3.10/dist-packages (from langchain-core<0.3.0,>=0.2.17->langchain-openai) (8.5.0)\n",
            "Requirement already satisfied: anyio<5,>=3.5.0 in /usr/local/lib/python3.10/dist-packages (from openai<2.0.0,>=1.32.0->langchain-openai) (3.7.1)\n",
            "Requirement already satisfied: distro<2,>=1.7.0 in /usr/lib/python3/dist-packages (from openai<2.0.0,>=1.32.0->langchain-openai) (1.7.0)\n",
            "Requirement already satisfied: httpx<1,>=0.23.0 in /usr/local/lib/python3.10/dist-packages (from openai<2.0.0,>=1.32.0->langchain-openai) (0.27.0)\n",
            "Requirement already satisfied: sniffio in /usr/local/lib/python3.10/dist-packages (from openai<2.0.0,>=1.32.0->langchain-openai) (1.3.1)\n",
            "Requirement already satisfied: tqdm>4 in /usr/local/lib/python3.10/dist-packages (from openai<2.0.0,>=1.32.0->langchain-openai) (4.66.4)\n",
            "Requirement already satisfied: typing-extensions<5,>=4.7 in /usr/local/lib/python3.10/dist-packages (from openai<2.0.0,>=1.32.0->langchain-openai) (4.12.2)\n",
            "Requirement already satisfied: regex>=2022.1.18 in /usr/local/lib/python3.10/dist-packages (from tiktoken<1,>=0.7->langchain-openai) (2024.5.15)\n",
            "Requirement already satisfied: requests>=2.26.0 in /usr/local/lib/python3.10/dist-packages (from tiktoken<1,>=0.7->langchain-openai) (2.31.0)\n",
            "Requirement already satisfied: idna>=2.8 in /usr/local/lib/python3.10/dist-packages (from anyio<5,>=3.5.0->openai<2.0.0,>=1.32.0->langchain-openai) (3.7)\n",
            "Requirement already satisfied: exceptiongroup in /usr/local/lib/python3.10/dist-packages (from anyio<5,>=3.5.0->openai<2.0.0,>=1.32.0->langchain-openai) (1.2.1)\n",
            "Requirement already satisfied: certifi in /usr/local/lib/python3.10/dist-packages (from httpx<1,>=0.23.0->openai<2.0.0,>=1.32.0->langchain-openai) (2024.7.4)\n",
            "Requirement already satisfied: httpcore==1.* in /usr/local/lib/python3.10/dist-packages (from httpx<1,>=0.23.0->openai<2.0.0,>=1.32.0->langchain-openai) (1.0.5)\n",
            "Requirement already satisfied: h11<0.15,>=0.13 in /usr/local/lib/python3.10/dist-packages (from httpcore==1.*->httpx<1,>=0.23.0->openai<2.0.0,>=1.32.0->langchain-openai) (0.14.0)\n",
            "Requirement already satisfied: jsonpointer>=1.9 in /usr/local/lib/python3.10/dist-packages (from jsonpatch<2.0,>=1.33->langchain-core<0.3.0,>=0.2.17->langchain-openai) (3.0.0)\n",
            "Requirement already satisfied: orjson<4.0.0,>=3.9.14 in /usr/local/lib/python3.10/dist-packages (from langsmith<0.2.0,>=0.1.75->langchain-core<0.3.0,>=0.2.17->langchain-openai) (3.10.6)\n",
            "Requirement already satisfied: annotated-types>=0.4.0 in /usr/local/lib/python3.10/dist-packages (from pydantic<3,>=1->langchain-core<0.3.0,>=0.2.17->langchain-openai) (0.7.0)\n",
            "Requirement already satisfied: pydantic-core==2.20.1 in /usr/local/lib/python3.10/dist-packages (from pydantic<3,>=1->langchain-core<0.3.0,>=0.2.17->langchain-openai) (2.20.1)\n",
            "Requirement already satisfied: charset-normalizer<4,>=2 in /usr/local/lib/python3.10/dist-packages (from requests>=2.26.0->tiktoken<1,>=0.7->langchain-openai) (3.3.2)\n",
            "Requirement already satisfied: urllib3<3,>=1.21.1 in /usr/local/lib/python3.10/dist-packages (from requests>=2.26.0->tiktoken<1,>=0.7->langchain-openai) (2.0.7)\n",
            "Installing collected packages: tiktoken, openai, langchain-openai\n",
            "  Attempting uninstall: openai\n",
            "    Found existing installation: openai 0.28.0\n",
            "    Uninstalling openai-0.28.0:\n",
            "      Successfully uninstalled openai-0.28.0\n",
            "Successfully installed langchain-openai-0.1.16 openai-1.35.13 tiktoken-0.7.0\n"
          ]
        }
      ]
    },
    {
      "cell_type": "code",
      "source": [
        "pip install tiktoken"
      ],
      "metadata": {
        "colab": {
          "base_uri": "https://localhost:8080/"
        },
        "id": "goes8TDJaz1S",
        "outputId": "3f6f4666-e67f-4d5b-b716-39667021e712"
      },
      "execution_count": null,
      "outputs": [
        {
          "output_type": "stream",
          "name": "stdout",
          "text": [
            "Requirement already satisfied: tiktoken in /usr/local/lib/python3.10/dist-packages (0.7.0)\n",
            "Requirement already satisfied: regex>=2022.1.18 in /usr/local/lib/python3.10/dist-packages (from tiktoken) (2024.5.15)\n",
            "Requirement already satisfied: requests>=2.26.0 in /usr/local/lib/python3.10/dist-packages (from tiktoken) (2.31.0)\n",
            "Requirement already satisfied: charset-normalizer<4,>=2 in /usr/local/lib/python3.10/dist-packages (from requests>=2.26.0->tiktoken) (3.3.2)\n",
            "Requirement already satisfied: idna<4,>=2.5 in /usr/local/lib/python3.10/dist-packages (from requests>=2.26.0->tiktoken) (3.7)\n",
            "Requirement already satisfied: urllib3<3,>=1.21.1 in /usr/local/lib/python3.10/dist-packages (from requests>=2.26.0->tiktoken) (2.0.7)\n",
            "Requirement already satisfied: certifi>=2017.4.17 in /usr/local/lib/python3.10/dist-packages (from requests>=2.26.0->tiktoken) (2024.7.4)\n"
          ]
        }
      ]
    },
    {
      "cell_type": "markdown",
      "source": [
        "##1_12"
      ],
      "metadata": {
        "id": "9RCbcyFFAUtY"
      }
    },
    {
      "cell_type": "code",
      "source": [
        "import os\n",
        "import openai\n",
        "from langchain.document_loaders import PyPDFLoader\n",
        "\n",
        "os.environ['OPENAI_API_KEY'] = 'key 입력'"
      ],
      "metadata": {
        "id": "_KUcZdErbspD"
      },
      "execution_count": null,
      "outputs": []
    },
    {
      "cell_type": "code",
      "source": [
        "from langchain.document_loaders import PyPDFLoader\n",
        "\n",
        "# PDF 파일 로드\n",
        "loader = PyPDFLoader(\"/content/1_12(2024)포트미스+가이드북 (2).pdf\")\n",
        "document = loader.load()\n",
        "\n",
        "from langchain.text_splitter import CharacterTextSplitter\n",
        "\n",
        "text_splitter = CharacterTextSplitter(chunk_size=1000, chunk_overlap=50)\n",
        "texts = text_splitter.split_documents(document)"
      ],
      "metadata": {
        "id": "suhwiRZbbON7"
      },
      "execution_count": null,
      "outputs": []
    },
    {
      "cell_type": "code",
      "source": [
        "document[0].page_content[:200]"
      ],
      "metadata": {
        "colab": {
          "base_uri": "https://localhost:8080/",
          "height": 71
        },
        "id": "VQ-E19rCj3_y",
        "outputId": "7ce564c3-b8c2-476e-e08f-f4d916ecbca0"
      },
      "execution_count": null,
      "outputs": [
        {
          "output_type": "execute_result",
          "data": {
            "text/plain": [
              "'▶ 외항선 입항신고\\n- 무역항의 수상구역등의  안으로  입항하는  경우에 신고\\n- 선박 입항전까지 입항 예정정보를 신고(최초)\\n- 실제 선박 입항 후 입항 신고(최종)\\n▶ 승무원/승객명부\\n-  입항시 선박에 탑승한 승무원/승객에 대한 성명, 국적, 승하선 일자, 승무원직명, 여권번호 또는 선원수첩번호 등 \\n인적사항을 신고외항선 입항신고 : 선박입출항법 제4'"
            ],
            "application/vnd.google.colaboratory.intrinsic+json": {
              "type": "string"
            }
          },
          "metadata": {},
          "execution_count": 24
        }
      ]
    },
    {
      "cell_type": "code",
      "source": [
        "from langchain.embeddings.openai import OpenAIEmbeddings\n",
        "from langchain.vectorstores import Chroma\n",
        "\n",
        "# 임베딩\n",
        "embeddings = OpenAIEmbeddings()\n",
        "# Chroma DB 에 저장\n",
        "docsearch = Chroma.from_documents(texts, embeddings)\n",
        "# retriever 가져옴\n",
        "retriever = docsearch.as_retriever()"
      ],
      "metadata": {
        "id": "qbIgsp-ucdet"
      },
      "execution_count": null,
      "outputs": []
    },
    {
      "cell_type": "code",
      "source": [
        "from langchain_core.prompts import ChatPromptTemplate\n",
        "\n",
        "prompt_template = ChatPromptTemplate.from_messages([\n",
        "  (\"system\", \"\"\"Generate the question and answer pairs.\n",
        "1. The number of question/answer pairs you need ({number_of_pairs}).\n",
        "2. The data format you want me to use ({data_format}).\n",
        "3. The context for the questions and answers ({context}).\"\"\"),\n",
        "])"
      ],
      "metadata": {
        "id": "D8LuUmEFiOtb"
      },
      "execution_count": null,
      "outputs": []
    },
    {
      "cell_type": "code",
      "source": [
        "from langchain import hub\n",
        "\n",
        "#rag_prompt = hub.pull(\"rlm/rag-prompt\")\n",
        "rag_prompt = hub.pull(\"cdrguru/endusertraining_qa_maker:86c1eaed\")\n",
        "rag_prompt"
      ],
      "metadata": {
        "colab": {
          "base_uri": "https://localhost:8080/"
        },
        "id": "YM8SJ_D7dAdi",
        "outputId": "c8a84fec-aa00-44b6-bc0d-91eb67a8f02d"
      },
      "execution_count": null,
      "outputs": [
        {
          "output_type": "execute_result",
          "data": {
            "text/plain": [
              "ChatPromptTemplate(input_variables=['context', 'data_format', 'number_of_pairs'], metadata={'lc_hub_owner': 'cdrguru', 'lc_hub_repo': 'endusertraining_qa_maker', 'lc_hub_commit_hash': '86c1eaed699ac4c74e220966fdff521b31808ab5bbbe8d94e0441a88d539e1e0'}, messages=[SystemMessagePromptTemplate(prompt=PromptTemplate(input_variables=['context', 'data_format', 'number_of_pairs'], template='Generate the question and answer pairs.\\n1. The number of question/answer pairs you need ({number_of_pairs}).\\n2. The data format you want me to use ({data_format}).\\n3. The context for the questions and answers ({context}).'))])"
            ]
          },
          "metadata": {},
          "execution_count": 40
        }
      ]
    },
    {
      "cell_type": "code",
      "source": [
        "# LLM\n",
        "from langchain.chat_models import ChatOpenAI\n",
        "\n",
        "# ChatGPT 모델 지정\n",
        "llm = ChatOpenAI(model_name=\"gpt-3.5-turbo\", temperature=0)"
      ],
      "metadata": {
        "id": "3Qv7M79GdZt8"
      },
      "execution_count": null,
      "outputs": []
    },
    {
      "cell_type": "code",
      "source": [
        "# RAG chain 생성\n",
        "from langchain.schema.runnable import RunnablePassthrough\n",
        "\n",
        "# pipe operator를 활용한 체인 생성\n",
        "rag_chain = (\n",
        "    {\"context\": retriever, \"question\": RunnablePassthrough()}\n",
        "    | rag_prompt\n",
        "    | llm\n",
        ")"
      ],
      "metadata": {
        "id": "CWzHGQpfdbfY"
      },
      "execution_count": null,
      "outputs": []
    },
    {
      "cell_type": "code",
      "source": [
        "from langchain_core.prompts import SystemMessagePromptTemplate\n",
        "from langchain_core.prompts import PromptTemplate\n",
        "\n",
        "# Prompt Template 정의\n",
        "prompt_template = ChatPromptTemplate(\n",
        "    input_variables=['context', 'data_format', 'number_of_pairs'],\n",
        "    messages=[\n",
        "        SystemMessagePromptTemplate(\n",
        "            prompt=PromptTemplate(\n",
        "                input_variables=['context', 'data_format', 'number_of_pairs'],\n",
        "                template='Generate the question and answer pairs.\\n'\n",
        "                         '1. The number of question/answer pairs you need ({number_of_pairs}).\\n'\n",
        "                         '2. The data format you want me to use ({data_format}).\\n'\n",
        "                         '3. The context for the questions and answers ({context}).'\n",
        "                         '4. Both questions and answers are printed in Korean.'\n",
        "            )\n",
        "        )\n",
        "    ]\n",
        ")\n",
        "\n",
        "llm = ChatOpenAI(model_name=\"gpt-3.5-turbo\", temperature=0)\n",
        "\n",
        "# RAG 프롬프트\n",
        "rag_prompt = ChatPromptTemplate(\n",
        "    input_variables=['context', 'question'],\n",
        "    messages=[\n",
        "        SystemMessagePromptTemplate(\n",
        "            prompt=PromptTemplate(\n",
        "                input_variables=['context', 'question'],\n",
        "                template='You are an assistant for question-answering tasks. you should be written in Korean. Use the following pieces of retrieved context to answer the question. If you don\\'t know the answer, just say that you don\\'t know. Use three sentences maximum and keep the answer concise.\\nQuestion: {question}\\nContext: {context}\\nAnswer:'\n",
        "            )\n",
        "        )\n",
        "    ]\n",
        ")\n",
        "\n",
        "# RAG 체인 생성\n",
        "rag_chain = (\n",
        "    {\"context\": RunnablePassthrough(), \"data_format\": RunnablePassthrough(), \"number_of_pairs\": RunnablePassthrough()}\n",
        "    | prompt_template\n",
        "    | llm\n",
        ")\n",
        "\n",
        "# QA 쌍 생성 및 출력\n",
        "qa_pair = []\n",
        "\n",
        "for doc in texts:\n",
        "    if isinstance(doc.page_content, str):\n",
        "        result = rag_chain.invoke(\n",
        "            {\"context\": doc.page_content, \"data_format\": \"Question/Answer\", \"number_of_pairs\": 10}\n",
        "        )\n",
        "        qa_pair.append(result)\n",
        "\n",
        "print(qa_pair)"
      ],
      "metadata": {
        "colab": {
          "base_uri": "https://localhost:8080/"
        },
        "id": "RIYfJe6-dcn6",
        "outputId": "bbe17e08-3875-4202-e9b2-155b5a8ee4c6"
      },
      "execution_count": null,
      "outputs": [
        {
          "output_type": "stream",
          "name": "stdout",
          "text": [
            "[AIMessage(content='1. 질문: 글로벌 리더가 되기 위해 필요한 역량은 무엇인가요?\\n답변: 글로벌 시장에 대한 이해, 문화적 감수성, 커뮤니케이션 능력 등이 필요합니다.\\n\\n2. 질문: 리더십을 향상시키기 위해 어떤 노력을 해야 하나요?\\n답변: 자기계발, 팀원들과의 소통 강화, 문제해결 능력 향상 등이 필요합니다.\\n\\n3. 질문: 글로벌 시장에서 성공을 거둘 수 있는 전략은 무엇인가요?\\n답변: 현지 시장 조사, 현지화 전략 수립, 현지 인재 채용 등이 중요합니다.\\n\\n4. 질문: 다양한 문화를 이해하고 존중하는 것이 왜 중요한가요?\\n답변: 다양한 문화를 이해하고 존중함으로써 글로벌 시장에서의 비즈니스 성공에 도움이 됩니다.\\n\\n5. 질문: 글로벌 비즈니스에서의 커뮤니케이션은 어떻게 해야 하나요?\\n답변: 다문화적인 환경에서의 커뮤니케이션을 위해 몸짓, 표정, 언어 등을 적절히 활용해야 합니다.\\n\\n6. 질문: 글로벌 시장에서 경쟁력을 유지하기 위해 어떤 전략을 세워야 하나요?\\n답변: 지속적인 혁신, 고객 중심의 서비스 제공, 글로벌 네트워크 구축 등이 필요합니다.\\n\\n7. 질문: 글로벌 비즈니스에서의 문제해결 능력은 왜 중요한가요?\\n답변: 글로벌 시장에서는 다양한 문제가 발생하므로 빠르고 효과적으로 해결할 수 있는 능력이 필요합니다.\\n\\n8. 질문: 글로벌 시장에서의 경쟁을 이기기 위해 어떤 전략을 활용해야 하나요?\\n답변: 경쟁사 분석, 시장 동향 파악, 차별화된 서비스 제공 등이 필요합니다.\\n\\n9. 질문: 글로벌 시장에서 성공을 위해 필요한 자질은 무엇인가요?\\n답변: 적응력, 창의력, 리더십, 문제해결 능력 등이 필요합니다.\\n\\n10. 질문: 글로벌 시장에서의 성공을 위해 중요한 가치는 무엇인가요?\\n답변: 공정성, 윤리성, 협력 등이 중요한 가치입니다.', response_metadata={'token_usage': {'completion_tokens': 822, 'prompt_tokens': 186, 'total_tokens': 1008}, 'model_name': 'gpt-3.5-turbo', 'system_fingerprint': None, 'finish_reason': 'stop', 'logprobs': None}, id='run-7b92d94d-2f96-4678-9d90-33351297efe8-0'), AIMessage(content='{\\n  \"context\": \"글로벌 물류 중심\\\\n대한민국\\\\n해운산업\\\\n리더국가\\\\n고객과 \\\\n함께하는 \\\\n미래\\\\n해운업 \\\\n상생을 통한\\\\n해운강국 건설가이드북글로벌 리더로 도약하기 위한\\\\nCONTENTS\\\\n세계 해운산업 리더국가 실현\\\\n우리나라 항만을 글로벌 물류 중심지로\\\\n해운, 조선 상생을 통한 해운강국 건설04\\\\n06\\\\n08\\\\n10\\\\n12\\\\n14\\\\n16\\\\n18\\\\n20\\\\n22\\\\n24\\\\n26\\\\n28포트미스 주요 서비스\\\\n포트미스 이용 환경\\\\n포트미스 회원가입 절차\\\\n입·출항 선박에 대한 선박제원 등록\\\\n(변경) 절차 업무 흐름\\\\n외항선 민원신고 절차\\\\n내항선 민원신고 절차\\\\n외항선입항(출항)신고(최초,변경)\\\\n승무원/승객명부\\\\n강제도선 면제신청\\\\n예선사용 면제신청\\\\n선박평형수신고\\\\n선박보안정보통보신고\\\\n저속운항선박지원신청\\\\n저속운항선박 인센티브 신청\\\\n항만시설사용허가신청서(선석신청)\\\\n항만시설사용료(정박료)면제신청30\\\\n32\\\\n34\\\\n36\\\\n38\\\\n40\\\\n42\\\\n44\\\\n48\\\\n58\\\\n80위험물 반입신고 /\\\\n위험물 일람표신고\\\\n통합화물신고\\\\n외항입항(출항)신고(최종)\\\\n항만시설사용신고(화물료)\\\\n화물료 대납경비 청구\\\\n국가관리연안항신고 및\\\\n연안항 화물료 신고\\\\n서북도서출항신고\\\\n월정료선박사용신청\\\\n선박수리신고 신청 /\\\\n선박수리허가 신청\\\\n상계/환급 신청\\\\n포트미스 히스토리\\\\n부록 신고서식\\\\n항만시설 사용료 디지털 방식 \\\\n03 02 • PORT-MIS\",\\n  \"data_format\": \"Question/Answer\",\\n  \"pairs\": [\\n    {\\n      \"question\": \"포트미스 회원가입을 위한 절차는 무엇인가요?\",\\n      \"answer\": \"포트미스 회원가입 절차는 포트미스 웹사이트에 접속하여 회원가입 신청서를 작성하고 제출하는 것입니다.\"\\n    },\\n    {\\n      \"question\": \"외항선 민원신고를 하려면 어떤 절차를 거쳐야 하나요?\",\\n      \"answer\": \"외항선 민원신고를 하려면 포트미스 웹사이트에 접속하여 민원신고 양식을 작성하고 제출해야 합니다.\"\\n    },\\n    {\\n      \"question\": \"항만시설사용료(정박료)면제를 신청하는 방법은 무엇인가요?\",\\n      \"answer\": \"항만시설사용료(정박료)면제를 신청하려면 해당 서류를 작성하여 관련 기관에 제출해야 합니다.\"\\n    },\\n    {\\n      \"question\": \"외항입항(출항)신고를 최종적으로 하려면 어떤 절차를 따라야 하나요?\",\\n      \"answer\": \"외항입항(출항)신고를 최종적으로 하려면 해당 선박의 정보를 확인하고 관련 서류를 작성하여 제출해야 합니다.\"\\n    },\\n    {\\n      \"question\": \"선박보안정보통보신고를 하려면 어떤 정보가 필요한가요?\",\\n      \"answer\": \"선박보안정보통보신고를 하려면 해당 선박의 보안 정보와 관련된 자세한 내용을 작성하여 제출해야 합니다.\"\\n    },\\n    {\\n      \"question\": \"포트미스 주요 서비스는 무엇인가요?\",\\n      \"answer\": \"포트미스 주요 서비스에는 선박 관련 업무 처리, 민원신고 처리, 항만시설 사용료 관리 등이 포함되어 있습니다.\"\\n    },\\n    {\\n      \"question\": \"강제도선 면제신청을 하려면 어떤 절차를 밟아야 하나요?\",\\n      \"answer\": \"강제도선 면제신청을 하려면 해당 선박의 정보와 관련 서류를 작성하여 관련 기관에 제출해야 합니다.\"\\n    },\\n    {\\n      \"question\": \"예선사용 면제신청을 위한 필수 조건은 무엇인가요?\",\\n      \"answer\": \"예선사용 면제신청을 위한 필수 조건은 해당 선박이 특정 기준을 충족해야 한다는 것입니다.\"\\n    },\\n    {\\n      \"question\": \"선박평형수신고를 하기 위해 필요한 정보는 무엇인가요?\",\\n      \"answer\": \"선박평형수신고를 하기 위해 필요한 정보에는 선박의 크기, 무게, 보관 위치 등이 포함됩니다.\"\\n    },\\n    {\\n      \"question\": \"저속운항선박 인센티브를 신청하는 방법은 무엇인가요?\",\\n      \"answer\": \"저속운항선박 인센티브를 신청하려면 관련 서류를 작성하여 해당 기관에 제출해야 합니다.\"\\n    }\\n  ]\\n}', response_metadata={'token_usage': {'completion_tokens': 1722, 'prompt_tokens': 2334, 'total_tokens': 4056}, 'model_name': 'gpt-3.5-turbo', 'system_fingerprint': None, 'finish_reason': 'stop', 'logprobs': None}, id='run-ab4a4a88-0e0e-4aca-8b81-08e14941c2fa-0'), AIMessage(content='{\\n  \"data_format\": \"Question/Answer\",\\n  \"questions_answers\": [\\n    {\\n      \"question\": \"해운산업 리더국가를 실현하기 위해 어떤 노력이 필요한가?\",\\n      \"answer\": \"글로벌 경갱력을 갖춘 고부가 가치 스마트 항만을 실현해야 한다.\"\\n    },\\n    {\\n      \"question\": \"어떤 목표를 향해 우리나라 항만을 발전시켜야 하는가?\",\\n      \"answer\": \"우리나라 항만을 글로벌 물류 중심지로 발전시켜야 한다.\"\\n    },\\n    {\\n      \"question\": \"포트미스의 주요 서비스는 무엇인가?\",\\n      \"answer\": \"해운민원, 선박용물건, 승하선공인운임공표 등이 주요 서비스이다.\"\\n    },\\n    {\\n      \"question\": \"어떤 업무를 포트미스를 통해 처리할 수 있는가?\",\\n      \"answer\": \"등록선원업무, 해운사업자선박업무 등을 포트미스를 통해 처리할 수 있다.\"\\n    },\\n    {\\n      \"question\": \"항만민원을 처리하기 위해 어떤 시스템을 활용해야 하는가?\",\\n      \"answer\": \"관제 시스템을 활용하여 항만민원을 처리해야 한다.\"\\n    },\\n    {\\n      \"question\": \"어떤 항목에 대해 예도선 사용료를 징수할 수 있는가?\",\\n      \"answer\": \"화물/위험물 항만시설선박운항에 대해 예도선 사용료를 징수할 수 있다.\"\\n    },\\n    {\\n      \"question\": \"통계화물, 통계선박입출항, 통계수출입물류 등의 통계는 무엇을 위한 것인가?\",\\n      \"answer\": \"항만물류와 관련된 통계를 제공하기 위한 것이다.\"\\n    },\\n    {\\n      \"question\": \"컨테이너와 관련된 통계는 어떤 정보를 제공하는가?\",\\n      \"answer\": \"컨테이너 용량과 이용 현황 등의 정보를 제공한다.\"\\n    },\\n    {\\n      \"question\": \"통계화물, 통계선박입출항, 통계수출입물류 등의 통계는 어떻게 활용할 수 있는가?\",\\n      \"answer\": \"해운산업의 현황을 파악하고 발전 방향을 모색하는 데 활용할 수 있다.\"\\n    },\\n    {\\n      \"question\": \"PORT-MIS가 제공하는 서비스 중 항만물류와 관련된 것은 무엇인가?\",\\n      \"answer\": \"통계화물, 통계선박입출항, 통계수출입물류 등의 통계 서비스이다.\"\\n    }\\n  ]\\n}', response_metadata={'token_usage': {'completion_tokens': 842, 'prompt_tokens': 885, 'total_tokens': 1727}, 'model_name': 'gpt-3.5-turbo', 'system_fingerprint': None, 'finish_reason': 'stop', 'logprobs': None}, id='run-270f2159-101c-484e-9c17-9c1ebb7883ef-0'), AIMessage(content='{\\n  \"data\": [\\n    {\\n      \"question\": \"포트미스 이용 환경에서 어떤 신고가 적합한가요?\",\\n      \"answer\": \"내항신고 위주 신고가 적합합니다.\"\\n    },\\n    {\\n      \"question\": \"포트미스 이용 환경에서 무료항만에 관련된 어떤 신고문서를 처리하나요?\",\\n      \"answer\": \"모든 신고문서를 처리합니다.\"\\n    },\\n    {\\n      \"question\": \"포트미스 이용 환경에서 어떤 경우에는 무료 이용요금이 적용되나요?\",\\n      \"answer\": \"단건 신고시 무료 이용요금이 적용됩니다.\"\\n    },\\n    {\\n      \"question\": \"포트미스 이용 환경에서 어떤 경우에는 유료 이용요금이 발생하나요?\",\\n      \"answer\": \"사용 데이터량에 따라 유료 이용요금이 발생합니다.\"\\n    },\\n    {\\n      \"question\": \"포트미스 이용 환경에서 어떤 서비스를 통해 항만민원신고 및 신고 결과를 조회할 수 있나요?\",\\n      \"answer\": \"인터넷 웹 서비스를 통해 항만민원신고 및 신고 결과를 조회할 수 있습니다.\"\\n    },\\n    {\\n      \"question\": \"포트미스 이용 환경에서 어떤 서비스를 통해 모바일을 통한 민원신고 및 신고 결과를 조회할 수 있나요?\",\\n      \"answer\": \"모바일서비스를 통해 모바일을 통한 민원신고 및 신고 결과를 조회할 수 있습니다.\"\\n    },\\n    {\\n      \"question\": \"포트미스 이용 환경에서 어떤 정보를 기반으로 다양한 통계 정보를 제공하나요?\",\\n      \"answer\": \"포트미스 정보를 기반으로 다양한 통계 정보를 제공합니다.\"\\n    },\\n    {\\n      \"question\": \"포트미스 이용 환경에서 어떤 프로그램을 통해 항만민원신고 및 신고 결과를 조회할 수 있나요?\",\\n      \"answer\": \"중계망 사업자를 통해 항만민원신고 및 신고 결과를 조회할 수 있습니다.\"\\n    },\\n    {\\n      \"question\": \"포트미스 이용 환경에서 어떤 프로그램을 이용하면 이용 요금이 발생하나요?\",\\n      \"answer\": \"프로그램 이용시 이용 요금이 발생합니다.\"\\n    },\\n    {\\n      \"question\": \"포트미스 이용 환경에서 어떤 사이트를 통해 KL-NET과 KTNET을 이용할 수 있나요?\",\\n      \"answer\": \"www.portmis.go.kr 사이트를 통해 KL-NET과 KTNET을 이용할 수 있습니다.\"\\n    }\\n  ]\\n}', response_metadata={'token_usage': {'completion_tokens': 801, 'prompt_tokens': 1815, 'total_tokens': 2616}, 'model_name': 'gpt-3.5-turbo', 'system_fingerprint': None, 'finish_reason': 'stop', 'logprobs': None}, id='run-a9684502-128c-45d7-a45d-a0b493e9ae98-0'), AIMessage(content='{\\n    \"data\": [\\n        {\\n            \"question\": \"포트미스 회원가입을 위해 어디를 방문해야 하나요?\",\\n            \"answer\": \"포트미스 접속 • www.portmis.go.kr 1\"\\n        },\\n        {\\n            \"question\": \"회원가입 정보를 어떻게 작성해아 하나요?\",\\n            \"answer\": \"사용자 ID, 사용자명 등 회원정보 입력 2\"\\n        },\\n        {\\n            \"question\": \"사용 업체 등록을 위해 무엇을 해야 하나요?\",\\n            \"answer\": \"사용 업체 등록 및 포트미스에서 사용할 업체코드 발급 신청4\"\\n        },\\n        {\\n            \"question\": \"첨부서류를 제출하는 방법은 무엇인가요?\",\\n            \"answer\": \"사업자 등록증 제출 (홈페이지에서 스캔파일 업로드 및 FAX 또는 E-Mail로 첨부서류 제출 가능)5\"\\n        },\\n        {\\n            \"question\": \"신청정보 확인을 위해 누구에게 연락해야 하나요?\",\\n            \"answer\": \"회원가입 신청내용 및 사용업체 등록 신청 내용 확인 • 제출 서류 와 사용업체 등록 신청 내용 확인6\"\\n        },\\n        {\\n            \"question\": \"신청정보가 승인되면 무엇을 받을 수 있나요?\",\\n            \"answer\": \"가입 승인 7\"\\n        },\\n        {\\n            \"question\": \"회원가입이 완료되면 무엇을 사용할 수 있나요?\",\\n            \"answer\": \"발급된 사용자 ID로 서비스 이용 8\"\\n        },\\n        {\\n            \"question\": \"포트미스 회원가입 절차에서 어떤 단계가 마지막인가요?\",\\n            \"answer\": \"www.portmis.go.kr\"\\n        },\\n        {\\n            \"question\": \"포트미스 회원가입 절차에서 어떤 단계가 첫 번째인가요?\",\\n            \"answer\": \"포트미스 회원가입 신청 3\"\\n        },\\n        {\\n            \"question\": \"신청내용에 이상이 없을 경우 무엇이 될까요?\",\\n            \"answer\": \"가입 승인 7\"\\n        }\\n    ]\\n}', response_metadata={'token_usage': {'completion_tokens': 614, 'prompt_tokens': 1452, 'total_tokens': 2066}, 'model_name': 'gpt-3.5-turbo', 'system_fingerprint': None, 'finish_reason': 'stop', 'logprobs': None}, id='run-09c2efe7-987f-4d76-a4dc-1565349cef17-0'), AIMessage(content='{\\n    \"context\": \"오류통보 (반려) 7선박제원 정보 작성3 포트미스 접속2포트미스\\\\n회원가입1\\\\n첨부서류 제출4신청정보 \\\\n처리현황 조회5 (담당자) 선박제원\\\\n신청 내용 확인6\\\\nOK\\\\n선박제원 신청 \\\\n완료9 (담당자) 선박제원\\\\n신청 승인8\\\\n입·출항 선박에 대한 선박제원 등록(변경) 절차 업무 흐름 설명\\\\n포트미스 \\\\n회원가입• 포트미스 회원가입 완료 후 선박제원신청 가능 1\\\\n포트미스 접속• www.portmis.go.kr\\\\n• PORTMIS신고 → 선박운항 → 선박제원신고2\\\\n첨부서류 제출• 국적증서, 국제총톤수증서 등 관련 서류 체출\\\\n    (FAX 또는 E-Mail)4\\\\n신청정보 처리\\\\n현황 조회• 신청 내역에 대한 진행상태 확인 5\\\\n선박제원 신고 \\\\n내용 확인•  (담당자) 선박제원 신청정보 심사 후 수리 또는 오류 \\\\n통보6\\\\n신청정보 승인•  (담당자) 선박제원 신청내용에 이상이 없으면 완료\\\\n처리8\\\\nOK선박제원 신청 완료9\\\\n입항(출항)\\\\n신고 신청10오류통보\\\\n(반려)7\\\\n•  업무담당자 : 민원 신청\\\\n내용에 오류가 있는  \\\\n경우 오류내용 입력 후 \\\\n(오류)처리\\\\n•  민원인 : 오류 내용  \\\\n확인 후 신청정보를  \\\\n수정하여 재신고선박제원 \\\\n정보 작성•  회원가입 정보 작성: 호출부호, 선명, IMO번호, 총톤수 등 \\\\n선박제원 정보 입력  3입·출항 선박에 대한 선박제원 등록(변경) 절차 업무 흐름\\\\n선박 입항(출항)\\\\n신고 신청 10\\\\n• 선박 입항(출항)신고 시작\\\\n10 • PORT-MIS 11\\\\nwww.portmis.go.kr\",\\n    \"data_format\": \"Question/Answer\",\\n    \"pairs\": [\\n        {\\n            \"question\": \"포트미스 회원가입 완료 후 무엇을 할 수 있나요?\",\\n            \"answer\": \"선박제원신청 가능\"\\n        },\\n        {\\n            \"question\": \"어떤 서류를 체출해야 첨부서류 제출이 완료됩니까?\",\\n            \"answer\": \"국적증서, 국제총톤수증서 등 관련 서류\"\\n        },\\n        {\\n            \"question\": \"어떤 상태를 확인할 수 있는가?\",\\n            \"answer\": \"신청 내역에 대한 진행상태\"\\n        },\\n        {\\n            \"question\": \"선박제원 신청 정보를 심사한 후 무엇을 할 수 있습니까?\",\\n            \"answer\": \"수리 또는 오류 통보\"\\n        },\\n        {\\n            \"question\": \"신청 내용에 이상이 없으면 무엇을 할 수 있습니까?\",\\n            \"answer\": \"완료 처리\"\\n        },\\n        {\\n            \"question\": \"오류가 있는 경우 어떻게 처리해야 합니까?\",\\n            \"answer\": \"오류내용 입력 후 처리\"\\n        },\\n        {\\n            \"question\": \"오류 내용을 확인한 후 무엇을 해야 합니까?\",\\n            \"answer\": \"신청정보 수정하여 재신고\"\\n        },\\n        {\\n            \"question\": \"어떤 정보를 입력해야 선박제원 정보 작성이 가능합니까?\",\\n            \"answer\": \"호출부호, 선명, IMO번호, 총톤수 등\"\\n        },\\n        {\\n            \"question\": \"어떤 절차를 거쳐 선박 입항(출항) 신고를 할 수 있습니까?\",\\n            \"answer\": \"PORT-MIS를 통해 시작\"\\n        },\\n        {\\n            \"question\": \"어디를 통해 선박운항 후 선박제원신고를 할 수 있습니까?\",\\n            \"answer\": \"www.portmis.go.kr\"\\n        }\\n    ]\\n}', response_metadata={'token_usage': {'completion_tokens': 1254, 'prompt_tokens': 2238, 'total_tokens': 3492}, 'model_name': 'gpt-3.5-turbo', 'system_fingerprint': None, 'finish_reason': 'stop', 'logprobs': None}, id='run-a9efd4d1-0cef-4f8e-a8c4-7c0e61227351-0'), AIMessage(content='{\\n    \"questions\": [\\n        \"외항입항신고를 최초 또는 변경할 때 필요한 업무는 무엇인가요?\",\\n        \"항만시설 사용 허가신고를 하려면 어떤 업무를 수행해야 하나요?\",\\n        \"화물료를 대납하고 경비를 청구하는 업무는 어떤 번호로 되어 있나요?\",\\n        \"통합화물신고를 하려면 어떤 업무를 담당해야 하나요?\",\\n        \"항만시설 사용료(정박료) 면제를 신청하려면 어떤 업무를 해야 하나요?\",\\n        \"외항출항신고를 최종으로 제출할 때 필요한 업무는 무엇인가요?\",\\n        \"강제도선면제 신청을 하려면 어떤 업무를 처리해야 하나요?\",\\n        \"위험물 반입신고 및 위험물 일람표신고를 하려면 어떤 업무를 해야 하나요?\",\\n        \"AIS검증(적합/부적합)을 받기 위해 어떤 업무를 수행해야 하나요?\",\\n        \"저속운항선박 지원신청을 하려면 어떤 업무를 처리해야 하나요?\"\\n    ],\\n    \"answers\": [\\n        \"승무원/승객명부를 작성해야 합니다.\",\\n        \"화물료를 대납하고 경비를 청구해야 합니다.\",\\n        \"화물료 대납 및 경비청구 업무는 12번으로 되어 있습니다.\",\\n        \"통합화물신고를 위해 위험물 반입신고/위험물 일람표신고를 해야 합니다.\",\\n        \"항만시설 사용료(정박료) 면제를 신청하려면 승인 담당자에게 신청해야 합니다.\",\\n        \"외항출항신고를 최종으로 제출할 때는 화물료 대납 및 경비청구 업무를 수행해야 합니다.\",\\n        \"강제도선면제 신청을 위해 2-1 또는 2-2 업무를 처리해야 합니다.\",\\n        \"위험물 반입신고/위험물 일람표신고를 위해 해당 업무를 담당자에게 제출해야 합니다.\",\\n        \"AIS검증을 받기 위해 저속운항선박 지원신청을 해야 합니다.\",\\n        \"저속운항선박 지원신청을 위해 해당 업무를 담당자에게 제출해야 합니다.\"\\n    ]\\n}', response_metadata={'token_usage': {'completion_tokens': 803, 'prompt_tokens': 2874, 'total_tokens': 3677}, 'model_name': 'gpt-3.5-turbo', 'system_fingerprint': None, 'finish_reason': 'stop', 'logprobs': None}, id='run-6bebbbb7-01a8-46f4-bcbe-7c9320da2f5a-0'), AIMessage(content='{\\n  \"data_format\": \"Question/Answer\",\\n  \"questions_answers\": [\\n    {\\n      \"question\": \"내항입항신고를 최초로 하려면 무엇을 제출해야 합니까?\",\\n      \"answer\": \"승객명부를 제출해야 합니다. (선종이 화물선인 경우만)\"\\n    },\\n    {\\n      \"question\": \"항만시설사용료(정박료) 면제를 신청하려면 어떤 담당자에게 문의해야 합니까?\",\\n      \"answer\": \"면제 신청은 담당자(승인)에게 문의해야 합니다.\"\\n    },\\n    {\\n      \"question\": \"내항출항신고를 최종으로 하려면 어떤 서류를 제출해야 합니까?\",\\n      \"answer\": \"승객명부를 제출해야 합니다. (선종이 화물선인 경우만)\"\\n    },\\n    {\\n      \"question\": \"위험물 반입신고 또는 위험물 일람표신고를 제출한 후에는 누구에게 문의해야 합니까?\",\\n      \"answer\": \"승인 담당자에게 문의해야 합니다.\"\\n    },\\n    {\\n      \"question\": \"연안항 화물료 신고를 반려당했을 때 어떤 담당자에게 재신청해야 합니까?\",\\n      \"answer\": \"반려된 경우 담당자(수리)에게 재신청해야 합니다.\"\\n    },\\n    {\\n      \"question\": \"선박수리허가신청을 반려당했을 때 어떤 담당자에게 재신청해야 합니까?\",\\n      \"answer\": \"반려된 경우 담당자(수리)에게 재신청해야 합니다.\"\\n    },\\n    {\\n      \"question\": \"서북도서출항신고를 반려당했을 때 어떤 담당자에게 재신청해야 합니까?\",\\n      \"answer\": \"반려된 경우 담당자(허가)에게 재신청해야 합니다.\"\\n    },\\n    {\\n      \"question\": \"월정료선박사용신청을 반려당했을 때 어떤 담당자에게 재신청해야 합니까?\",\\n      \"answer\": \"반려된 경우 담당자(수리)에게 재신청해야 합니다.\"\\n    },\\n    {\\n      \"question\": \"항만시설사용허가신청서(선석신청)를 제출한 후에는 누구에게 문의해야 합니까?\",\\n      \"answer\": \"허가 담당자에게 문의해야 합니다.\"\\n    },\\n    {\\n      \"question\": \"내항컨테이너반출입신고를 하려면 어떤 담당자에게 문의해야 합니까?\",\\n      \"answer\": \"수리 담당자에게 문의해야 합니다.\"\\n    }\\n  ]\\n}', response_metadata={'token_usage': {'completion_tokens': 849, 'prompt_tokens': 2928, 'total_tokens': 3777}, 'model_name': 'gpt-3.5-turbo', 'system_fingerprint': None, 'finish_reason': 'stop', 'logprobs': None}, id='run-ab066325-aeb0-48d0-ae23-b231caf8a514-0'), AIMessage(content='{\\n    \"questions\": [\\n        \"외항선 입항신고란 무엇인가요?\",\\n        \"외항선 입항신고를 왜 해야 하나요?\",\\n        \"외항선 입항신고를 어디에서 할 수 있나요?\",\\n        \"외항선 입항신고를 위한 신고 프로그램은 무엇인가요?\",\\n        \"외항선 입항신고를 완료한 후에는 어떤 절차를 거치나요?\",\\n        \"승무원/승객명부란 무엇을 포함하고 있나요?\",\\n        \"외항선 입항신고를 완료한 후에 오류가 발생하면 어떻게 처리해야 하나요?\",\\n        \"외항선 입항신고를 반려당했을 때 어떤 절차를 거쳐야 하나요?\",\\n        \"외항선 입항신고를 완료한 후에 할인을 받으려면 어떤 절차를 따라야 하나요?\",\\n        \"외항선 입항신고를 완료한 후에는 어떤 서류를 제출해야 하나요?\"\\n    ],\\n    \"answers\": [\\n        \"외항선 입항신고는 무역항의 수상구역 등 안으로 선박이 입항하는 경우에 신고하는 절차를 말합니다.\",\\n        \"외항선 입항신고를 통해 선박의 입항 예정정보와 실제 입항 정보를 제출하여 관리하고 안전을 유지할 수 있습니다.\",\\n        \"외항선 입항신고는 해양수산부의 포트미스, KL-NET, KTNET 등을 통해 할 수 있습니다.\",\\n        \"외항선 입항신고를 위한 신고 프로그램으로는 PORT-MIS, 프리즘 3.0, ulogishub 등이 있습니다.\",\\n        \"외항선 입항신고를 완료한 후에는 신고 내역을 확인하고 저장하며, 반려된 경우 반려 사유를 확인하여 재신고해야 합니다.\",\\n        \"승무원/승객명부에는 선박에 탑승한 승무원/승객의 성명, 국적, 승하선 일자, 승무원직명, 여권번호 또는 선원수첩번호 등 인적사항이 포함됩니다.\",\\n        \"외항선 입항신고를 완료한 후에 오류가 발생하면 오류 내용을 확인하고 수정하여 재신고해야 합니다.\",\\n        \"외항선 입항신고를 반려당했을 때는 반려 사유를 확인하고 수정하여 재신고하거나 반려 사유에 대한 내용을 입력해야 합니다.\",\\n        \"외항선 입항신고를 완료한 후에 할인을 받으려면 할인 사유에 대한 증빙 서류를 제출해야 합니다.\",\\n        \"외항선 입항신고를 완료한 후에는 완료서류와 함께 첨부서류를 제출해야 합니다.\"\\n    ]\\n}', response_metadata={'token_usage': {'completion_tokens': 900, 'prompt_tokens': 3741, 'total_tokens': 4641}, 'model_name': 'gpt-3.5-turbo', 'system_fingerprint': None, 'finish_reason': 'stop', 'logprobs': None}, id='run-eee11c8f-feb2-4ba4-991b-5fb562cd0c23-0'), AIMessage(content='{\\n    \"context\": \"▶ 강제도선 면제신청\\\\n- 1년 이내 4회 이상 또는 3년 이내 9회 이상 승선한 선장과 선박일 경우 강제 도선 면제신청\\\\n▶ 예선사용 면제신청\\\\n-  동일한 대한민국 선박에 승선하여 동일항만에 1년 4회 이상 또는 3년 9회 이상 예선을 사용하여 부두 및 계류\\\\n시설에 접안한 실적이 있는 선박의 선장일 경우 예선사용 면제신청강제도선 면제신청 : 도선법 제20조 제2항, 도선법 시행규칙 제18조 제2조\\\\n예선사용 면제신청 : 예선운영 및 업무처리요령 제6조 제2항근거\\\\n법령\\\\n5\\\\n면제증 발급  •  민원인 : 강제도선면제증 또는 예선사용면제증 발급 7강제도선\\\\n면제신청•  선원수첩번호, 호출부호, 총톤수, 선박종류, 입출항이력 \\\\n등 입력2\\\\n예선사용\\\\n면제신청•  선원수첩번호, 호출부호, 총톤수, 선박종류, 입출항이력 \\\\n등 입력2\\\\n입출항 신고시 \\\\n면제증 제출8•  민원인 : 입,출항 신고시 예선, 도선 면제 신청 규정에  \\\\n부합할 경우 입,출항 정보 입력시 예선, 도선 면체 체크후 \\\\n발급받은 면제번호를 입력\\\\n2-1 강제도선 면제신청   2-2 예도선사용 면제신청\\\\n가. 신고 업무 흐름도나. 신고 업무 흐름도 설명\\\\n선박 입출항 신고시 \\\\n면제증 제출8(담당자) 민원 \\\\n신고문서 확인 (수리)4 면제증 발급7 (담당자) 수리 6신고 문서검토\\\\n및 저장3민원인\\\\n신고 프로그램 \\\\n접속1강제도선\\\\n면제신청2\\\\n오류통보 (반려) 5예선사용\\\\n면제신청2신고 프로그램 \\\\n접속• 해양수산부(포트미스) : www.portmis.go.kr\\\\n    PORT-MIS신고 → 예도선 → 강제도선 면제신청\\\\n    PORT-MIS신고 → 예도선 → 예선사용 면제신청\\\\n• KL-NET(프리즘 3.0) : https://www.plism.com\\\\n• KTNET(ulogishub) : https://www.ulogishub.com  \\\\n1\\\\n신고 문서검토 \\\\n및 저장• 신고내역 확인 및 저장\\\\n• 담당자 반려시 반려에 대한 내용 확인 후 재신고3\\\\n수리6오류통보\\\\n(반려)5\\\\n•  업무담당자 : 민원 신청\\\\n내용에 오류가 있는  \\\\n경우 오류내용 입력 후 \\\\n(오류)처리\\\\n•  민원인 : 오류 내용  \\\\n확인 후 신청정보를  \\\\n수정하여 재신고\\\\n•  업무담당자는 민원 신고 문서 심사 후 수리 or 오류통보\\\\n(반려)처리\\\\n•  반려시에는 민원인이 반려 내용을 확인할 수 있도록 반려 \\\\n사유를 입력(담당자) 민원 \\\\n신고문서 확인\\\\n(수리/반려)4\\\\n(담당자) 수리 •  업무담당자 : 민원 신고문서 심사 후 이상이 없으면 \\\\n수리처리6\\\\n18 • PORT-MIS 19\\\\nwww.portmis.go.kr\",\\n    \"data_format\": \"Question/Answer\",\\n    \"pairs\": [\\n        {\\n            \"question\": \"강제도선 면제신청 조건은 무엇인가요?\",\\n            \"answer\": \"1년 이내 4회 이상 또는 3년 이내 9회 이상 승선한 선장과 선박일 경우 강제 도선 면제신청\"\\n        },\\n        {\\n            \"question\": \"예선사용 면제신청 조건은 무엇인가요?\",\\n            \"answer\": \"동일한 대한민국 선박에 승선하여 동일항만에 1년 4회 이상 또는 3년 9회 이상 예선을 사용하여 부두 및 계류 시설에 접안한 실적이 있는 선박의 선장일 경우\"\\n        },\\n        {\\n            \"question\": \"강제도선 면제신청의 근거는 무엇인가요?\",\\n            \"answer\": \"도선법 제20조 제2항, 도선법 시행규칙 제18조 제2조\"\\n        },\\n        {\\n            \"question\": \"예선사용 면제신청의 근거는 무엇인가요?\",\\n            \"answer\": \"예선운영 및 업무처리요령 제6조 제2항근거\"\\n        },\\n        {\\n            \"question\": \"강제도선 면제신청을 위해 필요한 정보는 무엇인가요?\",\\n            \"answer\": \"선원수첩번호, 호출부호, 총톤수, 선박종류, 입출항이력 등 입력\"\\n        },\\n        {\\n            \"question\": \"예선사용 면제신청을 위해 필요한 정보는 무엇인가요?\",\\n            \"answer\": \"선원수첩번호, 호출부호, 총톤수, 선박종류, 입출항이력 등 입력\"\\n        },\\n        {\\n            \"question\": \"면제증 발급을 받기 위해 어떤 절차를 거쳐야 하나요?\",\\n            \"answer\": \"민원인이 입,출항 신고시 예선, 도선 면제 신청 규정에 부합할 경우 입,출항 정보 입력 후 예선, 도선 면체 체크후 발급받은 면제번호를 입력\"\\n        },\\n        {\\n            \"question\": \"강제도선 면제신청의 업무 흐름도를 설명해주세요.\",\\n            \"answer\": \"선박 입출항 신고시 면제증 제출 → 민원 신고 → 신고문서 확인 → 면제증 발급 → 수리 → 신고 문서검토 및 저장 → 오류통보 → 예선사용 면제신청\"\\n        },\\n        {\\n            \"question\": \"예선사용 면제신청의 업무 흐름도를 설명해주세요.\",\\n            \"answer\": \"신고 프로그램 접속 → 강제도선 면제신청 → 오류통보 → 신고 프로그램 접속 → 신고 문서검토 및 저장 → 수리 → 오류통보 → 업무담당자 수리\"\\n        },\\n        {\\n            \"question\": \"어디에서 강제도선 면제신청을 할 수 있나요?\",\\n            \"answer\": \"해양수산부(포트미스)의 PORT-MIS신고 → 예도선 → 강제도선 면제신청을 통해 신청할 수 있습니다.\"\\n        }\\n    ]\\n}', response_metadata={'token_usage': {'completion_tokens': 2177, 'prompt_tokens': 3681, 'total_tokens': 5858}, 'model_name': 'gpt-3.5-turbo', 'system_fingerprint': None, 'finish_reason': 'stop', 'logprobs': None}, id='run-2b7c7239-be1a-4cbf-849f-005a955e6e7c-0'), AIMessage(content='{\\n    \"questions\": [\\n        \"선박평형수 신고의 대상은 무엇인가요?\",\\n        \"선박보안정보통보 신고의 목적은 무엇인가요?\",\\n        \"선박 입항 전에 언제 입항 예정정보를 신고해야 하나요?\",\\n        \"민원 신청 내용에 오류가 있는 경우 어떻게 처리해야 하나요?\",\\n        \"선박평형수 신고와 선박보안정보통보 신고의 차이는 무엇인가요?\",\\n        \"신고 프로그램에 접속하기 위한 방법은 무엇인가요?\",\\n        \"신고 업무 흐름도를 설명해주세요.\",\\n        \"신고 문서검토 및 저장은 어떤 과정을 거치나요?\",\\n        \"외항선 입항 신고는 어떤 절차를 거쳐야 하나요?\",\\n        \"민원 신고 프로그램에 접속하는 방법은 무엇인가요?\"\\n    ],\\n    \"answers\": [\\n        \"선박평형수를 주입한 후 관할수역에 들어오는 선박이 대상입니다.\",\\n        \"국제항해에 이용되는 선박과 그 선박이 이용하는 항만시설의 보안에 관한 사항을 신고하는 것입니다.\",\\n        \"국내 입항 24시간 전까지 입항 예정정보를 신고해야 합니다.\",\\n        \"오류내용을 입력 후 수정하여 재신고해야 합니다.\",\\n        \"선박평형수 신고는 선박평형수를 주입한 후 관할수역에 들어오는 선박을 대상으로 하고, 선박보안정보통보 신고는 국제항해에 이용되는 선박과 그 선박이 이용하는 항만시설의 보안에 관한 사항을 신고합니다.\",\\n        \"해양수산부(포트미스)의 PORT-MIS신고 또는 KL-NET(프리즘 3.0), KTNET(ulogishub)을 통해 접속할 수 있습니다.\",\\n        \"신고 업무 흐름도는 선박운항 후 선박평형수 신고 또는 선박보안정보통보 신고 절차를 나타냅니다.\",\\n        \"신고 문서검토 및 저장은 신고내역을 확인하고 저장하는 과정을 의미합니다.\",\\n        \"외항선 입항 신고는 최초에 입항 예정정보를 신고하고, 실제 선박 입,출항 후 최종신고를 해야 합니다.\",\\n        \"민원 신고 프로그램에는 해양수산부의 PORT-MIS나 KL-NET, KTNET을 통해 접속할 수 있습니다.\"\\n    ]\\n}', response_metadata={'token_usage': {'completion_tokens': 843, 'prompt_tokens': 4455, 'total_tokens': 5298}, 'model_name': 'gpt-3.5-turbo', 'system_fingerprint': None, 'finish_reason': 'stop', 'logprobs': None}, id='run-d9579f46-e438-4d63-b3f0-da58da21149c-0'), AIMessage(content='{\\n    \"questions\": [\\n        \"저속운항선박지원신청 대상 선박은 무엇인가요?\",\\n        \"저속운항선박지원신청의 신청대상 선종과 권장속도는 무엇인가요?\",\\n        \"저속운항선박지원신청의 신고 업무 흐름도에는 어떤 내용이 포함되어 있나요?\",\\n        \"저속운항선박지원신청에서 AIS 데이터 자동 검증이 어떻게 이루어지나요?\",\\n        \"저속운항선박지원신청의 민원 신고는 언제 완료되나요?\",\\n        \"저속운항선박지원신청의 신고 문서검토 및 저장은 어떤 과정을 거치나요?\",\\n        \"저속운항선박지원신청을 위한 신고 프로그램은 어디에서 접속할 수 있나요?\",\\n        \"저속운항선박지원신청의 외항선 입항신고는 어떤 정보를 신고해야 하나요?\",\\n        \"저속운항선박지원신청의 저속운항대상선박 신청에 어떤 내용을 입력해야 하나요?\",\\n        \"저속운항선박지원신청의 선박운항은 어떤 순서로 진행되나요?\"\\n    ],\\n    \"answers\": [\\n        \"3,000톤 이상의 외항선으로, 일정 지역을 일정한 속도 이하(10~12노트)로 운항하는 선박이 대상입니다.\",\\n        \"부산항: 컨테이너선(41) 12, 인천항: 컨테이너선(41) 12, 여수·광양항: 컨테이너선(41) 12, 울산항: 컨테이너선(41) 12\",\\n        \"신고 업무 흐름도에는 외항선 입항신고, 저속운항선박 지원신청, AIS 데이터 자동 검증, 민원 신고 완료, 신고 문서검토 및 저장, 신고 프로그램 접속이 포함됩니다.\",\\n        \"AIS 데이터 자동 검증은 선박의 항로와 속도를 AIS 자료를 바탕으로 자동으로 검증하는 과정입니다.\",\\n        \"민원 신고는 저속운항선박지원신청이 신고 완료된 후에 완료됩니다.\",\\n        \"신고 문서검토 및 저장은 신고내역을 확인하고 저장하는 과정을 의미합니다.\",\\n        \"신고 프로그램은 해양수산부(포트미스), KL-NET(프리즘 3.0), KTNET(ulogishub)에서 접속할 수 있습니다.\",\\n        \"외항선 입항신고에는 선박의 입항 예정정보와 실제 입,출항 정보를 신고해야 합니다.\",\\n        \"저속운항대상선박 신청에는 업체정보, 선박정보, 시작(도착)지점일시 등의 내용을 입력해야 합니다.\",\\n        \"선박운항은 외항선 입항신고, 저속운항선박지원신청, AIS 데이터 자동 검증, 민원 신고 완료, 신고 문서검토 및 저장의 순서로 진행됩니다.\"\\n    ]\\n}', response_metadata={'token_usage': {'completion_tokens': 1058, 'prompt_tokens': 3531, 'total_tokens': 4589}, 'model_name': 'gpt-3.5-turbo', 'system_fingerprint': None, 'finish_reason': 'stop', 'logprobs': None}, id='run-afde8b2b-b016-4fb5-b2be-764881b6cc6f-0')]\n"
          ]
        }
      ]
    },
    {
      "cell_type": "markdown",
      "source": [
        "##13_24"
      ],
      "metadata": {
        "id": "JW5ATyNd_-sq"
      }
    },
    {
      "cell_type": "code",
      "source": [
        "from langchain.document_loaders import PyPDFLoader\n",
        "from langchain.embeddings.openai import OpenAIEmbeddings\n",
        "from langchain.vectorstores import Chroma\n",
        "\n",
        "\n",
        "# PDF 파일 로드\n",
        "loader = PyPDFLoader(\"/content/13_24(2024)포트미스+가이드북 (2).pdf\")\n",
        "document = loader.load()\n",
        "\n",
        "from langchain.text_splitter import CharacterTextSplitter\n",
        "\n",
        "text_splitter = CharacterTextSplitter(chunk_size=1000, chunk_overlap=50)\n",
        "texts = text_splitter.split_documents(document)\n",
        "\n",
        "\n",
        "# 임베딩\n",
        "embeddings = OpenAIEmbeddings()\n",
        "# Chroma DB 에 저장\n",
        "docsearch = Chroma.from_documents(texts, embeddings)\n",
        "# retriever 가져옴\n",
        "retriever = docsearch.as_retriever()"
      ],
      "metadata": {
        "id": "AEqTxsAK9uwa"
      },
      "execution_count": null,
      "outputs": []
    },
    {
      "cell_type": "code",
      "source": [
        "from langchain_core.prompts import SystemMessagePromptTemplate\n",
        "from langchain_core.prompts import PromptTemplate\n",
        "import json\n",
        "\n",
        "# Prompt Template 정의\n",
        "prompt_template = ChatPromptTemplate(\n",
        "    input_variables=['context', 'data_format', 'number_of_pairs'],\n",
        "    messages=[\n",
        "        SystemMessagePromptTemplate(\n",
        "            prompt=PromptTemplate(\n",
        "                input_variables=['context', 'data_format', 'number_of_pairs'],\n",
        "                template='Generate the question and answer pairs.\\n'\n",
        "                         '1. The number of question/answer pairs you need ({number_of_pairs}).\\n'\n",
        "                         '2. The data format you want me to use ({data_format}).\\n'\n",
        "                         '3. The context for the questions and answers ({context}).'\n",
        "                         '4. Both questions and answers are printed in Korean.'\n",
        "            )\n",
        "        )\n",
        "    ]\n",
        ")\n",
        "\n",
        "llm = ChatOpenAI(model_name=\"gpt-3.5-turbo\", temperature=0)\n",
        "\n",
        "# RAG 프롬프트\n",
        "rag_prompt = ChatPromptTemplate(\n",
        "    input_variables=['context', 'question'],\n",
        "    messages=[\n",
        "        SystemMessagePromptTemplate(\n",
        "            prompt=PromptTemplate(\n",
        "                input_variables=['context', 'question'],\n",
        "                template='You are an assistant for question-answering tasks. you should be written in Korean. Use the following pieces of retrieved context to answer the question. If you don\\'t know the answer, just say that you don\\'t know. Use three sentences maximum and keep the answer concise.\\nQuestion: {question}\\nContext: {context}\\nAnswer:'\n",
        "            )\n",
        "        )\n",
        "    ]\n",
        ")\n",
        "\n",
        "# RAG 체인 생성\n",
        "rag_chain = (\n",
        "    {\"context\": RunnablePassthrough(), \"data_format\": RunnablePassthrough(), \"number_of_pairs\": RunnablePassthrough()}\n",
        "    | prompt_template\n",
        "    | llm\n",
        ")\n",
        "\n",
        "# QA 쌍 생성 및 출력\n",
        "qa_pair = []\n",
        "\n",
        "for doc in texts:\n",
        "    if isinstance(doc.page_content, str):\n",
        "        result = rag_chain.invoke(\n",
        "            {\"context\": doc.page_content, \"data_format\": \"Question/Answer\", \"number_of_pairs\": 10}\n",
        "        )\n",
        "        qa_pair.append(result)\n",
        "\n",
        "print(qa_pair)"
      ],
      "metadata": {
        "colab": {
          "base_uri": "https://localhost:8080/"
        },
        "id": "0iRpcZ7RAKVX",
        "outputId": "df5d97f9-354b-4806-fcea-ef308c2815f3"
      },
      "execution_count": null,
      "outputs": [
        {
          "output_type": "stream",
          "name": "stdout",
          "text": [
            "[AIMessage(content='{\\n    \"questions\": [\\n        \"저속운항선박 인센티브 신청 가능한 조건은 무엇인가요?\",\\n        \"저속운항선박 인센티브 신청 가능한 일자는 어떻게 공지되나요?\",\\n        \"저속운항선박 인센티브 통계 메뉴에서 확인할 수 있는 정보는 무엇인가요?\",\\n        \"저속운항선박 인센티브 신청 검증결과 확인을 위한 법령은 무엇인가요?\",\\n        \"저속운항선박 인센티브 신청을 위한 업무 흐름도에는 어떤 단계가 포함되어 있나요?\"\\n    ],\\n    \"answers\": [\\n        \"- 해당 년도에 1회 이상 저속운항 신청 이력이 있거나 해당 년도 입항횟수 대비 저속운항적합 비율이 60% 이상인 경우 신청 가능합니다.\",\\n        \"- 저속운항선박 인센티브 신청 가능 일자는 별도로 공지됩니다.\",\\n        \"- 저속운항선박 인센티브 통계 메뉴에서는 산정금액을 확인할 수 있습니다.\",\\n        \"- 저속운항선박 인센티브 신청 검증결과 확인을 위한 법령은 항만대기질법 제11조 1항, 시행규칙 제12조 5항에 근거합니다.\",\\n        \"- 저속운항선박 인센티브 신청을 위한 업무 흐름도에는 입항신고, 저속운항선박 지원신청, AIS 데이터 자동 검증, 민원 신고 완료, 저속운항선박 인센티브 신청 등의 단계가 포함되어 있습니다.\"\\n    ]\\n}', response_metadata={'token_usage': {'completion_tokens': 598, 'prompt_tokens': 3171, 'total_tokens': 3769}, 'model_name': 'gpt-3.5-turbo', 'system_fingerprint': None, 'finish_reason': 'stop', 'logprobs': None}, id='run-05f5b1f9-a674-4808-b565-550f35475409-0'), AIMessage(content='{\\n  \"context\": \"▶ 항만시설사용허가신청서(선석신청)\\\\n- 선박 입항시 일정기간 부두시설을 사용하기 위해 항만시설사용허가신청서를 신고 한다.\\\\n- 사용 시설코드, 사용목적, 사용기간, 양하·적하 화물 내용등 신고항만법 제30조, 항만법 시행령 제26조, 무역항 등의 항만시설 사용 및 사용료에 관한 규정 제3조근거\\\\n법령\\\\n오류통보 (반려) 6• 업무담당자 : 민원 신고서에 오류가 있는 경우 오류내용\\\\n입력 후 (반려)처리\\\\n• 민원인 : 반려 내용 확인 후 신고서를 수정하여 재신고입항신고 • 선박 입항 전까지 입항 예정정보를 신고(최초) 2\\\\n항만시설사용\\\\n허가신청\\\\n(선석신청)• 사용시설코드 및 사용목적\\\\n• 양하, 적하 화물 종류 및 화물량\\\\n• 사용시설의 사용기간 등 신고3\\\\n신고 문서검토\\\\n및 저장• 신고내역 확인 및 저장\\\\n• 담당자 반려시 반려에 대한 내용 확인 후 재신고4\\\\n민원 신고\\\\n완료• 항만시설사용허가신청서(선석신청) 신고 완료 8(담당자) 허가 • 업무담당자 : 민원 신청문서 심사후 이상이 없으면\\\\n허가처리7허가7(담당자) 민원\\\\n신고문서 확인\\\\n(허가/반려)• 업무담당자는 민원 신청 문서 심사 후 허가 or 오류\\\\n통보(반려)처리\\\\n• 반려시에는 민원인이 반려 내용을 확인할 수 있도록\\\\n반려 사유를 입력56 항만시설사용허가신청서(선석신청)\\\\n나. 신고 업무 흐름도 설명\\\\n신고 프로그램\\\\n접속• 해양수산부(포트미스) : www.portmis.go.kr\\\\nPORT-MIS신고 → 항만시설 → 항만시설사용허가신청서\\\\n(선석신청)\\\\n• KL-NET(프리즘 3.0) : https://www.plism.com\\\\n• KTNET(ulogishub) : https://www.ulogishub.com\\\\n1\\\\n가. 신고 업무 흐름도\\\\n(담당자) 허가 7오류통보 (반려) 6\\\\n민원 신청 완료8입항신고2\\\\n신고 문서검토\\\\n및 저장4\\\\n(담당자) 민원 신고문서 확인\\\\n(수리/반려)5민원인 신고 프로그램\\\\n접속1\\\\n3항만시설사용허가신청서\\\\n(선석신청)\\\\n26 • PORT-MIS 27\\\\nwww.portmis.go.kr\",\\n  \"data_format\": \"Question/Answer\",\\n  \"pairs\": [\\n    {\\n      \"question\": \"항만시설사용허가신청서를 왜 신고해야 하나요?\",\\n      \"answer\": \"- 선박 입항시 일정기간 부두시설을 사용하기 위해\"\\n    },\\n    {\\n      \"question\": \"항만시설사용허가신청서에 어떤 내용을 포함해야 하나요?\",\\n      \"answer\": \"- 사용 시설코드, 사용목적, 사용기간, 양하·적하 화물 내용 등\"\\n    },\\n    {\\n      \"question\": \"항만시설사용허가신청서 신고의 근거는 무엇인가요?\",\\n      \"answer\": \"- 신고항만법 제30조, 항만법 시행령 제26조, 무역항 등의 항만시설 사용 및 사용료에 관한 규정 제3조\"\\n    },\\n    {\\n      \"question\": \"항만시설사용허가신청서 신고 후 어떤 절차를 거치나요?\",\\n      \"answer\": \"- 신고 문서검토 및 저장, 민원 신고 완료, 허가 처리 등의 절차를 거칩니다.\"\\n    },\\n    {\\n      \"question\": \"항만시설사용허가신청서를 수정하여 재신고해야 하는 경우는 언제인가요?\",\\n      \"answer\": \"- 민원인이 반려 내용을 확인 후 수정이 필요한 경우\"\\n    },\\n    {\\n      \"question\": \"항만시설사용허가신청서 신고를 완료한 후에는 어떤 처리가 이루어지나요?\",\\n      \"answer\": \"- 담당자의 허가 처리가 이루어집니다.\"\\n    },\\n    {\\n      \"question\": \"항만시설사용허가신청서 신고문서를 확인하는 업무담당자의 역할은 무엇인가요?\",\\n      \"answer\": \"- 민원 신청 문서를 심사하여 허가 또는 반려 처리를 합니다.\"\\n    },\\n    {\\n      \"question\": \"항만시설사용허가신청서 신고 프로그램에 접속하는 방법은 무엇인가요?\",\\n      \"answer\": \"- 해양수산부(포트미스), KL-NET(프리즘 3.0), KTNET(ulogishub) 등의 사이트를 통해 접속할 수 있습니다.\"\\n    },\\n    {\\n      \"question\": \"항만시설사용허가신청서 신고 업무 흐름도에는 어떤 단계가 포함되어 있나요?\",\\n      \"answer\": \"- 허가, 오류통보, 민원 신청 완료, 입항신고, 문서검토 및 저장, 민원 신고문서 확인, 신고 프로그램 접속 등의 단계가 포함됩니다.\"\\n    },\\n    {\\n      \"question\": \"항만시설사용허가신청서 신고 후 반려 처리되는 경우 민원인이 할 수 있는 일은 무엇인가요?\",\\n      \"answer\": \"- 반려 내용을 확인하고 수정하여 재신고할 수 있습니다.\"\\n    }\\n  ]\\n}', response_metadata={'token_usage': {'completion_tokens': 1868, 'prompt_tokens': 3018, 'total_tokens': 4886}, 'model_name': 'gpt-3.5-turbo', 'system_fingerprint': None, 'finish_reason': 'stop', 'logprobs': None}, id='run-fc3684fa-fbd6-4632-aee6-47d8422ca16e-0'), AIMessage(content='{\\n    \"data_format\": \"Question/Answer\",\\n    \"questions_answers\": [\\n        {\\n            \"question\": \"항만시설사용료 면제를 받기 위해 어떤 절차를 거쳐야 하나요?\",\\n            \"answer\": \"항만시설사용료 면제를 받기 위해서는 신고 및 확인(허가) 절차를 거쳐야 합니다.\"\\n        },\\n        {\\n            \"question\": \"항만시설사용료 면제를 받기 위해 필요한 증빙서류는 무엇인가요?\",\\n            \"answer\": \"항만시설사용료 면제를 받기 위해 필요한 증빙서류는 면제 사유에 따라 다르며, 해당 사유에 맞는 증빙서류를 제출해야 합니다.\"\\n        },\\n        {\\n            \"question\": \"항만시설사용료 면제를 신청한 후 반려되었을 때 어떻게 해야 하나요?\",\\n            \"answer\": \"항만시설사용료 면제를 신청한 후 반려되었을 때는 반려 사유를 확인하고, 그에 맞게 신고서를 수정하여 재신고해야 합니다.\"\\n        },\\n        {\\n            \"question\": \"항만시설사용료 면제를 받기 위해 어떤 사유를 선택해야 하나요?\",\\n            \"answer\": \"항만시설사용료 면제를 받기 위해 사유를 선택할 때, \\'접안시설 부족\\'과 같은 적절한 사유를 선택해야 합니다.\"\\n        },\\n        {\\n            \"question\": \"항만시설사용료 면제신청을 위해 필요한 정보는 무엇인가요?\",\\n            \"answer\": \"항만시설사용료 면제신청을 위해 필요한 정보는 지정기간, 지정시설, 사용목적 및 면제 사유 등을 신청해야 합니다.\"\\n        },\\n        {\\n            \"question\": \"항만시설사용료 면제신청을 위한 프로그램은 어디에서 접속할 수 있나요?\",\\n            \"answer\": \"항만시설사용료 면제신청을 위한 프로그램은 해양수산부(포트미스), KL-NET(프리즘 3.0), KTNET(ulogishub) 등에서 접속할 수 있습니다.\"\\n        },\\n        {\\n            \"question\": \"항만시설사용료 면제신청을 완료한 후 어떤 절차를 거쳐야 하나요?\",\\n            \"answer\": \"항만시설사용료 면제신청을 완료한 후에는 민원 신고서를 확인하고, 승인 또는 반려 처리를 받아야 합니다.\"\\n        },\\n        {\\n            \"question\": \"항만시설사용료 면제신청을 위해 필요한 첨부서류는 무엇인가요?\",\\n            \"answer\": \"항만시설사용료 면제신청을 위해 필요한 첨부서류는 각 면제코드에 맞는 증빙서류를 제출해야 합니다.\"\\n        },\\n        {\\n            \"question\": \"항만시설사용료 면제를 받기 위해 어떤 법령을 근거로 해야 하나요?\",\\n            \"answer\": \"항만시설사용료 면제를 받기 위해는 항만법 제42조 1항, 제45조, 무역항 등의 항만시설 사용 및 사용료에 관한 규정 제9조 1항을 근거로 해야 합니다.\"\\n        },\\n        {\\n            \"question\": \"항만시설사용료 면제신청을 위한 업무 흐름도를 설명해주세요.\",\\n            \"answer\": \"항만시설사용료 면제신청을 위한 업무 흐름도는 민원 신고서에 오류가 있는 경우 오류내용을 입력하고, 반려 처리 후 민원인이 수정하여 재신고해야 합니다.\"\\n        }\\n    ]\\n}', response_metadata={'token_usage': {'completion_tokens': 1136, 'prompt_tokens': 3249, 'total_tokens': 4385}, 'model_name': 'gpt-3.5-turbo', 'system_fingerprint': None, 'finish_reason': 'stop', 'logprobs': None}, id='run-221f8107-bfee-462a-b8bd-299e685db22a-0'), AIMessage(content='{\\n    \"context\": \"▶ 위험물 반입신고 / 위험물일람표 신고\\\\n-  위험물을 무역항의 수상구역등으로 반입시 반입 24시간 전에 신고\\\\n-  다만, 위험물을 육상으로 반입하는 경우에는 무역항의 육상구역으로 위험물을 들여오기 전까지, 전(前) 출항지로부터 \\\\n반입 항까지의 운항 시간이 24시간 이내이고, 해상으로 위험물을 반입하는 경우에는 무역항의 수상구역등으로 위험\\\\n물을 들여오기 전까지 신고선박입출항법 제32조1항, 시행규칙 제14조 1항근거\\\\n법령\\\\n(담당자) 수리 •  업무담당자: 민원 신고문서 심사후 이상이 없으면 수리\\\\n처리7신고 문서검토 \\\\n및 저장• 신고내역 확인 및 저장\\\\n• 담당자 반려시 반려에 대한 내용 확인 후 재신고4\\\\n수리7\\\\n민원 신고\\\\n완료8 • 위험물 반입신고 / 위험물 일람표 신고 완료입항신고 • 선박 입항 전까지 입항 예정정보를 신고(최초) 2\\\\n위험물 신고•  선박에 싣고있는 위험물질 품목 및 중량, 위험물질 등급, \\\\n하역장소 등을 신고\\\\n• 위험물 반입신고서, 위험물 일람표 신고3\\\\n오류통보 (반려) 6•  업무담당자 : 민원 신고서에 오류가 있는 경우 오류내용 \\\\n입력 후 (반려)처리\\\\n•  민원인 : 반려 내용 확인 후 신고서를 수정하여 재신고\\\\n(담당자) 민원 \\\\n신고문서 확인\\\\n(수리/반려)•  업무담당자는 민원 신고 문서 심사 후 수리 or 오류\\\\n통보(반려)처리\\\\n•  반려시에는 민원인이 반려 내용을 확인할 수 있도록 \\\\n반려 사유를 입력58 위험물 반입신고 / 위험물일람표 신고\\\\n가. 신고 업무 흐름도나. 신고 업무 흐름도 설명\\\\n신고 프로그램 \\\\n접속• 해양수산부(포트미스) : www.portmis.go.kr\\\\n     PORT-MIS신고 → 위험물 → 위험물 반입신고/\\\\n  위험물 일람표 신고\\\\n• KL-NET(프리즘 3.0) : https://www.plism.com\\\\n• KTNET(ulogishub) : https://www.ulogishub.com  \\\\n1\\\\n(담당자) 민원 신고문서 확인\\\\n(수리/반려)5\\\\n민원 신고 완료8 (담당자) 수리 7오류통보 (반려) 6입항신고2 위험물신고3\\\\n신고 문서검토\\\\n및 저장4민원인\\\\n신고 프로그램 \\\\n접속1\\\\n30 • PORT-MIS 31\\\\nwww.portmis.go.kr\",\\n    \"data_format\": \"Question/Answer\",\\n    \"number_of_pairs\": 10\\n}', response_metadata={'token_usage': {'completion_tokens': 1062, 'prompt_tokens': 3231, 'total_tokens': 4293}, 'model_name': 'gpt-3.5-turbo', 'system_fingerprint': None, 'finish_reason': 'stop', 'logprobs': None}, id='run-22ff508f-d89e-4b40-8414-f430a4c951a3-0'), AIMessage(content='{\\n    \"data_format\": \"Question/Answer\",\\n    \"questions_answers\": [\\n        {\\n            \"question\": \"통합화물신고란 무엇인가요?\",\\n            \"answer\": \"선박에 실은 모든 화물에 관한 정보를 B/L 번호 단위로 신고하는 것입니다.\"\\n        },\\n        {\\n            \"question\": \"외항 입항(출항)신고(최종)은 언제 이루어지나요?\",\\n            \"answer\": \"선박이 항내 입항 직전 또는 직후에 최종 신고됩니다.\"\\n        },\\n        {\\n            \"question\": \"항만시설사용신고는 어떤 기준으로 계산되나요?\",\\n            \"answer\": \"통합화물신고를 바탕으로 하역구분별 운임톤/컨테이너 규격별 개수 등을 종합하여 처리한 화물에 대한 운임 요금을 계산하여 신고됩니다.\"\\n        },\\n        {\\n            \"question\": \"외항 입항(출항)신고(최초)는 언제 이루어지나요?\",\\n            \"answer\": \"선박 입,출항 24시간 전까지 입,출항 예정정보를 신고합니다.\"\\n        },\\n        {\\n            \"question\": \"통합화물신고에서 적하목록이란 무엇을 의미하나요?\",\\n            \"answer\": \"선사가 Master B/L의 내역을 작성하는 것을 말합니다.\"\\n        },\\n        {\\n            \"question\": \"민원 신고 완료 후 무엇이 이루어지나요?\",\\n            \"answer\": \"민원 신고문서 확인 후 이상이 없으면 수리처리가 이루어집니다.\"\\n        },\\n        {\\n            \"question\": \"입항신고는 언제 이루어지나요?\",\\n            \"answer\": \"선박 입,출항 직전 또는 직후에 신고됩니다.\"\\n        },\\n        {\\n            \"question\": \"통합화물신고를 어디서 신고할 수 있나요?\",\\n            \"answer\": \"PORT-MIS나 KL-NET, KTNET 등에서 신고할 수 있습니다.\"\\n        },\\n        {\\n            \"question\": \"항만시설사용신고에서 사용료는 어떻게 결정되나요?\",\\n            \"answer\": \"하역구분, 운임톤/개수, 할인(면제)사유 등을 고려하여 결정됩니다.\"\\n        },\\n        {\\n            \"question\": \"외항 입항(출항)신고(최종)은 어떤 시점에 이루어지나요?\",\\n            \"answer\": \"선박이 항내 입항 직전 또는 직후에 최종 신고됩니다.\"\\n        }\\n    ]\\n}', response_metadata={'token_usage': {'completion_tokens': 776, 'prompt_tokens': 3870, 'total_tokens': 4646}, 'model_name': 'gpt-3.5-turbo', 'system_fingerprint': None, 'finish_reason': 'stop', 'logprobs': None}, id='run-b4ae5533-7c63-4f82-8625-fe342a96c9b0-0'), AIMessage(content='{\\n    \"questions\": [\\n        \"화물료대납경비청구 신청 시 수수료는 언제 청구되나요?\",\\n        \"화물료 대납경비 허가 시 어떤 조건을 충족해야 하나요?\",\\n        \"화물료대납경비청구를 위해 필요한 정보는 무엇인가요?\",\\n        \"화물료대납경비 지급은 언제 이루어지나요?\",\\n        \"화물료대납경비 청구 신청은 어떻게 진행되나요?\",\\n        \"화물료대납경비를 청구하는 프로그램은 어디에서 접속할 수 있나요?\",\\n        \"화물료대납경비 청구 시 선사 또는 대리점이 해야 할 작업은 무엇인가요?\",\\n        \"화물료대납경비 청구 시 반려되었을 때 민원인이 확인할 수 있는 방법은 무엇인가요?\",\\n        \"화물료대납경비 청구 시 대납월 이후 익월 몇 일에 청구되나요?\",\\n        \"화물료대납경비 청구 시 사용료는 언제 납부되나요?\"\\n    ],\\n    \"answers\": [\\n        \"해당 화물료 고지금액을 당월에 수납한 경우, 익월에 청구됩니다.\",\\n        \"BL_NO 건별 복수화주 조건을 충족해야 합니다.\",\\n        \"은행, 계좌번호, 예금주, 통장사본 등의 정보가 필요합니다.\",\\n        \"대납 월 이후 익월 말일에 지급됩니다.\",\\n        \"PORT-MIS신고 → 화물 → 민원신고 → 화물료대납경비청구에서 진행됩니다.\",\\n        \"해양수산부(포트미스), KL-NET(프리즘 3.0), KTNET(ulogishub)에서 접속할 수 있습니다.\",\\n        \"고지서 수령, 신고 문서검토 및 저장 등의 작업을 해야 합니다.\",\\n        \"반려 내용을 확인할 수 있도록 반려 사유를 입력하여 확인할 수 있습니다.\",\\n        \"대납월 이후 익월 20일에 청구됩니다.\",\\n        \"선사 또는 대리점이 사용료를 납부해야 합니다.\"\\n    ]\\n}', response_metadata={'token_usage': {'completion_tokens': 697, 'prompt_tokens': 3882, 'total_tokens': 4579}, 'model_name': 'gpt-3.5-turbo', 'system_fingerprint': None, 'finish_reason': 'stop', 'logprobs': None}, id='run-106fdb06-48ca-469f-ba0a-9df370b9a2fe-0'), AIMessage(content='{\\n    \"questions\": [\\n        \"국가관리 연안항이란 무엇인가?\",\\n        \"국가관리 연안항은 어떤 목적을 가지고 있는가?\",\\n        \"국가관리 연안항으로 지정된 곳에 무역항 외 어떤 항이 있는가?\",\\n        \"국가관리 연안항에서 입출항시 어떤 절차를 거쳐야 하는가?\",\\n        \"국가관리 연안항 신고를 위해 어떤 내용을 신고해야 하는가?\",\\n        \"국가관리 연안항 화물료 신고는 어떤 기준을 바탕으로 이루어지는가?\",\\n        \"국가관리 연안항 신고 및 연안항 화물료 신고를 완료하기 위해 어떤 절차를 거쳐야 하는가?\",\\n        \"국가관리 연안항 신고 및 연안항 화물료 신고 업무 흐름도를 설명하시오.\",\\n        \"국가관리 연안항 신고 및 연안항 화물료 신고 업무를 담당하는 업무담당자는 어떤 역할을 수행하는가?\",\\n        \"국가관리 연안항 신고 및 연안항 화물료 신고 업무 중 오류가 발생했을 때의 처리과정을 설명하시오.\"\\n    ],\\n    \"answers\": [\\n        \"국가관리 연안항은 국가안보 또는 영해관리에 중요하거나 기상악화 등 유사시 선박의 대피를 주목적으로 하는 항만이다.\",\\n        \"국가관리 연안항은 국가안보 또는 영해관리에 중요하거나 기상악화 등 유사시 선박의 대피를 주목적으로 가지고 있다.\",\\n        \"국가관리 연안항으로 지정된 곳에는 용기포, 연평도, 흑산도, 거문도, 국도 등이 있다.\",\\n        \"국가관리 연안항에서 입출항시에는 관할항만 관리청 대상 항만으로 신고해야 한다.\",\\n        \"국가관리 연안항 신고를 위해 입항정보, 출항정보, 항만시설 사용신청을 한번에 신고해야 한다.\",\\n        \"국가관리 연안항 화물료 신고는 연안항신고를 바탕으로 하역구분, 운임톤/개수, 할인(면제) 사유, 사용료등을 신고해야 한다.\",\\n        \"국가관리 연안항 신고 및 연안항 화물료 신고를 완료하기 위해는 민원 신청 후 오류통보를 거쳐 승인을 받아야 한다.\",\\n        \"국가관리 연안항 신고 및 연안항 화물료 신고 업무 흐름도는 민원 신고문서 확인, 승인/반려, 수리 등의 과정을 포함한다.\",\\n        \"국가관리 연안항 신고 및 연안항 화물료 신고 업무를 담당하는 업무담당자는 민원 신고문서 심사 후 수리 or 오류통보 처리를 담당한다.\",\\n        \"국가관리 연안항 신고 및 연안항 화물료 신고 업무 중 오류가 발생했을 때에는 오류내용을 입력하고 반려 처리 후 재신고해야 한다.\"\\n    ]\\n}', response_metadata={'token_usage': {'completion_tokens': 1109, 'prompt_tokens': 3879, 'total_tokens': 4988}, 'model_name': 'gpt-3.5-turbo', 'system_fingerprint': None, 'finish_reason': 'stop', 'logprobs': None}, id='run-f7d68260-b431-4ce3-8cc4-c79e69de2b31-0'), AIMessage(content='{\\n    \"questions\": [\\n        \"서북도서출항신고란 무엇을 말하나요?\",\\n        \"서북도서출항신고를 하기 위해 필요한 첨부서류는 무엇인가요?\",\\n        \"서북도서출항신고를 완료하기 위해 필요한 절차는 무엇인가요?\",\\n        \"서북도서출항신고를 반려당했을 때 어떤 절차를 거쳐야 하나요?\",\\n        \"서북도서출항신고를 재신고하기 위해 어떤 절차를 따라야 하나요?\",\\n        \"서북도서출항신고를 완료한 후에 오류통보를 받았을 때 어떻게 해야 하나요?\",\\n        \"서북도서출항신고를 신고한 후에 신고내역을 확인하려면 어떻게 해야 하나요?\",\\n        \"서북도서출항신고를 신고한 후에 반려된 경우 반려 사유를 확인하고 재신고하기 위해 어떤 절차를 따라야 하나요?\",\\n        \"서북도서출항신고를 신고한 후에 오류가 있는 경우 어떻게 처리해야 하나요?\",\\n        \"서북도서출항신고를 신고한 후에 신고서를 수정하여 재신고하기 위해 어떤 절차를 따라야 하나요?\"\\n    ],\\n    \"answers\": [\\n        \"서북도서출항신고는 백령도, 대청도, 소청도, 연평도, 소연평도 등 북방한계선에 인접한 도서에 입출항시 신고하는 것을 말합니다.\",\\n        \"서북도서출항신고를 하기 위해 선원명부, 선박검사증서, 선박국적증서가 필요합니다.\",\\n        \"서북도서출항신고를 완료하기 위해는 민원 신고서를 제출하고, 신고문서를 확인한 후 수리 처리를 해야합니다.\",\\n        \"서북도서출항신고를 반려당했을 때는 반려 사유를 확인하고, 수정하여 재신고해야 합니다.\",\\n        \"서북도서출항신고를 재신고하기 위해는 오류내용을 확인하고 수정하여 재신고해야 합니다.\",\\n        \"서북도서출항신고를 완료한 후에 오류통보를 받았을 때는 오류내용을 확인하고 수정하여 재신고해야 합니다.\",\\n        \"서북도서출항신고를 신고한 후에 신고내역을 확인하려면 PORT-MIS에 접속하여 확인해야 합니다.\",\\n        \"서북도서출항신고를 신고한 후에 반려된 경우 반려 사유를 확인하고 재신고하기 위해 민원 신고서를 수정하여 재신고해야 합니다.\",\\n        \"서북도서출항신고를 신고한 후에 오류가 있는 경우 오류내용을 입력하고 수정하여 재신고해야 합니다.\",\\n        \"서북도서출항신고를 신고한 후에 신고서를 수정하여 재신고하기 위해 오류내용을 확인하고 수정하여 재신고해야 합니다.\"\\n    ]\\n}', response_metadata={'token_usage': {'completion_tokens': 937, 'prompt_tokens': 2427, 'total_tokens': 3364}, 'model_name': 'gpt-3.5-turbo', 'system_fingerprint': None, 'finish_reason': 'stop', 'logprobs': None}, id='run-9adb4adb-2bcd-4a46-bba9-1ff08e7d4489-0'), AIMessage(content='{\\n  \"context\": \"▶ 월정료선박 사용신청\\\\n-  기타선박으로 분류되는 150톤 미만 선박(화물선ㆍ유조선 또는 기타선, 항내운항선, 연안여객선 등)이 일정기간(월, 년), 항만시설사용료(접안료,정박료)를 일시 선납 신청시 신고\\\\n-  월정료 1년 선납시 사용료 10%할인무역항 등의 항만시설 사용 및 사용료에 관한 규정 제7조 및 제8조 관련근거\\\\n법령\\\\n(담당자) 민원 신고문서 확인\\\\n(수리/반려)4 (담당자) 허가 6오류통보 (반려) 5신고 문서검토 \\\\n및 저장3 포트미스 접속1월정료선박\\\\n사용신청2•  업무담당자: 민원 신고서에 오류가 있는 경우 오류내용 \\\\n입력 후 (반려)처리\\\\n•  민원인 : 반려 내용 확인 후 신고서를 수정하여 재신고포트미스 접속• 해양수산부(포트미스) : www.portmis.go.kr\\\\n    PORT-MIS신고 → 항만시설 → 월정료 선박 사용신청\\\\n1\\\\n월정료선박\\\\n사용료신청• 시설 사용기간 입력\\\\n• 시설사용 업체정보 입력2\\\\n(담당자) 허가  • 업무담당자: 민원 신고문서 심사 후 이상이 없으면 수리처리 6\\\\n민원 신청\\\\n완료7 • 월정료선박사용신청 완료신고 문서검토 \\\\n및 저장• 신고내역 확인 및 저장\\\\n• 담당자 반려시 반려에 대한 내용 확인 후 재신고3\\\\n수리6(담당자) 민원 \\\\n신고문서 확인\\\\n(수리/반려)•  업무담당자는 민원 신고 문서 심사 후 수리 or 오류통보\\\\n(반려)처리\\\\n•  반려시에는 민원인이 반려 내용을 확인할 수 있도록 반려 \\\\n사유를 입력4오류통보 (반려) 5가. 신고 업무 흐름도나. 신고 업무 흐름도 설명\\\\n민원 신고 완료7Ⅲ 월정료선박사용신청\\\\n민원인\\\\n40 • PORT-MIS 41\\\\nwww.portmis.go.kr\",\\n  \"data_format\": \"Question/Answer\",\\n  \"pairs\": [\\n    {\\n      \"question\": \"월정료선박 사용신청을 하려면 어디로 접속해야 하나요?\",\\n      \"answer\": \"해양수산부(포트미스)의 www.portmis.go.kr에 접속해야 합니다.\"\\n    },\\n    {\\n      \"question\": \"월정료선박 사용신청을 완료하면 어떤 작업을 해야 하나요?\",\\n      \"answer\": \"신고 내역을 확인하고 저장해야 합니다.\"\\n    },\\n    {\\n      \"question\": \"월정료선박 사용신청을 완료한 후에 반려되면 어떻게 해야 하나요?\",\\n      \"answer\": \"반려에 대한 내용을 확인한 후 재신고해야 합니다.\"\\n    },\\n    {\\n      \"question\": \"월정료선박 사용신청을 완료한 후에 오류가 발견되면 어떻게 해야 하나요?\",\\n      \"answer\": \"오류내용을 입력하고 수리처리해야 합니다.\"\\n    },\\n    {\\n      \"question\": \"월정료선박 사용신청을 완료한 후에 신고문서를 검토하고 저장해야 하는데, 이 작업은 누가 해야 하나요?\",\\n      \"answer\": \"담당자가 신고문서를 검토하고 저장해야 합니다.\"\\n    },\\n    {\\n      \"question\": \"월정료선박 사용신청을 완료한 후에 민원 신고문서를 확인하고 처리하는 업무를 담당하는 사람은 누구인가요?\",\\n      \"answer\": \"업무담당자가 민원 신고문서를 확인하고 처리해야 합니다.\"\\n    },\\n    {\\n      \"question\": \"월정료선박 사용신청을 완료한 후에 민원 신고문서가 반려되면 어떻게 해야 하나요?\",\\n      \"answer\": \"반려 내용을 확인한 후 수정하여 재신고해야 합니다.\"\\n    },\\n    {\\n      \"question\": \"월정료선박 사용신청을 완료한 후에 민원 신고문서가 수리되어야 하는 경우, 누가 이 작업을 수행하나요?\",\\n      \"answer\": \"업무담당자가 민원 신고문서를 수리해야 합니다.\"\\n    },\\n    {\\n      \"question\": \"월정료선박 사용신청을 완료한 후에 민원 신고문서가 오류통보되면 어떻게 해야 하나요?\",\\n      \"answer\": \"오류통보를 확인한 후 수정하여 재신고해야 합니다.\"\\n    },\\n    {\\n      \"question\": \"월정료선박 사용신청을 완료한 후에 민원 신고문서가 허가되면 어떤 작업을 해야 하나요?\",\\n      \"answer\": \"신고문서를 심사한 후 이상이 없으면 수리처리해야 합니다.\"\\n    }\\n  ]\\n}', response_metadata={'token_usage': {'completion_tokens': 1629, 'prompt_tokens': 2499, 'total_tokens': 4128}, 'model_name': 'gpt-3.5-turbo', 'system_fingerprint': None, 'finish_reason': 'stop', 'logprobs': None}, id='run-dada0f93-9531-4c16-bb7e-0a5a5bb5ee87-0'), AIMessage(content='{\\n  \"context\": \"▶ 선박수리신고 신청\\\\n-  위험물 운송선박을 제외한 총톤수 20톤 이상 선박이 선박 내 위험구역 이외의 장소를 수리하는 경우 신청\\\\n▶ 선박수리허가 신청\\\\n-  용접(발열)작업시 폭발위험이 있는 위험물 운반선(톤수 제한 없음) 그외 선박(총톤수 20톤이상)은 선박내 위험구역에서 \\\\n작업할 경우 신청선박입출항법 제37조, 시행규칙 제21조근거\\\\n법령\\\\n첨부서류 제출 오류통보 (반려) 5신고 문서검토 \\\\n및 저장4 포트미스 접속1선박수리\\\\n신고 신청2선박수리\\\\n허가 신청3or포트미스 접속• 해양수산부(포트미스) : www.portmis.go.kr\\\\n    PORT-MIS신고 → 선박운항 → 선박수리신고신청\\\\n    PORT-MIS신고 → 선박운항 → 선박수리허가신청\\\\n1\\\\n(담당자) 허가 •  업무담당자: 민원 신고문서 심사후 이상이 없으면 \\\\n허가\\\\x81수리 처리6\\\\n민원 신청\\\\n완료7첨부서류 제출\\\\n•  작업계획서(취급장비 \\\\n명세포함)\\\\n•  작업자의 자격증 사본 \\\\n1부신고 문서검토 \\\\n및 저장• 신고내역 확인 및 저장\\\\n• 담당자 반려시 반려에 대한 내용 확인 후 재신고3\\\\n허가\\\\x81수리6•  업무담당자: 민원 신청내용에 오류가 있는 경우 오류내용 \\\\n입력 후 (오류)처리\\\\n•  민원인: 오류 내용 확인 후 신청정보를 수정하여 재신고선박수리신고 \\\\n신청\\\\n선박수리허가 \\\\n신청•   선박정보, 수리범위, 수리방법, 수리기간, 수리장소 등 \\\\n입력\\\\n•   작업 계획서 및 작업자의 자격증 사본등 제출\\\\n•  선박정보, 수리범위, 수리방법, 수리기간, 수리장소 등 입력\\\\n•  작업 계획서 및 작업자의 자격증 사본등 제출2\\\\n2\\\\n• 선박수리신고 신청 완료\\\\n• 선박수리허가 신청 완료오류통보 (반려) 5\\\\n(담당자) 민원 \\\\n신고문서 확인\\\\n(허가/반려)•  업무담당자는 민원 신고 문서 심사 후 허가\\\\x81수리 or 오류\\\\n통보(반려)처리\\\\n•  반려시에는 민원인이 반려 내용을 확인할 수 있도록 반려 \\\\n사유를 입력4가. 신고 업무 흐름도나. 신고 업무 흐름도 설명\\\\n민원 신고 완료7 (담당자) 허가 6 (담당자) 민원 신고문서 확인\\\\n(허가/반려)4Ⅳ 선박수리신고 신청 / 선박수리허가 신청\\\\n민원인\\\\n42 • PORT-MIS 43\\\\nwww.portmis.go.kr\",\\n  \"data_format\": \"Question/Answer\",\\n  \"number_of_pairs\": 10\\n}', response_metadata={'token_usage': {'completion_tokens': 1130, 'prompt_tokens': 3435, 'total_tokens': 4565}, 'model_name': 'gpt-3.5-turbo', 'system_fingerprint': None, 'finish_reason': 'stop', 'logprobs': None}, id='run-f3dd7872-0ed0-40b0-a86f-63b2ccb167d4-0'), AIMessage(content='{\\n    \"data_format\": \"Question/Answer\",\\n    \"context\": \"▶ 상계/환급 신청 \\\\n-  상계 및 환급신청은 과오납이 발생한 수납금액에 대한 신청.\\\\n-  상계 신청은 주로 지방해양수산청에서 사용을 하며,국고 환급은 불가능한 경우가 많음. 단, 피치 못한 사정일 경우에\\\\n는 환급도 가능함.\\\\n-  환급 신청은  항만공사를 통해서 신청이  많이 하며, 특히 부산항만공사는 포트미스에 신청된 기준을 가지고 환급진\\\\n행을 하므로 신청에 유의(단, 환급신청시  관련 서류 는  한번 신청한 것에 대해 개인정보 보호법에 의거 수정이 불가\\\\n능 하며, 수정이 필요한 경우는 업무담당자를 통해서만 가능)사용료 규정근거\\\\n법령Ⅴ 상계/환급 신청\\\\n과오납 \\\\n상계처리4포트미스 접속1 상계 신청2업무담당자\\\\n과오납 등록3가. 상계신청 업무 흐름도\\\\n민원인\\\\n과오납 \\\\n상계통보5\\\\n나. 환급지급신청 업무 흐름도\\\\n업무담당자\\\\n과오납신청서 확인4업무담당자\\\\n과오납 신청서 결재5내부시스템 통한\\\\n지출6환급 신청\\\\n및 첨부서류 제출\\\\n(FAX, E-MAIL)4환급대상 등록1 민원인2 업무담당자\\\\n 포트미스 접속3포트미스 접속• 해양수산부(포트미스) : www.portmis.go.kr\\\\n•  PORT-MIS 신고 → 조회/발급/사용료 → 사용료 → \\\\n상계/환급신청\\\\n1\\\\n포트미스 접속• 해양수산부(포트미스) : www.portmis.go.kr\\\\n•  PORT-MIS행정 → 사용료/징수 → 과오납관리 → \\\\n환급신청수리\\\\n• 업무담당자는 환급할 대상건에 대해 등록 처리\\\\n1과오납 \\\\n상계 등록•  업무담당자는 신청한 과오납 건에 대해 상계 등록\\\\n•  PORT-MIS행정 → 사용료/징수 → 과오납관리 →  \\\\n과오납등록3\\\\n과오납신청서\\\\n확인•  업무담당자는 민원인이 신청한 환급신청에 관한 서류를 \\\\n확인\\\\n•  업무담당자는 민원인이 상계/환급신청 메뉴를 통한 환급\\\\n계좌 확인    4과오납 \\\\n상계통보•  업무담당자는 민원인에게 해당건에 대한 상계처리 완료\\\\n되었다고 통보5\\\\n내부시스템 \\\\n통한 지출•  업무담당자는 세입시스템을 통해서 민원인에게 환급  \\\\n계좌를 통해 지출 처리6다. 신고 업무 흐름도 \\\\n설명(상계)\\\\n라. 신고 업무 흐름도 \\\\n설명(환급)상 계 / 환 급 신 청            •  민원인이 해당 메뉴를 통해 상계 신청\\\\n•  PORT-MIS 신고 → 조회/발급/사용료 → 사용료 → \\\\n상계/환급신청2\\\\n상 계 / 환 급 신 청            •  민원인이 해당 메뉴를 통해 상계 신청\\\\n•  PORT-MIS 신고 → 조회/발급/사용료 → 사용료 → \\\\n상계/환급신청  2과오납 \\\\n상계 처리       •  민원인이 해당 메뉴를 통해 상계 신청\\\\n•  PORT-MIS 신고 → 조회/발급/사용료 → 사용료 → \\\\n상계/환급신청4\\\\n과오납신청서 \\\\n결재•  업무담당자는 과오납신청서에 대해서 내부 결재 처리 5•  민원인이 통장사본을 기관(지방해\\\\n양수산청 또는 항만공사)에 제출첨부서류 제출3\\\\n44 • PORT-MIS 45\\\\nwww.portmis.go.kr\",\\n    \"number_of_pairs\": 10\\n}', response_metadata={'token_usage': {'completion_tokens': 1410, 'prompt_tokens': 4275, 'total_tokens': 5685}, 'model_name': 'gpt-3.5-turbo', 'system_fingerprint': None, 'finish_reason': 'stop', 'logprobs': None}, id='run-ab685c3e-a3cf-4f54-9954-52537f7317d2-0'), AIMessage(content='1. 질문: 어떤 나라가 해운산업에서 리더국가로 발전하고자 하는 목표를 가지고 있습니까?\\n답변: 대한민국\\n\\n2. 질문: 어떤 방식으로 해운강국 건설을 추구하고 있는가?\\n답변: 해운, 조선 상생을 통한\\n\\n3. 질문: 미래를 함께하는 데 중요한 역할을 하는 것은 무엇입니까?\\n답변: 고객과\\n\\n4. 질문: 어떤 방향으로 세계 해운산업 리더국가로 발전하고자 하는가?\\n답변: 우리나라 항만을 글로벌 물류 중심지로\\n\\n5. 질문: 어떤 방식으로 해운산업을 발전시키고자 하는가?\\n답변: 상생을 통한\\n\\n6. 질문: 어떤 목표를 실현하기 위해 노력하고 있는가?\\n답변: 해운강국 건설\\n\\n7. 질문: 어떤 방식으로 미래를 준비하고 있는가?\\n답변: 함께하는\\n\\n8. 질문: 어떤 나라가 세계 해운산업 리더국가로 발전하고자 하는 목표를 가지고 있습니까?\\n답변: 우리나라\\n\\n9. 질문: 어떤 역할을 통해 글로벌 물류 중심지로 발전하고자 하는가?\\n답변: 항만\\n\\n10. 질문: 어떤 방식으로 해운산업을 발전시키고자 하는가?\\n답변: 해운업', response_metadata={'token_usage': {'completion_tokens': 510, 'prompt_tokens': 558, 'total_tokens': 1068}, 'model_name': 'gpt-3.5-turbo', 'system_fingerprint': None, 'finish_reason': 'stop', 'logprobs': None}, id='run-65e88341-d8e8-4f2d-8724-0a98fded24c3-0')]\n"
          ]
        }
      ]
    },
    {
      "cell_type": "markdown",
      "source": [
        "##25_43"
      ],
      "metadata": {
        "id": "EmXCxoEbAqi_"
      }
    },
    {
      "cell_type": "code",
      "source": [
        "from langchain.document_loaders import PyPDFLoader\n",
        "from langchain.embeddings.openai import OpenAIEmbeddings\n",
        "from langchain.vectorstores import Chroma\n",
        "\n",
        "\n",
        "# PDF 파일 로드\n",
        "loader = PyPDFLoader(\"/content/25_43(2024)포트미스+가이드북 (2).pdf\")\n",
        "document = loader.load()\n",
        "\n",
        "from langchain.text_splitter import CharacterTextSplitter\n",
        "\n",
        "text_splitter = CharacterTextSplitter(chunk_size=1000, chunk_overlap=50)\n",
        "texts = text_splitter.split_documents(document)\n",
        "\n",
        "\n",
        "# 임베딩\n",
        "embeddings = OpenAIEmbeddings()\n",
        "# Chroma DB 에 저장\n",
        "docsearch = Chroma.from_documents(texts, embeddings)\n",
        "# retriever 가져옴\n",
        "retriever = docsearch.as_retriever()"
      ],
      "metadata": {
        "id": "ZB5qMvdHApMD"
      },
      "execution_count": null,
      "outputs": []
    },
    {
      "cell_type": "code",
      "source": [
        "from langchain_core.prompts import SystemMessagePromptTemplate\n",
        "from langchain_core.prompts import PromptTemplate\n",
        "import json\n",
        "\n",
        "# Prompt Template 정의\n",
        "prompt_template = ChatPromptTemplate(\n",
        "    input_variables=['context', 'data_format', 'number_of_pairs'],\n",
        "    messages=[\n",
        "        SystemMessagePromptTemplate(\n",
        "            prompt=PromptTemplate(\n",
        "                input_variables=['context', 'data_format', 'number_of_pairs'],\n",
        "                template='Generate the question and answer pairs.\\n'\n",
        "                         '1. The number of question/answer pairs you need ({number_of_pairs}).\\n'\n",
        "                         '2. The data format you want me to use ({data_format}).\\n'\n",
        "                         '3. The context for the questions and answers ({context}).'\n",
        "                         '4. Both questions and answers are printed in Korean.'\n",
        "            )\n",
        "        )\n",
        "    ]\n",
        ")\n",
        "\n",
        "llm = ChatOpenAI(model_name=\"gpt-3.5-turbo\", temperature=0)\n",
        "\n",
        "# RAG 프롬프트\n",
        "rag_prompt = ChatPromptTemplate(\n",
        "    input_variables=['context', 'question'],\n",
        "    messages=[\n",
        "        SystemMessagePromptTemplate(\n",
        "            prompt=PromptTemplate(\n",
        "                input_variables=['context', 'question'],\n",
        "                template='You are an assistant for question-answering tasks. you should be written in Korean. Use the following pieces of retrieved context to answer the question. If you don\\'t know the answer, just say that you don\\'t know. Use three sentences maximum and keep the answer concise.\\nQuestion: {question}\\nContext: {context}\\nAnswer:'\n",
        "            )\n",
        "        )\n",
        "    ]\n",
        ")\n",
        "\n",
        "# RAG 체인 생성\n",
        "rag_chain = (\n",
        "    {\"context\": RunnablePassthrough(), \"data_format\": RunnablePassthrough(), \"number_of_pairs\": RunnablePassthrough()}\n",
        "    | prompt_template\n",
        "    | llm\n",
        ")\n",
        "\n",
        "# QA 쌍 생성 및 출력\n",
        "qa_pair = []\n",
        "\n",
        "for doc in texts:\n",
        "    if isinstance(doc.page_content, str):\n",
        "        result = rag_chain.invoke(\n",
        "            {\"context\": doc.page_content, \"data_format\": \"Question/Answer\", \"number_of_pairs\": 10}\n",
        "        )\n",
        "        qa_pair.append(result)\n",
        "\n",
        "print(qa_pair)"
      ],
      "metadata": {
        "colab": {
          "base_uri": "https://localhost:8080/"
        },
        "id": "3-faVJPIA1Gv",
        "outputId": "84c90780-7ec4-4ee0-e10e-eeb3521788f9"
      },
      "execution_count": null,
      "outputs": [
        {
          "output_type": "stream",
          "name": "stdout",
          "text": [
            "[AIMessage(content='{\\n  \"data\": [\\n    {\\n      \"question\": \"PORT-MIS는 무엇을 의미하나요?\",\\n      \"answer\": \"Port Management Information System\"\\n    },\\n    {\\n      \"question\": \"PORT-MIS를 구축 및 운영하는 주체는 누구인가요?\",\\n      \"answer\": \"해양수산부장관\"\\n    },\\n    {\\n      \"question\": \"31개 무역항 중 국가에서 관리하는 무역항은 몇 개인가요?\",\\n      \"answer\": \"14개\"\\n    },\\n    {\\n      \"question\": \"지방에서 관리하는 무역항은 몇 개인가요?\",\\n      \"answer\": \"17개\"\\n    },\\n    {\\n      \"question\": \"PORT-MIS 시스템은 무엇을 위한 업무지원 시스템인가요?\",\\n      \"answer\": \"선박의 입출항, 항만이용 및 항만물류, 해운, 선원, 선박 등의 민원사무 처리 및 정보관리\"\\n    },\\n    {\\n      \"question\": \"국가에서 개발 및 관리하는 무역항 중 부산항을 관리하는 관청은 무엇인가요?\",\\n      \"answer\": \"부산청\"\\n    },\\n    {\\n      \"question\": \"지방에서 개발 및 관리하는 무역항 중 제주항을 관리하는 관청은 무엇인가요?\",\\n      \"answer\": \"제주\"\\n    },\\n    {\\n      \"question\": \"PORT-MIS 시스템은 어떤 종류의 정보를 관리하고 처리하는데 사용되나요?\",\\n      \"answer\": \"항만이용 및 항만물류와 관련된 정보관리, 선박의 정보관리, 민원사무 처리 등\"\\n    },\\n    {\\n      \"question\": \"PORT-MIS 시스템은 어떤 법률에 근거하여 구축 및 운영되나요?\",\\n      \"answer\": \"항만법 제26조, 선박입출항법 제50조\"\\n    },\\n    {\\n      \"question\": \"PORT-MIS 시스템은 어떤 목적으로 개발 및 가동 중인가요?\",\\n      \"answer\": \"선박 입출항 등 항만운영정보에 관한 종합적인 전산화 체계\"\\n    }\\n  ]\\n}', response_metadata={'token_usage': {'completion_tokens': 632, 'prompt_tokens': 2526, 'total_tokens': 3158}, 'model_name': 'gpt-3.5-turbo', 'system_fingerprint': None, 'finish_reason': 'stop', 'logprobs': None}, id='run-1235c1e8-d5d7-4581-8ff2-b7bb86534c47-0'), AIMessage(content='1. PORT-MIS 제공 민원서비스에 대한 주요 내용은 무엇인가요?\\n- 선박운항관리, 화물관리, 사용료관리, 물동량통계, 정보연계 등이 포함됩니다.\\n\\n2. PORT-MIS 이용을 위한 사용자격은 누구에게 부여되나요?\\n- 해양수산부장관 또는 중계망사업자에게 민원처리를 위한 사용자계정이 부여됩니다.\\n\\n3. PORT-MIS의 구축 추진경과 중 1992년에 어느 항구에서 최초로 구축되었나요?\\n- 전국 최초로 부산항에서 PORT-MIS가 구축되었습니다.\\n\\n4. PORT-MIS를 이용하는 방법은 무엇인가요?\\n- 부여받은 사용자계정으로 웹·모바일 또는 중계망을 이용하여 민원처리 및 정보이용이 가능합니다.\\n\\n5. PORT-MIS 제공 민원서비스 중 해운민원 서비스에는 어떤 내용이 포함되어 있나요?\\n- 해운사업자관리, 선원관리, 선박등록관리, 선박용물건관리 등이 포함되어 있습니다.\\n\\n6. PORT-MIS의 구축 추진경과 중 1999년에 어떤 사항이 실시되었나요?\\n- PORT-MIS 전국 단일망 구축 및 위탁운영이 실시되었습니다.\\n\\n7. PORT-MIS 제공 민원서비스에서 항만민원 서비스에 대한 주요 내용은 무엇인가요?\\n- 선박운항관리, 화물관리, 사용료관리, 물동량통계, 정보연계 등이 포함됩니다.\\n\\n8. PORT-MIS를 이용하기 위한 사용자격은 누구에게 부여되나요?\\n- 해양수산부장관 또는 중계망사업자에게 민원처리를 위한 사용자계정이 부여됩니다.\\n\\n9. PORT-MIS의 구축 추진경과 중 1992년에 어느 항구에서 최초로 구축되었나요?\\n- 전국 최초로 부산항에서 PORT-MIS가 구축되었습니다.\\n\\n10. PORT-MIS를 이용하는 방법은 무엇인가요?\\n- 부여받은 사용자계정으로 웹·모바일 또는 중계망을 이용하여 민원처리 및 정보이용이 가능합니다.', response_metadata={'token_usage': {'completion_tokens': 748, 'prompt_tokens': 5391, 'total_tokens': 6139}, 'model_name': 'gpt-3.5-turbo', 'system_fingerprint': None, 'finish_reason': 'stop', 'logprobs': None}, id='run-3ddc20c7-77fd-405d-bd14-d4d2bfd5c9c6-0'), AIMessage(content='{\\n  \"context\": \"▶ (2000년대) 3개 권역 및 4개 항만공사 PORT-MIS 구축·운영\\\\n-  (2004) 모바일(PDA) PORT-MIS 구축\\\\n-  (2004 ~ 2011) 4개 항만공사 PORT-MIS분리 구축\\\\n* 부산항만공사(BPA, ’04), 인천항만공사(IPA, ’05), 울산항만공사(UPA, ’07), 여수·광양항만공사(YGPA, ’11)\\\\n-  (2008 ~ 2009) 해운항만물류정보 재해복구센터(부산 신항) 구축\\\\n-  (2009) PORT-MIS 웹(WEB) 서비스 실시\\\\n▶ (2010년대 ~ 현재) 3개 권역 및 4개 항만공사 PORT-MIS 통합\\\\n-  (2014) 해운항만물류통합정보망 구축 기본계획 수립\\\\n-  (2015 ~ 2017) 해운항만물류통합정보망 단계별 추진\\\\n* 1단계(’15) → 2단계(’16) → 3단계(’17) → 서비스 개시(’18)\\\\n-  (2018) 통합 PORT-MIS 서비스 실시\\\\n-  (2017 ~ 2018) 해운항만물류정보 재해복구센터 이전(신항 → 부산청)·재구축\\\\n-  (2019) 인터넷 대용량 전자민원신고(ebXML) 서비스 제공\\\\n-  (2020 ~ 현재) 항만이용자 민원신고 및 업무처리 간소화, 비대면 민원처리 확대 등 지속적인 고도화 추진 \\\\n해운항만물류정보시스템(PORT-MIS) 서비스 03\\\\n1. 해운항만물류정보시스템(PORT-MIS) 서비스 구성도\\\\n2. PORT-MIS 데이터 처리 현황\\\\n구 분 22년 1월 ~ 12월 23년 1월 ~ 12월\\\\n선박입출항 369,577 379,570\\\\n화물반출입 7,549,470 7,623,758\\\\n해운민원 212,096 224,325\\\\n기타 업무 2,143,462 2,238,784\\\\n계 10,274,605 10,466,443(단위 : 건)\\\\n52 • PORT-MIS 53\\\\n히스토리\",\\n  \"data_format\": \"Question/Answer\",\\n  \"pairs\": [\\n    {\\n      \"question\": \"PORT-MIS 구축 및 운영이 시작된 연도는?\",\\n      \"answer\": \"2000년대\"\\n    },\\n    {\\n      \"question\": \"PORT-MIS를 모바일(PDA)로 구축한 연도는?\",\\n      \"answer\": \"2004\"\\n    },\\n    {\\n      \"question\": \"PORT-MIS를 웹(WEB) 서비스로 실시한 연도는?\",\\n      \"answer\": \"2009\"\\n    },\\n    {\\n      \"question\": \"PORT-MIS 통합이 이루어진 연도는?\",\\n      \"answer\": \"2010년대 ~ 현재\"\\n    },\\n    {\\n      \"question\": \"해운항만물류통합정보망 구축 기본계획이 수립된 연도는?\",\\n      \"answer\": \"2014\"\\n    },\\n    {\\n      \"question\": \"PORT-MIS 데이터 처리 현황 중 화물반출입 건수는?\",\\n      \"answer\": \"7,549,470 (22년 1월 ~ 12월)\"\\n    },\\n    {\\n      \"question\": \"PORT-MIS 데이터 처리 현황 중 해운민원 건수는?\",\\n      \"answer\": \"212,096 (22년 1월 ~ 12월)\"\\n    },\\n    {\\n      \"question\": \"해운항만물류정보 재해복구센터가 이전된 곳은 어디인가?\",\\n      \"answer\": \"부산청\"\\n    },\\n    {\\n      \"question\": \"인터넷 대용량 전자민원신고(ebXML) 서비스가 제공된 연도는?\",\\n      \"answer\": \"2019\"\\n    },\\n    {\\n      \"question\": \"항만이용자 민원신고 및 업무처리 간소화를 위해 지속적인 고도화가 추진되는 연도는?\",\\n      \"answer\": \"2020 ~ 현재\"\\n    }\\n  ]\\n}', response_metadata={'token_usage': {'completion_tokens': 1240, 'prompt_tokens': 2331, 'total_tokens': 3571}, 'model_name': 'gpt-3.5-turbo', 'system_fingerprint': None, 'finish_reason': 'stop', 'logprobs': None}, id='run-464e4c20-02c1-4f6a-94c6-4e2841f9b956-0'), AIMessage(content='{\\n    \"questions\": [\\n        \"ebXML과 EDI의 신고방식은 무엇인가?\",\\n        \"ebXML과 EDI 중 어떤 것이 송·수신 비용이 발생하는가?\",\\n        \"ebXML과 EDI 중 어떤 것이 초기 시스템 구축비용이 발생하는가?\",\\n        \"해운항만물류정보 재해복구시스템(DR)의 목적은 무엇인가?\",\\n        \"해운항만물류정보 재해복구시스템(DR)의 구성도에는 무엇이 포함되어 있는가?\",\\n        \"PORT-MIS 웹 항만민원신고01에서 어떤 정보를 조회할 수 있는가?\",\\n        \"모바일 PORT-MIS에서 어떤 기능을 제공하는가?\",\\n        \"중개업 사업자를 통한 ebXML 신고에서 어떤 프로그램을 사용하는가?\",\\n        \"eBXML 민원신고02에서 어떤 방식으로 민원을 신고할 수 있는가?\",\\n        \"eBXML 민원신고02의 장점은 무엇인가?\"\\n    ],\\n    \"answers\": [\\n        \"ebXML은 민원업체 직접 신고, EDI는 중계망사업자를 통한 신고\",\\n        \"EDI\",\\n        \"ebXML\",\\n        \"지진, 화재, 장애 등 각종 재해·재난 발생 시 PORT-MIS의 중단 없는 서비스 제공\",\\n        \"실시간 데이터 백업\",\\n        \"항만민원신고 결과조회, 항만관련 통계정보의 수집, 사용료 조회 및 납부, 화물관리, 예도선 등 기타 민원 신청 및 결과 조회\",\\n        \"모바일을 통한 민원신고 및 신고 결과조회, 선박에 대한 관제현황 정보조회, EDI, ebXML 응답문서 조회\",\\n        \"KL-NET : 프리즘 3.0, KTNET : ulogishub\",\\n        \"중계망 사업자를 통하지 않고 직접 신고, 수수료 없이 이용가능, 건별로 입력하지 않고 한 번에 일괄 신고\",\\n        \"수수료 없이 이용가능\"\\n    ]\\n}', response_metadata={'token_usage': {'completion_tokens': 651, 'prompt_tokens': 2988, 'total_tokens': 3639}, 'model_name': 'gpt-3.5-turbo', 'system_fingerprint': None, 'finish_reason': 'stop', 'logprobs': None}, id='run-ad683a6f-4196-4abb-a5a3-38beb34c9f95-0'), AIMessage(content='{\\n  \"data_format\": \"Question/Answer\",\\n  \"questions_answers\": [\\n    {\\n      \"question\": \"해운항만물류정보시스템(PORT-MIS)의 목적은 무엇인가?\",\\n      \"answer\": \"해운항만물류정보시스템의 안정적인 운영·관리 및 365일 24시간 중단 없는 서비스 제공\"\\n    },\\n    {\\n      \"question\": \"해운항만물류정보(PORT-MIS)센터의 운영방식에는 어떤 내용이 포함되어 있는가?\",\\n      \"answer\": \"공무원(6명), 위탁운영인력(17명)이 연중무휴로 PORT-MIS 운영관제 및 민원인 응대\"\\n    },\\n    {\\n      \"question\": \"해운항만물류정보센터의 운영조직은 어떻게 구성되어 있는가?\",\\n      \"answer\": \"해양수산부(항만운영과), 항만운영과장, 정보운영(事1, 主1)정보기획(事1, 主1)정보총괄(事1, 主1), HELP-DESK, 운영응용프로그램 유지관리서비스 운영, 위탁운영사(17명), 해운항만물류정보센터(6명)\"\\n    },\\n    {\\n      \"question\": \"해운항만물류정보 재해복구센터(DR)의 목적은 무엇인가?\",\\n      \"answer\": \"지진, 화재, 장애 등 각종 재해·재난 발생 시 해운항만물류정보시스템(PORT-MIS)의 중단 없는 서비스\"\\n    },\\n    {\\n      \"question\": \"해운항만물류정보 재해복구센터(DR)의 운영방식에는 어떤 내용이 포함되어 있는가?\",\\n      \"answer\": \"공무원(2명), 위탁운영인력(10명)이 연중무휴로 부산청내 재해복구센터에 상주 PORT-MIS 등 입주기관  재해복구시스템 운영관리\"\\n    },\\n    {\\n      \"question\": \"해운항만물류정보 재해복구센터(DR)의 운영조직은 어떻게 구성되어 있는가?\",\\n      \"answer\": \"부산지방해양수산청(항만물류과), 항만물류과장, 센터운영(主2), HELP-DESK, 운영자원관리 및 보안서비스 운영, 위탁운영사(10명), 해운항만물류정보 재해복구센터(2명)\"\\n    }\\n  ]\\n}', response_metadata={'token_usage': {'completion_tokens': 797, 'prompt_tokens': 2664, 'total_tokens': 3461}, 'model_name': 'gpt-3.5-turbo', 'system_fingerprint': None, 'finish_reason': 'stop', 'logprobs': None}, id='run-50808ed1-de84-46ba-910f-32a2cfaf47e1-0'), AIMessage(content='1. 질문: 선박제원 신고시 제출해야 하는 서류는 무엇인가요?\\n답변: 부록 신고서식\\n\\n2. 질문: 선박제원 신고시 PORT-MIS란 무엇을 의미하나요?\\n답변: 59\\n\\n3. 질문: 선박제원 신고시 제출해야 하는 서류의 예시는 무엇인가요?\\n답변: 58\\n\\n4. 질문: 선박제원 신고시 제출해야 하는 서류의 번호는 몇 번인가요?\\n답변: 58\\n\\n5. 질문: 선박제원 신고시 제출해야 하는 서류의 부록 신고서식은 무엇을 의미하나요?\\n답변: PORT-MIS\\n\\n6. 질문: 선박제원 신고시 제출해야 하는 서류의 부록 신고서식 번호는 무엇인가요?\\n답변: 59\\n\\n7. 질문: 선박제원 신고시 제출해야 하는 서류의 예시 번호는 무엇인가요?\\n답변: PORT-MIS\\n\\n8. 질문: 선박제원 신고시 제출해야 하는 서류의 PORT-MIS는 무엇을 의미하나요?\\n답변: 59\\n\\n9. 질문: 선박제원 신고시 제출해야 하는 서류의 부록 신고서식은 어떤 역할을 하나요?\\n답변: PORT-MIS 59\\n\\n10. 질문: 선박제원 신고시 제출해야 하는 서류의 부록 신고서식은 어떤 번호를 가지고 있나요?\\n답변: 59', response_metadata={'token_usage': {'completion_tokens': 487, 'prompt_tokens': 240, 'total_tokens': 727}, 'model_name': 'gpt-3.5-turbo', 'system_fingerprint': None, 'finish_reason': 'stop', 'logprobs': None}, id='run-f1055d61-cfb8-4dcd-b367-a2a98a6f8133-0'), AIMessage(content='1. 질문: 외항선 출입 신고서의 부록은 무엇입니까?\\n   답변: 신고서식\\n\\n2. 질문: 외항선 출입 신고서의 번호는 몇 번인가요?\\n   답변: 60 • PORT-MIS 61\\n\\n3. 질문: 외항선 출입 신고서에서 어떤 정보를 기재해야 하나요?\\n   답변: 출입 신고서식에 필요한 정보를 기재해야 합니다.\\n\\n4. 질문: 외항선 출입 신고서를 작성하는 이유는 무엇인가요?\\n   답변: 외항선 출입 신고서를 통해 선박의 출입 정보를 관리하고 안전을 유지하기 위함입니다.\\n\\n5. 질문: 외항선 출입 신고서를 어디에 제출해야 하나요?\\n   답변: 외항선 출입 신고서는 해당 관할 기관에 제출해야 합니다.\\n\\n6. 질문: 외항선 출입 신고서를 작성할 때 주의해야 할 점은 무엇인가요?\\n   답변: 외항선 출입 신고서를 정확하고 완벽하게 작성해야 합니다.\\n\\n7. 질문: 외항선 출입 신고서의 유효 기간은 어떻게 되나요?\\n   답변: 외항선 출입 신고서는 출입 시점부터 일정 기간 동안 유효합니다.\\n\\n8. 질문: 외항선 출입 신고서를 잘못 작성했을 경우에는 어떻게 해야 하나요?\\n   답변: 잘못 작성한 경우에는 즉시 수정하여 정확한 정보를 기재해야 합니다.\\n\\n9. 질문: 외항선 출입 신고서를 작성할 때 필요한 정보는 무엇이 있나요?\\n   답변: 선박 정보, 출입 일시, 출입 목적 등의 정보가 필요합니다.\\n\\n10. 질문: 외항선 출입 신고서를 작성하는 절차는 어떻게 되나요?\\n    답변: 외항선 출입 신고서를 작성한 후 해당 관할 기관에 제출하는 절차를 따라야 합니다.', response_metadata={'token_usage': {'completion_tokens': 691, 'prompt_tokens': 219, 'total_tokens': 910}, 'model_name': 'gpt-3.5-turbo', 'system_fingerprint': None, 'finish_reason': 'stop', 'logprobs': None}, id='run-4ab9205d-2ab0-4b6a-b01f-f47bd3b00c89-0'), AIMessage(content='{\\n    \"question\": \"승객 명부에 해당하는 것을 √표로 표시해야 하는 경우는 무엇인가요?\",\\n    \"answer\": \"[  ] 입항 (Arrival), [  ] 출항 (Departure), [  ] 최초 (Notice), [  ] 변경 (Change), [  ] 최종 (Final), [  ] 취소 (Cancel)\"\\n}\\n{\\n    \"question\": \"승객 명부에 표시해야 하는 선박의 정보는 무엇인가요?\",\\n    \"answer\": \"선박명(Name of Vessel), 호출부호ㆍ선박번호 또는 IMO번호 (Call signㆍOfficial No. or IMO No.), 해당 연도 입항횟수 (Number of entries made this year)\"\\n}\\n{\\n    \"question\": \"승객 명부에 기재해야 하는 승객의 정보는 무엇인가요?\",\\n    \"answer\": \"번호(No.), 성명(Full Name), 성별(Sex), 국적(Nationality), 생년월일(Birth Date), 승선ㆍ하선 구분(Embarking/Disembarking), 승선지/승선일(Port & Date of embarkation), 여객ㆍ임시 승선자 구분(Passenger/Extra passenger), 차량 번호(Vehicle number)\"\\n}\\n{\\n    \"question\": \"승객 명부에 표시해야 하는 선박의 정보 중 하나는 무엇인가요?\",\\n    \"answer\": \"호출부호ㆍ선박번호 또는 IMO번호 (Call signㆍOfficial No. or IMO No.)\"\\n}\\n{\\n    \"question\": \"승객 명부에 기재해야 하는 승객의 정보 중 하나는 무엇인가요?\",\\n    \"answer\": \"생년월일(Birth Date)\"\\n}\\n{\\n    \"question\": \"승객 명부에 표시해야 하는 선박의 정보 중 하나는 무엇인가요?\",\\n    \"answer\": \"해당 연도 입항횟수 (Number of entries made this year)\"\\n}\\n{\\n    \"question\": \"승객 명부에 기재해야 하는 승객의 정보 중 하나는 무엇인가요?\",\\n    \"answer\": \"성별(Sex)\"\\n}\\n{\\n    \"question\": \"승객 명부에 표시해야 하는 선박의 정보 중 하나는 무엇인가요?\",\\n    \"answer\": \"선박명(Name of Vessel)\"\\n}\\n{\\n    \"question\": \"승객 명부에 기재해야 하는 승객의 정보 중 하나는 무엇인가요?\",\\n    \"answer\": \"승선지/승선일(Port & Date of embarkation)\"\\n}\\n{\\n    \"question\": \"승객 명부에 표시해야 하는 선박의 정보 중 하나는 무엇인가요?\",\\n    \"answer\": \"호출부호ㆍ선박번호 또는 IMO번호 (Call signㆍOfficial No. or IMO No.)\"\\n}', response_metadata={'token_usage': {'completion_tokens': 789, 'prompt_tokens': 1500, 'total_tokens': 2289}, 'model_name': 'gpt-3.5-turbo', 'system_fingerprint': None, 'finish_reason': 'stop', 'logprobs': None}, id='run-b3a008f2-01d7-4d0e-a8a1-4ae06551f5f7-0'), AIMessage(content='1. 질문: 강제 도선 면제 신청서는 무엇을 위한 것인가요?\\n   답변: 강제 도선 면제 신청서는 강제 도선을 면제받기 위한 서류입니다.\\n\\n2. 질문: 예선사용 면제 신청서는 무엇을 위한 것인가요?\\n   답변: 예선사용 면제 신청서는 예선사용을 면제받기 위한 서류입니다.\\n\\n3. 질문: PORT-MIS란 무엇을 의미하나요?\\n   답변: PORT-MIS는 항만관리정보시스템을 의미합니다.\\n\\n4. 질문: 부록 신고서식은 어디에서 얻을 수 있나요?\\n   답변: 부록 신고서식은 해당 기관에서 얻을 수 있습니다.\\n\\n5. 질문: 강제 도선 면제 신청서를 작성할 때 주의해야 할 점은 무엇인가요?\\n   답변: 강제 도선 면제 신청서를 작성할 때는 필요한 모든 정보를 정확하게 기재해야 합니다.\\n\\n6. 질문: 예선사용 면제 신청서를 제출할 때 필요한 서류는 무엇인가요?\\n   답변: 예선사용 면제 신청서를 제출할 때는 별도의 서류가 필요할 수 있으니 해당 기관에 문의해야 합니다.\\n\\n7. 질문: PORT-MIS 시스템을 통해 어떤 정보를 확인할 수 있나요?\\n   답변: PORT-MIS 시스템을 통해 항만의 운영정보, 선박운항정보 등 다양한 정보를 확인할 수 있습니다.\\n\\n8. 질문: 부록 신고서식을 작성할 때 주의해야 할 사항은 무엇인가요?\\n   답변: 부록 신고서식을 작성할 때는 양식에 맞게 작성하고 필요한 서류를 첨부해야 합니다.\\n\\n9. 질문: 강제 도선 면제 신청서의 유효기간은 어떻게 되나요?\\n   답변: 강제 도선 면제 신청서의 유효기간은 제출일로부터 일정 기간이 지나면 만료될 수 있습니다.\\n\\n10. 질문: 예선사용 면제 신청서의 처리 기간은 어떻게 되나요?\\n    답변: 예선사용 면제 신청서의 처리 기간은 제출된 서류의 내용에 따라 다를 수 있으니 참고해야 합니다.', response_metadata={'token_usage': {'completion_tokens': 763, 'prompt_tokens': 273, 'total_tokens': 1036}, 'model_name': 'gpt-3.5-turbo', 'system_fingerprint': None, 'finish_reason': 'stop', 'logprobs': None}, id='run-ca7d5f6a-401c-48ef-9ad2-455f654cb560-0'), AIMessage(content='1. 질문: 선박평형수 입항 보고서에서 어떤 정보를 확인할 수 있나요?\\n답변: 선박의 평형수 상태 및 입항 정보를 확인할 수 있습니다.\\n\\n2. 질문: 부록 신고서식은 어떤 내용을 포함하고 있나요?\\n답변: 부록 신고서식은 선박의 신고 및 보고에 필요한 양식을 포함하고 있습니다.\\n\\n3. 질문: PORT-MIS 67은 무엇을 의미하나요?\\n답변: PORT-MIS 67는 선박의 입항 및 출항 정보를 관리하는 시스템을 의미합니다.\\n\\n4. 질문: 선박평형수 입항 보고서를 작성하는 주체는 누구인가요?\\n답변: 선박의 선장이 선박평형수 입항 보고서를 작성합니다.\\n\\n5. 질문: 부록 신고서식은 어디에서 제출해야 하나요?\\n답변: 부록 신고서식은 해당 관할 구역의 관할 당국에 제출해야 합니다.\\n\\n6. 질문: 선박의 평형수 상태를 확인하는 이유는 무엇인가요?\\n답변: 선박의 평형수 상태를 확인하여 선박의 안전한 운항을 도모하기 위함입니다.\\n\\n7. 질문: PORT-MIS 67 시스템을 통해 어떤 정보를 확인할 수 있나요?\\n답변: PORT-MIS 67 시스템을 통해 선박의 입항 및 출항 일정, 항구 정보 등을 확인할 수 있습니다.\\n\\n8. 질문: 부록 신고서식은 어떤 양식으로 작성되어야 하나요?\\n답변: 부록 신고서식은 정해진 양식에 따라 선박의 정보를 작성해야 합니다.\\n\\n9. 질문: 선박의 선장이 선박평형수 입항 보고서를 작성하는 이유는 무엇인가요?\\n답변: 선장은 선박의 안전한 운항을 위해 선박평형수 입항 보고서를 작성합니다.\\n\\n10. 질문: 부록 신고서식을 제출하지 않을 경우 어떤 문제가 발생할 수 있나요?\\n답변: 부록 신고서식을 제출하지 않을 경우 법적인 문제가 발생할 수 있으며, 이는 선박 운항에 지장을 줄 수 있습니다.', response_metadata={'token_usage': {'completion_tokens': 743, 'prompt_tokens': 228, 'total_tokens': 971}, 'model_name': 'gpt-3.5-turbo', 'system_fingerprint': None, 'finish_reason': 'stop', 'logprobs': None}, id='run-3b7fe514-95f3-4982-8380-ff31fabf3c7e-0'), AIMessage(content='1. 질문: 항만시설 사용허가신청서의 양식은 무엇인가요?\\n답변: 부록 신고서식입니다.\\n\\n2. 질문: 항만시설 사용허가신청서를 제출해야 하는 경우는 어떤 경우인가요?\\n답변: 항만시설을 사용하려는 경우에 제출해야 합니다.\\n\\n3. 질문: 항만시설 사용허가신청서를 어디로 제출해야 하나요?\\n답변: 해당 항만관리기관에 제출해야 합니다.\\n\\n4. 질문: 항만시설 사용허가신청서 제출 시 필요한 서류는 무엇인가요?\\n답변: 부록 신고서식과 필요한 부가 서류들이 필요합니다.\\n\\n5. 질문: 항만시설 사용허가신청서의 처리 기간은 어떻게 되나요?\\n답변: 제출된 서류에 따라 다르지만, 보통 몇 주에서 몇 달이 걸릴 수 있습니다.\\n\\n6. 질문: 항만시설 사용허가신청서의 심사과정은 어떻게 이루어지나요?\\n답변: 제출된 서류의 내용과 적합성을 검토한 후, 필요 시 현장조사를 실시합니다.\\n\\n7. 질문: 항만시설 사용허가신청서의 심사 결과는 어떻게 통보받을 수 있나요?\\n답변: 심사 결과는 제출한 연락처로 통보되며, 필요 시 추가 조치 사항이 안내됩니다.\\n\\n8. 질문: 항만시설 사용허가신청서의 심사 과정에서 추가 서류를 요청받을 수도 있나요?\\n답변: 네, 필요 시 추가 서류를 요청받을 수 있습니다.\\n\\n9. 질문: 항만시설 사용허가신청서의 심사 과정에서 거부될 수도 있는 이유는 무엇인가요?\\n답변: 제출된 서류의 미비한 부분이나 부적합성 등으로 거부될 수 있습니다.\\n\\n10. 질문: 항만시설 사용허가신청서의 심사 결과에 이의를 제기할 수 있는 방법은 무엇인가요?\\n답변: 이의를 제기하고 싶은 경우, 해당 항만관리기관에 문의하여 절차를 따라야 합니다.', response_metadata={'token_usage': {'completion_tokens': 725, 'prompt_tokens': 231, 'total_tokens': 956}, 'model_name': 'gpt-3.5-turbo', 'system_fingerprint': None, 'finish_reason': 'stop', 'logprobs': None}, id='run-7c86f11d-1875-4727-bbb8-3554435a4c0e-0'), AIMessage(content='1. Question: 위험물 반입신고서의 양식은 무엇인가요?\\n   Answer: 부록 신고서식\\n2. Question: 위험물 일람표의 페이지는 몇 번인가요?\\n   Answer: 70\\n3. Question: PORT-MIS의 페이지는 몇 번인가요?\\n   Answer: 71\\n4. Question: 어디에서 위험물 반입신고서를 작성해야 하나요?\\n   Answer: 부록 신고서식을 이용하여 작성해야 합니다.\\n5. Question: 위험물 반입신고서의 양식은 어디에서 구할 수 있나요?\\n   Answer: 부록 신고서식을 구할 수 있습니다.\\n6. Question: 위험물 일람표에는 어떤 정보가 포함되어 있나요?\\n   Answer: 위험물 일람표에는 위험물의 종류와 양 등의 정보가 포함되어 있습니다.\\n7. Question: PORT-MIS는 무엇의 약자인가요?\\n   Answer: PORT-MIS는 Port Management Information System의 약자입니다.\\n8. Question: 위험물 반입신고서를 작성할 때 주의해야 할 점은 무엇인가요?\\n   Answer: 정확한 정보를 기재하여 작성해야 합니다.\\n9. Question: 위험물 반입신고서를 작성하는데 필요한 정보는 무엇인가요?\\n   Answer: 위험물의 종류, 양, 운송방법 등의 정보가 필요합니다.\\n10. Question: 위험물 반입신고서를 작성하는 이유는 무엇인가요?\\n    Answer: 위험물을 안전하게 운송하기 위해 반입신고서를 작성해야 합니다.', response_metadata={'token_usage': {'completion_tokens': 496, 'prompt_tokens': 267, 'total_tokens': 763}, 'model_name': 'gpt-3.5-turbo', 'system_fingerprint': None, 'finish_reason': 'stop', 'logprobs': None}, id='run-94ac1836-d57c-4a48-8b0d-1fb8ae141c37-0'), AIMessage(content='1. Question: 화물 현황 신고서는 무엇을 포함하고 있나요?\\n   Answer: 화물 현황 신고서는 반입과 반출 현황을 포함하고 있습니다.\\n\\n2. Question: 화물 현황 신고서를 작성하는 목적은 무엇인가요?\\n   Answer: 화물 현황 신고서를 작성하는 목적은 세관에 화물의 반입과 반출 현황을 신고하기 위함입니다.\\n\\n3. Question: 화물 현황 신고서는 어떤 형식으로 작성되나요?\\n   Answer: 화물 현황 신고서는 PORT-MIS 부록 신고서식에 따라 작성됩니다.\\n\\n4. Question: 화물 현황 신고서를 작성할 때 주의해야 할 점은 무엇인가요?\\n   Answer: 화물 현황 신고서를 작성할 때는 정확한 정보를 기재하여 오류를 방지해야 합니다.\\n\\n5. Question: 화물 현황 신고서는 어디로 제출해야 하나요?\\n   Answer: 화물 현황 신고서는 해당 관할 세관에 제출해야 합니다.\\n\\n6. Question: 화물 현황 신고서를 작성하는 주체는 누구인가요?\\n   Answer: 화물 현황 신고서는 수입 또는 수출을 하는 화주가 작성해야 합니다.\\n\\n7. Question: 화물 현황 신고서 작성 시 필요한 정보는 무엇인가요?\\n   Answer: 화물 현황 신고서 작성 시에는 화물의 종류, 양, 가격 등의 정보가 필요합니다.\\n\\n8. Question: 화물 현황 신고서 작성은 어떤 경우에 필요한가요?\\n   Answer: 화물 현황 신고서 작성은 국제무역에서 수입 또는 수출을 할 때 필요합니다.\\n\\n9. Question: 화물 현황 신고서 작성 시 주의해야 할 사항은 무엇인가요?\\n   Answer: 화물 현황 신고서 작성 시에는 반입과 반출 현황을 정확히 기재하여야 하며, 오류를 방지해야 합니다.\\n\\n10. Question: 화물 현황 신고서를 작성하는 절차는 어떻게 되나요?\\n    Answer: 화물 현황 신고서를 작성하는 절차는 화주가 세관에 제출하기 전에 세심하게 작성하여야 합니다.', response_metadata={'token_usage': {'completion_tokens': 765, 'prompt_tokens': 243, 'total_tokens': 1008}, 'model_name': 'gpt-3.5-turbo', 'system_fingerprint': None, 'finish_reason': 'stop', 'logprobs': None}, id='run-331f1598-6b8f-4605-b681-92f072c17cb5-0'), AIMessage(content='1. 질문: 항만시설사용신고서의 부록 신고서식은 무엇입니까?\\n   답변: PORT-MIS 75입니다.\\n\\n2. 데이터 형식: 질문/답변\\n\\n3. 맥락: 10. 항만시설사용신고서\\\\n74 • PORT-MIS 75\\\\n부록 신고서식\\n\\n4. 질문과 답변이 한글로 출력됩니다.', response_metadata={'token_usage': {'completion_tokens': 121, 'prompt_tokens': 213, 'total_tokens': 334}, 'model_name': 'gpt-3.5-turbo', 'system_fingerprint': None, 'finish_reason': 'stop', 'logprobs': None}, id='run-dae019b2-89a0-42f8-985c-d5de0bf7ccce-0'), AIMessage(content='1. 선박수리 허가신청서와 신고서의 첨부서류는 무엇입니까?\\n- 부록 신고서식\\n\\n2. 선박수리 허가신청서와 신고서의 첨부서류는 무엇입니까?\\n- 부록 신고서식\\n\\n3. 선박수리 허가신청서와 신고서의 첨부서류는 무엇입니까?\\n- 부록 신고서식\\n\\n4. 선박수리 허가신청서와 신고서의 첨부서류는 무엇입니까?\\n- 부록 신고서식\\n\\n5. 선박수리 허가신청서와 신고서의 첨부서류는 무엇입니까?\\n- 부록 신고서식\\n\\n6. 선박수리 허가신청서와 신고서의 첨부서류는 무엇입니까?\\n- 부록 신고서식\\n\\n7. 선박수리 허가신청서와 신고서의 첨부서류는 무엇입니까?\\n- 부록 신고서식\\n\\n8. 선박수리 허가신청서와 신고서의 첨부서류는 무엇입니까?\\n- 부록 신고서식\\n\\n9. 선박수리 허가신청서와 신고서의 첨부서류는 무엇입니까?\\n- 부록 신고서식\\n\\n10. 선박수리 허가신청서와 신고서의 첨부서류는 무엇입니까?\\n- 부록 신고서식', response_metadata={'token_usage': {'completion_tokens': 459, 'prompt_tokens': 336, 'total_tokens': 795}, 'model_name': 'gpt-3.5-turbo', 'system_fingerprint': None, 'finish_reason': 'stop', 'logprobs': None}, id='run-343bccd1-5646-4d78-9ff0-2fd716743d9e-0'), AIMessage(content='{\\n    \"questions\": [\\n        \"선박보안정보통보는 언제까지 통보해야 합니까?\",\\n        \"항만 입항 24시간 전까지 어떤 정보를 통보해야 합니까?\",\\n        \"선박의 보안등급은 무엇을 설정해야 합니까?\",\\n        \"국제선박보안증서의 번호, 유효기간 및 발급기관명은 무엇을 포함해야 합니까?\",\\n        \"최근 기항한 10개 항만에 대한 보안정보는 어떻게 기술해야 합니까?\",\\n        \"특별한 또는 추가적인 보안조치가 있었다면 어떻게 기술해야 합니까?\",\\n        \"통보일자는 어떻게 작성해야 합니까?\",\\n        \"선장명 또는 대리점명은 무엇을 포함해야 합니까?\",\\n        \"서명은 어떻게 해야 합니까?\",\\n        \"담당자의 전화번호와 팩스번호는 무엇을 포함해야 합니까?\"\\n    ],\\n    \"answers\": [\\n        \"대한민국 항만 입항 24시간 전까지 통보해야 합니다.\",\\n        \"선명, IMO 번호/Call sign, 국적, 총톤수, 입항항만, 입항예정시각 등의 정보를 통보해야 합니다.\",\\n        \"1등급, 2등급, 3등급 중 하나를 설정해야 합니다.\",\\n        \"국제선박보안증서 번호, 유효기간, 발급기관명을 포함해야 합니다.\",\\n        \"국가명, 항만명, 입출항일자, 선박의 보안등급, 항만의 보안등급을 기술해야 합니다.\",\\n        \"특별한 또는 추가적인 보안조치가 있었다면, 일자와 항만명을 포함하여 기술해야 합니다.\",\\n        \"년/월/일 형식으로 통보일자를 작성해야 합니다.\",\\n        \"선장명 또는 대리점명을 포함해야 합니다.\",\\n        \"서명을 해야 합니다.\",\\n        \"전화번호와 팩스번호를 포함해야 합니다.\"\\n    ]\\n}', response_metadata={'token_usage': {'completion_tokens': 681, 'prompt_tokens': 4488, 'total_tokens': 5169}, 'model_name': 'gpt-3.5-turbo', 'system_fingerprint': None, 'finish_reason': 'stop', 'logprobs': None}, id='run-46230e72-ff85-4dca-97ac-040b2ff8cc96-0'), AIMessage(content='{\\n    \"questions\": [\\n        \"고지서를 PORT-MIS에서 어떻게 출력할 수 있나요?\",\\n        \"PORT-MIS를 통해 여러 고지서를 한번에 납부할 수 있는 서비스는 무엇인가요?\",\\n        \"PORT-MIS를 통해 사용료를 납부하는 절차는 어떻게 되나요?\",\\n        \"디지털 방식의 고지서를 받기 위해 PORT-MIS에서 어떤 절차를 거쳐야 하나요?\",\\n        \"PORT-MIS를 통해 고지서를 발행하는 방법은 무엇인가요?\"\\n    ],\\n    \"answers\": [\\n        \"PORT-MIS에서 고지서 출력 메뉴를 선택하고 검색 후 출력대상을 선택하여 고지서를 출력할 수 있습니다.\",\\n        \"PORT-MIS를 통해 여러 고지서를 한번에 납부할 수 있는 서비스는 간편납부입니다.\",\\n        \"PORT-MIS에서 사용료 납부 조회 메뉴를 선택하고 납부대상을 선택한 후 결제방식을 선택하여 납부할 수 있습니다.\",\\n        \"PORT-MIS에서 고지서 발행관리 메뉴를 선택하고 디지털 발행 또는 민원인 출력을 선택하여 고지서를 받을 수 있습니다.\",\\n        \"PORT-MIS에서 고지서 발행관리 메뉴를 선택하고 발행기관과 요금종류를 선택한 후 알림방법을 등록하여 고지서를 발행할 수 있습니다.\"\\n    ]\\n}', response_metadata={'token_usage': {'completion_tokens': 425, 'prompt_tokens': 4587, 'total_tokens': 5012}, 'model_name': 'gpt-3.5-turbo', 'system_fingerprint': None, 'finish_reason': 'stop', 'logprobs': None}, id='run-fed2dbdb-ef3d-4a5c-a832-58a54db40f4c-0'), AIMessage(content='1. 질문: PORT-MIS를 통해 어떤 서비스를 이용할 수 있나요?\\n   답변: 실시간 납부내역 확인 및 납부확인서 출력이 가능합니다.\\n\\n2. 질문: 로지스페이를 통해 어떤 서비스를 신청할 수 있나요?\\n   답변: 납부 서비스를 선택하여 이용신청서를 작성하고, 이용업체 승인서비스를 받아 결제 비밀번호를 설정할 수 있습니다.\\n\\n3. 질문: PORT-MIS를 통해 어떤 결제 방법을 사용할 수 있나요?\\n   답변: 은행간편결제 및 모바일을 이용한 간편결제가 가능합니다.\\n\\n4. 질문: 로지스페이 회원가입을 완료하려면 어떤 절차를 거쳐야 하나요?\\n   답변: 사업자 등록 및 간편결제 비밀번호 등록 후 본인 인증 절차를 거쳐 회원가입이 완료됩니다.\\n\\n5. 질문: PORT-MIS를 통해 어디에서 납부확인서를 출력할 수 있나요?\\n   답변: www.portmis.go.kr에 접속하여 메뉴를 선택한 후 출력할 수 있습니다.\\n\\n6. 질문: 로지스페이를 통해 어디에서 서비스 신청을 할 수 있나요?\\n   답변: www.logispay.com에 접속하여 서비스 신청을 클릭하여 신청할 수 있습니다.\\n\\n7. 질문: 간편결제를 통해 어떤 결제 방법을 사용할 수 있나요?\\n   답변: 간편납부로 수수료 없이 비밀번호만으로 결제가 가능합니다.\\n\\n8. 질문: PORT-MIS를 통해 어디에서 납부내역을 확인할 수 있나요?\\n   답변: www.portmis.go.kr에 접속하여 조회/발급/사용료 메뉴를 선택한 후 확인할 수 있습니다.\\n\\n9. 질문: 로지스페이를 통해 어디에서 회원가입을 완료할 수 있나요?\\n   답변: 회원가입 절차가 완료되면 회원가입이 승인되며 서비스를 이용할 수 있습니다.\\n\\n10. 질문: 간편결제를 통해 어디에서 결제 비밀번호를 등록할 수 있나요?\\n    답변: 이용신청 후 이용업체 승인서비스를 받아 결제 비밀번호를 등록할 수 있습니다.', response_metadata={'token_usage': {'completion_tokens': 737, 'prompt_tokens': 3063, 'total_tokens': 3800}, 'model_name': 'gpt-3.5-turbo', 'system_fingerprint': None, 'finish_reason': 'stop', 'logprobs': None}, id='run-4ff917b2-839c-409e-af63-144f02d2cd73-0'), AIMessage(content='1. Question: 어떤 웹사이트를 방문하면 글로벌 리더로 도약하기 위한 정보를 얻을 수 있나요?\\n   Answer: www.mof.go.kr\\n\\n2. Question: 글로벌 리더로 도약하기 위한 정보를 제공하는 사이트는 무엇인가요?\\n   Answer: www.mof.go.kr\\n\\n3. Question: 어떤 사이트를 방문하면 글로벌 리더로 도약하기 위한 정보를 얻을 수 있나요?\\n   Answer: www.mof.go.kr\\n\\n4. Question: 글로벌 리더로 도약하기 위한 정보를 제공하는 사이트는 무엇인가요?\\n   Answer: www.mof.go.kr\\n\\n5. Question: 어떤 웹사이트를 방문하면 글로벌 리더로 도약하기 위한 정보를 얻을 수 있나요?\\n   Answer: www.mof.go.kr\\n\\n6. Question: 글로벌 리더로 도약하기 위한 정보를 제공하는 사이트는 무엇인가요?\\n   Answer: www.mof.go.kr\\n\\n7. Question: 어떤 사이트를 방문하면 글로벌 리더로 도약하기 위한 정보를 얻을 수 있나요?\\n   Answer: www.mof.go.kr\\n\\n8. Question: 글로벌 리더로 도약하기 위한 정보를 제공하는 사이트는 무엇인가요?\\n   Answer: www.mof.go.kr\\n\\n9. Question: 어떤 웹사이트를 방문하면 글로벌 리더로 도약하기 위한 정보를 얻을 수 있나요?\\n   Answer: www.mof.go.kr\\n\\n10. Question: 글로벌 리더로 도약하기 위한 정보를 제공하는 사이트는 무엇인가요?\\n    Answer: www.mof.go.kr', response_metadata={'token_usage': {'completion_tokens': 495, 'prompt_tokens': 270, 'total_tokens': 765}, 'model_name': 'gpt-3.5-turbo', 'system_fingerprint': None, 'finish_reason': 'stop', 'logprobs': None}, id='run-e6ed3632-5a27-4cbf-b2b7-f2cbb72d74d2-0')]\n"
          ]
        }
      ]
    },
    {
      "cell_type": "code",
      "source": [],
      "metadata": {
        "id": "YEnPWih9lB8x"
      },
      "execution_count": null,
      "outputs": []
    }
  ]
}