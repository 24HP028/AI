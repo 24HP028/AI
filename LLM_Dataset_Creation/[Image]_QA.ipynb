{
  "nbformat": 4,
  "nbformat_minor": 0,
  "metadata": {
    "colab": {
      "provenance": []
    },
    "kernelspec": {
      "name": "python3",
      "display_name": "Python 3"
    },
    "language_info": {
      "name": "python"
    }
  },
  "cells": [
    {
      "cell_type": "markdown",
      "source": [
        "#네이버클라우드 OCR API 이용"
      ],
      "metadata": {
        "id": "agd2aK6eDMfm"
      }
    },
    {
      "cell_type": "markdown",
      "source": [
        "##pip install"
      ],
      "metadata": {
        "id": "dbAPD5ZsDPnI"
      }
    },
    {
      "cell_type": "code",
      "execution_count": null,
      "metadata": {
        "colab": {
          "base_uri": "https://localhost:8080/"
        },
        "id": "LpJAUhEpSv5c",
        "outputId": "3d966429-da68-41b3-a6fa-c3b760cc7a05"
      },
      "outputs": [
        {
          "output_type": "stream",
          "name": "stdout",
          "text": [
            "Requirement already satisfied: opencv-contrib-python in /usr/local/lib/python3.10/dist-packages (4.8.0.76)\n",
            "Requirement already satisfied: numpy>=1.21.2 in /usr/local/lib/python3.10/dist-packages (from opencv-contrib-python) (1.25.2)\n"
          ]
        }
      ],
      "source": [
        "pip install opencv-contrib-python"
      ]
    },
    {
      "cell_type": "code",
      "source": [
        "pip install requests"
      ],
      "metadata": {
        "colab": {
          "base_uri": "https://localhost:8080/"
        },
        "id": "Ai3Rc_L_ThJz",
        "outputId": "e6424917-ccb1-46af-9e93-7fb755e94ce8"
      },
      "execution_count": null,
      "outputs": [
        {
          "output_type": "stream",
          "name": "stdout",
          "text": [
            "Requirement already satisfied: requests in /usr/local/lib/python3.10/dist-packages (2.31.0)\n",
            "Requirement already satisfied: charset-normalizer<4,>=2 in /usr/local/lib/python3.10/dist-packages (from requests) (3.3.2)\n",
            "Requirement already satisfied: idna<4,>=2.5 in /usr/local/lib/python3.10/dist-packages (from requests) (3.7)\n",
            "Requirement already satisfied: urllib3<3,>=1.21.1 in /usr/local/lib/python3.10/dist-packages (from requests) (2.0.7)\n",
            "Requirement already satisfied: certifi>=2017.4.17 in /usr/local/lib/python3.10/dist-packages (from requests) (2024.7.4)\n"
          ]
        }
      ]
    },
    {
      "cell_type": "markdown",
      "source": [
        "##ocr 실행"
      ],
      "metadata": {
        "id": "7y0xFxj7DRV-"
      }
    },
    {
      "cell_type": "code",
      "source": [
        "import requests\n",
        "import uuid\n",
        "import time\n",
        "import json\n",
        "\n",
        "api_url = 'url 입력'\n",
        "secret_key = 'key 입력'\n",
        "image_file = '/content/1.png'\n",
        "\n",
        "request_json = {\n",
        "    'images': [\n",
        "        {\n",
        "            'format': 'png',\n",
        "            'name': 'demo'\n",
        "        }\n",
        "    ],\n",
        "    'requestId': str(uuid.uuid4()),\n",
        "    'version': 'V2',\n",
        "    'timestamp': int(round(time.time() * 1000))\n",
        "}\n",
        "\n",
        "payload = {'message': json.dumps(request_json).encode('UTF-8')}\n",
        "files = [\n",
        "  ('file', open(image_file,'rb'))\n",
        "]\n",
        "headers = {\n",
        "  'X-OCR-SECRET': secret_key\n",
        "}\n",
        "\n",
        "response = requests.request(\"POST\", api_url, headers=headers, data = payload, files = files)\n",
        "\n",
        "print(response.text.encode('utf8'))"
      ],
      "metadata": {
        "colab": {
          "base_uri": "https://localhost:8080/"
        },
        "id": "aDjYdwgWW7e_",
        "outputId": "3acf47dc-b062-4595-adf5-00f79c957a60"
      },
      "execution_count": null,
      "outputs": [
        {
          "output_type": "stream",
          "name": "stdout",
          "text": [
            "b'{\"version\":\"V2\",\"requestId\":\"d4e349e5-ce29-43c9-8898-037bac5cd5f7\",\"timestamp\":1720951988861,\"images\":[{\"uid\":\"e4f37a995663456b9a42428e681f5a06\",\"name\":\"demo\",\"inferResult\":\"SUCCESS\",\"message\":\"SUCCESS\",\"validationResult\":{\"result\":\"NO_REQUESTED\"},\"convertedImageInfo\":{\"width\":842,\"height\":596,\"pageIndex\":0,\"longImage\":false},\"fields\":[{\"valueType\":\"ALL\",\"boundingPoly\":{\"vertices\":[{\"x\":93.0,\"y\":25.0},{\"x\":238.0,\"y\":25.0},{\"x\":238.0,\"y\":49.0},{\"x\":93.0,\"y\":49.0}]},\"inferText\":\"\\xed\\x8f\\xac\\xed\\x8a\\xb8\\xeb\\xaf\\xb8\\xec\\x8a\\xa4\\xed\\x9a\\x8c\\xec\\x9b\\x90\\xea\\xb0\\x80\\xec\\x9e\\x85\",\"inferConfidence\":0.9871,\"type\":\"NORMAL\",\"lineBreak\":false},{\"valueType\":\"ALL\",\"boundingPoly\":{\"vertices\":[{\"x\":718.0,\"y\":38.0},{\"x\":754.0,\"y\":38.0},{\"x\":754.0,\"y\":48.0},{\"x\":718.0,\"y\":48.0}]},\"inferText\":\"\\xed\\x8f\\xac\\xed\\x8a\\xb8\\xeb\\xaf\\xb8\\xec\\x8a\\xa4\",\"inferConfidence\":1.0,\"type\":\"NORMAL\",\"lineBreak\":false},{\"valueType\":\"ALL\",\"boundingPoly\":{\"vertices\":[{\"x\":754.0,\"y\":37.0},{\"x\":791.0,\"y\":37.0},{\"x\":791.0,\"y\":48.0},{\"x\":754.0,\"y\":48.0}]},\"inferText\":\"\\xed\\x9a\\x8c\\xec\\x9b\\x90\\xea\\xb0\\x80\\xec\\x9e\\x85\",\"inferConfidence\":1.0,\"type\":\"NORMAL\",\"lineBreak\":true},{\"valueType\":\"ALL\",\"boundingPoly\":{\"vertices\":[{\"x\":343.0,\"y\":72.0},{\"x\":471.0,\"y\":72.0},{\"x\":471.0,\"y\":92.0},{\"x\":343.0,\"y\":92.0}]},\"inferText\":\"\\xed\\x9a\\x8c\\xec\\x9b\\x90\\xea\\xb0\\x80\\xec\\x9e\\x85 - \\xed\\x9a\\x8c\\xec\\x9b\\x90\\xea\\xb0\\x80\\xec\\x9e\\x85\",\"inferConfidence\":0.9759,\"type\":\"NORMAL\",\"lineBreak\":false},{\"valueType\":\"ALL\",\"boundingPoly\":{\"vertices\":[{\"x\":471.0,\"y\":72.0},{\"x\":504.0,\"y\":72.0},{\"x\":504.0,\"y\":93.0},{\"x\":471.0,\"y\":93.0}]},\"inferText\":\"\\xec\\xa0\\x88\\xec\\xb0\\xa8\",\"inferConfidence\":1.0,\"type\":\"NORMAL\",\"lineBreak\":true},{\"valueType\":\"ALL\",\"boundingPoly\":{\"vertices\":[{\"x\":422.0,\"y\":110.0},{\"x\":450.0,\"y\":110.0},{\"x\":450.0,\"y\":123.0},{\"x\":422.0,\"y\":123.0}]},\"inferText\":\"\\xed\\x9a\\x8c\\xec\\x9b\\x90\\xea\\xb0\\x80\\xec\\x9e\\x85\",\"inferConfidence\":0.9998,\"type\":\"NORMAL\",\"lineBreak\":true},{\"valueType\":\"ALL\",\"boundingPoly\":{\"vertices\":[{\"x\":364.0,\"y\":132.0},{\"x\":376.0,\"y\":132.0},{\"x\":376.0,\"y\":138.0},{\"x\":364.0,\"y\":138.0}]},\"inferText\":\"000\",\"inferConfidence\":0.9178,\"type\":\"NORMAL\",\"lineBreak\":false},{\"valueType\":\"ALL\",\"boundingPoly\":{\"vertices\":[{\"x\":395.0,\"y\":129.0},{\"x\":410.0,\"y\":129.0},{\"x\":410.0,\"y\":141.0},{\"x\":395.0,\"y\":141.0}]},\"inferText\":\"\\xeb\\xa1\\x9c\\xea\\xb7\\xb8\\xec\\x9d\\xb8\",\"inferConfidence\":0.9765,\"type\":\"NORMAL\",\"lineBreak\":true},{\"valueType\":\"ALL\",\"boundingPoly\":{\"vertices\":[{\"x\":156.0,\"y\":140.0},{\"x\":189.0,\"y\":140.0},{\"x\":189.0,\"y\":159.0},{\"x\":156.0,\"y\":159.0}]},\"inferText\":\"\\xed\\x95\\xad\\xeb\\xa7\\x8c\\xeb\\xaf\\xbc\\xec\\x9b\\x90\",\"inferConfidence\":0.9999,\"type\":\"NORMAL\",\"lineBreak\":false},{\"valueType\":\"ALL\",\"boundingPoly\":{\"vertices\":[{\"x\":380.0,\"y\":143.0},{\"x\":389.0,\"y\":143.0},{\"x\":389.0,\"y\":156.0},{\"x\":380.0,\"y\":156.0}]},\"inferText\":\"1\",\"inferConfidence\":0.9998,\"type\":\"NORMAL\",\"lineBreak\":true},{\"valueType\":\"ALL\",\"boundingPoly\":{\"vertices\":[{\"x\":434.0,\"y\":153.0},{\"x\":444.0,\"y\":153.0},{\"x\":444.0,\"y\":162.0},{\"x\":434.0,\"y\":162.0}]},\"inferText\":\"01\",\"inferConfidence\":0.9982,\"type\":\"NORMAL\",\"lineBreak\":false},{\"valueType\":\"ALL\",\"boundingPoly\":{\"vertices\":[{\"x\":446.0,\"y\":151.0},{\"x\":474.0,\"y\":151.0},{\"x\":474.0,\"y\":162.0},{\"x\":446.0,\"y\":162.0}]},\"inferText\":\"\\xec\\x82\\xac\\xec\\x9a\\xa9\\xeb\\xaa\\xa9\\xec\\xa0\\x81\",\"inferConfidence\":1.0,\"type\":\"NORMAL\",\"lineBreak\":false},{\"valueType\":\"ALL\",\"boundingPoly\":{\"vertices\":[{\"x\":475.0,\"y\":152.0},{\"x\":489.0,\"y\":152.0},{\"x\":489.0,\"y\":162.0},{\"x\":475.0,\"y\":162.0}]},\"inferText\":\"\\xec\\x84\\xa0\\xed\\x83\\x9d\",\"inferConfidence\":1.0,\"type\":\"NORMAL\",\"lineBreak\":false},{\"valueType\":\"ALL\",\"boundingPoly\":{\"vertices\":[{\"x\":519.0,\"y\":152.0},{\"x\":531.0,\"y\":152.0},{\"x\":531.0,\"y\":163.0},{\"x\":519.0,\"y\":163.0}]},\"inferText\":\"02\",\"inferConfidence\":0.9998,\"type\":\"NORMAL\",\"lineBreak\":false},{\"valueType\":\"ALL\",\"boundingPoly\":{\"vertices\":[{\"x\":532.0,\"y\":151.0},{\"x\":559.0,\"y\":151.0},{\"x\":559.0,\"y\":162.0},{\"x\":532.0,\"y\":162.0}]},\"inferText\":\"\\xec\\x95\\xbd\\xea\\xb4\\x80\\xeb\\x8f\\x99\\xec\\x9d\\x98\",\"inferConfidence\":0.9994,\"type\":\"NORMAL\",\"lineBreak\":false},{\"valueType\":\"ALL\",\"boundingPoly\":{\"vertices\":[{\"x\":619.0,\"y\":152.0},{\"x\":647.0,\"y\":152.0},{\"x\":647.0,\"y\":162.0},{\"x\":619.0,\"y\":162.0}]},\"inferText\":\"\\xed\\x9a\\x8c\\xec\\x9b\\x90\\xec\\xa0\\x95\\xeb\\xb3\\xb4\",\"inferConfidence\":0.9998,\"type\":\"NORMAL\",\"lineBreak\":false},{\"valueType\":\"ALL\",\"boundingPoly\":{\"vertices\":[{\"x\":647.0,\"y\":151.0},{\"x\":661.0,\"y\":151.0},{\"x\":661.0,\"y\":162.0},{\"x\":647.0,\"y\":162.0}]},\"inferText\":\"\\xec\\x9e\\x85\\xeb\\xa0\\xa5\",\"inferConfidence\":0.9896,\"type\":\"NORMAL\",\"lineBreak\":false},{\"valueType\":\"ALL\",\"boundingPoly\":{\"vertices\":[{\"x\":704.0,\"y\":152.0},{\"x\":732.0,\"y\":152.0},{\"x\":732.0,\"y\":162.0},{\"x\":704.0,\"y\":162.0}]},\"inferText\":\"\\xed\\x9a\\x8c\\xec\\x9b\\x90\\xec\\x8b\\xa0\\xec\\xb2\\xad\",\"inferConfidence\":1.0,\"type\":\"NORMAL\",\"lineBreak\":false},{\"valueType\":\"ALL\",\"boundingPoly\":{\"vertices\":[{\"x\":731.0,\"y\":150.0},{\"x\":749.0,\"y\":150.0},{\"x\":749.0,\"y\":163.0},{\"x\":731.0,\"y\":163.0}]},\"inferText\":\"\\xec\\x99\\x84\\xeb\\xa3\\x8c\",\"inferConfidence\":1.0,\"type\":\"NORMAL\",\"lineBreak\":true},{\"valueType\":\"ALL\",\"boundingPoly\":{\"vertices\":[{\"x\":65.0,\"y\":169.0},{\"x\":134.0,\"y\":170.0},{\"x\":134.0,\"y\":185.0},{\"x\":65.0,\"y\":184.0}]},\"inferText\":\"\\xed\\x95\\xb4\\xec\\x9a\\xb4\\xed\\x95\\xad\\xeb\\xa7\\x8c\\xeb\\xac\\xbc\\xeb\\xa5\\x98\\xec\\xa0\\x95\\xeb\\xb3\\xb4\\xec\\x8b\\x9c\\xec\\x8a\\xa4\\xed\\x85\\x9c\",\"inferConfidence\":0.9963,\"type\":\"NORMAL\",\"lineBreak\":true},{\"valueType\":\"ALL\",\"boundingPoly\":{\"vertices\":[{\"x\":428.0,\"y\":193.0},{\"x\":447.0,\"y\":193.0},{\"x\":447.0,\"y\":201.0},{\"x\":428.0,\"y\":201.0}]},\"inferText\":\"\\xed\\x95\\xb4\\xec\\x9a\\xb4\\xed\\x96\\x88\\xeb\\x8b\\xa8\",\"inferConfidence\":0.7174,\"type\":\"NORMAL\",\"lineBreak\":false},{\"valueType\":\"ALL\",\"boundingPoly\":{\"vertices\":[{\"x\":446.0,\"y\":194.0},{\"x\":469.0,\"y\":194.0},{\"x\":469.0,\"y\":202.0},{\"x\":446.0,\"y\":202.0}]},\"inferText\":\"\\xeb\\xaf\\xbc\\xec\\x9b\\x90\\xec\\x8b\\xa0\\xea\\xb3\\xa0\\xeb\\xa5\\xbc\",\"inferConfidence\":0.8781,\"type\":\"NORMAL\",\"lineBreak\":false},{\"valueType\":\"ALL\",\"boundingPoly\":{\"vertices\":[{\"x\":468.0,\"y\":194.0},{\"x\":487.0,\"y\":194.0},{\"x\":487.0,\"y\":202.0},{\"x\":468.0,\"y\":202.0}]},\"inferText\":\"\\xec\\x9c\\x84\\xec\\x97\\x90\\xec\\x84\\x9c\\xeb\\x8a\\x94\",\"inferConfidence\":0.6779,\"type\":\"NORMAL\",\"lineBreak\":false},{\"valueType\":\"ALL\",\"boundingPoly\":{\"vertices\":[{\"x\":486.0,\"y\":193.0},{\"x\":510.0,\"y\":193.0},{\"x\":510.0,\"y\":203.0},{\"x\":486.0,\"y\":203.0}]},\"inferText\":\"\\xed\\x9a\\xa8\\xec\\x9a\\xa9\\xea\\xb8\\xb0\\xec\\x97\\x85\\xec\\x9d\\xb4\",\"inferConfidence\":0.886,\"type\":\"NORMAL\",\"lineBreak\":false},{\"valueType\":\"ALL\",\"boundingPoly\":{\"vertices\":[{\"x\":508.0,\"y\":193.0},{\"x\":532.0,\"y\":193.0},{\"x\":532.0,\"y\":201.0},{\"x\":508.0,\"y\":201.0}]},\"inferText\":\"\\xed\\x95\\x84\\xec\\x9a\\x94\\xed\\x95\\xa9\\xeb\\x8b\\x88\\xeb\\x8b\\xa4\",\"inferConfidence\":0.9997,\"type\":\"NORMAL\",\"lineBreak\":true},{\"valueType\":\"ALL\",\"boundingPoly\":{\"vertices\":[{\"x\":65.0,\"y\":197.0},{\"x\":142.0,\"y\":197.0},{\"x\":142.0,\"y\":226.0},{\"x\":65.0,\"y\":226.0}]},\"inferText\":\"PORT-MIS\",\"inferConfidence\":0.9984,\"type\":\"NORMAL\",\"lineBreak\":false},{\"valueType\":\"ALL\",\"boundingPoly\":{\"vertices\":[{\"x\":428.0,\"y\":205.0},{\"x\":481.0,\"y\":205.0},{\"x\":481.0,\"y\":214.0},{\"x\":428.0,\"y\":214.0}]},\"inferText\":\"\\xed\\x95\\xb4\\xec\\x9a\\xb4\\xed\\x95\\xad\\xeb\\xa7\\x8c\\xeb\\xac\\xbc\\xeb\\xa5\\x98\\xea\\xbf\\x80\\xeb\\xb3\\xb4\\xec\\x8b\\x9c\\xec\\x8a\\xa4\\xec\\x9e\\xa5\\xec\\x9d\\x98\",\"inferConfidence\":0.9368,\"type\":\"NORMAL\",\"lineBreak\":false},{\"valueType\":\"ALL\",\"boundingPoly\":{\"vertices\":[{\"x\":479.0,\"y\":205.0},{\"x\":503.0,\"y\":205.0},{\"x\":503.0,\"y\":214.0},{\"x\":479.0,\"y\":214.0}]},\"inferText\":\"\\xec\\x82\\xac\\xec\\x9a\\xa9\\xeb\\xaa\\xa9\\xec\\xa0\\x81\\xec\\x9d\\x84\",\"inferConfidence\":0.9613,\"type\":\"NORMAL\",\"lineBreak\":false},{\"valueType\":\"ALL\",\"boundingPoly\":{\"vertices\":[{\"x\":501.0,\"y\":205.0},{\"x\":530.0,\"y\":205.0},{\"x\":530.0,\"y\":214.0},{\"x\":501.0,\"y\":214.0}]},\"inferText\":\"\\xec\\x84\\xa0\\xed\\x83\\x9d\\xed\\x95\\xb4\\xec\\xa3\\xbc\\xec\\x84\\xb8\\xec\\x9a\\x94.\",\"inferConfidence\":0.9643,\"type\":\"NORMAL\",\"lineBreak\":true},{\"valueType\":\"ALL\",\"boundingPoly\":{\"vertices\":[{\"x\":584.0,\"y\":207.0},{\"x\":597.0,\"y\":207.0},{\"x\":597.0,\"y\":225.0},{\"x\":584.0,\"y\":225.0}]},\"inferText\":\"2\",\"inferConfidence\":1.0,\"type\":\"NORMAL\",\"lineBreak\":true},{\"valueType\":\"ALL\",\"boundingPoly\":{\"vertices\":[{\"x\":66.0,\"y\":232.0},{\"x\":89.0,\"y\":232.0},{\"x\":89.0,\"y\":241.0},{\"x\":66.0,\"y\":241.0}]},\"inferText\":\"\\xed\\x95\\xb4\\xec\\x96\\x91\\xec\\x88\\x98\\xec\\x82\\xb0\\xeb\\xb6\\x80\",\"inferConfidence\":0.9708,\"type\":\"NORMAL\",\"lineBreak\":false},{\"valueType\":\"ALL\",\"boundingPoly\":{\"vertices\":[{\"x\":88.0,\"y\":232.0},{\"x\":117.0,\"y\":232.0},{\"x\":117.0,\"y\":242.0},{\"x\":88.0,\"y\":242.0}]},\"inferText\":\"\\xeb\\xb6\\x80\\xec\\x82\\xb0\\xec\\xb6\\x9c\\xed\\x8c\\x90\\xea\\xb3\\xb5\\xec\\x82\\xac\",\"inferConfidence\":0.9978,\"type\":\"NORMAL\",\"lineBreak\":false},{\"valueType\":\"ALL\",\"boundingPoly\":{\"vertices\":[{\"x\":114.0,\"y\":232.0},{\"x\":140.0,\"y\":232.0},{\"x\":140.0,\"y\":242.0},{\"x\":114.0,\"y\":242.0}]},\"inferText\":\"\\xec\\x9d\\xb8\\xec\\xb2\\x9c\\xeb\\x8c\\x80\\xec\\x9d\\xb8\\xea\\xb3\\xb5\\xec\\x82\\xac\",\"inferConfidence\":0.7165,\"type\":\"NORMAL\",\"lineBreak\":false},{\"valueType\":\"ALL\",\"boundingPoly\":{\"vertices\":[{\"x\":156.0,\"y\":226.0},{\"x\":189.0,\"y\":226.0},{\"x\":189.0,\"y\":245.0},{\"x\":156.0,\"y\":245.0}]},\"inferText\":\"\\xed\\x95\\xb4\\xec\\x9a\\xb4\\xeb\\xaf\\xbc\\xec\\x9b\\x90\",\"inferConfidence\":1.0,\"type\":\"NORMAL\",\"lineBreak\":true},{\"valueType\":\"ALL\",\"boundingPoly\":{\"vertices\":[{\"x\":242.0,\"y\":236.0},{\"x\":277.0,\"y\":236.0},{\"x\":277.0,\"y\":247.0},{\"x\":242.0,\"y\":247.0}]},\"inferText\":\"\\xec\\x84\\xa0\\xed\\x83\\x9d\\xec\\x9e\\x85\\xec\\xb6\\x9c\\xed\\x95\\xad\\xed\\x98\\x84\\xed\\x99\\xa9\",\"inferConfidence\":0.9067,\"type\":\"NORMAL\",\"lineBreak\":false},{\"valueType\":\"ALL\",\"boundingPoly\":{\"vertices\":[{\"x\":287.0,\"y\":236.0},{\"x\":323.0,\"y\":236.0},{\"x\":323.0,\"y\":247.0},{\"x\":287.0,\"y\":247.0}]},\"inferText\":\"\\xed\\x8f\\xac\\xec\\x84\\xa0\\xeb\\xb3\\x84\\xea\\xb4\\x80\\xec\\xa0\\x9c\\xeb\\xa0\\xa8\\xed\\x99\\x9c\",\"inferConfidence\":0.7637,\"type\":\"NORMAL\",\"lineBreak\":false},{\"valueType\":\"ALL\",\"boundingPoly\":{\"vertices\":[{\"x\":332.0,\"y\":236.0},{\"x\":355.0,\"y\":236.0},{\"x\":355.0,\"y\":249.0},{\"x\":332.0,\"y\":249.0}]},\"inferText\":\"\\xec\\xa0\\x84\\xec\\x9e\\x90\\xeb\\xac\\xb8\\xec\\x84\\x9c\",\"inferConfidence\":0.9984,\"type\":\"NORMAL\",\"lineBreak\":false},{\"valueType\":\"ALL\",\"boundingPoly\":{\"vertices\":[{\"x\":352.0,\"y\":236.0},{\"x\":370.0,\"y\":236.0},{\"x\":370.0,\"y\":248.0},{\"x\":352.0,\"y\":248.0}]},\"inferText\":\"\\xec\\x9d\\x91\\xeb\\x8b\\xb5\\xec\\xa1\\xb0\",\"inferConfidence\":0.998,\"type\":\"NORMAL\",\"lineBreak\":false},{\"valueType\":\"ALL\",\"boundingPoly\":{\"vertices\":[{\"x\":381.0,\"y\":236.0},{\"x\":411.0,\"y\":236.0},{\"x\":411.0,\"y\":247.0},{\"x\":381.0,\"y\":247.0}]},\"inferText\":\"\\xea\\xb0\\x9c\\xeb\\xb0\\x95\\xec\\x84\\xa0\\xeb\\xb0\\x95\\xec\\x9b\\x90\\xed\\x99\\xa9\",\"inferConfidence\":0.8689,\"type\":\"NORMAL\",\"lineBreak\":false},{\"valueType\":\"ALL\",\"boundingPoly\":{\"vertices\":[{\"x\":453.0,\"y\":236.0},{\"x\":483.0,\"y\":236.0},{\"x\":483.0,\"y\":247.0},{\"x\":453.0,\"y\":247.0}]},\"inferText\":\"\\xed\\x95\\xad\\xeb\\xa7\\x8c\\xeb\\xaf\\xbc\\xec\\x9b\\x90\",\"inferConfidence\":0.9999,\"type\":\"NORMAL\",\"lineBreak\":false},{\"valueType\":\"ALL\",\"boundingPoly\":{\"vertices\":[{\"x\":482.0,\"y\":237.0},{\"x\":530.0,\"y\":237.0},{\"x\":530.0,\"y\":247.0},{\"x\":482.0,\"y\":247.0}]},\"inferText\":\"\\xed\\x95\\xad\\xeb\\xa7\\x8c\\xeb\\xaf\\xbc\\xec\\x9b\\x90\\xec\\x8b\\xa0\\xea\\xb3\\xa0\\xec\\x9e\\x90\",\"inferConfidence\":0.9987,\"type\":\"NORMAL\",\"lineBreak\":false},{\"valueType\":\"ALL\",\"boundingPoly\":{\"vertices\":[{\"x\":535.0,\"y\":238.0},{\"x\":668.0,\"y\":238.0},{\"x\":668.0,\"y\":247.0},{\"x\":535.0,\"y\":247.0}]},\"inferText\":\"\\xe4\\xb8\\xad\\xec\\xb0\\xbd \\xeb\\x93\\xb1\\xec\\x9d\\x84 \\xec\\x9d\\xb4\\xec\\x9a\\xa9\\xed\\x95\\x98\\xeb\\x8a\\x94 \\xec\\x82\\xac\\xec\\x9a\\xa9\\xec\\x9e\\x90\",\"inferConfidence\":0.3646,\"type\":\"NORMAL\",\"lineBreak\":false},{\"valueType\":\"ALL\",\"boundingPoly\":{\"vertices\":[{\"x\":673.0,\"y\":240.0},{\"x\":722.0,\"y\":240.0},{\"x\":722.0,\"y\":246.0},{\"x\":673.0,\"y\":246.0}]},\"inferText\":\"\\xea\\xb0\\x80\\xec\\x9e\\xa5\\xec\\x9e\\xa5\\xea\\xb8\\xb0\\xed\\x99\\x9c\\xeb\\x8f\\x99\\xed\\x97\\x88\\xea\\xb0\\x80\\xec\\x8b\\xa0\\xec\\xb2\\xad\\xec\\xa7\\x80\",\"inferConfidence\":0.7872,\"type\":\"NORMAL\",\"lineBreak\":true},{\"valueType\":\"ALL\",\"boundingPoly\":{\"vertices\":[{\"x\":65.0,\"y\":244.0},{\"x\":94.0,\"y\":244.0},{\"x\":94.0,\"y\":255.0},{\"x\":65.0,\"y\":255.0}]},\"inferText\":\"\\xec\\x9a\\xb8\\xec\\x82\\xb0\\xec\\x84\\xb8\\xec\\x9d\\xb8\\xea\\xb3\\xb5\\xec\\x82\\xac\",\"inferConfidence\":0.7595,\"type\":\"NORMAL\",\"lineBreak\":false},{\"valueType\":\"ALL\",\"boundingPoly\":{\"vertices\":[{\"x\":91.0,\"y\":244.0},{\"x\":126.0,\"y\":244.0},{\"x\":126.0,\"y\":256.0},{\"x\":91.0,\"y\":256.0}]},\"inferText\":\"\\xec\\x97\\xac\\xec\\x88\\x98\\xea\\xb4\\x91\\xec\\x98\\x81\\xeb\\xb0\\xa9\\xec\\x95\\x88\\xea\\xb3\\xb5\\xec\\x82\\xac\",\"inferConfidence\":0.8385,\"type\":\"NORMAL\",\"lineBreak\":true},{\"valueType\":\"ALL\",\"boundingPoly\":{\"vertices\":[{\"x\":348.0,\"y\":251.0},{\"x\":353.0,\"y\":251.0},{\"x\":353.0,\"y\":259.0},{\"x\":348.0,\"y\":259.0}]},\"inferText\":\"\\xed\\x98\\xb8\",\"inferConfidence\":0.9712,\"type\":\"NORMAL\",\"lineBreak\":true},{\"valueType\":\"ALL\",\"boundingPoly\":{\"vertices\":[{\"x\":454.0,\"y\":262.0},{\"x\":504.0,\"y\":261.0},{\"x\":505.0,\"y\":272.0},{\"x\":454.0,\"y\":273.0}]},\"inferText\":\"\\xed\\x95\\xad\\xeb\\xa7\\x8c\\xeb\\xaf\\xbc\\xec\\x9b\\x90 \\xec\\x98\\x88\\xec\\x84\\xa0\\xec\\x82\\xac\",\"inferConfidence\":0.9949,\"type\":\"NORMAL\",\"lineBreak\":false},{\"valueType\":\"ALL\",\"boundingPoly\":{\"vertices\":[{\"x\":507.0,\"y\":265.0},{\"x\":584.0,\"y\":265.0},{\"x\":584.0,\"y\":271.0},{\"x\":507.0,\"y\":271.0}]},\"inferText\":\"8\\xeb\\xaa\\x85 \\xec\\xb5\\x9c\\xea\\xb3\\xa0\",\"inferConfidence\":0.4581,\"type\":\"NORMAL\",\"lineBreak\":true},{\"valueType\":\"ALL\",\"boundingPoly\":{\"vertices\":[{\"x\":453.0,\"y\":286.0},{\"x\":484.0,\"y\":286.0},{\"x\":484.0,\"y\":299.0},{\"x\":453.0,\"y\":299.0}]},\"inferText\":\"\\xed\\x95\\xad\\xeb\\xa7\\x8c\\xec\\x9d\\xb8\\xec\\x9b\\x90_\",\"inferConfidence\":0.9815,\"type\":\"NORMAL\",\"lineBreak\":false},{\"valueType\":\"ALL\",\"boundingPoly\":{\"vertices\":[{\"x\":482.0,\"y\":286.0},{\"x\":504.0,\"y\":286.0},{\"x\":504.0,\"y\":298.0},{\"x\":482.0,\"y\":298.0}]},\"inferText\":\"\\xea\\xb2\\xbd\\xec\\x9d\\xb8\\xed\\x95\\xad\",\"inferConfidence\":0.8999,\"type\":\"NORMAL\",\"lineBreak\":false},{\"valueType\":\"ALL\",\"boundingPoly\":{\"vertices\":[{\"x\":507.0,\"y\":289.0},{\"x\":595.0,\"y\":289.0},{\"x\":595.0,\"y\":298.0},{\"x\":507.0,\"y\":298.0}]},\"inferText\":\"\\xea\\xb4\\x91\\xec\\xa7\\x84\\xeb\\x8f\\x85\\xeb\\xa6\\xbd\\xec\\x9a\\xb4\\xec\\x9e\\x84\\xec\\x9d\\x84\\xea\\xb0\\x80\\xec\\x9d\\xb4\\xed\\x86\\xb5\\xec\\x8b\\xa0\\xea\\xb3\\xa0\\xeb\\xa5\\xbc\\xec\\x9d\\xb4\\xec\\x9a\\xa9\\xed\\x95\\x98\\xeb\\x8a\\x94 \\xec\\x82\\xac\\xec\\x9a\\xa9\\xec\\x9e\\x90\",\"inferConfidence\":0.7977,\"type\":\"NORMAL\",\"lineBreak\":true},{\"valueType\":\"ALL\",\"boundingPoly\":{\"vertices\":[{\"x\":156.0,\"y\":313.0},{\"x\":201.0,\"y\":313.0},{\"x\":201.0,\"y\":330.0},{\"x\":156.0,\"y\":330.0}]},\"inferText\":\"\\xed\\x95\\xad\\xeb\\xa7\\x8c\\xeb\\xac\\xbc\\xeb\\xa5\\x98\\xed\\x86\\xb5\\xea\\xb3\\x84\",\"inferConfidence\":0.9903,\"type\":\"NORMAL\",\"lineBreak\":false},{\"valueType\":\"ALL\",\"boundingPoly\":{\"vertices\":[{\"x\":453.0,\"y\":312.0},{\"x\":481.0,\"y\":312.0},{\"x\":481.0,\"y\":323.0},{\"x\":453.0,\"y\":323.0}]},\"inferText\":\"\\xed\\x95\\xb4\\xec\\x9a\\xb4\\xeb\\xaf\\xbc\\xec\\x9b\\x90\",\"inferConfidence\":0.9997,\"type\":\"NORMAL\",\"lineBreak\":false},{\"valueType\":\"ALL\",\"boundingPoly\":{\"vertices\":[{\"x\":486.0,\"y\":316.0},{\"x\":528.0,\"y\":316.0},{\"x\":528.0,\"y\":323.0},{\"x\":486.0,\"y\":323.0}]},\"inferText\":\"###\",\"inferConfidence\":0.7397,\"type\":\"NORMAL\",\"lineBreak\":false},{\"valueType\":\"ALL\",\"boundingPoly\":{\"vertices\":[{\"x\":531.0,\"y\":315.0},{\"x\":647.0,\"y\":315.0},{\"x\":647.0,\"y\":323.0},{\"x\":531.0,\"y\":323.0}]},\"inferText\":\"\\xeb\\xa7\\xa4\\xec\\x9a\\xb4\\xec\\x8b\\x9c\\xec\\x97\\x85\\xec\\x9e\\x90 \\xeb\\xaa\\xa8\\xeb\\x93\\x9c\\xeb\\xa5\\xbc \\xec\\x9d\\xb4\\xec\\x9a\\xa9\\xeb\\x90\\x98\\xeb\\x8a\\x94 \\xec\\x82\\xac\\xec\\x9a\\xa9\\xec\\x9e\\x90 \\xeb\\xb6\\x84###\",\"inferConfidence\":0.6109,\"type\":\"NORMAL\",\"lineBreak\":true},{\"valueType\":\"ALL\",\"boundingPoly\":{\"vertices\":[{\"x\":242.0,\"y\":337.0},{\"x\":277.0,\"y\":337.0},{\"x\":277.0,\"y\":348.0},{\"x\":242.0,\"y\":348.0}]},\"inferText\":\"\\xec\\x9c\\x84\\xed\\x97\\x98\\xeb\\xac\\xbc\\xeb\\xb0\\x98\\xec\\x9e\\x85\\xec\\x8b\\xa0\\xea\\xb3\\xa0\",\"inferConfidence\":0.9977,\"type\":\"NORMAL\",\"lineBreak\":false},{\"valueType\":\"ALL\",\"boundingPoly\":{\"vertices\":[{\"x\":288.0,\"y\":338.0},{\"x\":323.0,\"y\":338.0},{\"x\":323.0,\"y\":347.0},{\"x\":288.0,\"y\":347.0}]},\"inferText\":\"\\xed\\x99\\x94\\xeb\\xac\\xbc\\xeb\\xa1\\x9c\\xec\\x8b\\xa0\\xea\\xb3\\xa0\\xed\\x95\\x98\\xeb\\x8b\\xa4\",\"inferConfidence\":0.8288,\"type\":\"NORMAL\",\"lineBreak\":false},{\"valueType\":\"ALL\",\"boundingPoly\":{\"vertices\":[{\"x\":338.0,\"y\":337.0},{\"x\":365.0,\"y\":337.0},{\"x\":365.0,\"y\":349.0},{\"x\":338.0,\"y\":349.0}]},\"inferText\":\"\\xec\\xa7\\x91\\xea\\xb3\\x84\\xed\\x91\\x9c\\xec\\xa0\\x95\\xeb\\xb3\\xb4\",\"inferConfidence\":0.9813,\"type\":\"NORMAL\",\"lineBreak\":false},{\"valueType\":\"ALL\",\"boundingPoly\":{\"vertices\":[{\"x\":378.0,\"y\":337.0},{\"x\":414.0,\"y\":337.0},{\"x\":414.0,\"y\":348.0},{\"x\":378.0,\"y\":348.0}]},\"inferText\":\"\\xec\\x8b\\x9c\\xec\\x84\\xa4\\xec\\xa0\\x9c\\xec\\x9b\\x90\\xec\\xbd\\x94\\xeb\\x93\\x9c\\xec\\xa1\\xb0\",\"inferConfidence\":0.9828,\"type\":\"NORMAL\",\"lineBreak\":true},{\"valueType\":\"ALL\",\"boundingPoly\":{\"vertices\":[{\"x\":255.0,\"y\":351.0},{\"x\":265.0,\"y\":351.0},{\"x\":265.0,\"y\":361.0},{\"x\":255.0,\"y\":361.0}]},\"inferText\":\"\\xec\\x97\\xb0\\xec\\x86\\x8d\",\"inferConfidence\":0.2605,\"type\":\"NORMAL\",\"lineBreak\":false},{\"valueType\":\"ALL\",\"boundingPoly\":{\"vertices\":[{\"x\":291.0,\"y\":350.0},{\"x\":320.0,\"y\":350.0},{\"x\":320.0,\"y\":361.0},{\"x\":291.0,\"y\":361.0}]},\"inferText\":\"[\\xed\\x95\\x9c\\xea\\xb8\\x80\\xec\\x9e\\x85\\xeb\\x8c\\x80\\xeb\\xb9\\x84]\",\"inferConfidence\":0.7958,\"type\":\"NORMAL\",\"lineBreak\":false},{\"valueType\":\"ALL\",\"boundingPoly\":{\"vertices\":[{\"x\":394.0,\"y\":352.0},{\"x\":399.0,\"y\":352.0},{\"x\":399.0,\"y\":359.0},{\"x\":394.0,\"y\":359.0}]},\"inferText\":\":\",\"inferConfidence\":0.6315,\"type\":\"NORMAL\",\"lineBreak\":false},{\"valueType\":\"ALL\",\"boundingPoly\":{\"vertices\":[{\"x\":559.0,\"y\":349.0},{\"x\":569.0,\"y\":349.0},{\"x\":569.0,\"y\":363.0},{\"x\":559.0,\"y\":363.0}]},\"inferText\":\"3\",\"inferConfidence\":0.9997,\"type\":\"NORMAL\",\"lineBreak\":true},{\"valueType\":\"ALL\",\"boundingPoly\":{\"vertices\":[{\"x\":592.0,\"y\":356.0},{\"x\":601.0,\"y\":356.0},{\"x\":601.0,\"y\":362.0},{\"x\":592.0,\"y\":362.0}]},\"inferText\":\"0\",\"inferConfidence\":0.3394,\"type\":\"NORMAL\",\"lineBreak\":true},{\"valueType\":\"ALL\",\"boundingPoly\":{\"vertices\":[{\"x\":78.0,\"y\":413.0},{\"x\":87.0,\"y\":413.0},{\"x\":87.0,\"y\":428.0},{\"x\":78.0,\"y\":428.0}]},\"inferText\":\"1\",\"inferConfidence\":1.0,\"type\":\"NORMAL\",\"lineBreak\":false},{\"valueType\":\"ALL\",\"boundingPoly\":{\"vertices\":[{\"x\":100.0,\"y\":412.0},{\"x\":148.0,\"y\":412.0},{\"x\":148.0,\"y\":429.0},{\"x\":100.0,\"y\":429.0}]},\"inferText\":\"\\xed\\x9a\\x8c\\xec\\x9b\\x90\\xea\\xb0\\x80\\xec\\x9e\\x85\",\"inferConfidence\":1.0,\"type\":\"NORMAL\",\"lineBreak\":false},{\"valueType\":\"ALL\",\"boundingPoly\":{\"vertices\":[{\"x\":149.0,\"y\":413.0},{\"x\":174.0,\"y\":413.0},{\"x\":174.0,\"y\":429.0},{\"x\":149.0,\"y\":429.0}]},\"inferText\":\"\\xeb\\xb2\\x84\\xed\\x8a\\xbc\",\"inferConfidence\":1.0,\"type\":\"NORMAL\",\"lineBreak\":false},{\"valueType\":\"ALL\",\"boundingPoly\":{\"vertices\":[{\"x\":174.0,\"y\":413.0},{\"x\":199.0,\"y\":413.0},{\"x\":199.0,\"y\":429.0},{\"x\":174.0,\"y\":429.0}]},\"inferText\":\"\\xed\\x81\\xb4\\xeb\\xa6\\xad\",\"inferConfidence\":0.9999,\"type\":\"NORMAL\",\"lineBreak\":true},{\"valueType\":\"ALL\",\"boundingPoly\":{\"vertices\":[{\"x\":77.0,\"y\":443.0},{\"x\":89.0,\"y\":443.0},{\"x\":89.0,\"y\":460.0},{\"x\":77.0,\"y\":460.0}]},\"inferText\":\"2\",\"inferConfidence\":1.0,\"type\":\"NORMAL\",\"lineBreak\":false},{\"valueType\":\"ALL\",\"boundingPoly\":{\"vertices\":[{\"x\":100.0,\"y\":443.0},{\"x\":126.0,\"y\":443.0},{\"x\":126.0,\"y\":459.0},{\"x\":100.0,\"y\":459.0}]},\"inferText\":\"\\xec\\x82\\xac\\xec\\x9a\\xa9\",\"inferConfidence\":1.0,\"type\":\"NORMAL\",\"lineBreak\":false},{\"valueType\":\"ALL\",\"boundingPoly\":{\"vertices\":[{\"x\":126.0,\"y\":443.0},{\"x\":162.0,\"y\":443.0},{\"x\":162.0,\"y\":459.0},{\"x\":126.0,\"y\":459.0}]},\"inferText\":\"\\xeb\\xaa\\xa9\\xec\\xa0\\x81\\xec\\x97\\x90\",\"inferConfidence\":1.0,\"type\":\"NORMAL\",\"lineBreak\":false},{\"valueType\":\"ALL\",\"boundingPoly\":{\"vertices\":[{\"x\":163.0,\"y\":443.0},{\"x\":189.0,\"y\":443.0},{\"x\":189.0,\"y\":459.0},{\"x\":163.0,\"y\":459.0}]},\"inferText\":\"\\xeb\\xa7\\x9e\\xeb\\x8a\\x94\",\"inferConfidence\":0.9997,\"type\":\"NORMAL\",\"lineBreak\":false},{\"valueType\":\"ALL\",\"boundingPoly\":{\"vertices\":[{\"x\":189.0,\"y\":443.0},{\"x\":237.0,\"y\":443.0},{\"x\":237.0,\"y\":459.0},{\"x\":189.0,\"y\":459.0}]},\"inferText\":\"\\xeb\\xaf\\xbc\\xec\\x9b\\x90\\xec\\x8b\\xa0\\xea\\xb3\\xa0\",\"inferConfidence\":1.0,\"type\":\"NORMAL\",\"lineBreak\":false},{\"valueType\":\"ALL\",\"boundingPoly\":{\"vertices\":[{\"x\":237.0,\"y\":443.0},{\"x\":262.0,\"y\":443.0},{\"x\":262.0,\"y\":459.0},{\"x\":237.0,\"y\":459.0}]},\"inferText\":\"\\xeb\\x82\\xb4\\xec\\x9a\\xa9\",\"inferConfidence\":1.0,\"type\":\"NORMAL\",\"lineBreak\":false},{\"valueType\":\"ALL\",\"boundingPoly\":{\"vertices\":[{\"x\":262.0,\"y\":443.0},{\"x\":288.0,\"y\":443.0},{\"x\":288.0,\"y\":459.0},{\"x\":262.0,\"y\":459.0}]},\"inferText\":\"\\xec\\x84\\xa0\\xed\\x83\\x9d\",\"inferConfidence\":1.0,\"type\":\"NORMAL\",\"lineBreak\":true},{\"valueType\":\"ALL\",\"boundingPoly\":{\"vertices\":[{\"x\":77.0,\"y\":474.0},{\"x\":89.0,\"y\":474.0},{\"x\":89.0,\"y\":490.0},{\"x\":77.0,\"y\":490.0}]},\"inferText\":\"3\",\"inferConfidence\":0.9996,\"type\":\"NORMAL\",\"lineBreak\":false},{\"valueType\":\"ALL\",\"boundingPoly\":{\"vertices\":[{\"x\":101.0,\"y\":474.0},{\"x\":126.0,\"y\":474.0},{\"x\":126.0,\"y\":489.0},{\"x\":101.0,\"y\":489.0}]},\"inferText\":\"\\xeb\\x8b\\xa4\\xec\\x9d\\x8c\",\"inferConfidence\":1.0,\"type\":\"NORMAL\",\"lineBreak\":false},{\"valueType\":\"ALL\",\"boundingPoly\":{\"vertices\":[{\"x\":126.0,\"y\":474.0},{\"x\":151.0,\"y\":474.0},{\"x\":151.0,\"y\":489.0},{\"x\":126.0,\"y\":489.0}]},\"inferText\":\"\\xeb\\xb2\\x84\\xed\\x8a\\xbc\",\"inferConfidence\":1.0,\"type\":\"NORMAL\",\"lineBreak\":false},{\"valueType\":\"ALL\",\"boundingPoly\":{\"vertices\":[{\"x\":151.0,\"y\":474.0},{\"x\":177.0,\"y\":474.0},{\"x\":177.0,\"y\":490.0},{\"x\":151.0,\"y\":490.0}]},\"inferText\":\"\\xed\\x81\\xb4\\xeb\\xa6\\xad\",\"inferConfidence\":1.0,\"type\":\"NORMAL\",\"lineBreak\":true},{\"valueType\":\"ALL\",\"boundingPoly\":{\"vertices\":[{\"x\":39.0,\"y\":572.0},{\"x\":68.0,\"y\":572.0},{\"x\":68.0,\"y\":579.0},{\"x\":39.0,\"y\":579.0}]},\"inferText\":\"\\xed\\x95\\xb4\\xec\\x96\\x91\\xec\\x8a\\xa4\\xec\\x82\\xb0\\xeb\\xb8\\x8c\",\"inferConfidence\":0.9222,\"type\":\"NORMAL\",\"lineBreak\":true}]}]}'\n"
          ]
        }
      ]
    },
    {
      "cell_type": "code",
      "source": [
        "print(response.text)"
      ],
      "metadata": {
        "colab": {
          "base_uri": "https://localhost:8080/"
        },
        "id": "zxdKTk6sevS7",
        "outputId": "bdc1cbf9-7e22-47de-ce99-b0dd32d3da7b"
      },
      "execution_count": null,
      "outputs": [
        {
          "output_type": "stream",
          "name": "stdout",
          "text": [
            "{\"version\":\"V2\",\"requestId\":\"d4e349e5-ce29-43c9-8898-037bac5cd5f7\",\"timestamp\":1720951988861,\"images\":[{\"uid\":\"e4f37a995663456b9a42428e681f5a06\",\"name\":\"demo\",\"inferResult\":\"SUCCESS\",\"message\":\"SUCCESS\",\"validationResult\":{\"result\":\"NO_REQUESTED\"},\"convertedImageInfo\":{\"width\":842,\"height\":596,\"pageIndex\":0,\"longImage\":false},\"fields\":[{\"valueType\":\"ALL\",\"boundingPoly\":{\"vertices\":[{\"x\":93.0,\"y\":25.0},{\"x\":238.0,\"y\":25.0},{\"x\":238.0,\"y\":49.0},{\"x\":93.0,\"y\":49.0}]},\"inferText\":\"포트미스회원가입\",\"inferConfidence\":0.9871,\"type\":\"NORMAL\",\"lineBreak\":false},{\"valueType\":\"ALL\",\"boundingPoly\":{\"vertices\":[{\"x\":718.0,\"y\":38.0},{\"x\":754.0,\"y\":38.0},{\"x\":754.0,\"y\":48.0},{\"x\":718.0,\"y\":48.0}]},\"inferText\":\"포트미스\",\"inferConfidence\":1.0,\"type\":\"NORMAL\",\"lineBreak\":false},{\"valueType\":\"ALL\",\"boundingPoly\":{\"vertices\":[{\"x\":754.0,\"y\":37.0},{\"x\":791.0,\"y\":37.0},{\"x\":791.0,\"y\":48.0},{\"x\":754.0,\"y\":48.0}]},\"inferText\":\"회원가입\",\"inferConfidence\":1.0,\"type\":\"NORMAL\",\"lineBreak\":true},{\"valueType\":\"ALL\",\"boundingPoly\":{\"vertices\":[{\"x\":343.0,\"y\":72.0},{\"x\":471.0,\"y\":72.0},{\"x\":471.0,\"y\":92.0},{\"x\":343.0,\"y\":92.0}]},\"inferText\":\"회원가입 - 회원가입\",\"inferConfidence\":0.9759,\"type\":\"NORMAL\",\"lineBreak\":false},{\"valueType\":\"ALL\",\"boundingPoly\":{\"vertices\":[{\"x\":471.0,\"y\":72.0},{\"x\":504.0,\"y\":72.0},{\"x\":504.0,\"y\":93.0},{\"x\":471.0,\"y\":93.0}]},\"inferText\":\"절차\",\"inferConfidence\":1.0,\"type\":\"NORMAL\",\"lineBreak\":true},{\"valueType\":\"ALL\",\"boundingPoly\":{\"vertices\":[{\"x\":422.0,\"y\":110.0},{\"x\":450.0,\"y\":110.0},{\"x\":450.0,\"y\":123.0},{\"x\":422.0,\"y\":123.0}]},\"inferText\":\"회원가입\",\"inferConfidence\":0.9998,\"type\":\"NORMAL\",\"lineBreak\":true},{\"valueType\":\"ALL\",\"boundingPoly\":{\"vertices\":[{\"x\":364.0,\"y\":132.0},{\"x\":376.0,\"y\":132.0},{\"x\":376.0,\"y\":138.0},{\"x\":364.0,\"y\":138.0}]},\"inferText\":\"000\",\"inferConfidence\":0.9178,\"type\":\"NORMAL\",\"lineBreak\":false},{\"valueType\":\"ALL\",\"boundingPoly\":{\"vertices\":[{\"x\":395.0,\"y\":129.0},{\"x\":410.0,\"y\":129.0},{\"x\":410.0,\"y\":141.0},{\"x\":395.0,\"y\":141.0}]},\"inferText\":\"로그인\",\"inferConfidence\":0.9765,\"type\":\"NORMAL\",\"lineBreak\":true},{\"valueType\":\"ALL\",\"boundingPoly\":{\"vertices\":[{\"x\":156.0,\"y\":140.0},{\"x\":189.0,\"y\":140.0},{\"x\":189.0,\"y\":159.0},{\"x\":156.0,\"y\":159.0}]},\"inferText\":\"항만민원\",\"inferConfidence\":0.9999,\"type\":\"NORMAL\",\"lineBreak\":false},{\"valueType\":\"ALL\",\"boundingPoly\":{\"vertices\":[{\"x\":380.0,\"y\":143.0},{\"x\":389.0,\"y\":143.0},{\"x\":389.0,\"y\":156.0},{\"x\":380.0,\"y\":156.0}]},\"inferText\":\"1\",\"inferConfidence\":0.9998,\"type\":\"NORMAL\",\"lineBreak\":true},{\"valueType\":\"ALL\",\"boundingPoly\":{\"vertices\":[{\"x\":434.0,\"y\":153.0},{\"x\":444.0,\"y\":153.0},{\"x\":444.0,\"y\":162.0},{\"x\":434.0,\"y\":162.0}]},\"inferText\":\"01\",\"inferConfidence\":0.9982,\"type\":\"NORMAL\",\"lineBreak\":false},{\"valueType\":\"ALL\",\"boundingPoly\":{\"vertices\":[{\"x\":446.0,\"y\":151.0},{\"x\":474.0,\"y\":151.0},{\"x\":474.0,\"y\":162.0},{\"x\":446.0,\"y\":162.0}]},\"inferText\":\"사용목적\",\"inferConfidence\":1.0,\"type\":\"NORMAL\",\"lineBreak\":false},{\"valueType\":\"ALL\",\"boundingPoly\":{\"vertices\":[{\"x\":475.0,\"y\":152.0},{\"x\":489.0,\"y\":152.0},{\"x\":489.0,\"y\":162.0},{\"x\":475.0,\"y\":162.0}]},\"inferText\":\"선택\",\"inferConfidence\":1.0,\"type\":\"NORMAL\",\"lineBreak\":false},{\"valueType\":\"ALL\",\"boundingPoly\":{\"vertices\":[{\"x\":519.0,\"y\":152.0},{\"x\":531.0,\"y\":152.0},{\"x\":531.0,\"y\":163.0},{\"x\":519.0,\"y\":163.0}]},\"inferText\":\"02\",\"inferConfidence\":0.9998,\"type\":\"NORMAL\",\"lineBreak\":false},{\"valueType\":\"ALL\",\"boundingPoly\":{\"vertices\":[{\"x\":532.0,\"y\":151.0},{\"x\":559.0,\"y\":151.0},{\"x\":559.0,\"y\":162.0},{\"x\":532.0,\"y\":162.0}]},\"inferText\":\"약관동의\",\"inferConfidence\":0.9994,\"type\":\"NORMAL\",\"lineBreak\":false},{\"valueType\":\"ALL\",\"boundingPoly\":{\"vertices\":[{\"x\":619.0,\"y\":152.0},{\"x\":647.0,\"y\":152.0},{\"x\":647.0,\"y\":162.0},{\"x\":619.0,\"y\":162.0}]},\"inferText\":\"회원정보\",\"inferConfidence\":0.9998,\"type\":\"NORMAL\",\"lineBreak\":false},{\"valueType\":\"ALL\",\"boundingPoly\":{\"vertices\":[{\"x\":647.0,\"y\":151.0},{\"x\":661.0,\"y\":151.0},{\"x\":661.0,\"y\":162.0},{\"x\":647.0,\"y\":162.0}]},\"inferText\":\"입력\",\"inferConfidence\":0.9896,\"type\":\"NORMAL\",\"lineBreak\":false},{\"valueType\":\"ALL\",\"boundingPoly\":{\"vertices\":[{\"x\":704.0,\"y\":152.0},{\"x\":732.0,\"y\":152.0},{\"x\":732.0,\"y\":162.0},{\"x\":704.0,\"y\":162.0}]},\"inferText\":\"회원신청\",\"inferConfidence\":1.0,\"type\":\"NORMAL\",\"lineBreak\":false},{\"valueType\":\"ALL\",\"boundingPoly\":{\"vertices\":[{\"x\":731.0,\"y\":150.0},{\"x\":749.0,\"y\":150.0},{\"x\":749.0,\"y\":163.0},{\"x\":731.0,\"y\":163.0}]},\"inferText\":\"완료\",\"inferConfidence\":1.0,\"type\":\"NORMAL\",\"lineBreak\":true},{\"valueType\":\"ALL\",\"boundingPoly\":{\"vertices\":[{\"x\":65.0,\"y\":169.0},{\"x\":134.0,\"y\":170.0},{\"x\":134.0,\"y\":185.0},{\"x\":65.0,\"y\":184.0}]},\"inferText\":\"해운항만물류정보시스템\",\"inferConfidence\":0.9963,\"type\":\"NORMAL\",\"lineBreak\":true},{\"valueType\":\"ALL\",\"boundingPoly\":{\"vertices\":[{\"x\":428.0,\"y\":193.0},{\"x\":447.0,\"y\":193.0},{\"x\":447.0,\"y\":201.0},{\"x\":428.0,\"y\":201.0}]},\"inferText\":\"해운했단\",\"inferConfidence\":0.7174,\"type\":\"NORMAL\",\"lineBreak\":false},{\"valueType\":\"ALL\",\"boundingPoly\":{\"vertices\":[{\"x\":446.0,\"y\":194.0},{\"x\":469.0,\"y\":194.0},{\"x\":469.0,\"y\":202.0},{\"x\":446.0,\"y\":202.0}]},\"inferText\":\"민원신고를\",\"inferConfidence\":0.8781,\"type\":\"NORMAL\",\"lineBreak\":false},{\"valueType\":\"ALL\",\"boundingPoly\":{\"vertices\":[{\"x\":468.0,\"y\":194.0},{\"x\":487.0,\"y\":194.0},{\"x\":487.0,\"y\":202.0},{\"x\":468.0,\"y\":202.0}]},\"inferText\":\"위에서는\",\"inferConfidence\":0.6779,\"type\":\"NORMAL\",\"lineBreak\":false},{\"valueType\":\"ALL\",\"boundingPoly\":{\"vertices\":[{\"x\":486.0,\"y\":193.0},{\"x\":510.0,\"y\":193.0},{\"x\":510.0,\"y\":203.0},{\"x\":486.0,\"y\":203.0}]},\"inferText\":\"효용기업이\",\"inferConfidence\":0.886,\"type\":\"NORMAL\",\"lineBreak\":false},{\"valueType\":\"ALL\",\"boundingPoly\":{\"vertices\":[{\"x\":508.0,\"y\":193.0},{\"x\":532.0,\"y\":193.0},{\"x\":532.0,\"y\":201.0},{\"x\":508.0,\"y\":201.0}]},\"inferText\":\"필요합니다\",\"inferConfidence\":0.9997,\"type\":\"NORMAL\",\"lineBreak\":true},{\"valueType\":\"ALL\",\"boundingPoly\":{\"vertices\":[{\"x\":65.0,\"y\":197.0},{\"x\":142.0,\"y\":197.0},{\"x\":142.0,\"y\":226.0},{\"x\":65.0,\"y\":226.0}]},\"inferText\":\"PORT-MIS\",\"inferConfidence\":0.9984,\"type\":\"NORMAL\",\"lineBreak\":false},{\"valueType\":\"ALL\",\"boundingPoly\":{\"vertices\":[{\"x\":428.0,\"y\":205.0},{\"x\":481.0,\"y\":205.0},{\"x\":481.0,\"y\":214.0},{\"x\":428.0,\"y\":214.0}]},\"inferText\":\"해운항만물류꿀보시스장의\",\"inferConfidence\":0.9368,\"type\":\"NORMAL\",\"lineBreak\":false},{\"valueType\":\"ALL\",\"boundingPoly\":{\"vertices\":[{\"x\":479.0,\"y\":205.0},{\"x\":503.0,\"y\":205.0},{\"x\":503.0,\"y\":214.0},{\"x\":479.0,\"y\":214.0}]},\"inferText\":\"사용목적을\",\"inferConfidence\":0.9613,\"type\":\"NORMAL\",\"lineBreak\":false},{\"valueType\":\"ALL\",\"boundingPoly\":{\"vertices\":[{\"x\":501.0,\"y\":205.0},{\"x\":530.0,\"y\":205.0},{\"x\":530.0,\"y\":214.0},{\"x\":501.0,\"y\":214.0}]},\"inferText\":\"선택해주세요.\",\"inferConfidence\":0.9643,\"type\":\"NORMAL\",\"lineBreak\":true},{\"valueType\":\"ALL\",\"boundingPoly\":{\"vertices\":[{\"x\":584.0,\"y\":207.0},{\"x\":597.0,\"y\":207.0},{\"x\":597.0,\"y\":225.0},{\"x\":584.0,\"y\":225.0}]},\"inferText\":\"2\",\"inferConfidence\":1.0,\"type\":\"NORMAL\",\"lineBreak\":true},{\"valueType\":\"ALL\",\"boundingPoly\":{\"vertices\":[{\"x\":66.0,\"y\":232.0},{\"x\":89.0,\"y\":232.0},{\"x\":89.0,\"y\":241.0},{\"x\":66.0,\"y\":241.0}]},\"inferText\":\"해양수산부\",\"inferConfidence\":0.9708,\"type\":\"NORMAL\",\"lineBreak\":false},{\"valueType\":\"ALL\",\"boundingPoly\":{\"vertices\":[{\"x\":88.0,\"y\":232.0},{\"x\":117.0,\"y\":232.0},{\"x\":117.0,\"y\":242.0},{\"x\":88.0,\"y\":242.0}]},\"inferText\":\"부산출판공사\",\"inferConfidence\":0.9978,\"type\":\"NORMAL\",\"lineBreak\":false},{\"valueType\":\"ALL\",\"boundingPoly\":{\"vertices\":[{\"x\":114.0,\"y\":232.0},{\"x\":140.0,\"y\":232.0},{\"x\":140.0,\"y\":242.0},{\"x\":114.0,\"y\":242.0}]},\"inferText\":\"인천대인공사\",\"inferConfidence\":0.7165,\"type\":\"NORMAL\",\"lineBreak\":false},{\"valueType\":\"ALL\",\"boundingPoly\":{\"vertices\":[{\"x\":156.0,\"y\":226.0},{\"x\":189.0,\"y\":226.0},{\"x\":189.0,\"y\":245.0},{\"x\":156.0,\"y\":245.0}]},\"inferText\":\"해운민원\",\"inferConfidence\":1.0,\"type\":\"NORMAL\",\"lineBreak\":true},{\"valueType\":\"ALL\",\"boundingPoly\":{\"vertices\":[{\"x\":242.0,\"y\":236.0},{\"x\":277.0,\"y\":236.0},{\"x\":277.0,\"y\":247.0},{\"x\":242.0,\"y\":247.0}]},\"inferText\":\"선택입출항현황\",\"inferConfidence\":0.9067,\"type\":\"NORMAL\",\"lineBreak\":false},{\"valueType\":\"ALL\",\"boundingPoly\":{\"vertices\":[{\"x\":287.0,\"y\":236.0},{\"x\":323.0,\"y\":236.0},{\"x\":323.0,\"y\":247.0},{\"x\":287.0,\"y\":247.0}]},\"inferText\":\"포선별관제련활\",\"inferConfidence\":0.7637,\"type\":\"NORMAL\",\"lineBreak\":false},{\"valueType\":\"ALL\",\"boundingPoly\":{\"vertices\":[{\"x\":332.0,\"y\":236.0},{\"x\":355.0,\"y\":236.0},{\"x\":355.0,\"y\":249.0},{\"x\":332.0,\"y\":249.0}]},\"inferText\":\"전자문서\",\"inferConfidence\":0.9984,\"type\":\"NORMAL\",\"lineBreak\":false},{\"valueType\":\"ALL\",\"boundingPoly\":{\"vertices\":[{\"x\":352.0,\"y\":236.0},{\"x\":370.0,\"y\":236.0},{\"x\":370.0,\"y\":248.0},{\"x\":352.0,\"y\":248.0}]},\"inferText\":\"응답조\",\"inferConfidence\":0.998,\"type\":\"NORMAL\",\"lineBreak\":false},{\"valueType\":\"ALL\",\"boundingPoly\":{\"vertices\":[{\"x\":381.0,\"y\":236.0},{\"x\":411.0,\"y\":236.0},{\"x\":411.0,\"y\":247.0},{\"x\":381.0,\"y\":247.0}]},\"inferText\":\"개박선박원황\",\"inferConfidence\":0.8689,\"type\":\"NORMAL\",\"lineBreak\":false},{\"valueType\":\"ALL\",\"boundingPoly\":{\"vertices\":[{\"x\":453.0,\"y\":236.0},{\"x\":483.0,\"y\":236.0},{\"x\":483.0,\"y\":247.0},{\"x\":453.0,\"y\":247.0}]},\"inferText\":\"항만민원\",\"inferConfidence\":0.9999,\"type\":\"NORMAL\",\"lineBreak\":false},{\"valueType\":\"ALL\",\"boundingPoly\":{\"vertices\":[{\"x\":482.0,\"y\":237.0},{\"x\":530.0,\"y\":237.0},{\"x\":530.0,\"y\":247.0},{\"x\":482.0,\"y\":247.0}]},\"inferText\":\"항만민원신고자\",\"inferConfidence\":0.9987,\"type\":\"NORMAL\",\"lineBreak\":false},{\"valueType\":\"ALL\",\"boundingPoly\":{\"vertices\":[{\"x\":535.0,\"y\":238.0},{\"x\":668.0,\"y\":238.0},{\"x\":668.0,\"y\":247.0},{\"x\":535.0,\"y\":247.0}]},\"inferText\":\"中창 등을 이용하는 사용자\",\"inferConfidence\":0.3646,\"type\":\"NORMAL\",\"lineBreak\":false},{\"valueType\":\"ALL\",\"boundingPoly\":{\"vertices\":[{\"x\":673.0,\"y\":240.0},{\"x\":722.0,\"y\":240.0},{\"x\":722.0,\"y\":246.0},{\"x\":673.0,\"y\":246.0}]},\"inferText\":\"가장장기활동허가신청지\",\"inferConfidence\":0.7872,\"type\":\"NORMAL\",\"lineBreak\":true},{\"valueType\":\"ALL\",\"boundingPoly\":{\"vertices\":[{\"x\":65.0,\"y\":244.0},{\"x\":94.0,\"y\":244.0},{\"x\":94.0,\"y\":255.0},{\"x\":65.0,\"y\":255.0}]},\"inferText\":\"울산세인공사\",\"inferConfidence\":0.7595,\"type\":\"NORMAL\",\"lineBreak\":false},{\"valueType\":\"ALL\",\"boundingPoly\":{\"vertices\":[{\"x\":91.0,\"y\":244.0},{\"x\":126.0,\"y\":244.0},{\"x\":126.0,\"y\":256.0},{\"x\":91.0,\"y\":256.0}]},\"inferText\":\"여수광영방안공사\",\"inferConfidence\":0.8385,\"type\":\"NORMAL\",\"lineBreak\":true},{\"valueType\":\"ALL\",\"boundingPoly\":{\"vertices\":[{\"x\":348.0,\"y\":251.0},{\"x\":353.0,\"y\":251.0},{\"x\":353.0,\"y\":259.0},{\"x\":348.0,\"y\":259.0}]},\"inferText\":\"호\",\"inferConfidence\":0.9712,\"type\":\"NORMAL\",\"lineBreak\":true},{\"valueType\":\"ALL\",\"boundingPoly\":{\"vertices\":[{\"x\":454.0,\"y\":262.0},{\"x\":504.0,\"y\":261.0},{\"x\":505.0,\"y\":272.0},{\"x\":454.0,\"y\":273.0}]},\"inferText\":\"항만민원 예선사\",\"inferConfidence\":0.9949,\"type\":\"NORMAL\",\"lineBreak\":false},{\"valueType\":\"ALL\",\"boundingPoly\":{\"vertices\":[{\"x\":507.0,\"y\":265.0},{\"x\":584.0,\"y\":265.0},{\"x\":584.0,\"y\":271.0},{\"x\":507.0,\"y\":271.0}]},\"inferText\":\"8명 최고\",\"inferConfidence\":0.4581,\"type\":\"NORMAL\",\"lineBreak\":true},{\"valueType\":\"ALL\",\"boundingPoly\":{\"vertices\":[{\"x\":453.0,\"y\":286.0},{\"x\":484.0,\"y\":286.0},{\"x\":484.0,\"y\":299.0},{\"x\":453.0,\"y\":299.0}]},\"inferText\":\"항만인원_\",\"inferConfidence\":0.9815,\"type\":\"NORMAL\",\"lineBreak\":false},{\"valueType\":\"ALL\",\"boundingPoly\":{\"vertices\":[{\"x\":482.0,\"y\":286.0},{\"x\":504.0,\"y\":286.0},{\"x\":504.0,\"y\":298.0},{\"x\":482.0,\"y\":298.0}]},\"inferText\":\"경인항\",\"inferConfidence\":0.8999,\"type\":\"NORMAL\",\"lineBreak\":false},{\"valueType\":\"ALL\",\"boundingPoly\":{\"vertices\":[{\"x\":507.0,\"y\":289.0},{\"x\":595.0,\"y\":289.0},{\"x\":595.0,\"y\":298.0},{\"x\":507.0,\"y\":298.0}]},\"inferText\":\"광진독립운임을가이통신고를이용하는 사용자\",\"inferConfidence\":0.7977,\"type\":\"NORMAL\",\"lineBreak\":true},{\"valueType\":\"ALL\",\"boundingPoly\":{\"vertices\":[{\"x\":156.0,\"y\":313.0},{\"x\":201.0,\"y\":313.0},{\"x\":201.0,\"y\":330.0},{\"x\":156.0,\"y\":330.0}]},\"inferText\":\"항만물류통계\",\"inferConfidence\":0.9903,\"type\":\"NORMAL\",\"lineBreak\":false},{\"valueType\":\"ALL\",\"boundingPoly\":{\"vertices\":[{\"x\":453.0,\"y\":312.0},{\"x\":481.0,\"y\":312.0},{\"x\":481.0,\"y\":323.0},{\"x\":453.0,\"y\":323.0}]},\"inferText\":\"해운민원\",\"inferConfidence\":0.9997,\"type\":\"NORMAL\",\"lineBreak\":false},{\"valueType\":\"ALL\",\"boundingPoly\":{\"vertices\":[{\"x\":486.0,\"y\":316.0},{\"x\":528.0,\"y\":316.0},{\"x\":528.0,\"y\":323.0},{\"x\":486.0,\"y\":323.0}]},\"inferText\":\"###\",\"inferConfidence\":0.7397,\"type\":\"NORMAL\",\"lineBreak\":false},{\"valueType\":\"ALL\",\"boundingPoly\":{\"vertices\":[{\"x\":531.0,\"y\":315.0},{\"x\":647.0,\"y\":315.0},{\"x\":647.0,\"y\":323.0},{\"x\":531.0,\"y\":323.0}]},\"inferText\":\"매운시업자 모드를 이용되는 사용자 분###\",\"inferConfidence\":0.6109,\"type\":\"NORMAL\",\"lineBreak\":true},{\"valueType\":\"ALL\",\"boundingPoly\":{\"vertices\":[{\"x\":242.0,\"y\":337.0},{\"x\":277.0,\"y\":337.0},{\"x\":277.0,\"y\":348.0},{\"x\":242.0,\"y\":348.0}]},\"inferText\":\"위험물반입신고\",\"inferConfidence\":0.9977,\"type\":\"NORMAL\",\"lineBreak\":false},{\"valueType\":\"ALL\",\"boundingPoly\":{\"vertices\":[{\"x\":288.0,\"y\":338.0},{\"x\":323.0,\"y\":338.0},{\"x\":323.0,\"y\":347.0},{\"x\":288.0,\"y\":347.0}]},\"inferText\":\"화물로신고하다\",\"inferConfidence\":0.8288,\"type\":\"NORMAL\",\"lineBreak\":false},{\"valueType\":\"ALL\",\"boundingPoly\":{\"vertices\":[{\"x\":338.0,\"y\":337.0},{\"x\":365.0,\"y\":337.0},{\"x\":365.0,\"y\":349.0},{\"x\":338.0,\"y\":349.0}]},\"inferText\":\"집계표정보\",\"inferConfidence\":0.9813,\"type\":\"NORMAL\",\"lineBreak\":false},{\"valueType\":\"ALL\",\"boundingPoly\":{\"vertices\":[{\"x\":378.0,\"y\":337.0},{\"x\":414.0,\"y\":337.0},{\"x\":414.0,\"y\":348.0},{\"x\":378.0,\"y\":348.0}]},\"inferText\":\"시설제원코드조\",\"inferConfidence\":0.9828,\"type\":\"NORMAL\",\"lineBreak\":true},{\"valueType\":\"ALL\",\"boundingPoly\":{\"vertices\":[{\"x\":255.0,\"y\":351.0},{\"x\":265.0,\"y\":351.0},{\"x\":265.0,\"y\":361.0},{\"x\":255.0,\"y\":361.0}]},\"inferText\":\"연속\",\"inferConfidence\":0.2605,\"type\":\"NORMAL\",\"lineBreak\":false},{\"valueType\":\"ALL\",\"boundingPoly\":{\"vertices\":[{\"x\":291.0,\"y\":350.0},{\"x\":320.0,\"y\":350.0},{\"x\":320.0,\"y\":361.0},{\"x\":291.0,\"y\":361.0}]},\"inferText\":\"[한글입대비]\",\"inferConfidence\":0.7958,\"type\":\"NORMAL\",\"lineBreak\":false},{\"valueType\":\"ALL\",\"boundingPoly\":{\"vertices\":[{\"x\":394.0,\"y\":352.0},{\"x\":399.0,\"y\":352.0},{\"x\":399.0,\"y\":359.0},{\"x\":394.0,\"y\":359.0}]},\"inferText\":\":\",\"inferConfidence\":0.6315,\"type\":\"NORMAL\",\"lineBreak\":false},{\"valueType\":\"ALL\",\"boundingPoly\":{\"vertices\":[{\"x\":559.0,\"y\":349.0},{\"x\":569.0,\"y\":349.0},{\"x\":569.0,\"y\":363.0},{\"x\":559.0,\"y\":363.0}]},\"inferText\":\"3\",\"inferConfidence\":0.9997,\"type\":\"NORMAL\",\"lineBreak\":true},{\"valueType\":\"ALL\",\"boundingPoly\":{\"vertices\":[{\"x\":592.0,\"y\":356.0},{\"x\":601.0,\"y\":356.0},{\"x\":601.0,\"y\":362.0},{\"x\":592.0,\"y\":362.0}]},\"inferText\":\"0\",\"inferConfidence\":0.3394,\"type\":\"NORMAL\",\"lineBreak\":true},{\"valueType\":\"ALL\",\"boundingPoly\":{\"vertices\":[{\"x\":78.0,\"y\":413.0},{\"x\":87.0,\"y\":413.0},{\"x\":87.0,\"y\":428.0},{\"x\":78.0,\"y\":428.0}]},\"inferText\":\"1\",\"inferConfidence\":1.0,\"type\":\"NORMAL\",\"lineBreak\":false},{\"valueType\":\"ALL\",\"boundingPoly\":{\"vertices\":[{\"x\":100.0,\"y\":412.0},{\"x\":148.0,\"y\":412.0},{\"x\":148.0,\"y\":429.0},{\"x\":100.0,\"y\":429.0}]},\"inferText\":\"회원가입\",\"inferConfidence\":1.0,\"type\":\"NORMAL\",\"lineBreak\":false},{\"valueType\":\"ALL\",\"boundingPoly\":{\"vertices\":[{\"x\":149.0,\"y\":413.0},{\"x\":174.0,\"y\":413.0},{\"x\":174.0,\"y\":429.0},{\"x\":149.0,\"y\":429.0}]},\"inferText\":\"버튼\",\"inferConfidence\":1.0,\"type\":\"NORMAL\",\"lineBreak\":false},{\"valueType\":\"ALL\",\"boundingPoly\":{\"vertices\":[{\"x\":174.0,\"y\":413.0},{\"x\":199.0,\"y\":413.0},{\"x\":199.0,\"y\":429.0},{\"x\":174.0,\"y\":429.0}]},\"inferText\":\"클릭\",\"inferConfidence\":0.9999,\"type\":\"NORMAL\",\"lineBreak\":true},{\"valueType\":\"ALL\",\"boundingPoly\":{\"vertices\":[{\"x\":77.0,\"y\":443.0},{\"x\":89.0,\"y\":443.0},{\"x\":89.0,\"y\":460.0},{\"x\":77.0,\"y\":460.0}]},\"inferText\":\"2\",\"inferConfidence\":1.0,\"type\":\"NORMAL\",\"lineBreak\":false},{\"valueType\":\"ALL\",\"boundingPoly\":{\"vertices\":[{\"x\":100.0,\"y\":443.0},{\"x\":126.0,\"y\":443.0},{\"x\":126.0,\"y\":459.0},{\"x\":100.0,\"y\":459.0}]},\"inferText\":\"사용\",\"inferConfidence\":1.0,\"type\":\"NORMAL\",\"lineBreak\":false},{\"valueType\":\"ALL\",\"boundingPoly\":{\"vertices\":[{\"x\":126.0,\"y\":443.0},{\"x\":162.0,\"y\":443.0},{\"x\":162.0,\"y\":459.0},{\"x\":126.0,\"y\":459.0}]},\"inferText\":\"목적에\",\"inferConfidence\":1.0,\"type\":\"NORMAL\",\"lineBreak\":false},{\"valueType\":\"ALL\",\"boundingPoly\":{\"vertices\":[{\"x\":163.0,\"y\":443.0},{\"x\":189.0,\"y\":443.0},{\"x\":189.0,\"y\":459.0},{\"x\":163.0,\"y\":459.0}]},\"inferText\":\"맞는\",\"inferConfidence\":0.9997,\"type\":\"NORMAL\",\"lineBreak\":false},{\"valueType\":\"ALL\",\"boundingPoly\":{\"vertices\":[{\"x\":189.0,\"y\":443.0},{\"x\":237.0,\"y\":443.0},{\"x\":237.0,\"y\":459.0},{\"x\":189.0,\"y\":459.0}]},\"inferText\":\"민원신고\",\"inferConfidence\":1.0,\"type\":\"NORMAL\",\"lineBreak\":false},{\"valueType\":\"ALL\",\"boundingPoly\":{\"vertices\":[{\"x\":237.0,\"y\":443.0},{\"x\":262.0,\"y\":443.0},{\"x\":262.0,\"y\":459.0},{\"x\":237.0,\"y\":459.0}]},\"inferText\":\"내용\",\"inferConfidence\":1.0,\"type\":\"NORMAL\",\"lineBreak\":false},{\"valueType\":\"ALL\",\"boundingPoly\":{\"vertices\":[{\"x\":262.0,\"y\":443.0},{\"x\":288.0,\"y\":443.0},{\"x\":288.0,\"y\":459.0},{\"x\":262.0,\"y\":459.0}]},\"inferText\":\"선택\",\"inferConfidence\":1.0,\"type\":\"NORMAL\",\"lineBreak\":true},{\"valueType\":\"ALL\",\"boundingPoly\":{\"vertices\":[{\"x\":77.0,\"y\":474.0},{\"x\":89.0,\"y\":474.0},{\"x\":89.0,\"y\":490.0},{\"x\":77.0,\"y\":490.0}]},\"inferText\":\"3\",\"inferConfidence\":0.9996,\"type\":\"NORMAL\",\"lineBreak\":false},{\"valueType\":\"ALL\",\"boundingPoly\":{\"vertices\":[{\"x\":101.0,\"y\":474.0},{\"x\":126.0,\"y\":474.0},{\"x\":126.0,\"y\":489.0},{\"x\":101.0,\"y\":489.0}]},\"inferText\":\"다음\",\"inferConfidence\":1.0,\"type\":\"NORMAL\",\"lineBreak\":false},{\"valueType\":\"ALL\",\"boundingPoly\":{\"vertices\":[{\"x\":126.0,\"y\":474.0},{\"x\":151.0,\"y\":474.0},{\"x\":151.0,\"y\":489.0},{\"x\":126.0,\"y\":489.0}]},\"inferText\":\"버튼\",\"inferConfidence\":1.0,\"type\":\"NORMAL\",\"lineBreak\":false},{\"valueType\":\"ALL\",\"boundingPoly\":{\"vertices\":[{\"x\":151.0,\"y\":474.0},{\"x\":177.0,\"y\":474.0},{\"x\":177.0,\"y\":490.0},{\"x\":151.0,\"y\":490.0}]},\"inferText\":\"클릭\",\"inferConfidence\":1.0,\"type\":\"NORMAL\",\"lineBreak\":true},{\"valueType\":\"ALL\",\"boundingPoly\":{\"vertices\":[{\"x\":39.0,\"y\":572.0},{\"x\":68.0,\"y\":572.0},{\"x\":68.0,\"y\":579.0},{\"x\":39.0,\"y\":579.0}]},\"inferText\":\"해양스산브\",\"inferConfidence\":0.9222,\"type\":\"NORMAL\",\"lineBreak\":true}]}]}\n"
          ]
        }
      ]
    },
    {
      "cell_type": "code",
      "source": [
        "result = response.json()\n",
        "with open('result.json', 'w', encoding='utf-8') as make_file:\n",
        "    json.dump(result, make_file, indent=\"\\t\", ensure_ascii=False)"
      ],
      "metadata": {
        "id": "yQ8onHvhW_e-"
      },
      "execution_count": null,
      "outputs": []
    },
    {
      "cell_type": "code",
      "source": [
        "text = \"\"\n",
        "for field in result['images'][0]['fields']:\n",
        "    text += field['inferText']\n",
        "print(text)"
      ],
      "metadata": {
        "colab": {
          "base_uri": "https://localhost:8080/"
        },
        "id": "Oj21YqFkebni",
        "outputId": "988cd814-fb8d-452a-c431-111d4515c997"
      },
      "execution_count": 80,
      "outputs": [
        {
          "output_type": "stream",
          "name": "stdout",
          "text": [
            "포트미스회원가입포트미스회원가입회원가입 - 회원가입절차회원가입000로그인항만민원101사용목적선택02약관동의회원정보입력회원신청완료해운항만물류정보시스템해운했단민원신고를위에서는효용기업이필요합니다PORT-MIS해운항만물류꿀보시스장의사용목적을선택해주세요.2해양수산부부산출판공사인천대인공사해운민원선택입출항현황포선별관제련활전자문서응답조개박선박원황항만민원항만민원신고자中창 등을 이용하는 사용자가장장기활동허가신청지울산세인공사여수광영방안공사호항만민원 예선사8명 최고항만인원_경인항광진독립운임을가이통신고를이용하는 사용자항만물류통계해운민원###매운시업자 모드를 이용되는 사용자 분###위험물반입신고화물로신고하다집계표정보시설제원코드조연속[한글입대비]:301회원가입버튼클릭2사용목적에맞는민원신고내용선택3다음버튼클릭해양스산브\n"
          ]
        }
      ]
    },
    {
      "cell_type": "markdown",
      "source": [
        "#txt에서 QA 생성"
      ],
      "metadata": {
        "id": "8efAAkUqg2Jz"
      }
    },
    {
      "cell_type": "markdown",
      "source": [
        "##pip install"
      ],
      "metadata": {
        "id": "KWX_-wLVjWbe"
      }
    },
    {
      "cell_type": "code",
      "source": [
        "!pip install chroma-hnswlib"
      ],
      "metadata": {
        "colab": {
          "base_uri": "https://localhost:8080/"
        },
        "id": "myrq3DGCkq57",
        "outputId": "38c1ed60-e6c1-45f2-bbb9-ad144cf471ae"
      },
      "execution_count": null,
      "outputs": [
        {
          "output_type": "stream",
          "name": "stdout",
          "text": [
            "Requirement already satisfied: chroma-hnswlib in /usr/local/lib/python3.10/dist-packages (0.7.5)\n",
            "Requirement already satisfied: numpy in /usr/local/lib/python3.10/dist-packages (from chroma-hnswlib) (1.25.2)\n"
          ]
        }
      ]
    },
    {
      "cell_type": "code",
      "source": [
        "pip install chromadb"
      ],
      "metadata": {
        "colab": {
          "base_uri": "https://localhost:8080/"
        },
        "id": "dgMeCC0ykqMx",
        "outputId": "8d412725-1708-4b37-9919-a6bcff53f511"
      },
      "execution_count": null,
      "outputs": [
        {
          "output_type": "stream",
          "name": "stdout",
          "text": [
            "Collecting chromadb\n",
            "  Downloading chromadb-0.5.4-py3-none-any.whl (581 kB)\n",
            "\u001b[2K     \u001b[90m━━━━━━━━━━━━━━━━━━━━━━━━━━━━━━━━━━━━━━━━\u001b[0m \u001b[32m581.4/581.4 kB\u001b[0m \u001b[31m6.7 MB/s\u001b[0m eta \u001b[36m0:00:00\u001b[0m\n",
            "\u001b[?25hRequirement already satisfied: build>=1.0.3 in /usr/local/lib/python3.10/dist-packages (from chromadb) (1.2.1)\n",
            "Requirement already satisfied: pydantic>=1.9 in /usr/local/lib/python3.10/dist-packages (from chromadb) (2.8.2)\n",
            "Collecting chroma-hnswlib==0.7.5 (from chromadb)\n",
            "  Downloading chroma_hnswlib-0.7.5-cp310-cp310-manylinux_2_17_x86_64.manylinux2014_x86_64.whl (2.4 MB)\n",
            "\u001b[2K     \u001b[90m━━━━━━━━━━━━━━━━━━━━━━━━━━━━━━━━━━━━━━━━\u001b[0m \u001b[32m2.4/2.4 MB\u001b[0m \u001b[31m20.1 MB/s\u001b[0m eta \u001b[36m0:00:00\u001b[0m\n",
            "\u001b[?25hCollecting fastapi>=0.95.2 (from chromadb)\n",
            "  Downloading fastapi-0.111.0-py3-none-any.whl (91 kB)\n",
            "\u001b[2K     \u001b[90m━━━━━━━━━━━━━━━━━━━━━━━━━━━━━━━━━━━━━━━━\u001b[0m \u001b[32m92.0/92.0 kB\u001b[0m \u001b[31m10.4 MB/s\u001b[0m eta \u001b[36m0:00:00\u001b[0m\n",
            "\u001b[?25hCollecting uvicorn[standard]>=0.18.3 (from chromadb)\n",
            "  Downloading uvicorn-0.30.1-py3-none-any.whl (62 kB)\n",
            "\u001b[2K     \u001b[90m━━━━━━━━━━━━━━━━━━━━━━━━━━━━━━━━━━━━━━━━\u001b[0m \u001b[32m62.4/62.4 kB\u001b[0m \u001b[31m7.2 MB/s\u001b[0m eta \u001b[36m0:00:00\u001b[0m\n",
            "\u001b[?25hRequirement already satisfied: numpy<2.0.0,>=1.22.5 in /usr/local/lib/python3.10/dist-packages (from chromadb) (1.25.2)\n",
            "Collecting posthog>=2.4.0 (from chromadb)\n",
            "  Downloading posthog-3.5.0-py2.py3-none-any.whl (41 kB)\n",
            "\u001b[2K     \u001b[90m━━━━━━━━━━━━━━━━━━━━━━━━━━━━━━━━━━━━━━━━\u001b[0m \u001b[32m41.3/41.3 kB\u001b[0m \u001b[31m3.8 MB/s\u001b[0m eta \u001b[36m0:00:00\u001b[0m\n",
            "\u001b[?25hRequirement already satisfied: typing-extensions>=4.5.0 in /usr/local/lib/python3.10/dist-packages (from chromadb) (4.12.2)\n",
            "Collecting onnxruntime>=1.14.1 (from chromadb)\n",
            "  Downloading onnxruntime-1.18.1-cp310-cp310-manylinux_2_27_x86_64.manylinux_2_28_x86_64.whl (6.8 MB)\n",
            "\u001b[2K     \u001b[90m━━━━━━━━━━━━━━━━━━━━━━━━━━━━━━━━━━━━━━━━\u001b[0m \u001b[32m6.8/6.8 MB\u001b[0m \u001b[31m37.8 MB/s\u001b[0m eta \u001b[36m0:00:00\u001b[0m\n",
            "\u001b[?25hCollecting opentelemetry-api>=1.2.0 (from chromadb)\n",
            "  Downloading opentelemetry_api-1.25.0-py3-none-any.whl (59 kB)\n",
            "\u001b[2K     \u001b[90m━━━━━━━━━━━━━━━━━━━━━━━━━━━━━━━━━━━━━━━━\u001b[0m \u001b[32m59.9/59.9 kB\u001b[0m \u001b[31m6.2 MB/s\u001b[0m eta \u001b[36m0:00:00\u001b[0m\n",
            "\u001b[?25hCollecting opentelemetry-exporter-otlp-proto-grpc>=1.2.0 (from chromadb)\n",
            "  Downloading opentelemetry_exporter_otlp_proto_grpc-1.25.0-py3-none-any.whl (18 kB)\n",
            "Collecting opentelemetry-instrumentation-fastapi>=0.41b0 (from chromadb)\n",
            "  Downloading opentelemetry_instrumentation_fastapi-0.46b0-py3-none-any.whl (11 kB)\n",
            "Collecting opentelemetry-sdk>=1.2.0 (from chromadb)\n",
            "  Downloading opentelemetry_sdk-1.25.0-py3-none-any.whl (107 kB)\n",
            "\u001b[2K     \u001b[90m━━━━━━━━━━━━━━━━━━━━━━━━━━━━━━━━━━━━━━━━\u001b[0m \u001b[32m107.0/107.0 kB\u001b[0m \u001b[31m11.1 MB/s\u001b[0m eta \u001b[36m0:00:00\u001b[0m\n",
            "\u001b[?25hRequirement already satisfied: tokenizers>=0.13.2 in /usr/local/lib/python3.10/dist-packages (from chromadb) (0.19.1)\n",
            "Collecting pypika>=0.48.9 (from chromadb)\n",
            "  Downloading PyPika-0.48.9.tar.gz (67 kB)\n",
            "\u001b[2K     \u001b[90m━━━━━━━━━━━━━━━━━━━━━━━━━━━━━━━━━━━━━━━━\u001b[0m \u001b[32m67.3/67.3 kB\u001b[0m \u001b[31m7.8 MB/s\u001b[0m eta \u001b[36m0:00:00\u001b[0m\n",
            "\u001b[?25h  Installing build dependencies ... \u001b[?25l\u001b[?25hdone\n",
            "  Getting requirements to build wheel ... \u001b[?25l\u001b[?25hdone\n",
            "  Preparing metadata (pyproject.toml) ... \u001b[?25l\u001b[?25hdone\n",
            "Requirement already satisfied: tqdm>=4.65.0 in /usr/local/lib/python3.10/dist-packages (from chromadb) (4.66.4)\n",
            "Collecting overrides>=7.3.1 (from chromadb)\n",
            "  Downloading overrides-7.7.0-py3-none-any.whl (17 kB)\n",
            "Requirement already satisfied: importlib-resources in /usr/local/lib/python3.10/dist-packages (from chromadb) (6.4.0)\n",
            "Requirement already satisfied: grpcio>=1.58.0 in /usr/local/lib/python3.10/dist-packages (from chromadb) (1.64.1)\n",
            "Collecting bcrypt>=4.0.1 (from chromadb)\n",
            "  Downloading bcrypt-4.1.3-cp39-abi3-manylinux_2_28_x86_64.whl (283 kB)\n",
            "\u001b[2K     \u001b[90m━━━━━━━━━━━━━━━━━━━━━━━━━━━━━━━━━━━━━━━━\u001b[0m \u001b[32m283.7/283.7 kB\u001b[0m \u001b[31m26.7 MB/s\u001b[0m eta \u001b[36m0:00:00\u001b[0m\n",
            "\u001b[?25hRequirement already satisfied: typer>=0.9.0 in /usr/local/lib/python3.10/dist-packages (from chromadb) (0.12.3)\n",
            "Collecting kubernetes>=28.1.0 (from chromadb)\n",
            "  Downloading kubernetes-30.1.0-py2.py3-none-any.whl (1.7 MB)\n",
            "\u001b[2K     \u001b[90m━━━━━━━━━━━━━━━━━━━━━━━━━━━━━━━━━━━━━━━━\u001b[0m \u001b[32m1.7/1.7 MB\u001b[0m \u001b[31m53.7 MB/s\u001b[0m eta \u001b[36m0:00:00\u001b[0m\n",
            "\u001b[?25hRequirement already satisfied: tenacity>=8.2.3 in /usr/local/lib/python3.10/dist-packages (from chromadb) (8.5.0)\n",
            "Requirement already satisfied: PyYAML>=6.0.0 in /usr/local/lib/python3.10/dist-packages (from chromadb) (6.0.1)\n",
            "Collecting mmh3>=4.0.1 (from chromadb)\n",
            "  Downloading mmh3-4.1.0-cp310-cp310-manylinux_2_5_x86_64.manylinux1_x86_64.manylinux_2_17_x86_64.manylinux2014_x86_64.whl (67 kB)\n",
            "\u001b[2K     \u001b[90m━━━━━━━━━━━━━━━━━━━━━━━━━━━━━━━━━━━━━━━━\u001b[0m \u001b[32m67.6/67.6 kB\u001b[0m \u001b[31m6.2 MB/s\u001b[0m eta \u001b[36m0:00:00\u001b[0m\n",
            "\u001b[?25hRequirement already satisfied: orjson>=3.9.12 in /usr/local/lib/python3.10/dist-packages (from chromadb) (3.10.6)\n",
            "Requirement already satisfied: httpx>=0.27.0 in /usr/local/lib/python3.10/dist-packages (from chromadb) (0.27.0)\n",
            "Requirement already satisfied: packaging>=19.1 in /usr/local/lib/python3.10/dist-packages (from build>=1.0.3->chromadb) (24.1)\n",
            "Requirement already satisfied: pyproject_hooks in /usr/local/lib/python3.10/dist-packages (from build>=1.0.3->chromadb) (1.1.0)\n",
            "Requirement already satisfied: tomli>=1.1.0 in /usr/local/lib/python3.10/dist-packages (from build>=1.0.3->chromadb) (2.0.1)\n",
            "Collecting starlette<0.38.0,>=0.37.2 (from fastapi>=0.95.2->chromadb)\n",
            "  Downloading starlette-0.37.2-py3-none-any.whl (71 kB)\n",
            "\u001b[2K     \u001b[90m━━━━━━━━━━━━━━━━━━━━━━━━━━━━━━━━━━━━━━━━\u001b[0m \u001b[32m71.9/71.9 kB\u001b[0m \u001b[31m6.9 MB/s\u001b[0m eta \u001b[36m0:00:00\u001b[0m\n",
            "\u001b[?25hCollecting fastapi-cli>=0.0.2 (from fastapi>=0.95.2->chromadb)\n",
            "  Downloading fastapi_cli-0.0.4-py3-none-any.whl (9.5 kB)\n",
            "Requirement already satisfied: jinja2>=2.11.2 in /usr/local/lib/python3.10/dist-packages (from fastapi>=0.95.2->chromadb) (3.1.4)\n",
            "Collecting python-multipart>=0.0.7 (from fastapi>=0.95.2->chromadb)\n",
            "  Downloading python_multipart-0.0.9-py3-none-any.whl (22 kB)\n",
            "Collecting ujson!=4.0.2,!=4.1.0,!=4.2.0,!=4.3.0,!=5.0.0,!=5.1.0,>=4.0.1 (from fastapi>=0.95.2->chromadb)\n",
            "  Downloading ujson-5.10.0-cp310-cp310-manylinux_2_17_x86_64.manylinux2014_x86_64.whl (53 kB)\n",
            "\u001b[2K     \u001b[90m━━━━━━━━━━━━━━━━━━━━━━━━━━━━━━━━━━━━━━━━\u001b[0m \u001b[32m53.6/53.6 kB\u001b[0m \u001b[31m6.0 MB/s\u001b[0m eta \u001b[36m0:00:00\u001b[0m\n",
            "\u001b[?25hCollecting email_validator>=2.0.0 (from fastapi>=0.95.2->chromadb)\n",
            "  Downloading email_validator-2.2.0-py3-none-any.whl (33 kB)\n",
            "Requirement already satisfied: anyio in /usr/local/lib/python3.10/dist-packages (from httpx>=0.27.0->chromadb) (3.7.1)\n",
            "Requirement already satisfied: certifi in /usr/local/lib/python3.10/dist-packages (from httpx>=0.27.0->chromadb) (2024.7.4)\n",
            "Requirement already satisfied: httpcore==1.* in /usr/local/lib/python3.10/dist-packages (from httpx>=0.27.0->chromadb) (1.0.5)\n",
            "Requirement already satisfied: idna in /usr/local/lib/python3.10/dist-packages (from httpx>=0.27.0->chromadb) (3.7)\n",
            "Requirement already satisfied: sniffio in /usr/local/lib/python3.10/dist-packages (from httpx>=0.27.0->chromadb) (1.3.1)\n",
            "Requirement already satisfied: h11<0.15,>=0.13 in /usr/local/lib/python3.10/dist-packages (from httpcore==1.*->httpx>=0.27.0->chromadb) (0.14.0)\n",
            "Requirement already satisfied: six>=1.9.0 in /usr/local/lib/python3.10/dist-packages (from kubernetes>=28.1.0->chromadb) (1.16.0)\n",
            "Requirement already satisfied: python-dateutil>=2.5.3 in /usr/local/lib/python3.10/dist-packages (from kubernetes>=28.1.0->chromadb) (2.8.2)\n",
            "Requirement already satisfied: google-auth>=1.0.1 in /usr/local/lib/python3.10/dist-packages (from kubernetes>=28.1.0->chromadb) (2.27.0)\n",
            "Requirement already satisfied: websocket-client!=0.40.0,!=0.41.*,!=0.42.*,>=0.32.0 in /usr/local/lib/python3.10/dist-packages (from kubernetes>=28.1.0->chromadb) (1.8.0)\n",
            "Requirement already satisfied: requests in /usr/local/lib/python3.10/dist-packages (from kubernetes>=28.1.0->chromadb) (2.31.0)\n",
            "Requirement already satisfied: requests-oauthlib in /usr/local/lib/python3.10/dist-packages (from kubernetes>=28.1.0->chromadb) (1.3.1)\n",
            "Requirement already satisfied: oauthlib>=3.2.2 in /usr/local/lib/python3.10/dist-packages (from kubernetes>=28.1.0->chromadb) (3.2.2)\n",
            "Requirement already satisfied: urllib3>=1.24.2 in /usr/local/lib/python3.10/dist-packages (from kubernetes>=28.1.0->chromadb) (2.0.7)\n",
            "Collecting coloredlogs (from onnxruntime>=1.14.1->chromadb)\n",
            "  Downloading coloredlogs-15.0.1-py2.py3-none-any.whl (46 kB)\n",
            "\u001b[2K     \u001b[90m━━━━━━━━━━━━━━━━━━━━━━━━━━━━━━━━━━━━━━━━\u001b[0m \u001b[32m46.0/46.0 kB\u001b[0m \u001b[31m5.2 MB/s\u001b[0m eta \u001b[36m0:00:00\u001b[0m\n",
            "\u001b[?25hRequirement already satisfied: flatbuffers in /usr/local/lib/python3.10/dist-packages (from onnxruntime>=1.14.1->chromadb) (24.3.25)\n",
            "Requirement already satisfied: protobuf in /usr/local/lib/python3.10/dist-packages (from onnxruntime>=1.14.1->chromadb) (3.20.3)\n",
            "Requirement already satisfied: sympy in /usr/local/lib/python3.10/dist-packages (from onnxruntime>=1.14.1->chromadb) (1.13.0)\n",
            "Collecting deprecated>=1.2.6 (from opentelemetry-api>=1.2.0->chromadb)\n",
            "  Downloading Deprecated-1.2.14-py2.py3-none-any.whl (9.6 kB)\n",
            "Collecting importlib-metadata<=7.1,>=6.0 (from opentelemetry-api>=1.2.0->chromadb)\n",
            "  Downloading importlib_metadata-7.1.0-py3-none-any.whl (24 kB)\n",
            "Requirement already satisfied: googleapis-common-protos~=1.52 in /usr/local/lib/python3.10/dist-packages (from opentelemetry-exporter-otlp-proto-grpc>=1.2.0->chromadb) (1.63.2)\n",
            "Collecting opentelemetry-exporter-otlp-proto-common==1.25.0 (from opentelemetry-exporter-otlp-proto-grpc>=1.2.0->chromadb)\n",
            "  Downloading opentelemetry_exporter_otlp_proto_common-1.25.0-py3-none-any.whl (17 kB)\n",
            "Collecting opentelemetry-proto==1.25.0 (from opentelemetry-exporter-otlp-proto-grpc>=1.2.0->chromadb)\n",
            "  Downloading opentelemetry_proto-1.25.0-py3-none-any.whl (52 kB)\n",
            "\u001b[2K     \u001b[90m━━━━━━━━━━━━━━━━━━━━━━━━━━━━━━━━━━━━━━━━\u001b[0m \u001b[32m52.5/52.5 kB\u001b[0m \u001b[31m5.8 MB/s\u001b[0m eta \u001b[36m0:00:00\u001b[0m\n",
            "\u001b[?25hCollecting opentelemetry-instrumentation-asgi==0.46b0 (from opentelemetry-instrumentation-fastapi>=0.41b0->chromadb)\n",
            "  Downloading opentelemetry_instrumentation_asgi-0.46b0-py3-none-any.whl (14 kB)\n",
            "Collecting opentelemetry-instrumentation==0.46b0 (from opentelemetry-instrumentation-fastapi>=0.41b0->chromadb)\n",
            "  Downloading opentelemetry_instrumentation-0.46b0-py3-none-any.whl (29 kB)\n",
            "Collecting opentelemetry-semantic-conventions==0.46b0 (from opentelemetry-instrumentation-fastapi>=0.41b0->chromadb)\n",
            "  Downloading opentelemetry_semantic_conventions-0.46b0-py3-none-any.whl (130 kB)\n",
            "\u001b[2K     \u001b[90m━━━━━━━━━━━━━━━━━━━━━━━━━━━━━━━━━━━━━━━━\u001b[0m \u001b[32m130.5/130.5 kB\u001b[0m \u001b[31m15.5 MB/s\u001b[0m eta \u001b[36m0:00:00\u001b[0m\n",
            "\u001b[?25hCollecting opentelemetry-util-http==0.46b0 (from opentelemetry-instrumentation-fastapi>=0.41b0->chromadb)\n",
            "  Downloading opentelemetry_util_http-0.46b0-py3-none-any.whl (6.9 kB)\n",
            "Requirement already satisfied: setuptools>=16.0 in /usr/local/lib/python3.10/dist-packages (from opentelemetry-instrumentation==0.46b0->opentelemetry-instrumentation-fastapi>=0.41b0->chromadb) (67.7.2)\n",
            "Requirement already satisfied: wrapt<2.0.0,>=1.0.0 in /usr/local/lib/python3.10/dist-packages (from opentelemetry-instrumentation==0.46b0->opentelemetry-instrumentation-fastapi>=0.41b0->chromadb) (1.14.1)\n",
            "Collecting asgiref~=3.0 (from opentelemetry-instrumentation-asgi==0.46b0->opentelemetry-instrumentation-fastapi>=0.41b0->chromadb)\n",
            "  Downloading asgiref-3.8.1-py3-none-any.whl (23 kB)\n",
            "Collecting monotonic>=1.5 (from posthog>=2.4.0->chromadb)\n",
            "  Downloading monotonic-1.6-py2.py3-none-any.whl (8.2 kB)\n",
            "Collecting backoff>=1.10.0 (from posthog>=2.4.0->chromadb)\n",
            "  Downloading backoff-2.2.1-py3-none-any.whl (15 kB)\n",
            "Requirement already satisfied: annotated-types>=0.4.0 in /usr/local/lib/python3.10/dist-packages (from pydantic>=1.9->chromadb) (0.7.0)\n",
            "Requirement already satisfied: pydantic-core==2.20.1 in /usr/local/lib/python3.10/dist-packages (from pydantic>=1.9->chromadb) (2.20.1)\n",
            "Requirement already satisfied: huggingface-hub<1.0,>=0.16.4 in /usr/local/lib/python3.10/dist-packages (from tokenizers>=0.13.2->chromadb) (0.23.4)\n",
            "Requirement already satisfied: click>=8.0.0 in /usr/local/lib/python3.10/dist-packages (from typer>=0.9.0->chromadb) (8.1.7)\n",
            "Requirement already satisfied: shellingham>=1.3.0 in /usr/local/lib/python3.10/dist-packages (from typer>=0.9.0->chromadb) (1.5.4)\n",
            "Requirement already satisfied: rich>=10.11.0 in /usr/local/lib/python3.10/dist-packages (from typer>=0.9.0->chromadb) (13.7.1)\n",
            "Collecting httptools>=0.5.0 (from uvicorn[standard]>=0.18.3->chromadb)\n",
            "  Downloading httptools-0.6.1-cp310-cp310-manylinux_2_5_x86_64.manylinux1_x86_64.manylinux_2_17_x86_64.manylinux2014_x86_64.whl (341 kB)\n",
            "\u001b[2K     \u001b[90m━━━━━━━━━━━━━━━━━━━━━━━━━━━━━━━━━━━━━━━━\u001b[0m \u001b[32m341.4/341.4 kB\u001b[0m \u001b[31m33.7 MB/s\u001b[0m eta \u001b[36m0:00:00\u001b[0m\n",
            "\u001b[?25hCollecting python-dotenv>=0.13 (from uvicorn[standard]>=0.18.3->chromadb)\n",
            "  Downloading python_dotenv-1.0.1-py3-none-any.whl (19 kB)\n",
            "Collecting uvloop!=0.15.0,!=0.15.1,>=0.14.0 (from uvicorn[standard]>=0.18.3->chromadb)\n",
            "  Downloading uvloop-0.19.0-cp310-cp310-manylinux_2_17_x86_64.manylinux2014_x86_64.whl (3.4 MB)\n",
            "\u001b[2K     \u001b[90m━━━━━━━━━━━━━━━━━━━━━━━━━━━━━━━━━━━━━━━━\u001b[0m \u001b[32m3.4/3.4 MB\u001b[0m \u001b[31m64.9 MB/s\u001b[0m eta \u001b[36m0:00:00\u001b[0m\n",
            "\u001b[?25hCollecting watchfiles>=0.13 (from uvicorn[standard]>=0.18.3->chromadb)\n",
            "  Downloading watchfiles-0.22.0-cp310-cp310-manylinux_2_17_x86_64.manylinux2014_x86_64.whl (1.2 MB)\n",
            "\u001b[2K     \u001b[90m━━━━━━━━━━━━━━━━━━━━━━━━━━━━━━━━━━━━━━━━\u001b[0m \u001b[32m1.2/1.2 MB\u001b[0m \u001b[31m52.6 MB/s\u001b[0m eta \u001b[36m0:00:00\u001b[0m\n",
            "\u001b[?25hCollecting websockets>=10.4 (from uvicorn[standard]>=0.18.3->chromadb)\n",
            "  Downloading websockets-12.0-cp310-cp310-manylinux_2_5_x86_64.manylinux1_x86_64.manylinux_2_17_x86_64.manylinux2014_x86_64.whl (130 kB)\n",
            "\u001b[2K     \u001b[90m━━━━━━━━━━━━━━━━━━━━━━━━━━━━━━━━━━━━━━━━\u001b[0m \u001b[32m130.2/130.2 kB\u001b[0m \u001b[31m13.3 MB/s\u001b[0m eta \u001b[36m0:00:00\u001b[0m\n",
            "\u001b[?25hCollecting dnspython>=2.0.0 (from email_validator>=2.0.0->fastapi>=0.95.2->chromadb)\n",
            "  Downloading dnspython-2.6.1-py3-none-any.whl (307 kB)\n",
            "\u001b[2K     \u001b[90m━━━━━━━━━━━━━━━━━━━━━━━━━━━━━━━━━━━━━━━━\u001b[0m \u001b[32m307.7/307.7 kB\u001b[0m \u001b[31m28.8 MB/s\u001b[0m eta \u001b[36m0:00:00\u001b[0m\n",
            "\u001b[?25hRequirement already satisfied: cachetools<6.0,>=2.0.0 in /usr/local/lib/python3.10/dist-packages (from google-auth>=1.0.1->kubernetes>=28.1.0->chromadb) (5.3.3)\n",
            "Requirement already satisfied: pyasn1-modules>=0.2.1 in /usr/local/lib/python3.10/dist-packages (from google-auth>=1.0.1->kubernetes>=28.1.0->chromadb) (0.4.0)\n",
            "Requirement already satisfied: rsa<5,>=3.1.4 in /usr/local/lib/python3.10/dist-packages (from google-auth>=1.0.1->kubernetes>=28.1.0->chromadb) (4.9)\n",
            "Requirement already satisfied: filelock in /usr/local/lib/python3.10/dist-packages (from huggingface-hub<1.0,>=0.16.4->tokenizers>=0.13.2->chromadb) (3.15.4)\n",
            "Requirement already satisfied: fsspec>=2023.5.0 in /usr/local/lib/python3.10/dist-packages (from huggingface-hub<1.0,>=0.16.4->tokenizers>=0.13.2->chromadb) (2023.6.0)\n",
            "Requirement already satisfied: zipp>=0.5 in /usr/local/lib/python3.10/dist-packages (from importlib-metadata<=7.1,>=6.0->opentelemetry-api>=1.2.0->chromadb) (3.19.2)\n",
            "Requirement already satisfied: MarkupSafe>=2.0 in /usr/local/lib/python3.10/dist-packages (from jinja2>=2.11.2->fastapi>=0.95.2->chromadb) (2.1.5)\n",
            "Requirement already satisfied: charset-normalizer<4,>=2 in /usr/local/lib/python3.10/dist-packages (from requests->kubernetes>=28.1.0->chromadb) (3.3.2)\n",
            "Requirement already satisfied: markdown-it-py>=2.2.0 in /usr/local/lib/python3.10/dist-packages (from rich>=10.11.0->typer>=0.9.0->chromadb) (3.0.0)\n",
            "Requirement already satisfied: pygments<3.0.0,>=2.13.0 in /usr/local/lib/python3.10/dist-packages (from rich>=10.11.0->typer>=0.9.0->chromadb) (2.16.1)\n",
            "Requirement already satisfied: exceptiongroup in /usr/local/lib/python3.10/dist-packages (from anyio->httpx>=0.27.0->chromadb) (1.2.1)\n",
            "Collecting humanfriendly>=9.1 (from coloredlogs->onnxruntime>=1.14.1->chromadb)\n",
            "  Downloading humanfriendly-10.0-py2.py3-none-any.whl (86 kB)\n",
            "\u001b[2K     \u001b[90m━━━━━━━━━━━━━━━━━━━━━━━━━━━━━━━━━━━━━━━━\u001b[0m \u001b[32m86.8/86.8 kB\u001b[0m \u001b[31m9.7 MB/s\u001b[0m eta \u001b[36m0:00:00\u001b[0m\n",
            "\u001b[?25hRequirement already satisfied: mpmath<1.4,>=1.1.0 in /usr/local/lib/python3.10/dist-packages (from sympy->onnxruntime>=1.14.1->chromadb) (1.3.0)\n",
            "Requirement already satisfied: mdurl~=0.1 in /usr/local/lib/python3.10/dist-packages (from markdown-it-py>=2.2.0->rich>=10.11.0->typer>=0.9.0->chromadb) (0.1.2)\n",
            "Requirement already satisfied: pyasn1<0.7.0,>=0.4.6 in /usr/local/lib/python3.10/dist-packages (from pyasn1-modules>=0.2.1->google-auth>=1.0.1->kubernetes>=28.1.0->chromadb) (0.6.0)\n",
            "Building wheels for collected packages: pypika\n",
            "  Building wheel for pypika (pyproject.toml) ... \u001b[?25l\u001b[?25hdone\n",
            "  Created wheel for pypika: filename=PyPika-0.48.9-py2.py3-none-any.whl size=53725 sha256=e7c79c5ce743dd1385f50536d0c95142f0ad7916b0c5b670f19450da3ad56f43\n",
            "  Stored in directory: /root/.cache/pip/wheels/e1/26/51/d0bffb3d2fd82256676d7ad3003faea3bd6dddc9577af665f4\n",
            "Successfully built pypika\n",
            "Installing collected packages: pypika, monotonic, mmh3, websockets, uvloop, uvicorn, ujson, python-multipart, python-dotenv, overrides, opentelemetry-util-http, opentelemetry-proto, importlib-metadata, humanfriendly, httptools, dnspython, deprecated, chroma-hnswlib, bcrypt, backoff, asgiref, watchfiles, starlette, posthog, opentelemetry-exporter-otlp-proto-common, opentelemetry-api, email_validator, coloredlogs, opentelemetry-semantic-conventions, opentelemetry-instrumentation, onnxruntime, kubernetes, opentelemetry-sdk, opentelemetry-instrumentation-asgi, fastapi-cli, opentelemetry-instrumentation-fastapi, opentelemetry-exporter-otlp-proto-grpc, fastapi, chromadb\n",
            "  Attempting uninstall: importlib-metadata\n",
            "    Found existing installation: importlib_metadata 8.0.0\n",
            "    Uninstalling importlib_metadata-8.0.0:\n",
            "      Successfully uninstalled importlib_metadata-8.0.0\n",
            "Successfully installed asgiref-3.8.1 backoff-2.2.1 bcrypt-4.1.3 chroma-hnswlib-0.7.5 chromadb-0.5.4 coloredlogs-15.0.1 deprecated-1.2.14 dnspython-2.6.1 email_validator-2.2.0 fastapi-0.111.0 fastapi-cli-0.0.4 httptools-0.6.1 humanfriendly-10.0 importlib-metadata-7.1.0 kubernetes-30.1.0 mmh3-4.1.0 monotonic-1.6 onnxruntime-1.18.1 opentelemetry-api-1.25.0 opentelemetry-exporter-otlp-proto-common-1.25.0 opentelemetry-exporter-otlp-proto-grpc-1.25.0 opentelemetry-instrumentation-0.46b0 opentelemetry-instrumentation-asgi-0.46b0 opentelemetry-instrumentation-fastapi-0.46b0 opentelemetry-proto-1.25.0 opentelemetry-sdk-1.25.0 opentelemetry-semantic-conventions-0.46b0 opentelemetry-util-http-0.46b0 overrides-7.7.0 posthog-3.5.0 pypika-0.48.9 python-dotenv-1.0.1 python-multipart-0.0.9 starlette-0.37.2 ujson-5.10.0 uvicorn-0.30.1 uvloop-0.19.0 watchfiles-0.22.0 websockets-12.0\n"
          ]
        }
      ]
    },
    {
      "cell_type": "code",
      "source": [
        "pip install openai=='0.28'"
      ],
      "metadata": {
        "colab": {
          "base_uri": "https://localhost:8080/",
          "height": 554
        },
        "id": "c8dsu-vxkJmB",
        "outputId": "bb53d9d4-1a3f-4cf6-bdc2-27357927a77c"
      },
      "execution_count": null,
      "outputs": [
        {
          "output_type": "stream",
          "name": "stdout",
          "text": [
            "Collecting openai==0.28\n",
            "  Using cached openai-0.28.0-py3-none-any.whl (76 kB)\n",
            "Requirement already satisfied: requests>=2.20 in /usr/local/lib/python3.10/dist-packages (from openai==0.28) (2.31.0)\n",
            "Requirement already satisfied: tqdm in /usr/local/lib/python3.10/dist-packages (from openai==0.28) (4.66.4)\n",
            "Requirement already satisfied: aiohttp in /usr/local/lib/python3.10/dist-packages (from openai==0.28) (3.9.5)\n",
            "Requirement already satisfied: charset-normalizer<4,>=2 in /usr/local/lib/python3.10/dist-packages (from requests>=2.20->openai==0.28) (3.3.2)\n",
            "Requirement already satisfied: idna<4,>=2.5 in /usr/local/lib/python3.10/dist-packages (from requests>=2.20->openai==0.28) (3.7)\n",
            "Requirement already satisfied: urllib3<3,>=1.21.1 in /usr/local/lib/python3.10/dist-packages (from requests>=2.20->openai==0.28) (2.0.7)\n",
            "Requirement already satisfied: certifi>=2017.4.17 in /usr/local/lib/python3.10/dist-packages (from requests>=2.20->openai==0.28) (2024.7.4)\n",
            "Requirement already satisfied: aiosignal>=1.1.2 in /usr/local/lib/python3.10/dist-packages (from aiohttp->openai==0.28) (1.3.1)\n",
            "Requirement already satisfied: attrs>=17.3.0 in /usr/local/lib/python3.10/dist-packages (from aiohttp->openai==0.28) (23.2.0)\n",
            "Requirement already satisfied: frozenlist>=1.1.1 in /usr/local/lib/python3.10/dist-packages (from aiohttp->openai==0.28) (1.4.1)\n",
            "Requirement already satisfied: multidict<7.0,>=4.5 in /usr/local/lib/python3.10/dist-packages (from aiohttp->openai==0.28) (6.0.5)\n",
            "Requirement already satisfied: yarl<2.0,>=1.0 in /usr/local/lib/python3.10/dist-packages (from aiohttp->openai==0.28) (1.9.4)\n",
            "Requirement already satisfied: async-timeout<5.0,>=4.0 in /usr/local/lib/python3.10/dist-packages (from aiohttp->openai==0.28) (4.0.3)\n",
            "Installing collected packages: openai\n",
            "  Attempting uninstall: openai\n",
            "    Found existing installation: openai 1.35.13\n",
            "    Uninstalling openai-1.35.13:\n",
            "      Successfully uninstalled openai-1.35.13\n",
            "\u001b[31mERROR: pip's dependency resolver does not currently take into account all the packages that are installed. This behaviour is the source of the following dependency conflicts.\n",
            "langchain-openai 0.1.16 requires openai<2.0.0,>=1.32.0, but you have openai 0.28.0 which is incompatible.\u001b[0m\u001b[31m\n",
            "\u001b[0mSuccessfully installed openai-0.28.0\n"
          ]
        },
        {
          "output_type": "display_data",
          "data": {
            "application/vnd.colab-display-data+json": {
              "pip_warning": {
                "packages": [
                  "openai"
                ]
              },
              "id": "67dd1a70495b4f7287bef8b5aaf37889"
            }
          },
          "metadata": {}
        }
      ]
    },
    {
      "cell_type": "code",
      "source": [
        "pip install langchain"
      ],
      "metadata": {
        "colab": {
          "base_uri": "https://localhost:8080/"
        },
        "id": "oIoGsDyjjVrB",
        "outputId": "9f9e5235-fdc3-4583-fdbd-812c668db9b9"
      },
      "execution_count": null,
      "outputs": [
        {
          "output_type": "stream",
          "name": "stdout",
          "text": [
            "Requirement already satisfied: langchain in /usr/local/lib/python3.10/dist-packages (0.2.7)\n",
            "Requirement already satisfied: PyYAML>=5.3 in /usr/local/lib/python3.10/dist-packages (from langchain) (6.0.1)\n",
            "Requirement already satisfied: SQLAlchemy<3,>=1.4 in /usr/local/lib/python3.10/dist-packages (from langchain) (2.0.31)\n",
            "Requirement already satisfied: aiohttp<4.0.0,>=3.8.3 in /usr/local/lib/python3.10/dist-packages (from langchain) (3.9.5)\n",
            "Requirement already satisfied: async-timeout<5.0.0,>=4.0.0 in /usr/local/lib/python3.10/dist-packages (from langchain) (4.0.3)\n",
            "Requirement already satisfied: langchain-core<0.3.0,>=0.2.12 in /usr/local/lib/python3.10/dist-packages (from langchain) (0.2.18)\n",
            "Requirement already satisfied: langchain-text-splitters<0.3.0,>=0.2.0 in /usr/local/lib/python3.10/dist-packages (from langchain) (0.2.2)\n",
            "Requirement already satisfied: langsmith<0.2.0,>=0.1.17 in /usr/local/lib/python3.10/dist-packages (from langchain) (0.1.85)\n",
            "Requirement already satisfied: numpy<2,>=1 in /usr/local/lib/python3.10/dist-packages (from langchain) (1.25.2)\n",
            "Requirement already satisfied: pydantic<3,>=1 in /usr/local/lib/python3.10/dist-packages (from langchain) (2.8.2)\n",
            "Requirement already satisfied: requests<3,>=2 in /usr/local/lib/python3.10/dist-packages (from langchain) (2.31.0)\n",
            "Requirement already satisfied: tenacity!=8.4.0,<9.0.0,>=8.1.0 in /usr/local/lib/python3.10/dist-packages (from langchain) (8.5.0)\n",
            "Requirement already satisfied: aiosignal>=1.1.2 in /usr/local/lib/python3.10/dist-packages (from aiohttp<4.0.0,>=3.8.3->langchain) (1.3.1)\n",
            "Requirement already satisfied: attrs>=17.3.0 in /usr/local/lib/python3.10/dist-packages (from aiohttp<4.0.0,>=3.8.3->langchain) (23.2.0)\n",
            "Requirement already satisfied: frozenlist>=1.1.1 in /usr/local/lib/python3.10/dist-packages (from aiohttp<4.0.0,>=3.8.3->langchain) (1.4.1)\n",
            "Requirement already satisfied: multidict<7.0,>=4.5 in /usr/local/lib/python3.10/dist-packages (from aiohttp<4.0.0,>=3.8.3->langchain) (6.0.5)\n",
            "Requirement already satisfied: yarl<2.0,>=1.0 in /usr/local/lib/python3.10/dist-packages (from aiohttp<4.0.0,>=3.8.3->langchain) (1.9.4)\n",
            "Requirement already satisfied: jsonpatch<2.0,>=1.33 in /usr/local/lib/python3.10/dist-packages (from langchain-core<0.3.0,>=0.2.12->langchain) (1.33)\n",
            "Requirement already satisfied: packaging<25,>=23.2 in /usr/local/lib/python3.10/dist-packages (from langchain-core<0.3.0,>=0.2.12->langchain) (24.1)\n",
            "Requirement already satisfied: orjson<4.0.0,>=3.9.14 in /usr/local/lib/python3.10/dist-packages (from langsmith<0.2.0,>=0.1.17->langchain) (3.10.6)\n",
            "Requirement already satisfied: annotated-types>=0.4.0 in /usr/local/lib/python3.10/dist-packages (from pydantic<3,>=1->langchain) (0.7.0)\n",
            "Requirement already satisfied: pydantic-core==2.20.1 in /usr/local/lib/python3.10/dist-packages (from pydantic<3,>=1->langchain) (2.20.1)\n",
            "Requirement already satisfied: typing-extensions>=4.6.1 in /usr/local/lib/python3.10/dist-packages (from pydantic<3,>=1->langchain) (4.12.2)\n",
            "Requirement already satisfied: charset-normalizer<4,>=2 in /usr/local/lib/python3.10/dist-packages (from requests<3,>=2->langchain) (3.3.2)\n",
            "Requirement already satisfied: idna<4,>=2.5 in /usr/local/lib/python3.10/dist-packages (from requests<3,>=2->langchain) (3.7)\n",
            "Requirement already satisfied: urllib3<3,>=1.21.1 in /usr/local/lib/python3.10/dist-packages (from requests<3,>=2->langchain) (2.0.7)\n",
            "Requirement already satisfied: certifi>=2017.4.17 in /usr/local/lib/python3.10/dist-packages (from requests<3,>=2->langchain) (2024.7.4)\n",
            "Requirement already satisfied: greenlet!=0.4.17 in /usr/local/lib/python3.10/dist-packages (from SQLAlchemy<3,>=1.4->langchain) (3.0.3)\n",
            "Requirement already satisfied: jsonpointer>=1.9 in /usr/local/lib/python3.10/dist-packages (from jsonpatch<2.0,>=1.33->langchain-core<0.3.0,>=0.2.12->langchain) (3.0.0)\n"
          ]
        }
      ]
    },
    {
      "cell_type": "code",
      "source": [
        "pip install openai=='0.28'"
      ],
      "metadata": {
        "colab": {
          "base_uri": "https://localhost:8080/"
        },
        "collapsed": true,
        "id": "BCi8CA92g_w4",
        "outputId": "f7a9d834-9cd3-4244-a58a-9508ebc2999e"
      },
      "execution_count": null,
      "outputs": [
        {
          "output_type": "stream",
          "name": "stdout",
          "text": [
            "Collecting openai==0.28\n",
            "  Downloading openai-0.28.0-py3-none-any.whl (76 kB)\n",
            "\u001b[?25l     \u001b[90m━━━━━━━━━━━━━━━━━━━━━━━━━━━━━━━━━━━━━━━━\u001b[0m \u001b[32m0.0/76.5 kB\u001b[0m \u001b[31m?\u001b[0m eta \u001b[36m-:--:--\u001b[0m\r\u001b[2K     \u001b[90m━━━━━━━━━━━━━━━━━━━━━━━━━━━━━━━━━━━━━━━━\u001b[0m \u001b[32m76.5/76.5 kB\u001b[0m \u001b[31m2.8 MB/s\u001b[0m eta \u001b[36m0:00:00\u001b[0m\n",
            "\u001b[?25hRequirement already satisfied: requests>=2.20 in /usr/local/lib/python3.10/dist-packages (from openai==0.28) (2.31.0)\n",
            "Requirement already satisfied: tqdm in /usr/local/lib/python3.10/dist-packages (from openai==0.28) (4.66.4)\n",
            "Requirement already satisfied: aiohttp in /usr/local/lib/python3.10/dist-packages (from openai==0.28) (3.9.5)\n",
            "Requirement already satisfied: charset-normalizer<4,>=2 in /usr/local/lib/python3.10/dist-packages (from requests>=2.20->openai==0.28) (3.3.2)\n",
            "Requirement already satisfied: idna<4,>=2.5 in /usr/local/lib/python3.10/dist-packages (from requests>=2.20->openai==0.28) (3.7)\n",
            "Requirement already satisfied: urllib3<3,>=1.21.1 in /usr/local/lib/python3.10/dist-packages (from requests>=2.20->openai==0.28) (2.0.7)\n",
            "Requirement already satisfied: certifi>=2017.4.17 in /usr/local/lib/python3.10/dist-packages (from requests>=2.20->openai==0.28) (2024.7.4)\n",
            "Requirement already satisfied: aiosignal>=1.1.2 in /usr/local/lib/python3.10/dist-packages (from aiohttp->openai==0.28) (1.3.1)\n",
            "Requirement already satisfied: attrs>=17.3.0 in /usr/local/lib/python3.10/dist-packages (from aiohttp->openai==0.28) (23.2.0)\n",
            "Requirement already satisfied: frozenlist>=1.1.1 in /usr/local/lib/python3.10/dist-packages (from aiohttp->openai==0.28) (1.4.1)\n",
            "Requirement already satisfied: multidict<7.0,>=4.5 in /usr/local/lib/python3.10/dist-packages (from aiohttp->openai==0.28) (6.0.5)\n",
            "Requirement already satisfied: yarl<2.0,>=1.0 in /usr/local/lib/python3.10/dist-packages (from aiohttp->openai==0.28) (1.9.4)\n",
            "Requirement already satisfied: async-timeout<5.0,>=4.0 in /usr/local/lib/python3.10/dist-packages (from aiohttp->openai==0.28) (4.0.3)\n",
            "Installing collected packages: openai\n",
            "Successfully installed openai-0.28.0\n"
          ]
        }
      ]
    },
    {
      "cell_type": "code",
      "source": [
        "pip install langchain"
      ],
      "metadata": {
        "colab": {
          "base_uri": "https://localhost:8080/"
        },
        "collapsed": true,
        "id": "Br7PtKWYhGPJ",
        "outputId": "78d343cb-5365-494b-982c-1eb4cce31fb2"
      },
      "execution_count": null,
      "outputs": [
        {
          "output_type": "stream",
          "name": "stdout",
          "text": [
            "Collecting langchain\n",
            "  Downloading langchain-0.2.7-py3-none-any.whl (983 kB)\n",
            "\u001b[?25l     \u001b[90m━━━━━━━━━━━━━━━━━━━━━━━━━━━━━━━━━━━━━━━━\u001b[0m \u001b[32m0.0/983.6 kB\u001b[0m \u001b[31m?\u001b[0m eta \u001b[36m-:--:--\u001b[0m\r\u001b[2K     \u001b[91m━━━━━━━━\u001b[0m\u001b[91m╸\u001b[0m\u001b[90m━━━━━━━━━━━━━━━━━━━━━━━━━━━━━━━\u001b[0m \u001b[32m215.0/983.6 kB\u001b[0m \u001b[31m6.2 MB/s\u001b[0m eta \u001b[36m0:00:01\u001b[0m\r\u001b[2K     \u001b[91m━━━━━━━━━━━━━━━━━━━━━━━━━━━━\u001b[0m\u001b[91m╸\u001b[0m\u001b[90m━━━━━━━━━━━\u001b[0m \u001b[32m706.6/983.6 kB\u001b[0m \u001b[31m10.2 MB/s\u001b[0m eta \u001b[36m0:00:01\u001b[0m\r\u001b[2K     \u001b[90m━━━━━━━━━━━━━━━━━━━━━━━━━━━━━━━━━━━━━━━━\u001b[0m \u001b[32m983.6/983.6 kB\u001b[0m \u001b[31m9.7 MB/s\u001b[0m eta \u001b[36m0:00:00\u001b[0m\n",
            "\u001b[?25hRequirement already satisfied: PyYAML>=5.3 in /usr/local/lib/python3.10/dist-packages (from langchain) (6.0.1)\n",
            "Requirement already satisfied: SQLAlchemy<3,>=1.4 in /usr/local/lib/python3.10/dist-packages (from langchain) (2.0.31)\n",
            "Requirement already satisfied: aiohttp<4.0.0,>=3.8.3 in /usr/local/lib/python3.10/dist-packages (from langchain) (3.9.5)\n",
            "Requirement already satisfied: async-timeout<5.0.0,>=4.0.0 in /usr/local/lib/python3.10/dist-packages (from langchain) (4.0.3)\n",
            "Collecting langchain-core<0.3.0,>=0.2.12 (from langchain)\n",
            "  Downloading langchain_core-0.2.18-py3-none-any.whl (366 kB)\n",
            "\u001b[2K     \u001b[90m━━━━━━━━━━━━━━━━━━━━━━━━━━━━━━━━━━━━━━━━\u001b[0m \u001b[32m366.3/366.3 kB\u001b[0m \u001b[31m14.4 MB/s\u001b[0m eta \u001b[36m0:00:00\u001b[0m\n",
            "\u001b[?25hCollecting langchain-text-splitters<0.3.0,>=0.2.0 (from langchain)\n",
            "  Downloading langchain_text_splitters-0.2.2-py3-none-any.whl (25 kB)\n",
            "Collecting langsmith<0.2.0,>=0.1.17 (from langchain)\n",
            "  Downloading langsmith-0.1.85-py3-none-any.whl (127 kB)\n",
            "\u001b[2K     \u001b[90m━━━━━━━━━━━━━━━━━━━━━━━━━━━━━━━━━━━━━━━━\u001b[0m \u001b[32m127.9/127.9 kB\u001b[0m \u001b[31m10.1 MB/s\u001b[0m eta \u001b[36m0:00:00\u001b[0m\n",
            "\u001b[?25hRequirement already satisfied: numpy<2,>=1 in /usr/local/lib/python3.10/dist-packages (from langchain) (1.25.2)\n",
            "Requirement already satisfied: pydantic<3,>=1 in /usr/local/lib/python3.10/dist-packages (from langchain) (2.8.2)\n",
            "Requirement already satisfied: requests<3,>=2 in /usr/local/lib/python3.10/dist-packages (from langchain) (2.31.0)\n",
            "Requirement already satisfied: tenacity!=8.4.0,<9.0.0,>=8.1.0 in /usr/local/lib/python3.10/dist-packages (from langchain) (8.5.0)\n",
            "Requirement already satisfied: aiosignal>=1.1.2 in /usr/local/lib/python3.10/dist-packages (from aiohttp<4.0.0,>=3.8.3->langchain) (1.3.1)\n",
            "Requirement already satisfied: attrs>=17.3.0 in /usr/local/lib/python3.10/dist-packages (from aiohttp<4.0.0,>=3.8.3->langchain) (23.2.0)\n",
            "Requirement already satisfied: frozenlist>=1.1.1 in /usr/local/lib/python3.10/dist-packages (from aiohttp<4.0.0,>=3.8.3->langchain) (1.4.1)\n",
            "Requirement already satisfied: multidict<7.0,>=4.5 in /usr/local/lib/python3.10/dist-packages (from aiohttp<4.0.0,>=3.8.3->langchain) (6.0.5)\n",
            "Requirement already satisfied: yarl<2.0,>=1.0 in /usr/local/lib/python3.10/dist-packages (from aiohttp<4.0.0,>=3.8.3->langchain) (1.9.4)\n",
            "Collecting jsonpatch<2.0,>=1.33 (from langchain-core<0.3.0,>=0.2.12->langchain)\n",
            "  Downloading jsonpatch-1.33-py2.py3-none-any.whl (12 kB)\n",
            "Requirement already satisfied: packaging<25,>=23.2 in /usr/local/lib/python3.10/dist-packages (from langchain-core<0.3.0,>=0.2.12->langchain) (24.1)\n",
            "Collecting orjson<4.0.0,>=3.9.14 (from langsmith<0.2.0,>=0.1.17->langchain)\n",
            "  Downloading orjson-3.10.6-cp310-cp310-manylinux_2_17_x86_64.manylinux2014_x86_64.whl (141 kB)\n",
            "\u001b[2K     \u001b[90m━━━━━━━━━━━━━━━━━━━━━━━━━━━━━━━━━━━━━━━━\u001b[0m \u001b[32m141.1/141.1 kB\u001b[0m \u001b[31m15.4 MB/s\u001b[0m eta \u001b[36m0:00:00\u001b[0m\n",
            "\u001b[?25hRequirement already satisfied: annotated-types>=0.4.0 in /usr/local/lib/python3.10/dist-packages (from pydantic<3,>=1->langchain) (0.7.0)\n",
            "Requirement already satisfied: pydantic-core==2.20.1 in /usr/local/lib/python3.10/dist-packages (from pydantic<3,>=1->langchain) (2.20.1)\n",
            "Requirement already satisfied: typing-extensions>=4.6.1 in /usr/local/lib/python3.10/dist-packages (from pydantic<3,>=1->langchain) (4.12.2)\n",
            "Requirement already satisfied: charset-normalizer<4,>=2 in /usr/local/lib/python3.10/dist-packages (from requests<3,>=2->langchain) (3.3.2)\n",
            "Requirement already satisfied: idna<4,>=2.5 in /usr/local/lib/python3.10/dist-packages (from requests<3,>=2->langchain) (3.7)\n",
            "Requirement already satisfied: urllib3<3,>=1.21.1 in /usr/local/lib/python3.10/dist-packages (from requests<3,>=2->langchain) (2.0.7)\n",
            "Requirement already satisfied: certifi>=2017.4.17 in /usr/local/lib/python3.10/dist-packages (from requests<3,>=2->langchain) (2024.7.4)\n",
            "Requirement already satisfied: greenlet!=0.4.17 in /usr/local/lib/python3.10/dist-packages (from SQLAlchemy<3,>=1.4->langchain) (3.0.3)\n",
            "Collecting jsonpointer>=1.9 (from jsonpatch<2.0,>=1.33->langchain-core<0.3.0,>=0.2.12->langchain)\n",
            "  Downloading jsonpointer-3.0.0-py2.py3-none-any.whl (7.6 kB)\n",
            "Installing collected packages: orjson, jsonpointer, jsonpatch, langsmith, langchain-core, langchain-text-splitters, langchain\n",
            "Successfully installed jsonpatch-1.33 jsonpointer-3.0.0 langchain-0.2.7 langchain-core-0.2.18 langchain-text-splitters-0.2.2 langsmith-0.1.85 orjson-3.10.6\n"
          ]
        }
      ]
    },
    {
      "cell_type": "code",
      "source": [
        "pip install -U langchain-community"
      ],
      "metadata": {
        "colab": {
          "base_uri": "https://localhost:8080/"
        },
        "collapsed": true,
        "id": "6GQ4vJUrhO82",
        "outputId": "93a74299-bec8-4a96-f9f6-961b62477655"
      },
      "execution_count": null,
      "outputs": [
        {
          "output_type": "stream",
          "name": "stdout",
          "text": [
            "Collecting langchain-community\n",
            "  Downloading langchain_community-0.2.7-py3-none-any.whl (2.2 MB)\n",
            "\u001b[2K     \u001b[90m━━━━━━━━━━━━━━━━━━━━━━━━━━━━━━━━━━━━━━━━\u001b[0m \u001b[32m2.2/2.2 MB\u001b[0m \u001b[31m5.5 MB/s\u001b[0m eta \u001b[36m0:00:00\u001b[0m\n",
            "\u001b[?25hRequirement already satisfied: PyYAML>=5.3 in /usr/local/lib/python3.10/dist-packages (from langchain-community) (6.0.1)\n",
            "Requirement already satisfied: SQLAlchemy<3,>=1.4 in /usr/local/lib/python3.10/dist-packages (from langchain-community) (2.0.31)\n",
            "Requirement already satisfied: aiohttp<4.0.0,>=3.8.3 in /usr/local/lib/python3.10/dist-packages (from langchain-community) (3.9.5)\n",
            "Collecting dataclasses-json<0.7,>=0.5.7 (from langchain-community)\n",
            "  Downloading dataclasses_json-0.6.7-py3-none-any.whl (28 kB)\n",
            "Requirement already satisfied: langchain<0.3.0,>=0.2.7 in /usr/local/lib/python3.10/dist-packages (from langchain-community) (0.2.7)\n",
            "Requirement already satisfied: langchain-core<0.3.0,>=0.2.12 in /usr/local/lib/python3.10/dist-packages (from langchain-community) (0.2.18)\n",
            "Requirement already satisfied: langsmith<0.2.0,>=0.1.0 in /usr/local/lib/python3.10/dist-packages (from langchain-community) (0.1.85)\n",
            "Requirement already satisfied: numpy<2,>=1 in /usr/local/lib/python3.10/dist-packages (from langchain-community) (1.25.2)\n",
            "Requirement already satisfied: requests<3,>=2 in /usr/local/lib/python3.10/dist-packages (from langchain-community) (2.31.0)\n",
            "Requirement already satisfied: tenacity!=8.4.0,<9.0.0,>=8.1.0 in /usr/local/lib/python3.10/dist-packages (from langchain-community) (8.5.0)\n",
            "Requirement already satisfied: aiosignal>=1.1.2 in /usr/local/lib/python3.10/dist-packages (from aiohttp<4.0.0,>=3.8.3->langchain-community) (1.3.1)\n",
            "Requirement already satisfied: attrs>=17.3.0 in /usr/local/lib/python3.10/dist-packages (from aiohttp<4.0.0,>=3.8.3->langchain-community) (23.2.0)\n",
            "Requirement already satisfied: frozenlist>=1.1.1 in /usr/local/lib/python3.10/dist-packages (from aiohttp<4.0.0,>=3.8.3->langchain-community) (1.4.1)\n",
            "Requirement already satisfied: multidict<7.0,>=4.5 in /usr/local/lib/python3.10/dist-packages (from aiohttp<4.0.0,>=3.8.3->langchain-community) (6.0.5)\n",
            "Requirement already satisfied: yarl<2.0,>=1.0 in /usr/local/lib/python3.10/dist-packages (from aiohttp<4.0.0,>=3.8.3->langchain-community) (1.9.4)\n",
            "Requirement already satisfied: async-timeout<5.0,>=4.0 in /usr/local/lib/python3.10/dist-packages (from aiohttp<4.0.0,>=3.8.3->langchain-community) (4.0.3)\n",
            "Collecting marshmallow<4.0.0,>=3.18.0 (from dataclasses-json<0.7,>=0.5.7->langchain-community)\n",
            "  Downloading marshmallow-3.21.3-py3-none-any.whl (49 kB)\n",
            "\u001b[2K     \u001b[90m━━━━━━━━━━━━━━━━━━━━━━━━━━━━━━━━━━━━━━━━\u001b[0m \u001b[32m49.2/49.2 kB\u001b[0m \u001b[31m6.1 MB/s\u001b[0m eta \u001b[36m0:00:00\u001b[0m\n",
            "\u001b[?25hCollecting typing-inspect<1,>=0.4.0 (from dataclasses-json<0.7,>=0.5.7->langchain-community)\n",
            "  Downloading typing_inspect-0.9.0-py3-none-any.whl (8.8 kB)\n",
            "Requirement already satisfied: langchain-text-splitters<0.3.0,>=0.2.0 in /usr/local/lib/python3.10/dist-packages (from langchain<0.3.0,>=0.2.7->langchain-community) (0.2.2)\n",
            "Requirement already satisfied: pydantic<3,>=1 in /usr/local/lib/python3.10/dist-packages (from langchain<0.3.0,>=0.2.7->langchain-community) (2.8.2)\n",
            "Requirement already satisfied: jsonpatch<2.0,>=1.33 in /usr/local/lib/python3.10/dist-packages (from langchain-core<0.3.0,>=0.2.12->langchain-community) (1.33)\n",
            "Requirement already satisfied: packaging<25,>=23.2 in /usr/local/lib/python3.10/dist-packages (from langchain-core<0.3.0,>=0.2.12->langchain-community) (24.1)\n",
            "Requirement already satisfied: orjson<4.0.0,>=3.9.14 in /usr/local/lib/python3.10/dist-packages (from langsmith<0.2.0,>=0.1.0->langchain-community) (3.10.6)\n",
            "Requirement already satisfied: charset-normalizer<4,>=2 in /usr/local/lib/python3.10/dist-packages (from requests<3,>=2->langchain-community) (3.3.2)\n",
            "Requirement already satisfied: idna<4,>=2.5 in /usr/local/lib/python3.10/dist-packages (from requests<3,>=2->langchain-community) (3.7)\n",
            "Requirement already satisfied: urllib3<3,>=1.21.1 in /usr/local/lib/python3.10/dist-packages (from requests<3,>=2->langchain-community) (2.0.7)\n",
            "Requirement already satisfied: certifi>=2017.4.17 in /usr/local/lib/python3.10/dist-packages (from requests<3,>=2->langchain-community) (2024.7.4)\n",
            "Requirement already satisfied: typing-extensions>=4.6.0 in /usr/local/lib/python3.10/dist-packages (from SQLAlchemy<3,>=1.4->langchain-community) (4.12.2)\n",
            "Requirement already satisfied: greenlet!=0.4.17 in /usr/local/lib/python3.10/dist-packages (from SQLAlchemy<3,>=1.4->langchain-community) (3.0.3)\n",
            "Requirement already satisfied: jsonpointer>=1.9 in /usr/local/lib/python3.10/dist-packages (from jsonpatch<2.0,>=1.33->langchain-core<0.3.0,>=0.2.12->langchain-community) (3.0.0)\n",
            "Requirement already satisfied: annotated-types>=0.4.0 in /usr/local/lib/python3.10/dist-packages (from pydantic<3,>=1->langchain<0.3.0,>=0.2.7->langchain-community) (0.7.0)\n",
            "Requirement already satisfied: pydantic-core==2.20.1 in /usr/local/lib/python3.10/dist-packages (from pydantic<3,>=1->langchain<0.3.0,>=0.2.7->langchain-community) (2.20.1)\n",
            "Collecting mypy-extensions>=0.3.0 (from typing-inspect<1,>=0.4.0->dataclasses-json<0.7,>=0.5.7->langchain-community)\n",
            "  Downloading mypy_extensions-1.0.0-py3-none-any.whl (4.7 kB)\n",
            "Installing collected packages: mypy-extensions, marshmallow, typing-inspect, dataclasses-json, langchain-community\n",
            "Successfully installed dataclasses-json-0.6.7 langchain-community-0.2.7 marshmallow-3.21.3 mypy-extensions-1.0.0 typing-inspect-0.9.0\n"
          ]
        }
      ]
    },
    {
      "cell_type": "code",
      "source": [
        "pip install -U langchain-openai"
      ],
      "metadata": {
        "colab": {
          "base_uri": "https://localhost:8080/"
        },
        "collapsed": true,
        "id": "x1FYxRWkhjXj",
        "outputId": "019031e1-d67e-4603-8318-7e7e18446077"
      },
      "execution_count": null,
      "outputs": [
        {
          "output_type": "stream",
          "name": "stdout",
          "text": [
            "Collecting langchain-openai\n",
            "  Downloading langchain_openai-0.1.16-py3-none-any.whl (46 kB)\n",
            "\u001b[?25l     \u001b[90m━━━━━━━━━━━━━━━━━━━━━━━━━━━━━━━━━━━━━━━━\u001b[0m \u001b[32m0.0/46.1 kB\u001b[0m \u001b[31m?\u001b[0m eta \u001b[36m-:--:--\u001b[0m\r\u001b[2K     \u001b[90m━━━━━━━━━━━━━━━━━━━━━━━━━━━━━━━━━━━━━━━━\u001b[0m \u001b[32m46.1/46.1 kB\u001b[0m \u001b[31m1.8 MB/s\u001b[0m eta \u001b[36m0:00:00\u001b[0m\n",
            "\u001b[?25hRequirement already satisfied: langchain-core<0.3.0,>=0.2.17 in /usr/local/lib/python3.10/dist-packages (from langchain-openai) (0.2.18)\n",
            "Collecting openai<2.0.0,>=1.32.0 (from langchain-openai)\n",
            "  Downloading openai-1.35.13-py3-none-any.whl (328 kB)\n",
            "\u001b[2K     \u001b[90m━━━━━━━━━━━━━━━━━━━━━━━━━━━━━━━━━━━━━━━━\u001b[0m \u001b[32m328.5/328.5 kB\u001b[0m \u001b[31m7.0 MB/s\u001b[0m eta \u001b[36m0:00:00\u001b[0m\n",
            "\u001b[?25hCollecting tiktoken<1,>=0.7 (from langchain-openai)\n",
            "  Downloading tiktoken-0.7.0-cp310-cp310-manylinux_2_17_x86_64.manylinux2014_x86_64.whl (1.1 MB)\n",
            "\u001b[2K     \u001b[90m━━━━━━━━━━━━━━━━━━━━━━━━━━━━━━━━━━━━━━━━\u001b[0m \u001b[32m1.1/1.1 MB\u001b[0m \u001b[31m13.6 MB/s\u001b[0m eta \u001b[36m0:00:00\u001b[0m\n",
            "\u001b[?25hRequirement already satisfied: PyYAML>=5.3 in /usr/local/lib/python3.10/dist-packages (from langchain-core<0.3.0,>=0.2.17->langchain-openai) (6.0.1)\n",
            "Requirement already satisfied: jsonpatch<2.0,>=1.33 in /usr/local/lib/python3.10/dist-packages (from langchain-core<0.3.0,>=0.2.17->langchain-openai) (1.33)\n",
            "Requirement already satisfied: langsmith<0.2.0,>=0.1.75 in /usr/local/lib/python3.10/dist-packages (from langchain-core<0.3.0,>=0.2.17->langchain-openai) (0.1.85)\n",
            "Requirement already satisfied: packaging<25,>=23.2 in /usr/local/lib/python3.10/dist-packages (from langchain-core<0.3.0,>=0.2.17->langchain-openai) (24.1)\n",
            "Requirement already satisfied: pydantic<3,>=1 in /usr/local/lib/python3.10/dist-packages (from langchain-core<0.3.0,>=0.2.17->langchain-openai) (2.8.2)\n",
            "Requirement already satisfied: tenacity!=8.4.0,<9.0.0,>=8.1.0 in /usr/local/lib/python3.10/dist-packages (from langchain-core<0.3.0,>=0.2.17->langchain-openai) (8.5.0)\n",
            "Requirement already satisfied: anyio<5,>=3.5.0 in /usr/local/lib/python3.10/dist-packages (from openai<2.0.0,>=1.32.0->langchain-openai) (3.7.1)\n",
            "Requirement already satisfied: distro<2,>=1.7.0 in /usr/lib/python3/dist-packages (from openai<2.0.0,>=1.32.0->langchain-openai) (1.7.0)\n",
            "Collecting httpx<1,>=0.23.0 (from openai<2.0.0,>=1.32.0->langchain-openai)\n",
            "  Downloading httpx-0.27.0-py3-none-any.whl (75 kB)\n",
            "\u001b[2K     \u001b[90m━━━━━━━━━━━━━━━━━━━━━━━━━━━━━━━━━━━━━━━━\u001b[0m \u001b[32m75.6/75.6 kB\u001b[0m \u001b[31m9.1 MB/s\u001b[0m eta \u001b[36m0:00:00\u001b[0m\n",
            "\u001b[?25hRequirement already satisfied: sniffio in /usr/local/lib/python3.10/dist-packages (from openai<2.0.0,>=1.32.0->langchain-openai) (1.3.1)\n",
            "Requirement already satisfied: tqdm>4 in /usr/local/lib/python3.10/dist-packages (from openai<2.0.0,>=1.32.0->langchain-openai) (4.66.4)\n",
            "Requirement already satisfied: typing-extensions<5,>=4.7 in /usr/local/lib/python3.10/dist-packages (from openai<2.0.0,>=1.32.0->langchain-openai) (4.12.2)\n",
            "Requirement already satisfied: regex>=2022.1.18 in /usr/local/lib/python3.10/dist-packages (from tiktoken<1,>=0.7->langchain-openai) (2024.5.15)\n",
            "Requirement already satisfied: requests>=2.26.0 in /usr/local/lib/python3.10/dist-packages (from tiktoken<1,>=0.7->langchain-openai) (2.31.0)\n",
            "Requirement already satisfied: idna>=2.8 in /usr/local/lib/python3.10/dist-packages (from anyio<5,>=3.5.0->openai<2.0.0,>=1.32.0->langchain-openai) (3.7)\n",
            "Requirement already satisfied: exceptiongroup in /usr/local/lib/python3.10/dist-packages (from anyio<5,>=3.5.0->openai<2.0.0,>=1.32.0->langchain-openai) (1.2.1)\n",
            "Requirement already satisfied: certifi in /usr/local/lib/python3.10/dist-packages (from httpx<1,>=0.23.0->openai<2.0.0,>=1.32.0->langchain-openai) (2024.7.4)\n",
            "Collecting httpcore==1.* (from httpx<1,>=0.23.0->openai<2.0.0,>=1.32.0->langchain-openai)\n",
            "  Downloading httpcore-1.0.5-py3-none-any.whl (77 kB)\n",
            "\u001b[2K     \u001b[90m━━━━━━━━━━━━━━━━━━━━━━━━━━━━━━━━━━━━━━━━\u001b[0m \u001b[32m77.9/77.9 kB\u001b[0m \u001b[31m9.7 MB/s\u001b[0m eta \u001b[36m0:00:00\u001b[0m\n",
            "\u001b[?25hCollecting h11<0.15,>=0.13 (from httpcore==1.*->httpx<1,>=0.23.0->openai<2.0.0,>=1.32.0->langchain-openai)\n",
            "  Downloading h11-0.14.0-py3-none-any.whl (58 kB)\n",
            "\u001b[2K     \u001b[90m━━━━━━━━━━━━━━━━━━━━━━━━━━━━━━━━━━━━━━━━\u001b[0m \u001b[32m58.3/58.3 kB\u001b[0m \u001b[31m6.5 MB/s\u001b[0m eta \u001b[36m0:00:00\u001b[0m\n",
            "\u001b[?25hRequirement already satisfied: jsonpointer>=1.9 in /usr/local/lib/python3.10/dist-packages (from jsonpatch<2.0,>=1.33->langchain-core<0.3.0,>=0.2.17->langchain-openai) (3.0.0)\n",
            "Requirement already satisfied: orjson<4.0.0,>=3.9.14 in /usr/local/lib/python3.10/dist-packages (from langsmith<0.2.0,>=0.1.75->langchain-core<0.3.0,>=0.2.17->langchain-openai) (3.10.6)\n",
            "Requirement already satisfied: annotated-types>=0.4.0 in /usr/local/lib/python3.10/dist-packages (from pydantic<3,>=1->langchain-core<0.3.0,>=0.2.17->langchain-openai) (0.7.0)\n",
            "Requirement already satisfied: pydantic-core==2.20.1 in /usr/local/lib/python3.10/dist-packages (from pydantic<3,>=1->langchain-core<0.3.0,>=0.2.17->langchain-openai) (2.20.1)\n",
            "Requirement already satisfied: charset-normalizer<4,>=2 in /usr/local/lib/python3.10/dist-packages (from requests>=2.26.0->tiktoken<1,>=0.7->langchain-openai) (3.3.2)\n",
            "Requirement already satisfied: urllib3<3,>=1.21.1 in /usr/local/lib/python3.10/dist-packages (from requests>=2.26.0->tiktoken<1,>=0.7->langchain-openai) (2.0.7)\n",
            "Installing collected packages: h11, tiktoken, httpcore, httpx, openai, langchain-openai\n",
            "  Attempting uninstall: openai\n",
            "    Found existing installation: openai 0.28.0\n",
            "    Uninstalling openai-0.28.0:\n",
            "      Successfully uninstalled openai-0.28.0\n",
            "Successfully installed h11-0.14.0 httpcore-1.0.5 httpx-0.27.0 langchain-openai-0.1.16 openai-1.35.13 tiktoken-0.7.0\n"
          ]
        }
      ]
    },
    {
      "cell_type": "code",
      "source": [
        "pip install sentence-transformers\n"
      ],
      "metadata": {
        "colab": {
          "base_uri": "https://localhost:8080/"
        },
        "id": "0TZ4_wXBhp_p",
        "outputId": "f35a4703-02db-44e6-9120-bac8462f4d41"
      },
      "execution_count": null,
      "outputs": [
        {
          "output_type": "stream",
          "name": "stdout",
          "text": [
            "Collecting sentence-transformers\n",
            "  Downloading sentence_transformers-3.0.1-py3-none-any.whl (227 kB)\n",
            "\u001b[?25l     \u001b[90m━━━━━━━━━━━━━━━━━━━━━━━━━━━━━━━━━━━━━━━━\u001b[0m \u001b[32m0.0/227.1 kB\u001b[0m \u001b[31m?\u001b[0m eta \u001b[36m-:--:--\u001b[0m\r\u001b[2K     \u001b[91m━━━━━━━━━━━━━━━━━━━━━━━━━\u001b[0m\u001b[90m╺\u001b[0m\u001b[90m━━━━━━━━━━━━━━\u001b[0m \u001b[32m143.4/227.1 kB\u001b[0m \u001b[31m4.3 MB/s\u001b[0m eta \u001b[36m0:00:01\u001b[0m\r\u001b[2K     \u001b[90m━━━━━━━━━━━━━━━━━━━━━━━━━━━━━━━━━━━━━━━━\u001b[0m \u001b[32m227.1/227.1 kB\u001b[0m \u001b[31m4.4 MB/s\u001b[0m eta \u001b[36m0:00:00\u001b[0m\n",
            "\u001b[?25hRequirement already satisfied: transformers<5.0.0,>=4.34.0 in /usr/local/lib/python3.10/dist-packages (from sentence-transformers) (4.41.2)\n",
            "Requirement already satisfied: tqdm in /usr/local/lib/python3.10/dist-packages (from sentence-transformers) (4.66.4)\n",
            "Requirement already satisfied: torch>=1.11.0 in /usr/local/lib/python3.10/dist-packages (from sentence-transformers) (2.3.0+cu121)\n",
            "Requirement already satisfied: numpy in /usr/local/lib/python3.10/dist-packages (from sentence-transformers) (1.25.2)\n",
            "Requirement already satisfied: scikit-learn in /usr/local/lib/python3.10/dist-packages (from sentence-transformers) (1.2.2)\n",
            "Requirement already satisfied: scipy in /usr/local/lib/python3.10/dist-packages (from sentence-transformers) (1.11.4)\n",
            "Requirement already satisfied: huggingface-hub>=0.15.1 in /usr/local/lib/python3.10/dist-packages (from sentence-transformers) (0.23.4)\n",
            "Requirement already satisfied: Pillow in /usr/local/lib/python3.10/dist-packages (from sentence-transformers) (9.4.0)\n",
            "Requirement already satisfied: filelock in /usr/local/lib/python3.10/dist-packages (from huggingface-hub>=0.15.1->sentence-transformers) (3.15.4)\n",
            "Requirement already satisfied: fsspec>=2023.5.0 in /usr/local/lib/python3.10/dist-packages (from huggingface-hub>=0.15.1->sentence-transformers) (2023.6.0)\n",
            "Requirement already satisfied: packaging>=20.9 in /usr/local/lib/python3.10/dist-packages (from huggingface-hub>=0.15.1->sentence-transformers) (24.1)\n",
            "Requirement already satisfied: pyyaml>=5.1 in /usr/local/lib/python3.10/dist-packages (from huggingface-hub>=0.15.1->sentence-transformers) (6.0.1)\n",
            "Requirement already satisfied: requests in /usr/local/lib/python3.10/dist-packages (from huggingface-hub>=0.15.1->sentence-transformers) (2.31.0)\n",
            "Requirement already satisfied: typing-extensions>=3.7.4.3 in /usr/local/lib/python3.10/dist-packages (from huggingface-hub>=0.15.1->sentence-transformers) (4.12.2)\n",
            "Requirement already satisfied: sympy in /usr/local/lib/python3.10/dist-packages (from torch>=1.11.0->sentence-transformers) (1.13.0)\n",
            "Requirement already satisfied: networkx in /usr/local/lib/python3.10/dist-packages (from torch>=1.11.0->sentence-transformers) (3.3)\n",
            "Requirement already satisfied: jinja2 in /usr/local/lib/python3.10/dist-packages (from torch>=1.11.0->sentence-transformers) (3.1.4)\n",
            "Collecting nvidia-cuda-nvrtc-cu12==12.1.105 (from torch>=1.11.0->sentence-transformers)\n",
            "  Using cached nvidia_cuda_nvrtc_cu12-12.1.105-py3-none-manylinux1_x86_64.whl (23.7 MB)\n",
            "Collecting nvidia-cuda-runtime-cu12==12.1.105 (from torch>=1.11.0->sentence-transformers)\n",
            "  Using cached nvidia_cuda_runtime_cu12-12.1.105-py3-none-manylinux1_x86_64.whl (823 kB)\n",
            "Collecting nvidia-cuda-cupti-cu12==12.1.105 (from torch>=1.11.0->sentence-transformers)\n",
            "  Using cached nvidia_cuda_cupti_cu12-12.1.105-py3-none-manylinux1_x86_64.whl (14.1 MB)\n",
            "Collecting nvidia-cudnn-cu12==8.9.2.26 (from torch>=1.11.0->sentence-transformers)\n",
            "  Using cached nvidia_cudnn_cu12-8.9.2.26-py3-none-manylinux1_x86_64.whl (731.7 MB)\n",
            "Collecting nvidia-cublas-cu12==12.1.3.1 (from torch>=1.11.0->sentence-transformers)\n",
            "  Using cached nvidia_cublas_cu12-12.1.3.1-py3-none-manylinux1_x86_64.whl (410.6 MB)\n",
            "Collecting nvidia-cufft-cu12==11.0.2.54 (from torch>=1.11.0->sentence-transformers)\n",
            "  Using cached nvidia_cufft_cu12-11.0.2.54-py3-none-manylinux1_x86_64.whl (121.6 MB)\n",
            "Collecting nvidia-curand-cu12==10.3.2.106 (from torch>=1.11.0->sentence-transformers)\n",
            "  Using cached nvidia_curand_cu12-10.3.2.106-py3-none-manylinux1_x86_64.whl (56.5 MB)\n",
            "Collecting nvidia-cusolver-cu12==11.4.5.107 (from torch>=1.11.0->sentence-transformers)\n",
            "  Using cached nvidia_cusolver_cu12-11.4.5.107-py3-none-manylinux1_x86_64.whl (124.2 MB)\n",
            "Collecting nvidia-cusparse-cu12==12.1.0.106 (from torch>=1.11.0->sentence-transformers)\n",
            "  Using cached nvidia_cusparse_cu12-12.1.0.106-py3-none-manylinux1_x86_64.whl (196.0 MB)\n",
            "Collecting nvidia-nccl-cu12==2.20.5 (from torch>=1.11.0->sentence-transformers)\n",
            "  Using cached nvidia_nccl_cu12-2.20.5-py3-none-manylinux2014_x86_64.whl (176.2 MB)\n",
            "Collecting nvidia-nvtx-cu12==12.1.105 (from torch>=1.11.0->sentence-transformers)\n",
            "  Using cached nvidia_nvtx_cu12-12.1.105-py3-none-manylinux1_x86_64.whl (99 kB)\n",
            "Requirement already satisfied: triton==2.3.0 in /usr/local/lib/python3.10/dist-packages (from torch>=1.11.0->sentence-transformers) (2.3.0)\n",
            "Collecting nvidia-nvjitlink-cu12 (from nvidia-cusolver-cu12==11.4.5.107->torch>=1.11.0->sentence-transformers)\n",
            "  Downloading nvidia_nvjitlink_cu12-12.5.82-py3-none-manylinux2014_x86_64.whl (21.3 MB)\n",
            "\u001b[2K     \u001b[90m━━━━━━━━━━━━━━━━━━━━━━━━━━━━━━━━━━━━━━━━\u001b[0m \u001b[32m21.3/21.3 MB\u001b[0m \u001b[31m44.9 MB/s\u001b[0m eta \u001b[36m0:00:00\u001b[0m\n",
            "\u001b[?25hRequirement already satisfied: regex!=2019.12.17 in /usr/local/lib/python3.10/dist-packages (from transformers<5.0.0,>=4.34.0->sentence-transformers) (2024.5.15)\n",
            "Requirement already satisfied: tokenizers<0.20,>=0.19 in /usr/local/lib/python3.10/dist-packages (from transformers<5.0.0,>=4.34.0->sentence-transformers) (0.19.1)\n",
            "Requirement already satisfied: safetensors>=0.4.1 in /usr/local/lib/python3.10/dist-packages (from transformers<5.0.0,>=4.34.0->sentence-transformers) (0.4.3)\n",
            "Requirement already satisfied: joblib>=1.1.1 in /usr/local/lib/python3.10/dist-packages (from scikit-learn->sentence-transformers) (1.4.2)\n",
            "Requirement already satisfied: threadpoolctl>=2.0.0 in /usr/local/lib/python3.10/dist-packages (from scikit-learn->sentence-transformers) (3.5.0)\n",
            "Requirement already satisfied: MarkupSafe>=2.0 in /usr/local/lib/python3.10/dist-packages (from jinja2->torch>=1.11.0->sentence-transformers) (2.1.5)\n",
            "Requirement already satisfied: charset-normalizer<4,>=2 in /usr/local/lib/python3.10/dist-packages (from requests->huggingface-hub>=0.15.1->sentence-transformers) (3.3.2)\n",
            "Requirement already satisfied: idna<4,>=2.5 in /usr/local/lib/python3.10/dist-packages (from requests->huggingface-hub>=0.15.1->sentence-transformers) (3.7)\n",
            "Requirement already satisfied: urllib3<3,>=1.21.1 in /usr/local/lib/python3.10/dist-packages (from requests->huggingface-hub>=0.15.1->sentence-transformers) (2.0.7)\n",
            "Requirement already satisfied: certifi>=2017.4.17 in /usr/local/lib/python3.10/dist-packages (from requests->huggingface-hub>=0.15.1->sentence-transformers) (2024.7.4)\n",
            "Requirement already satisfied: mpmath<1.4,>=1.1.0 in /usr/local/lib/python3.10/dist-packages (from sympy->torch>=1.11.0->sentence-transformers) (1.3.0)\n",
            "Installing collected packages: nvidia-nvtx-cu12, nvidia-nvjitlink-cu12, nvidia-nccl-cu12, nvidia-curand-cu12, nvidia-cufft-cu12, nvidia-cuda-runtime-cu12, nvidia-cuda-nvrtc-cu12, nvidia-cuda-cupti-cu12, nvidia-cublas-cu12, nvidia-cusparse-cu12, nvidia-cudnn-cu12, nvidia-cusolver-cu12, sentence-transformers\n",
            "Successfully installed nvidia-cublas-cu12-12.1.3.1 nvidia-cuda-cupti-cu12-12.1.105 nvidia-cuda-nvrtc-cu12-12.1.105 nvidia-cuda-runtime-cu12-12.1.105 nvidia-cudnn-cu12-8.9.2.26 nvidia-cufft-cu12-11.0.2.54 nvidia-curand-cu12-10.3.2.106 nvidia-cusolver-cu12-11.4.5.107 nvidia-cusparse-cu12-12.1.0.106 nvidia-nccl-cu12-2.20.5 nvidia-nvjitlink-cu12-12.5.82 nvidia-nvtx-cu12-12.1.105 sentence-transformers-3.0.1\n"
          ]
        }
      ]
    },
    {
      "cell_type": "markdown",
      "source": [
        "##실습"
      ],
      "metadata": {
        "id": "1W96q4BNm56s"
      }
    },
    {
      "cell_type": "code",
      "source": [
        "def save_text_to_txt(text, filename='output.txt'):\n",
        "    with open(filename, 'w', encoding='utf-8') as f:\n",
        "        f.write(text)\n",
        "\n",
        "# 텍스트를 txt 파일로 저장\n",
        "save_text_to_txt(text, 'output.txt')\n",
        "\n",
        "print(\"텍스트가 output.txt 파일로 저장되었습니다.\")\n"
      ],
      "metadata": {
        "colab": {
          "base_uri": "https://localhost:8080/"
        },
        "id": "0TM5SE_7nKUB",
        "outputId": "73964050-7aa0-4d2a-cd4b-4e105f0ae244"
      },
      "execution_count": null,
      "outputs": [
        {
          "output_type": "stream",
          "name": "stdout",
          "text": [
            "텍스트가 output.txt 파일로 저장되었습니다.\n"
          ]
        }
      ]
    },
    {
      "cell_type": "code",
      "source": [
        "import os\n",
        "import openai\n",
        "from langchain.document_loaders import PyPDFLoader\n",
        "from langchain.text_splitter import CharacterTextSplitter\n",
        "from sentence_transformers import SentenceTransformer\n",
        "\n",
        "os.environ['OPENAI_API_KEY'] = 'key 입력'\n"
      ],
      "metadata": {
        "id": "zPBOK3JQ4v7s"
      },
      "execution_count": 137,
      "outputs": []
    },
    {
      "cell_type": "code",
      "source": [
        "from langchain.document_loaders import TextLoader\n",
        "documents = TextLoader(\"/content/output.txt\").load()"
      ],
      "metadata": {
        "id": "jI_ygHCkpF7f"
      },
      "execution_count": 138,
      "outputs": []
    },
    {
      "cell_type": "code",
      "source": [
        "from langchain.text_splitter import RecursiveCharacterTextSplitter\n",
        "\n",
        "def split_docs(documents,chunk_size=1000,chunk_overlap=20):\n",
        "  text_splitter = RecursiveCharacterTextSplitter(chunk_size=chunk_size, chunk_overlap=chunk_overlap)\n",
        "  docs = text_splitter.split_documents(documents)\n",
        "  return docs\n",
        "\n",
        "# docs 변수에 분할 문서를 저장\n",
        "docs = split_docs(documents)"
      ],
      "metadata": {
        "id": "1UHKCY23pxbT"
      },
      "execution_count": 139,
      "outputs": []
    },
    {
      "cell_type": "code",
      "source": [
        "from langchain.text_splitter import CharacterTextSplitter\n",
        "\n",
        "text_splitter = CharacterTextSplitter(chunk_size=1000, chunk_overlap=50)\n",
        "texts = text_splitter.split_documents(documents)\n"
      ],
      "metadata": {
        "id": "maumJQUC69y2"
      },
      "execution_count": 140,
      "outputs": []
    },
    {
      "cell_type": "code",
      "source": [
        "print(texts)"
      ],
      "metadata": {
        "colab": {
          "base_uri": "https://localhost:8080/"
        },
        "id": "LQhsmYpa_YuI",
        "outputId": "16ac0742-836d-45b2-ee60-2630a0d1d366"
      },
      "execution_count": 141,
      "outputs": [
        {
          "output_type": "stream",
          "name": "stdout",
          "text": [
            "[Document(metadata={'source': '/content/output.txt'}, page_content='포트미스회원가입포트미스회원가입회원가입 - 회원가입절차회원가입000로그인항만민원101사용목적선택02약관동의회원정보입력회원신청완료해운항만물류정보시스템해운했단민원신고를위에서는효용기업이필요합니다PORT-MIS해운항만물류꿀보시스장의사용목적을선택해주세요.2해양수산부부산출판공사인천대인공사해운민원선택입출항현황포선별관제련활전자문서응답조개박선박원황항만민원항만민원신고자中창 등을 이용하는 사용자가장장기활동허가신청지울산세인공사여수광영방안공사호항만민원 예선사8명 최고항만인원_경인항광진독립운임을가이통신고를이용하는 사용자항만물류통계해운민원###매운시업자 모드를 이용되는 사용자 분###위험물반입신고화물로신고하다집계표정보시설제원코드조연속[한글입대비]:301회원가입버튼클릭2사용목적에맞는민원신고내용선택3다음버튼클릭해양스산브')]\n"
          ]
        }
      ]
    },
    {
      "cell_type": "code",
      "source": [
        "from langchain.vectorstores import Chroma\n",
        "from langchain_community.embeddings import SentenceTransformerEmbeddings\n",
        "\n",
        "embeddings = SentenceTransformerEmbeddings(model_name=\"all-MiniLM-L6-v2\")\n",
        "\n",
        "# Chroma DB 에 저장\n",
        "docsearch = Chroma.from_documents(texts, embeddings)\n",
        "# retriever 가져옴\n",
        "retriever = docsearch.as_retriever()"
      ],
      "metadata": {
        "colab": {
          "base_uri": "https://localhost:8080/"
        },
        "id": "ir8L_j5p61E6",
        "outputId": "f0272659-5f8e-414d-f044-2f634baec504"
      },
      "execution_count": 142,
      "outputs": [
        {
          "output_type": "stream",
          "name": "stderr",
          "text": [
            "/usr/local/lib/python3.10/dist-packages/huggingface_hub/file_download.py:1132: FutureWarning: `resume_download` is deprecated and will be removed in version 1.0.0. Downloads always resume when possible. If you want to force a new download, use `force_download=True`.\n",
            "  warnings.warn(\n"
          ]
        }
      ]
    },
    {
      "cell_type": "code",
      "source": [
        "from langchain_core.prompts import SystemMessagePromptTemplate\n",
        "from langchain_core.prompts import PromptTemplate\n",
        "from langchain_core.prompts import ChatPromptTemplate\n",
        "from langchain.chat_models import ChatOpenAI\n",
        "from langchain.schema.runnable import RunnablePassthrough\n",
        "\n",
        "# Prompt Template 정의\n",
        "prompt_template = ChatPromptTemplate(\n",
        "    input_variables=['context', 'data_format', 'number_of_pairs'],\n",
        "    messages=[\n",
        "        SystemMessagePromptTemplate(\n",
        "            prompt=PromptTemplate(\n",
        "                input_variables=['context', 'data_format', 'number_of_pairs'],\n",
        "                template='Generate the question and answer pairs.\\n'\n",
        "                         '1. The number of question/answer pairs you need ({number_of_pairs}).\\n'\n",
        "                         '2. The data format you want me to use ({data_format}).\\n'\n",
        "                         '3. The context for the questions and answers ({context}).'\n",
        "                         '4. Both questions and answers are printed in Korean.'\n",
        "            )\n",
        "        )\n",
        "    ]\n",
        ")\n",
        "\n",
        "llm = ChatOpenAI(model_name=\"gpt-3.5-turbo\", temperature=0)\n",
        "\n",
        "# RAG 프롬프트\n",
        "rag_prompt = ChatPromptTemplate(\n",
        "    input_variables=['context', 'question'],\n",
        "    messages=[\n",
        "        SystemMessagePromptTemplate(\n",
        "            prompt=PromptTemplate(\n",
        "                input_variables=['context', 'question'],\n",
        "                template='You are an assistant for question-answering tasks. you should be written in Korean. Use the following pieces of retrieved context to answer the question. If you don\\'t know the answer, just say that you don\\'t know. Use three sentences maximum and keep the answer concise.\\nQuestion: {question}\\nContext: {context}\\nAnswer:'\n",
        "            )\n",
        "        )\n",
        "    ]\n",
        ")\n",
        "\n",
        "# RAG 체인 생성\n",
        "rag_chain = (\n",
        "    {\"context\": RunnablePassthrough(), \"data_format\": RunnablePassthrough(), \"number_of_pairs\": RunnablePassthrough()}\n",
        "    | prompt_template\n",
        "    | llm\n",
        ")\n"
      ],
      "metadata": {
        "id": "NNvfT2-xqBtA"
      },
      "execution_count": 143,
      "outputs": []
    },
    {
      "cell_type": "code",
      "source": [
        "# QA 쌍 생성 및 출력\n",
        "qa_pair = []\n",
        "\n",
        "for doc in texts:\n",
        "    if isinstance(doc.page_content, str):\n",
        "        result = rag_chain.invoke(\n",
        "            {\"context\": doc.page_content, \"data_format\": \"Question/Answer\", \"number_of_pairs\": 3}\n",
        "        )\n",
        "        qa_pair.append(result)\n",
        "\n",
        "print(qa_pair)"
      ],
      "metadata": {
        "colab": {
          "base_uri": "https://localhost:8080/"
        },
        "id": "PGGUJexG_4xI",
        "outputId": "77292a95-77e3-4a8f-eaac-652f028f2add"
      },
      "execution_count": 148,
      "outputs": [
        {
          "output_type": "stream",
          "name": "stdout",
          "text": [
            "[AIMessage(content='1. 질문: 포트미스 회원가입을 위해 어떤 절차를 거쳐야 하나요?\\n   답변: 포트미스 회원가입을 위해서는 로그인 후 사용목적을 선택하고 약관에 동의한 뒤 회원정보를 입력하면 회원가입이 완료됩니다.\\n\\n2. 질문: 해운항만물류 정보시스템을 이용하는 사용자가 해운민원을 신고하기 위해 어떤 절차를 거쳐야 하나요?\\n   답변: 해운항만물류 정보시스템을 이용하는 사용자가 해운민원을 신고하기 위해서는 사용목적을 선택하고 해당 내용을 선택한 뒤 다음 버튼을 클릭하면 됩니다.\\n\\n3. 질문: 위험물 반입신고를 하려면 어떤 절차를 따라야 하나요?\\n   답변: 위험물 반입신고를 하려면 화물로 신고하고 집계표 정보시설 제원 코드를 입력한 뒤 연속적으로 진행하면 됩니다.', response_metadata={'token_usage': <OpenAIObject at 0x7e42bdc97dd0> JSON: {\n",
            "  \"prompt_tokens\": 1488,\n",
            "  \"completion_tokens\": 333,\n",
            "  \"total_tokens\": 1821\n",
            "}, 'model_name': 'gpt-3.5-turbo', 'system_fingerprint': None, 'finish_reason': 'stop', 'logprobs': None}, id='run-5d73f78d-ba6f-4840-9274-4148dc979725-0')]\n"
          ]
        }
      ]
    },
    {
      "cell_type": "code",
      "source": [
        "print(docs)"
      ],
      "metadata": {
        "colab": {
          "base_uri": "https://localhost:8080/"
        },
        "id": "caKt2wBJ4gUE",
        "outputId": "fe6a0958-e7b4-499c-e077-38aa5f8a122d"
      },
      "execution_count": 91,
      "outputs": [
        {
          "output_type": "stream",
          "name": "stdout",
          "text": [
            "[Document(metadata={'source': '/content/output.txt'}, page_content='포트미스회원가입포트미스회원가입회원가입 - 회원가입절차회원가입000로그인항만민원101사용목적선택02약관동의회원정보입력회원신청완료해운항만물류정보시스템해운했단민원신고를위에서는효용기업이필요합니다PORT-MIS해운항만물류꿀보시스장의사용목적을선택해주세요.2해양수산부부산출판공사인천대인공사해운민원선택입출항현황포선별관제련활전자문서응답조개박선박원황항만민원항만민원신고자中창 등을 이용하는 사용자가장장기활동허가신청지울산세인공사여수광영방안공사호항만민원 예선사8명 최고항만인원_경인항광진독립운임을가이통신고를이용하는 사용자항만물류통계해운민원###매운시업자 모드를 이용되는 사용자 분###위험물반입신고화물로신고하다집계표정보시설제원코드조연속[한글입대비]:301회원가입버튼클릭2사용목적에맞는민원신고내용선택3다음버튼클릭해양스산브')]\n"
          ]
        }
      ]
    }
  ]
}