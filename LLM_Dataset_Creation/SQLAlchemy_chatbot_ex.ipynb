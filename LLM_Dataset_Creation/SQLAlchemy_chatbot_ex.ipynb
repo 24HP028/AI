{
 "cells": [
  {
   "cell_type": "code",
   "execution_count": 7,
   "id": "d0a92e98-18a2-414b-8e12-54ea96e00566",
   "metadata": {},
   "outputs": [],
   "source": [
    "#pip install sqlalchemy"
   ]
  },
  {
   "cell_type": "code",
   "execution_count": 8,
   "id": "576ec8da-3cd9-4131-9330-3c1caa8c3912",
   "metadata": {},
   "outputs": [],
   "source": [
    "#pip install sentence-transformers"
   ]
  },
  {
   "cell_type": "code",
   "execution_count": 11,
   "id": "69d2d65b-2453-4a92-ba4c-f97591bcba26",
   "metadata": {},
   "outputs": [],
   "source": [
    "#pip install tf-keras"
   ]
  },
  {
   "cell_type": "code",
   "execution_count": 2,
   "id": "02539ace-ced0-43e8-8ee5-571a3a8d75c5",
   "metadata": {},
   "outputs": [],
   "source": [
    "import os\n",
    "import openai\n",
    "import json\n",
    "import tiktoken\n",
    "from langchain_openai import ChatOpenAI\n",
    "from langchain_community.vectorstores import Chroma\n",
    "from langchain_community.document_loaders import PyPDFLoader\n",
    "from langchain_community.embeddings import HuggingFaceEmbeddings\n",
    "from langchain.chains import RetrievalQA\n",
    "from langchain.text_splitter import RecursiveCharacterTextSplitter\n",
    "from sqlalchemy import create_engine, Column, Integer, String, Text\n",
    "from sqlalchemy.orm import declarative_base, sessionmaker"
   ]
  },
  {
   "cell_type": "code",
   "execution_count": 15,
   "id": "534db8c0-dc92-44e0-b135-e3ea9fe49b51",
   "metadata": {},
   "outputs": [],
   "source": [
    "os.environ[\"OPENAI_API_KEY\"] = \"개인키입력\"\n",
    "os.environ[\"TOKENIZERS_PARALLELISM\"] = \"false\"\n",
    "tokenizer = tiktoken.encoding_for_model(\"gpt-3.5-turbo\")"
   ]
  },
  {
   "cell_type": "code",
   "execution_count": 4,
   "id": "331b670e-bc63-445c-874e-4adf923c9788",
   "metadata": {},
   "outputs": [
    {
     "name": "stderr",
     "output_type": "stream",
     "text": [
      "C:\\ProgramData\\Anaconda3\\envs\\langchainenv\\Lib\\site-packages\\langchain_core\\_api\\deprecation.py:139: LangChainDeprecationWarning: The class `HuggingFaceEmbeddings` was deprecated in LangChain 0.2.2 and will be removed in 0.3.0. An updated version of the class exists in the langchain-huggingface package and should be used instead. To use it run `pip install -U langchain-huggingface` and import as `from langchain_huggingface import HuggingFaceEmbeddings`.\n",
      "  warn_deprecated(\n",
      "C:\\ProgramData\\Anaconda3\\envs\\langchainenv\\Lib\\site-packages\\sentence_transformers\\cross_encoder\\CrossEncoder.py:11: TqdmExperimentalWarning: Using `tqdm.autonotebook.tqdm` in notebook mode. Use `tqdm.tqdm` instead to force console mode (e.g. in jupyter console)\n",
      "  from tqdm.autonotebook import tqdm, trange\n"
     ]
    },
    {
     "name": "stdout",
     "output_type": "stream",
     "text": [
      "WARNING:tensorflow:From C:\\ProgramData\\Anaconda3\\envs\\langchainenv\\Lib\\site-packages\\tf_keras\\src\\losses.py:2976: The name tf.losses.sparse_softmax_cross_entropy is deprecated. Please use tf.compat.v1.losses.sparse_softmax_cross_entropy instead.\n",
      "\n"
     ]
    }
   ],
   "source": [
    "def tiktoken_len(text):\n",
    "    tokens = tokenizer.encode(text)\n",
    "    return len(tokens)\n",
    "\n",
    "loader = PyPDFLoader(\"D:/[24]ICT_Practice/practice_file/(2024)포트미스_가이드북.pdf\")\n",
    "pages = loader.load_and_split()\n",
    "\n",
    "text_splitter = RecursiveCharacterTextSplitter(chunk_size=500, chunk_overlap=50, length_function=tiktoken_len)\n",
    "texts = text_splitter.split_documents(pages)\n",
    "\n",
    "model_name = \"jhgan/ko-sbert-nli\"\n",
    "model_kwargs = {'device': 'cpu'}\n",
    "encode_kwargs = {'normalize_embeddings': True}\n",
    "hf = HuggingFaceEmbeddings(\n",
    "    model_name=model_name,\n",
    "    model_kwargs=model_kwargs,\n",
    "    encode_kwargs=encode_kwargs\n",
    ")\n",
    "\n",
    "docsearch = Chroma.from_documents(texts, hf)\n",
    "\n",
    "openai = ChatOpenAI(\n",
    "    model_name=\"gpt-3.5-turbo\",\n",
    "    streaming=False, \n",
    "    temperature=0\n",
    ")\n",
    "\n",
    "qa = RetrievalQA.from_chain_type(\n",
    "    llm=openai,\n",
    "    chain_type=\"stuff\",\n",
    "    retriever=docsearch.as_retriever(\n",
    "        search_type=\"mmr\",\n",
    "        search_kwargs={'k': 3, 'fetch_k': 10}\n",
    "    ),\n",
    "    return_source_documents=True\n",
    ")"
   ]
  },
  {
   "cell_type": "code",
   "execution_count": 5,
   "id": "66081503-b5e5-40d7-a342-a629f9240258",
   "metadata": {},
   "outputs": [],
   "source": [
    "# SQLAlchemy 설정\n",
    "DATABASE_URL = \"sqlite:///conversations.db\"\n",
    "engine = create_engine(DATABASE_URL)\n",
    "SessionLocal = sessionmaker(autocommit=False, autoflush=False, bind=engine)\n",
    "Base = declarative_base()\n",
    "\n",
    "# 대화 내용을 저장할 테이블 모델 정의\n",
    "class Conversation(Base):\n",
    "    __tablename__ = \"conversations\"\n",
    "\n",
    "    id = Column(Integer, primary_key=True, index=True)\n",
    "    query = Column(String, index=True)\n",
    "    response = Column(Text)\n",
    "\n",
    "# 테이블 생성\n",
    "Base.metadata.create_all(bind=engine)\n",
    "\n",
    "def save_conversation(db_session, query, response):\n",
    "    conversation = Conversation(query=query, response=response)\n",
    "    db_session.add(conversation)\n",
    "    db_session.commit()\n",
    "\n",
    "def get_response(input_text):\n",
    "    return qa.invoke({\"query\": input_text})"
   ]
  },
  {
   "cell_type": "code",
   "execution_count": 6,
   "id": "46f2f88f-07ff-4fb2-9dda-85d3ce1ab454",
   "metadata": {},
   "outputs": [],
   "source": [
    "# 전체 \n",
    "def print_all_conversations():\n",
    "    db_session = SessionLocal()\n",
    "    conversations = db_session.query(Conversation).all()\n",
    "    for conv in conversations:\n",
    "        print(f\"ID: {conv.id}, Query: {conv.query}, Response: {conv.response}\")\n",
    "    db_session.close()\n",
    "\n",
    "# 아이디별\n",
    "def get_conversation_by_id(conversation_id):\n",
    "    db_session = SessionLocal()\n",
    "    conversation = db_session.query(Conversation).filter(Conversation.id == conversation_id).first()\n",
    "    db_session.close()\n",
    "    if conversation:\n",
    "        return {\n",
    "            \"id\": conversation.id,\n",
    "            \"query\": conversation.query,\n",
    "            \"response\": conversation.response\n",
    "        }\n",
    "    else:\n",
    "        return None"
   ]
  },
  {
   "cell_type": "code",
   "execution_count": 7,
   "id": "7126e779-5711-4602-ac85-abe8c42c1ee0",
   "metadata": {},
   "outputs": [],
   "source": [
    "#주피터노트북용\n",
    "def save_query_response(input_text):\n",
    "    try:\n",
    "        chat_response = get_response(input_text)\n",
    "        response_text = chat_response[\"result\"]\n",
    "\n",
    "        # 대화 내용 저장\n",
    "        db_session = SessionLocal()\n",
    "        save_conversation(db_session, input_text, response_text)\n",
    "        db_session.close()\n",
    "\n",
    "        output = {\n",
    "            \"status\": 200,\n",
    "            \"message\": \"채팅 응답 성공\",\n",
    "            \"body\": {\n",
    "                \"chatMessage\": response_text\n",
    "            }\n",
    "        }\n",
    "    except Exception as e:\n",
    "        output = {\n",
    "            \"status\": 404,\n",
    "            \"message\": \"채팅 응답 실패\",\n",
    "            \"body\": {\n",
    "                \"error\": str(e)\n",
    "            }\n",
    "        }\n",
    "\n",
    "    return json.dumps(output, ensure_ascii=False, indent=4)"
   ]
  },
  {
   "cell_type": "code",
   "execution_count": 8,
   "id": "4c857155-606e-45c1-aecf-6e061b036b04",
   "metadata": {},
   "outputs": [],
   "source": [
    "def show_all_conversations():\n",
    "    print_all_conversations()\n",
    "\n",
    "def show_conversation_by_id(conversation_id):\n",
    "    conversation = get_conversation_by_id(conversation_id)\n",
    "    if conversation:\n",
    "        return f\"ID: {conversation['id']}, Query: {conversation['query']}, Response: {conversation['response']}\"\n",
    "    else:\n",
    "        return \"Conversation not found.\""
   ]
  },
  {
   "cell_type": "code",
   "execution_count": 11,
   "id": "54f91676-fa52-434d-82f8-32cce832b49d",
   "metadata": {},
   "outputs": [
    {
     "name": "stdout",
     "output_type": "stream",
     "text": [
      "{\n",
      "    \"status\": 200,\n",
      "    \"message\": \"채팅 응답 성공\",\n",
      "    \"body\": {\n",
      "        \"chatMessage\": \"선박의 입출항신고 근거 법령은 선박입출항법 제4조 제1항, 시행령 제2조, 제3조, 시행규칙 제3조, 제4조입니다.\"\n",
      "    }\n",
      "}\n"
     ]
    }
   ],
   "source": [
    "#예시\n",
    "input_text = \"선박입,출항신고 근거 법령이 뭐야?\"\n",
    "print(save_query_response(input_text))"
   ]
  },
  {
   "cell_type": "code",
   "execution_count": 13,
   "id": "893ef873-6028-412b-9b8e-5bbd9ec48586",
   "metadata": {},
   "outputs": [
    {
     "name": "stdout",
     "output_type": "stream",
     "text": [
      "ID: 1, Query: -f, Response: I'm sorry, but I don't understand your question. Could you please provide more context or clarify what you mean by \"-f\"?\n",
      "ID: 2, Query: -f, Response: I'm sorry, but I don't understand your question. Could you please provide more context or clarify what you need help with?\n",
      "ID: 3, Query: 포트미스 가이드북에 대해 알려줘, Response: 죄송합니다. 포트미스 가이드북에 대한 정보는 제공할 수 없습니다.\n",
      "ID: 4, Query: 포트미스 가이드북 목차 알려줘, Response: 죄송합니다. 포트미스 가이드북 목차에 대한 정보는 제공드릴 수 없습니다.\n",
      "ID: 5, Query: 포트미스 가이드북이 뭐야, Response: 포트미스 가이드북은 포트미스 웹사이트를 통해 제공되는 정보를 정리하고 안내하는 책자나 온라인 자료를 말합니다. 이를 통해 포트미스 서비스를 이용하는 사용자들이 원활하게 정보를 찾고 이용할 수 있도록 도와줍니다.\n",
      "ID: 6, Query: 외항선 입항 신고 어떻게 해?, Response: 외항선 입항 신고는 선박이 무역항의 수상구역 등으로 입항할 때 필요한 절차입니다. 최초에는 선박 입항 전까지 입항 예정 정보를 신고하고, 실제 선박이 입항한 후에 최종적으로 입항을 신고해야 합니다. 이때 승무원/승객명부에 대한 정보도 함께 제출해야 합니다. 이러한 신고는 해양수산부의 PORT-MIS 신고 시스템을 통해 할 수 있습니다.\n",
      "ID: 7, Query: 외항선 입항 신고 어떻게 해?, Response: 외항선 입항 신고는 선박이 무역항의 수상구역 등으로 입항할 때 필요한 절차입니다. 최초에는 선박 입항 전까지 입항 예정 정보를 신고하고, 실제 선박이 입항한 후에 최종적으로 입항을 신고해야 합니다. 이때 승무원/승객명부에 대한 정보도 함께 제출해야 합니다. 이러한 신고는 해양수산부의 PORT-MIS 신고 시스템을 통해 할 수 있습니다.\n",
      "ID: 8, Query: 포트미스 회원가입 어떻게 해?, Response: 포트미스 회원가입은 다음과 같은 절차를 따릅니다:\n",
      "1. 포트미스 웹사이트(www.portmis.go.kr)에 접속합니다.\n",
      "2. 회원가입 정보를 작성합니다. 사용자 ID, 사용자명 등의 회원정보를 입력합니다.\n",
      "3. 사용 업체 등록을 신청합니다. 포트미스에서 사용할 업체코드를 발급받을 수 있습니다.\n",
      "4. 필요한 서류를 제출합니다. 사업자 등록증을 제출하고, 홈페이지에서 스캔 파일을 업로드하거나 FAX 또는 E-Mail로 제출할 수 있습니다.\n",
      "5. 제출한 정보를 확인합니다. 회원가입 신청 내용과 사용 업체 등록 신청 내용을 확인합니다.\n",
      "6. 정보가 승인되면 회원가입이 완료됩니다. 발급된 사용자 ID로 서비스를 이용할 수 있습니다.\n",
      "ID: 9, Query: 선박입,출항신고 근거 법령이 뭐야?, Response: 선박의 입출항신고 근거 법령은 선박입출항법 제4조 제1항, 시행령 제2조, 제3조, 시행규칙 제3조, 제4조입니다.\n"
     ]
    }
   ],
   "source": [
    "# 전체 기록 조회\n",
    "show_all_conversations()"
   ]
  },
  {
   "cell_type": "code",
   "execution_count": 14,
   "id": "3ae33e16-7cf4-4b3e-aee1-c4122b80393e",
   "metadata": {},
   "outputs": [
    {
     "name": "stdout",
     "output_type": "stream",
     "text": [
      "ID: 7, Query: 외항선 입항 신고 어떻게 해?, Response: 외항선 입항 신고는 선박이 무역항의 수상구역 등으로 입항할 때 필요한 절차입니다. 최초에는 선박 입항 전까지 입항 예정 정보를 신고하고, 실제 선박이 입항한 후에 최종적으로 입항을 신고해야 합니다. 이때 승무원/승객명부에 대한 정보도 함께 제출해야 합니다. 이러한 신고는 해양수산부의 PORT-MIS 신고 시스템을 통해 할 수 있습니다.\n"
     ]
    }
   ],
   "source": [
    "# 각 ID 대화 기록 조회\n",
    "conversation_id = 7\n",
    "print(show_conversation_by_id(conversation_id))"
   ]
  }
 ],
 "metadata": {
  "kernelspec": {
   "display_name": "langchainenv",
   "language": "python",
   "name": "langchainenv"
  },
  "language_info": {
   "codemirror_mode": {
    "name": "ipython",
    "version": 3
   },
   "file_extension": ".py",
   "mimetype": "text/x-python",
   "name": "python",
   "nbconvert_exporter": "python",
   "pygments_lexer": "ipython3",
   "version": "3.12.3"
  }
 },
 "nbformat": 4,
 "nbformat_minor": 5
}
