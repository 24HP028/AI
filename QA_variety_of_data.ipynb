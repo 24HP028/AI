{
 "cells": [
  {
   "cell_type": "markdown",
   "id": "20d99394-6820-4abf-bb9a-142fc6531b4e",
   "metadata": {},
   "source": [
    "# PDF 내 이미지 추출해 활용"
   ]
  },
  {
   "cell_type": "code",
   "execution_count": 63,
   "id": "a0570f50-41be-44ec-ae2c-9e6a9c141c06",
   "metadata": {},
   "outputs": [],
   "source": [
    "#https://github.com/teddylee777/langchain-kr/blob/main/12-RAG/10-Multi_modal_RAG-GPT-4o.ipynb"
   ]
  },
  {
   "cell_type": "code",
   "execution_count": 15,
   "id": "c5f4230f-ecbe-4495-98ff-4b1eed550004",
   "metadata": {
    "scrolled": true
   },
   "outputs": [],
   "source": [
    "#! pip install -U langchain openai chromadb langchain-experimental"
   ]
  },
  {
   "cell_type": "code",
   "execution_count": 16,
   "id": "f1a82df6-48e5-4da0-86c0-5a49a1b99e42",
   "metadata": {
    "scrolled": true
   },
   "outputs": [],
   "source": [
    "#! pip install \"unstructured[all-docs]\" pillow pydantic lxml pillow matplotlib chromadb tiktoken"
   ]
  },
  {
   "cell_type": "code",
   "execution_count": 1,
   "id": "fa1db598-1106-4562-bb8f-3944a366d48b",
   "metadata": {},
   "outputs": [],
   "source": [
    "# 파일 경로\n",
    "fpath = \"D:/[24]ICT_Practice/practice_file\"\n",
    "fname = \"login.pdf\""
   ]
  },
  {
   "cell_type": "code",
   "execution_count": 2,
   "id": "79a9da06-3257-4aaf-a744-221d9a16e5e0",
   "metadata": {},
   "outputs": [],
   "source": [
    "import os\n",
    "from langchain_text_splitters import CharacterTextSplitter\n",
    "from unstructured.partition.pdf import partition_pdf"
   ]
  },
  {
   "cell_type": "code",
   "execution_count": 3,
   "id": "3e662a3a-0b27-460a-aa94-3c0bc3404f80",
   "metadata": {},
   "outputs": [],
   "source": [
    "#PDF에서 요소 추출\n",
    "def extract_pdf_elements(path, fname):\n",
    "    \n",
    "    #PDF 파일에서 이미지, 테이블, 그리고 텍스트 조각을 추출합니다.\n",
    "    #path: 이미지(.jpg)를 저장할 파일 경로\n",
    "    #fname: 파일 이름\n",
    "    \n",
    "    return partition_pdf(\n",
    "        filename=os.path.join(path, fname),\n",
    "        extract_images_in_pdf=True,  # PDF 내 이미지 추출 활성화\n",
    "        infer_table_structure=True,  # 테이블 구조 추론 활성화\n",
    "        chunking_strategy=\"by_title\",  # 제목별로 텍스트 조각화\n",
    "        max_characters=4000,  # 최대 문자 수\n",
    "        new_after_n_chars=3800,  # 이 문자 수 이후에 새로운 조각 생성\n",
    "        combine_text_under_n_chars=2000,  # 이 문자 수 이하의 텍스트는 결합\n",
    "        image_output_dir_path=path,  # 이미지 출력 디렉토리 경로\n",
    "        poppler_path=r\"D:\\poppler-24.02.0\\Library\\bin\", # 추가: poppler 경로 명시적 지정\n",
    "        tesseract_path=r\"C:\\Program Files\\Tesseract-OCR\\tesseract.exe\"  # 추가: tesseract 경로 명시적 지정\n",
    "    )"
   ]
  },
  {
   "cell_type": "code",
   "execution_count": 4,
   "id": "5c320650-5364-41d5-89fc-c07439eeaabb",
   "metadata": {},
   "outputs": [],
   "source": [
    "# 요소를 유형별로 분류\n",
    "\n",
    "\n",
    "def categorize_elements(raw_pdf_elements):\n",
    "\n",
    "    # PDF에서 추출된 요소를 테이블과 텍스트로 분류합니다.\n",
    "    # raw_pdf_elements: unstructured.documents.elements의 리스트\n",
    "\n",
    "    tables = []  # 테이블 저장 리스트\n",
    "    texts = []  # 텍스트 저장 리스트\n",
    "    for element in raw_pdf_elements:\n",
    "        if \"unstructured.documents.elements.Table\" in str(type(element)):\n",
    "            tables.append(str(element))  # 테이블 요소 추가\n",
    "        elif \"unstructured.documents.elements.CompositeElement\" in str(type(element)):\n",
    "            texts.append(str(element))  # 텍스트 요소 추가\n",
    "    return texts, tables"
   ]
  },
  {
   "cell_type": "code",
   "execution_count": 5,
   "id": "d12c57ab-f184-44a0-9ced-e780584c0413",
   "metadata": {},
   "outputs": [
    {
     "data": {
      "application/vnd.jupyter.widget-view+json": {
       "model_id": "1e687a86d9034c409e838219ba4ca8c7",
       "version_major": 2,
       "version_minor": 0
      },
      "text/plain": [
       "config.json:   0%|          | 0.00/1.47k [00:00<?, ?B/s]"
      ]
     },
     "metadata": {},
     "output_type": "display_data"
    },
    {
     "data": {
      "application/vnd.jupyter.widget-view+json": {
       "model_id": "6988722890244d5a996e442b1fbc2be5",
       "version_major": 2,
       "version_minor": 0
      },
      "text/plain": [
       "model.safetensors:   0%|          | 0.00/115M [00:00<?, ?B/s]"
      ]
     },
     "metadata": {},
     "output_type": "display_data"
    },
    {
     "data": {
      "application/vnd.jupyter.widget-view+json": {
       "model_id": "f8f929bfd5b944f081809d8b499e9468",
       "version_major": 2,
       "version_minor": 0
      },
      "text/plain": [
       "model.safetensors:   0%|          | 0.00/46.8M [00:00<?, ?B/s]"
      ]
     },
     "metadata": {},
     "output_type": "display_data"
    },
    {
     "name": "stderr",
     "output_type": "stream",
     "text": [
      "Some weights of the model checkpoint at microsoft/table-transformer-structure-recognition were not used when initializing TableTransformerForObjectDetection: ['model.backbone.conv_encoder.model.layer2.0.downsample.1.num_batches_tracked', 'model.backbone.conv_encoder.model.layer3.0.downsample.1.num_batches_tracked', 'model.backbone.conv_encoder.model.layer4.0.downsample.1.num_batches_tracked']\n",
      "- This IS expected if you are initializing TableTransformerForObjectDetection from the checkpoint of a model trained on another task or with another architecture (e.g. initializing a BertForSequenceClassification model from a BertForPreTraining model).\n",
      "- This IS NOT expected if you are initializing TableTransformerForObjectDetection from the checkpoint of a model that you expect to be exactly identical (initializing a BertForSequenceClassification model from a BertForSequenceClassification model).\n"
     ]
    }
   ],
   "source": [
    "# 요소 추출\n",
    "raw_pdf_elements = extract_pdf_elements(fpath, fname)\n",
    "\n",
    "# 텍스트, 테이블 추출\n",
    "texts, tables = categorize_elements(raw_pdf_elements)\n",
    "\n",
    "# 선택사항: 텍스트에 대해 특정 토큰 크기 적용\n",
    "text_splitter = CharacterTextSplitter.from_tiktoken_encoder(\n",
    "    chunk_size=4000, chunk_overlap=0  # 텍스트를 4000 토큰 크기로 분할, 중복 없음\n",
    ")\n",
    "joined_texts = \" \".join(texts)  # 텍스트 결합\n",
    "texts_4k_token = text_splitter.split_text(joined_texts)  # 분할 실행"
   ]
  },
  {
   "cell_type": "code",
   "execution_count": 6,
   "id": "99f58b18-0b64-4039-bef0-50115f227e1e",
   "metadata": {},
   "outputs": [
    {
     "data": {
      "text/plain": [
       "2"
      ]
     },
     "execution_count": 6,
     "metadata": {},
     "output_type": "execute_result"
    }
   ],
   "source": [
    "len(texts_4k_token)"
   ]
  },
  {
   "cell_type": "markdown",
   "id": "14849bca-324e-4b63-8d2f-94386bbe8700",
   "metadata": {},
   "source": [
    "## 텍스트 및 테이블 요약"
   ]
  },
  {
   "cell_type": "code",
   "execution_count": 7,
   "id": "44249244-6b10-44c9-9e8a-93f18aadb315",
   "metadata": {},
   "outputs": [],
   "source": [
    "from langchain_core.output_parsers import StrOutputParser\n",
    "from langchain_core.prompts import ChatPromptTemplate\n",
    "from langchain_openai import ChatOpenAI"
   ]
  },
  {
   "cell_type": "code",
   "execution_count": 13,
   "id": "21b63424-34c0-4299-ac7f-b4d8e414dbb3",
   "metadata": {},
   "outputs": [],
   "source": [
    "# 텍스트 요소의 요약 생성\n",
    "\n",
    "\n",
    "def generate_text_summaries(texts, tables, summarize_texts=False):\n",
    "    \"\"\"\n",
    "    텍스트 요소 요약\n",
    "    texts: 문자열 리스트\n",
    "    tables: 문자열 리스트\n",
    "    summarize_texts: 텍스트 요약 여부를 결정. True/False\n",
    "    \"\"\"\n",
    "\n",
    "    # 프롬프트 설정\n",
    "    prompt_text = \"\"\"You are an assistant tasked with summarizing tables and text for retrieval. \\\n",
    "    These summaries will be embedded and used to retrieve the raw text or table elements. \\\n",
    "    Give a concise summary of the table or text that is well optimized for retrieval. Table or text: {element} \"\"\"\n",
    "    prompt = ChatPromptTemplate.from_template(prompt_text)\n",
    "\n",
    "    # 텍스트 요약 체인\n",
    "    model = ChatOpenAI(temperature=0, model=\"gpt-4\", openai_api_key=\"개인키작성\")\n",
    "    summarize_chain = {\"element\": lambda x: x} | prompt | model | StrOutputParser()\n",
    "\n",
    "    # 요약을 위한 빈 리스트 초기화\n",
    "    text_summaries = []\n",
    "    table_summaries = []\n",
    "\n",
    "    # 제공된 텍스트에 대해 요약이 요청되었을 경우 적용\n",
    "    if texts and summarize_texts:\n",
    "        text_summaries = summarize_chain.batch(texts, {\"max_concurrency\": 5})\n",
    "    elif texts:\n",
    "        text_summaries = texts\n",
    "\n",
    "    # 제공된 테이블에 적용\n",
    "    if tables:\n",
    "        table_summaries = summarize_chain.batch(tables, {\"max_concurrency\": 5})\n",
    "\n",
    "    return text_summaries, table_summaries"
   ]
  },
  {
   "cell_type": "code",
   "execution_count": 15,
   "id": "1adfc211-8f54-477b-9adb-632cf8d5c247",
   "metadata": {},
   "outputs": [],
   "source": [
    "# 텍스트, 테이블 요약 가져오기\n",
    "text_summaries, table_summaries = generate_text_summaries(\n",
    "    texts_4k_token, tables, summarize_texts=True\n",
    ")"
   ]
  },
  {
   "cell_type": "markdown",
   "id": "ebbed978-7b13-45c9-b090-3b0aa87cb14f",
   "metadata": {},
   "source": [
    "## 이미지 요약"
   ]
  },
  {
   "cell_type": "code",
   "execution_count": 16,
   "id": "26d17efb-ffd3-4fa0-b63e-6237df44850e",
   "metadata": {},
   "outputs": [],
   "source": [
    "import base64\n",
    "import os\n",
    "\n",
    "from langchain_core.messages import HumanMessage"
   ]
  },
  {
   "cell_type": "code",
   "execution_count": 17,
   "id": "a2241ccb-77ff-43a0-b950-248469d5f720",
   "metadata": {},
   "outputs": [],
   "source": [
    "def encode_image(image_path):\n",
    "    # 이미지 파일을 base64 문자열로 인코딩합니다.\n",
    "    with open(image_path, \"rb\") as image_file:\n",
    "        return base64.b64encode(image_file.read()).decode(\"utf-8\")\n",
    "\n",
    "\n",
    "def image_summarize(img_base64, prompt):\n",
    "    # 이미지 요약을 생성합니다.\n",
    "    chat = ChatOpenAI(model=\"gpt-4o\", max_tokens=2048)\n",
    "\n",
    "    msg = chat.invoke(\n",
    "        [\n",
    "            HumanMessage(\n",
    "                content=[\n",
    "                    {\"type\": \"text\", \"text\": prompt},\n",
    "                    {\n",
    "                        \"type\": \"image_url\",\n",
    "                        \"image_url\": {\"url\": f\"data:image/jpeg;base64,{img_base64}\"},\n",
    "                    },\n",
    "                ]\n",
    "            )\n",
    "        ]\n",
    "    )\n",
    "    return msg.content"
   ]
  },
  {
   "cell_type": "code",
   "execution_count": 18,
   "id": "039859e4-5a2b-466c-9882-d1e18f58226b",
   "metadata": {},
   "outputs": [],
   "source": [
    "def generate_img_summaries(path):\n",
    "    \"\"\"\n",
    "    이미지에 대한 요약과 base64 인코딩된 문자열을 생성합니다.\n",
    "    path: Unstructured에 의해 추출된 .jpg 파일 목록의 경로\n",
    "    \"\"\"\n",
    "\n",
    "    # base64로 인코딩된 이미지를 저장할 리스트\n",
    "    img_base64_list = []\n",
    "\n",
    "    # 이미지 요약을 저장할 리스트\n",
    "    image_summaries = []\n",
    "\n",
    "    # 요약을 위한 프롬프트\n",
    "    prompt = \"\"\"You are an assistant tasked with summarizing images for retrieval. \\\n",
    "    These summaries will be embedded and used to retrieve the raw image. \\\n",
    "    Give a concise summary of the image that is well optimized for retrieval.\"\"\"\n",
    "\n",
    "    # 이미지에 적용\n",
    "    for img_file in sorted(os.listdir(path)):\n",
    "        if img_file.endswith(\".jpg\"):\n",
    "            img_path = os.path.join(path, img_file)\n",
    "            base64_image = encode_image(img_path)\n",
    "            img_base64_list.append(base64_image)\n",
    "            image_summaries.append(image_summarize(base64_image, prompt))\n",
    "\n",
    "    return img_base64_list, image_summaries\n"
   ]
  },
  {
   "cell_type": "code",
   "execution_count": 19,
   "id": "8c35fe5c-d23a-489b-852f-e400a6af9702",
   "metadata": {},
   "outputs": [],
   "source": [
    "# 이미지 요약 실행\n",
    "img_base64_list, image_summaries = generate_img_summaries(fpath)"
   ]
  },
  {
   "cell_type": "code",
   "execution_count": 20,
   "id": "ba7aca81-eaea-4fb5-994a-c384689b5594",
   "metadata": {},
   "outputs": [
    {
     "data": {
      "text/plain": [
       "0"
      ]
     },
     "execution_count": 20,
     "metadata": {},
     "output_type": "execute_result"
    }
   ],
   "source": [
    "len(image_summaries)"
   ]
  },
  {
   "cell_type": "markdown",
   "id": "82bf4575-50ea-447a-893e-a5e7b167f517",
   "metadata": {},
   "source": [
    "## 벡터 저장소에 추가하기"
   ]
  },
  {
   "cell_type": "markdown",
   "id": "454cf68c-999c-45d9-b36c-40878c77486c",
   "metadata": {},
   "source": [
    "원본 문서와 문서 요약을 Multi Vector Retriever에 추가"
   ]
  },
  {
   "cell_type": "code",
   "execution_count": 21,
   "id": "2bec3925-cd81-4b7b-b790-beb2b776f612",
   "metadata": {},
   "outputs": [],
   "source": [
    "import uuid\n",
    "\n",
    "from langchain.retrievers.multi_vector import MultiVectorRetriever\n",
    "from langchain.storage import InMemoryStore\n",
    "from langchain_community.vectorstores import Chroma\n",
    "from langchain_core.documents import Document\n",
    "from langchain_openai import OpenAIEmbeddings"
   ]
  },
  {
   "cell_type": "code",
   "execution_count": 22,
   "id": "61309ae7-ef28-4f01-a32b-a14505cb7ba4",
   "metadata": {},
   "outputs": [],
   "source": [
    "def create_multi_vector_retriever(\n",
    "    vectorstore, text_summaries, texts, table_summaries, tables, image_summaries, images\n",
    "):\n",
    "    \"\"\"\n",
    "    요약을 색인화하지만 원본 이미지나 텍스트를 반환하는 검색기를 생성합니다.\n",
    "    \"\"\"\n",
    "\n",
    "    # 저장 계층 초기화\n",
    "    store = InMemoryStore()\n",
    "    id_key = \"doc_id\"\n",
    "\n",
    "    # 멀티 벡터 검색기 생성\n",
    "    retriever = MultiVectorRetriever(\n",
    "        vectorstore=vectorstore,\n",
    "        docstore=store,\n",
    "        id_key=id_key,\n",
    "    )\n",
    "\n",
    "    # 문서를 벡터 저장소와 문서 저장소에 추가하는 헬퍼 함수\n",
    "    def add_documents(retriever, doc_summaries, doc_contents):\n",
    "        doc_ids = [\n",
    "            str(uuid.uuid4()) for _ in doc_contents\n",
    "        ]  # 문서 내용마다 고유 ID 생성\n",
    "        summary_docs = [\n",
    "            Document(page_content=s, metadata={id_key: doc_ids[i]})\n",
    "            for i, s in enumerate(doc_summaries)\n",
    "        ]\n",
    "        retriever.vectorstore.add_documents(\n",
    "            summary_docs\n",
    "        )  # 요약 문서를 벡터 저장소에 추가\n",
    "        retriever.docstore.mset(\n",
    "            list(zip(doc_ids, doc_contents))\n",
    "        )  # 문서 내용을 문서 저장소에 추가\n",
    "\n",
    "    # 텍스트, 테이블, 이미지 추가\n",
    "    if text_summaries:\n",
    "        add_documents(retriever, text_summaries, texts)\n",
    "\n",
    "    if table_summaries:\n",
    "        add_documents(retriever, table_summaries, tables)\n",
    "\n",
    "    if image_summaries:\n",
    "        add_documents(retriever, image_summaries, images)\n",
    "\n",
    "    return retriever"
   ]
  },
  {
   "cell_type": "code",
   "execution_count": 25,
   "id": "655b1e2a-159c-4349-ac59-e5636a80fa16",
   "metadata": {},
   "outputs": [],
   "source": [
    "# 요약을 색인화하기 위해 사용할 벡터 저장소\n",
    "vectorstore = Chroma(\n",
    "    collection_name=\"sample-rag-multi-modal\", embedding_function=OpenAIEmbeddings(openai_api_key=\"개인키작성\")\n",
    ")\n",
    "\n",
    "# 검색기 생성\n",
    "retriever_multi_vector_img = create_multi_vector_retriever(\n",
    "    vectorstore,\n",
    "    text_summaries,\n",
    "    texts,\n",
    "    table_summaries,\n",
    "    tables,\n",
    "    image_summaries,\n",
    "    img_base64_list,\n",
    ")"
   ]
  },
  {
   "cell_type": "markdown",
   "id": "31cfbda0-9635-4329-bb2b-51ce6ce9a509",
   "metadata": {},
   "source": [
    "## RAG（검색기 구축）"
   ]
  },
  {
   "cell_type": "code",
   "execution_count": 26,
   "id": "0180a7ae-c408-4882-9d8b-d204b71cd29a",
   "metadata": {},
   "outputs": [],
   "source": [
    "import io\n",
    "import re\n",
    "\n",
    "from IPython.display import HTML, display\n",
    "from langchain_core.runnables import RunnableLambda, RunnablePassthrough\n",
    "from PIL import Image"
   ]
  },
  {
   "cell_type": "code",
   "execution_count": 28,
   "id": "85a73df8-1fb8-42d7-8a6a-1c2d22e70cfd",
   "metadata": {},
   "outputs": [],
   "source": [
    "def plt_img_base64(img_base64):\n",
    "    \"\"\"base64 인코딩된 문자열을 이미지로 표시\"\"\"\n",
    "    # base64 문자열을 소스로 사용하는 HTML img 태그 생성\n",
    "    image_html = f'<img src=\"data:image/jpeg;base64,{img_base64}\" />'\n",
    "    # HTML을 렌더링하여 이미지 표시\n",
    "    display(HTML(image_html))\n",
    "\n",
    "\n",
    "def looks_like_base64(sb):\n",
    "    \"\"\"문자열이 base64로 보이는지 확인\"\"\"\n",
    "    return re.match(\"^[A-Za-z0-9+/]+[=]{0,2}$\", sb) is not None"
   ]
  },
  {
   "cell_type": "code",
   "execution_count": 29,
   "id": "3321c2e6-678b-4de0-807d-90f3b874e226",
   "metadata": {},
   "outputs": [],
   "source": [
    "def is_image_data(b64data):\n",
    "    \"\"\"\n",
    "    base64 데이터가 이미지인지 시작 부분을 보고 확인\n",
    "    \"\"\"\n",
    "    image_signatures = {\n",
    "        b\"\\xff\\xd8\\xff\": \"jpg\",\n",
    "        b\"\\x89\\x50\\x4e\\x47\\x0d\\x0a\\x1a\\x0a\": \"png\",\n",
    "        b\"\\x47\\x49\\x46\\x38\": \"gif\",\n",
    "        b\"\\x52\\x49\\x46\\x46\": \"webp\",\n",
    "    }\n",
    "    try:\n",
    "        header = base64.b64decode(b64data)[:8]  # 처음 8바이트를 디코드하여 가져옴\n",
    "        for sig, format in image_signatures.items():\n",
    "            if header.startswith(sig):\n",
    "                return True\n",
    "        return False\n",
    "    except Exception:\n",
    "        return False"
   ]
  },
  {
   "cell_type": "code",
   "execution_count": 30,
   "id": "4b069c75-ccbf-4d1d-a019-77b9e8e7e8f1",
   "metadata": {},
   "outputs": [],
   "source": [
    "def resize_base64_image(base64_string, size=(128, 128)):\n",
    "    \"\"\"\n",
    "    Base64 문자열로 인코딩된 이미지의 크기 조정\n",
    "    \"\"\"\n",
    "    # Base64 문자열 디코드\n",
    "    img_data = base64.b64decode(base64_string)\n",
    "    img = Image.open(io.BytesIO(img_data))\n",
    "\n",
    "    # 이미지 크기 조정\n",
    "    resized_img = img.resize(size, Image.LANCZOS)\n",
    "\n",
    "    # 조정된 이미지를 바이트 버퍼에 저장\n",
    "    buffered = io.BytesIO()\n",
    "    resized_img.save(buffered, format=img.format)\n",
    "\n",
    "    # 조정된 이미지를 Base64로 인코딩\n",
    "    return base64.b64encode(buffered.getvalue()).decode(\"utf-8\")"
   ]
  },
  {
   "cell_type": "code",
   "execution_count": 31,
   "id": "8349b62e-fbdd-4971-89a0-caf6b3180f0f",
   "metadata": {},
   "outputs": [],
   "source": [
    "def split_image_text_types(docs):\n",
    "    \"\"\"\n",
    "    base64로 인코딩된 이미지와 텍스트 분리\n",
    "    \"\"\"\n",
    "    b64_images = []\n",
    "    texts = []\n",
    "    for doc in docs:\n",
    "        # 문서가 Document 타입인 경우 page_content 추출\n",
    "        if isinstance(doc, Document):\n",
    "            doc = doc.page_content\n",
    "        if looks_like_base64(doc) and is_image_data(doc):\n",
    "            doc = resize_base64_image(doc, size=(1300, 600))\n",
    "            b64_images.append(doc)\n",
    "        else:\n",
    "            texts.append(doc)\n",
    "    return {\"images\": b64_images, \"texts\": texts}"
   ]
  },
  {
   "cell_type": "code",
   "execution_count": 32,
   "id": "27e5a75c-0118-4791-a951-957f103c4d83",
   "metadata": {},
   "outputs": [],
   "source": [
    "def img_prompt_func(data_dict):\n",
    "    \"\"\"\n",
    "    컨텍스트를 단일 문자열로 결합\n",
    "    \"\"\"\n",
    "    formatted_texts = \"\\n\".join(data_dict[\"context\"][\"texts\"])\n",
    "    messages = []\n",
    "\n",
    "    # 이미지가 있으면 메시지에 추가\n",
    "    if data_dict[\"context\"][\"images\"]:\n",
    "        for image in data_dict[\"context\"][\"images\"]:\n",
    "            image_message = {\n",
    "                \"type\": \"image_url\",\n",
    "                \"image_url\": {\"url\": f\"data:image/jpeg;base64,{image}\"},\n",
    "            }\n",
    "            messages.append(image_message)\n",
    "\n",
    "    # 분석을 위한 텍스트 추가\n",
    "    text_message = {\n",
    "        \"type\": \"text\",\n",
    "        \"text\": (\n",
    "            \"You are financial analyst tasking with providing investment advice.\\n\"\n",
    "            \"You will be given a mixed of text, tables, and image(s) usually of charts or graphs.\\n\"\n",
    "            \"Use this information to provide investment advice related to the user question. Answer in Korean. Do NOT translate company names.\\n\"\n",
    "            f\"User-provided question: {data_dict['question']}\\n\\n\"\n",
    "            \"Text and / or tables:\\n\"\n",
    "            f\"{formatted_texts}\"\n",
    "        ),\n",
    "    }\n",
    "    messages.append(text_message)\n",
    "    return [HumanMessage(content=messages)]"
   ]
  },
  {
   "cell_type": "code",
   "execution_count": 61,
   "id": "0c824892-bdf3-4ff1-9c91-11081a87a259",
   "metadata": {},
   "outputs": [],
   "source": [
    "def multi_modal_rag_chain(retriever):\n",
    "    \"\"\"\n",
    "    멀티모달 RAG 체인\n",
    "    \"\"\"\n",
    "\n",
    "    # 멀티모달 LLM\n",
    "    model = ChatOpenAI(temperature=0, model=\"gpt-4o\", max_tokens=2048, \n",
    "                       openai_api_key=\"개인키작성\", n_results=3)\n",
    "\n",
    "    # RAG 파이프라인\n",
    "    chain = (\n",
    "        {\n",
    "            \"context\": retriever | RunnableLambda(split_image_text_types),\n",
    "            \"question\": RunnablePassthrough(),\n",
    "        }\n",
    "        | RunnableLambda(img_prompt_func)\n",
    "        | model\n",
    "        | StrOutputParser()\n",
    "    )\n",
    "\n",
    "    return chain"
   ]
  },
  {
   "cell_type": "markdown",
   "id": "b0a51d3f-bc03-40be-a2f7-27632389f95e",
   "metadata": {},
   "source": [
    "## 검사"
   ]
  },
  {
   "cell_type": "markdown",
   "id": "5d64af03-30b1-4c74-8bf5-8717446a9d74",
   "metadata": {},
   "source": [
    "우리가 질문에 관련된 이미지를 검색할 때, 관련성 있는 이미지들을 되돌려 받기"
   ]
  },
  {
   "cell_type": "code",
   "execution_count": 57,
   "id": "22d8adec-d14f-4f0c-bf8d-c1a762ed184e",
   "metadata": {},
   "outputs": [
    {
     "name": "stderr",
     "output_type": "stream",
     "text": [
      "Number of requested results 4 is greater than number of elements in index 3, updating n_results = 3\n"
     ]
    },
    {
     "data": {
      "text/plain": [
       "3"
      ]
     },
     "execution_count": 57,
     "metadata": {},
     "output_type": "execute_result"
    }
   ],
   "source": [
    "# 검색 질의 실행\n",
    "query = \"회원가입 어떻게 해?\"\n",
    "\n",
    "# 질의에 대한 문서 6개를 검색합니다.\n",
    "docs = retriever_multi_vector_img.invoke(query, limit=6)\n",
    "\n",
    "# 문서의 개수 확인\n",
    "len(docs)  # 검색된 문서의 개수를 반환합니다."
   ]
  },
  {
   "cell_type": "code",
   "execution_count": 58,
   "id": "59d3ba3c-899a-4cc4-b254-f2b419c12540",
   "metadata": {},
   "outputs": [
    {
     "data": {
      "text/html": [
       "<img src=\"data:image/jpeg;base64,sete AM BF ate See ER 2B OSE ASUROIR SAU SERS NOTH AERE EN E1ftppanegolr 31 HES ORT ORY OH IONS: CTL 8 2.089 808 FEBS SRE BUC, ) ERO Nee S02] Boe SA SSL: 1 PORTMISE: 32317) PERG Goo 180) GBT IY ASE BAAS SE ‘EAE AUU+ FADE SE HSEES A DDFS Nee SRL n@ ia 28 9 1g enna elie lee Hartt Me RESHORNE BaRT OB EEE TE S01 SBN ABE $8 | SOG OST BY ORE ABE BPH TOBE RE| SE TBE AES SSI REE HR TS SHUM MEG Sic ADBEC FE $8 109] SESE Osh] BOG, O'S FAO) HBSS SOE ADBSEES MBE OF SE0 SUS tes Skt 5 OE OAL SHS SEW GE HOS BROS ES BERNEHE HOMES 2 A) S2)BS AES SPORT UON ABER ASR BUC, SIMA LUEL TUTE) UUIA TIT Mimo) ATIMR AdU En) StunI TINS! S1AzIA ’ r\n",
       "\n",
       "ANGE +8018 SIA Hashes EHO) SAVIO) BEE AS HIRE SHOISE Se TIRE SE ANSE BME, O GF HO] SOS SAT SLC 7S a8 Og ALAS Hl 3A AS Sel SEGUEE RAROE Petry OEE ANOS SNORE BAS BS UR 2G, OBS BPE ALPLe BARNS HN B2| Qe So) SE Bow ATs: OYARIOALLNSKRA MBA ALC. Teese 20854 aR BP AIRE, SUSBCTELESELS 3) MEE] ee HBS BRO1B7I2 suecagg | PEE Op, 08 SUISSE, AUEHE Enel 23s oo Tas Hexteel, tue Apelesesze), Agel HOBO B83 B72 TPES BS 8 O.BI7I2 BOTS act SO HS Bel 159) HSC SRN ESH2| MeO PORT-MIS TRA SEES) Ae) GH TSS ES HE BOS 4S S018 He BAA MSUC AS AMS Ba, AE 2) Huntalel, tupeet Apeleseaze), Agee PORT-WIS?t SBSH HIME SES Ti SBSSEABE A WE BOSE TAME EE CST SLC. a4 Ws aga Fo Cati) AAHBE| aus SDE TESARE H BO] G 4S YES HE) ABASS OAEE| SDS RES AEE M RQ ARH EBS AE) AuIORL EF TIAL SIT TIS RE cent ae RHEATIBh 4)\n",
       "\n",
       "@ #220\n",
       "\n",
       "RED|A\n",
       "\n",
       "RED|A 3i2I7}21\n",
       "\n",
       "HEOD|A 3/27/21\n",
       "\n",
       "aja 71232 (SE Sk SH Ern@ssyr*2 \"HSEHS | 010-1111-1111 ) 01012345678 portmis@portmis.com vex San] @® eae ||zzz001 APSQIEY BAI SB5F9Y0Z1X0Z Note: S}40] SA(El [AHS VSO Oi) 021234567 Oi) 021234567 @ +8 foil 221 = BEE 244, oo[c| Ss om tl\n",
       "\n",
       "aja 71232 (SE Sk SH Ern@ssyr*2 \"HSEHS | 010-1111-1111 ) 01012345678 portmis@portmis.com vex San] @® eae ||zzz001 APSQIEY BAI SB5F9Y0Z1X0Z Note: S}40] SA(El [AHS VSO Oi) 021234567 Oi) 021234567\" />"
      ],
      "text/plain": [
       "<IPython.core.display.HTML object>"
      ]
     },
     "metadata": {},
     "output_type": "display_data"
    }
   ],
   "source": [
    "# 관련 이미지를 반환\n",
    "plt_img_base64(docs[0])"
   ]
  },
  {
   "cell_type": "markdown",
   "id": "d66ab7b0-a822-4e38-91c5-08a0c038b657",
   "metadata": {},
   "source": [
    "아마 노트북 문제로 이미지 안 뜸,,"
   ]
  },
  {
   "cell_type": "markdown",
   "id": "5a256b4b-6fb3-4718-8bae-9d232dba44fd",
   "metadata": {},
   "source": [
    "## RAG"
   ]
  },
  {
   "cell_type": "code",
   "execution_count": 62,
   "id": "fb4ee6ae-3c4a-4c08-91b1-8cb1069a2d19",
   "metadata": {},
   "outputs": [
    {
     "name": "stderr",
     "output_type": "stream",
     "text": [
      "Number of requested results 4 is greater than number of elements in index 3, updating n_results = 3\n"
     ]
    },
    {
     "name": "stdout",
     "output_type": "stream",
     "text": [
      "선박제원 신고는 다음과 같은 절차를 통해 진행할 수 있습니다:\n",
      "\n",
      "1. **PORT-MIS 웹사이트 접속**: 먼저 PORT-MIS 웹사이트(portmis.go.kr)에 접속합니다.\n",
      "\n",
      "2. **로그인**: 회원가입이 되어 있지 않다면 회원가입을 진행하고, 이미 회원이라면 로그인합니다.\n",
      "\n",
      "3. **신고 메뉴 선택**: 로그인 후, 상단 메뉴에서 '선박제원 신고' 또는 관련 메뉴를 선택합니다.\n",
      "\n",
      "4. **신고서 작성**: 제공된 양식에 따라 선박의 제원 정보를 입력합니다. 여기에는 선박의 이름, 등록번호, 톤수, 길이, 폭, 깊이 등의 정보가 포함됩니다.\n",
      "\n",
      "5. **첨부 파일 업로드**: 필요한 경우, 선박의 제원과 관련된 서류나 증빙 자료를 스캔하여 첨부 파일로 업로드합니다.\n",
      "\n",
      "6. **검토 및 제출**: 입력한 정보를 다시 한번 검토한 후, 제출 버튼을 눌러 신고를 완료합니다.\n",
      "\n",
      "7. **확인 및 문의**: 신고가 정상적으로 접수되었는지 확인하고, 추가 문의사항이 있을 경우 PORT-MIS 고객센터(전화번호: 010-1111-1111 또는 이메일: portmis@portmis.com)로 연락합니다.\n",
      "\n",
      "이 절차를 통해 선박제원 신고를 완료할 수 있습니다. 추가적인 도움이 필요하면 PORT-MIS 고객센터에 문의하시기 바랍니다.\n"
     ]
    }
   ],
   "source": [
    "# RAG 체인 실행\n",
    "query = \"선박제원 신고는 어떻게 해?\"\n",
    "print(chain_multimodal_rag.invoke(query))"
   ]
  },
  {
   "cell_type": "markdown",
   "id": "9c532918-ce84-40e2-b60e-24884af97fdf",
   "metadata": {},
   "source": [
    "# pdf 데이터 활용"
   ]
  },
  {
   "cell_type": "code",
   "execution_count": 62,
   "id": "6d5ea609-c5f3-4d38-bac0-77986fccc032",
   "metadata": {},
   "outputs": [],
   "source": [
    "#https://wikidocs.net/234009"
   ]
  },
  {
   "cell_type": "code",
   "execution_count": 1,
   "id": "76f9e87b-d4f5-4fef-9f73-b5e53243165d",
   "metadata": {},
   "outputs": [
    {
     "name": "stderr",
     "output_type": "stream",
     "text": [
      "USER_AGENT environment variable not set, consider setting it to identify your requests.\n"
     ]
    }
   ],
   "source": [
    "from langchain import hub\n",
    "from langchain.text_splitter import RecursiveCharacterTextSplitter\n",
    "from langchain_community.document_loaders import WebBaseLoader\n",
    "from langchain_community.vectorstores import Chroma, FAISS\n",
    "from langchain_core.output_parsers import StrOutputParser\n",
    "from langchain_core.runnables import RunnablePassthrough\n",
    "from langchain_openai import ChatOpenAI, OpenAIEmbeddings"
   ]
  },
  {
   "cell_type": "code",
   "execution_count": 36,
   "id": "eca6cb34-7086-4a44-a496-85e81eb49147",
   "metadata": {},
   "outputs": [],
   "source": [
    "#문서 로드"
   ]
  },
  {
   "cell_type": "code",
   "execution_count": 4,
   "id": "4365f5f8-86c3-4397-8e8d-640a09b68d19",
   "metadata": {},
   "outputs": [
    {
     "name": "stdout",
     "output_type": "stream",
     "text": [
      "문서의 수: 1\n",
      "\n",
      "[페이지내용]\n",
      "방사능 오염  선박평형수 유입 차단 조치 안내\n",
      "원전 오염수 해양 방류(’23.8.24.)에 따라 방사능 오염 선박평형수가 국내에\n",
      "유입되지 않도록 아래와 같이 조치를 시행 하오니 협조하여 주시기 바랍니다.\n",
      "선박평형수 방사능 오염조사 등 절차\n",
      "일본 6개현\n",
      "평형수 주입배출 예정 선박\n",
      "미배출 예정 선박평형수 교환교환여부 검증\n",
      "및 방사능 조사평형수 배출입항\n",
      "입항\n",
      "(평형수 배출금지)자료 제출(출항 1시간 전까지)\n",
      "및 확인출항조치사항일본 동부 6개현* 에서 평형수를 주입 후 국내 입항 예정인 선박\n",
      "국내 입항 24시간 전까지 평형수 입항보고서* 제출* 아오모리현, 이와테현, 후쿠시마현, 미야기현, 이바라기현, 치바현1\n",
      "조치사항일본 동부 6개현에서 평형수를 주입 후 국내 배출 예정인 선박\n",
      "우리나라 관할수역 밖* 에서 평형수 교환 후 입항2\n",
      "* 쓰가루해협 등 일본 북쪽항로로 입항시 쓰가루해협 통과 후 부터 동경 135도30분 사이 또는\n",
      "  간몬해협 등 일본 남쪽항로로 입항시 북위 34도35분 통과 후\n",
      "\n",
      "[metadata]\n",
      "{'source': 'D:/[24]ICT_Practice/practice_file/ex1.pdf', 'page': 0}\n",
      "\n"
     ]
    }
   ],
   "source": [
    "from langchain.document_loaders import PyPDFLoader\n",
    "\n",
    "# PDF 파일 로드. 파일의 경로 입력\n",
    "loader = PyPDFLoader(\"D:/[24]ICT_Practice/practice_file/ex1.pdf\")\n",
    "\n",
    "# 페이지 별 문서 로드\n",
    "docs = loader.load()\n",
    "print(f\"문서의 수: {len(docs)}\")\n",
    "\n",
    "# 10번째 페이지의 내용 출력\n",
    "print(f\"\\n[페이지내용]\\n{docs[0].page_content[:500]}\")\n",
    "print(f\"\\n[metadata]\\n{docs[0].metadata}\\n\")"
   ]
  },
  {
   "cell_type": "code",
   "execution_count": 2,
   "id": "259763c0-5136-4246-9071-032a20a3abe7",
   "metadata": {},
   "outputs": [],
   "source": [
    "# 텍스트 분할 "
   ]
  },
  {
   "cell_type": "code",
   "execution_count": 5,
   "id": "ca2ce956-f434-4cbf-8ab8-94806f01c444",
   "metadata": {},
   "outputs": [],
   "source": [
    "from langchain.text_splitter import RecursiveCharacterTextSplitter\n",
    "text_splitter = RecursiveCharacterTextSplitter(\n",
    "    chunk_size = 100, # 원하는 덩어리 사이즈\n",
    "    chunk_overlap  = 20, # 겹치는 정도 (컨텍스트 유지 목적)\n",
    "    length_function = len, # 길이 측정 함수\n",
    "    add_start_index = True # 원본의 덩어리 시작 위치를 보여줄지 여부\n",
    ")"
   ]
  },
  {
   "cell_type": "code",
   "execution_count": 6,
   "id": "56964ed1-5261-483e-802d-74b0288743c4",
   "metadata": {},
   "outputs": [
    {
     "name": "stdout",
     "output_type": "stream",
     "text": [
      "page_content='지방해양수산청에서는 출항 전까지 제출된 자료를 검토하여 미배출 여부를 확인' metadata={'source': 'D:/[24]ICT_Practice/practice_file/ex1.pdf', 'page': 0, 'start_index': 704}\n",
      "page_content='(필요시 승선조사)할 예정이며, 선박의 출항은 배출 여부 확인 후 가능지방해양수산청에서 승선하여 교환 여부를 확인하고, 평형수 시료를 채취하여 신속하게방사능 농도를 측정할' metadata={'source': 'D:/[24]ICT_Practice/practice_file/ex1.pdf', 'page': 0, 'start_index': 746}\n"
     ]
    }
   ],
   "source": [
    "from langchain.document_loaders import OnlinePDFLoader\n",
    "data = loader.load()\n",
    "texts = text_splitter.split_documents(data)\n",
    "print(texts[10])\n",
    "print(texts[11])"
   ]
  },
  {
   "cell_type": "code",
   "execution_count": 56,
   "id": "f0dfcc88-5479-4f97-9396-520c496f5ada",
   "metadata": {},
   "outputs": [],
   "source": [
    "# 임베딩 & 벡터스토어 생성(Create Vectorstore)"
   ]
  },
  {
   "cell_type": "code",
   "execution_count": 53,
   "id": "7bb4fce5-e5fa-4703-92b9-f169687d5dc3",
   "metadata": {},
   "outputs": [],
   "source": [
    "#! pip install faiss-cpu"
   ]
  },
  {
   "cell_type": "code",
   "execution_count": 7,
   "id": "656f262f-1431-4485-b238-03916d058a5a",
   "metadata": {},
   "outputs": [],
   "source": [
    "from langchain_community.vectorstores import FAISS\n",
    "from langchain_openai.embeddings import OpenAIEmbeddings\n",
    "\n",
    "# 단계 3: 임베딩 & 벡터스토어 생성(Create Vectorstore)\n",
    "# 벡터스토어를 생성합니다.\n",
    "vectorstore = FAISS.from_documents(\n",
    "    documents=texts, embedding=OpenAIEmbeddings(openai_api_key=\"개인키작성\"))"
   ]
  },
  {
   "cell_type": "code",
   "execution_count": 55,
   "id": "c08c9bdd-944e-4882-a22a-4eeb719ea071",
   "metadata": {},
   "outputs": [],
   "source": [
    "# Retriever 생성"
   ]
  },
  {
   "cell_type": "code",
   "execution_count": 10,
   "id": "aa5d6f86-b5b9-4855-8c29-74a9593040a8",
   "metadata": {},
   "outputs": [],
   "source": [
    "## way1: 코사인 유사도"
   ]
  },
  {
   "cell_type": "code",
   "execution_count": null,
   "id": "27f22d3b-a427-4100-8244-8979c2ad0f48",
   "metadata": {},
   "outputs": [
    {
     "name": "stderr",
     "output_type": "stream",
     "text": [
      "C:\\ProgramData\\Anaconda3\\envs\\langchainenv\\Lib\\site-packages\\langchain_core\\_api\\deprecation.py:139: LangChainDeprecationWarning: The method `BaseRetriever.get_relevant_documents` was deprecated in langchain-core 0.1.46 and will be removed in 0.3.0. Use invoke instead.\n",
      "  warn_deprecated(\n"
     ]
    }
   ],
   "source": [
    "query = \"일본 동부에서 평형수를 주입 후 국내 입항 예정인 선박은?\"\n",
    "\n",
    "retriever = vectorstore.as_retriever(search_type=\"similarity\")\n",
    "search_result = retriever.get_relevant_documents(query)\n",
    "print(search_result)"
   ]
  },
  {
   "cell_type": "markdown",
   "id": "210f1d32-6ae2-4ee4-88f5-e150ab699933",
   "metadata": {},
   "source": [
    "**커널 죽음 -> 왜?**"
   ]
  },
  {
   "cell_type": "code",
   "execution_count": 11,
   "id": "bdc24efb-6ac8-49d2-83da-0432551bdad1",
   "metadata": {},
   "outputs": [],
   "source": [
    "## way2: similarity_score_threshold (유사도 기반 검색에서 score_threshold 이상인 결과만 반환)"
   ]
  },
  {
   "cell_type": "code",
   "execution_count": 8,
   "id": "1c88046f-34aa-4ad4-b0d7-a57df6d1d9bd",
   "metadata": {},
   "outputs": [
    {
     "name": "stderr",
     "output_type": "stream",
     "text": [
      "C:\\ProgramData\\Anaconda3\\envs\\langchainenv\\Lib\\site-packages\\langchain_core\\_api\\deprecation.py:139: LangChainDeprecationWarning: The method `BaseRetriever.get_relevant_documents` was deprecated in langchain-core 0.1.46 and will be removed in 0.3.0. Use invoke instead.\n",
      "  warn_deprecated(\n"
     ]
    },
    {
     "name": "stdout",
     "output_type": "stream",
     "text": [
      "[Document(metadata={'source': 'D:/[24]ICT_Practice/practice_file/ex1.pdf', 'page': 0, 'start_index': 342}, page_content='조치사항일본 동부 6개현에서 평형수를 주입 후 국내 배출 예정인 선박\\n우리나라 관할수역 밖* 에서 평형수 교환 후 입항2'), Document(metadata={'source': 'D:/[24]ICT_Practice/practice_file/ex1.pdf', 'page': 0, 'start_index': 227}, page_content='및 확인출항조치사항일본 동부 6개현* 에서 평형수를 주입 후 국내 입항 예정인 선박'), Document(metadata={'source': 'D:/[24]ICT_Practice/practice_file/ex1.pdf', 'page': 0, 'start_index': 523}, page_content='조치사항일본 동부 6개현에서 평형수를 주입 후 국내 배출 계획이 없는 선박\\n출항 1시간 전까지 평형수를 배출하지 않았음을 입증할 수 있는 자료* 제출3'), Document(metadata={'source': 'D:/[24]ICT_Practice/practice_file/ex1.pdf', 'page': 0, 'start_index': 72}, page_content='유입되지 않도록 아래와 같이 조치를 시행 하오니 협조하여 주시기 바랍니다.\\n선박평형수 방사능 오염조사 등 절차\\n일본 6개현\\n평형수 주입배출 예정 선박')]\n"
     ]
    }
   ],
   "source": [
    "query = \"일본 동부에서 평형수를 주입 후 국내 입항 예정인 선박은?\"\n",
    "\n",
    "retriever = vectorstore.as_retriever(\n",
    "    search_type=\"similarity_score_threshold\", search_kwargs={\"score_threshold\": 0.8}\n",
    ")\n",
    "search_result = retriever.get_relevant_documents(query)\n",
    "print(search_result)"
   ]
  },
  {
   "cell_type": "code",
   "execution_count": 12,
   "id": "08eff9e8-10a0-41f1-bbf4-4846b4cb2200",
   "metadata": {},
   "outputs": [],
   "source": [
    "## way3: maximum marginal search result 를 사용하여 검색"
   ]
  },
  {
   "cell_type": "code",
   "execution_count": 13,
   "id": "e56617c6-ed62-431e-bc28-127e146bb54b",
   "metadata": {},
   "outputs": [
    {
     "name": "stdout",
     "output_type": "stream",
     "text": [
      "[Document(metadata={'source': 'D:/[24]ICT_Practice/practice_file/ex1.pdf', 'page': 0, 'start_index': 342}, page_content='조치사항일본 동부 6개현에서 평형수를 주입 후 국내 배출 예정인 선박\\n우리나라 관할수역 밖* 에서 평형수 교환 후 입항2'), Document(metadata={'source': 'D:/[24]ICT_Practice/practice_file/ex1.pdf', 'page': 0, 'start_index': 410}, page_content='* 쓰가루해협 등 일본 북쪽항로로 입항시 쓰가루해협 통과 후 부터 동경 135도30분 사이 또는')]\n"
     ]
    }
   ],
   "source": [
    "query = \"일본 동부에서 평형수를 주입 후 국내 입항 예정인 선박은?\"\n",
    "\n",
    "retriever = vectorstore.as_retriever(search_type=\"mmr\", search_kwargs={\"k\": 2})\n",
    "search_result = retriever.get_relevant_documents(query)\n",
    "print(search_result)"
   ]
  },
  {
   "cell_type": "code",
   "execution_count": 14,
   "id": "618645d0-bf7f-41be-ae2a-74b00f1bb275",
   "metadata": {},
   "outputs": [],
   "source": [
    "## 다양한 쿼리 생성"
   ]
  },
  {
   "cell_type": "code",
   "execution_count": 16,
   "id": "d0a2ba73-cb93-4578-a8f0-55894c80aebf",
   "metadata": {},
   "outputs": [],
   "source": [
    "from langchain.retrievers.multi_query import MultiQueryRetriever\n",
    "from langchain_openai import ChatOpenAI\n",
    "\n",
    "query = \"일본 동부에서 평형수를 주입 후 국내 입항 예정인 선박은?\"\n",
    "\n",
    "llm = ChatOpenAI(temperature=0, model=\"gpt-4o\", openai_api_key=\"개인키작성\")\n",
    "\n",
    "retriever_from_llm = MultiQueryRetriever.from_llm(\n",
    "    retriever=vectorstore.as_retriever(), llm=llm\n",
    ")"
   ]
  },
  {
   "cell_type": "code",
   "execution_count": 17,
   "id": "eb6d9148-f24a-46b9-8741-9a183f97efe7",
   "metadata": {},
   "outputs": [],
   "source": [
    "# Set logging for the queries\n",
    "import logging\n",
    "\n",
    "logging.basicConfig()\n",
    "logging.getLogger(\"langchain.retrievers.multi_query\").setLevel(logging.INFO)"
   ]
  },
  {
   "cell_type": "code",
   "execution_count": 19,
   "id": "4f80bde9-302a-40b4-943e-0283be40f30c",
   "metadata": {},
   "outputs": [
    {
     "name": "stderr",
     "output_type": "stream",
     "text": [
      "INFO:langchain.retrievers.multi_query:Generated queries: ['일본 동부에서 평형수를 채운 후 한국으로 입항할 예정인 선박은?', '', '일본 동부에서 평형수를 주입한 후 한국에 도착할 예정인 배는?', '', '일본 동부에서 평형수를 채운 후 한국으로 들어오는 선박은?']\n"
     ]
    },
    {
     "data": {
      "text/plain": [
       "8"
      ]
     },
     "execution_count": 19,
     "metadata": {},
     "output_type": "execute_result"
    }
   ],
   "source": [
    "question = \"일본 동부에서 평형수를 주입 후 국내 입항 예정인 선박은?\"\n",
    "unique_docs = retriever_from_llm.get_relevant_documents(query=question)\n",
    "len(unique_docs)"
   ]
  },
  {
   "cell_type": "markdown",
   "id": "86c96c08-bbf9-4a81-8ac4-e13471f08a0c",
   "metadata": {},
   "source": [
    "-> 쿼리 증폭..?"
   ]
  },
  {
   "cell_type": "code",
   "execution_count": 23,
   "id": "894d21fc-b10a-49b3-8e07-6f21c46e33c3",
   "metadata": {},
   "outputs": [],
   "source": [
    "# 프롬프트 생성(Create Prompt)"
   ]
  },
  {
   "cell_type": "code",
   "execution_count": 24,
   "id": "82e8f44b-d8f6-4c5f-bd88-9499598c9500",
   "metadata": {},
   "outputs": [],
   "source": [
    "from langchain import hub"
   ]
  },
  {
   "cell_type": "code",
   "execution_count": 25,
   "id": "7f2c19dd-7a5f-4958-98d6-f71f4ab903a6",
   "metadata": {},
   "outputs": [
    {
     "data": {
      "text/plain": [
       "ChatPromptTemplate(input_variables=['context', 'question'], metadata={'lc_hub_owner': 'rlm', 'lc_hub_repo': 'rag-prompt', 'lc_hub_commit_hash': '50442af133e61576e74536c6556cefe1fac147cad032f4377b60c436e6cdcb6e'}, messages=[HumanMessagePromptTemplate(prompt=PromptTemplate(input_variables=['context', 'question'], template=\"You are an assistant for question-answering tasks. Use the following pieces of retrieved context to answer the question. If you don't know the answer, just say that you don't know. Use three sentences maximum and keep the answer concise.\\nQuestion: {question} \\nContext: {context} \\nAnswer:\"))])"
      ]
     },
     "execution_count": 25,
     "metadata": {},
     "output_type": "execute_result"
    }
   ],
   "source": [
    "prompt = hub.pull(\"rlm/rag-prompt\")\n",
    "prompt"
   ]
  },
  {
   "cell_type": "code",
   "execution_count": 27,
   "id": "87c876dc-0ff9-42db-8220-f6b1fd4fc114",
   "metadata": {},
   "outputs": [],
   "source": [
    "# 최종 수행(?)"
   ]
  },
  {
   "cell_type": "code",
   "execution_count": 33,
   "id": "cc53706f-047c-4e3b-ad1b-9106cb933ca8",
   "metadata": {},
   "outputs": [
    {
     "name": "stdout",
     "output_type": "stream",
     "text": [
      "Collecting rank_bm25\n",
      "  Downloading rank_bm25-0.2.2-py3-none-any.whl.metadata (3.2 kB)\n",
      "Requirement already satisfied: numpy in c:\\programdata\\anaconda3\\envs\\langchainenv\\lib\\site-packages (from rank_bm25) (1.26.4)\n",
      "Downloading rank_bm25-0.2.2-py3-none-any.whl (8.6 kB)\n",
      "Installing collected packages: rank_bm25\n",
      "Successfully installed rank_bm25-0.2.2\n"
     ]
    }
   ],
   "source": [
    "! pip install rank_bm25"
   ]
  },
  {
   "cell_type": "code",
   "execution_count": 34,
   "id": "2ec6df1c-9b23-41e8-ba0e-447cad6e6fc1",
   "metadata": {},
   "outputs": [],
   "source": [
    "from langchain.retrievers import BM25Retriever, EnsembleRetriever\n",
    "from langchain_community.vectorstores import FAISS\n",
    "from langchain_openai import OpenAIEmbeddings"
   ]
  },
  {
   "cell_type": "code",
   "execution_count": 41,
   "id": "52d4ade3-3a80-431d-bdf6-1e01c2d0b252",
   "metadata": {},
   "outputs": [
    {
     "name": "stdout",
     "output_type": "stream",
     "text": [
      "PDF Path: D:/[24]ICT_Practice/practice_file/ex1.pdf\n",
      "문서의 수: 1\n",
      "============================================================\n",
      "[HUMAN]\n",
      "일본 동부에서 평형수를 주입 후 국내 입항 예정인 선박은?\n",
      "\n",
      "[AI]\n",
      "일본 동부 6개현(아오모리현, 이와테현, 후쿠시마현, 미야기현, 이바라기현, 치바현)에서 평형수를 주입 후 국내 입항 예정인 선박입니다.\n"
     ]
    }
   ],
   "source": [
    "# 단계 1: 문서 로드(Load Documents)\n",
    "# 문서를 로드하고, 청크로 나누고, 인덱싱합니다.\n",
    "from langchain.document_loaders import PyPDFLoader\n",
    "from langchain_core.runnables import RunnableParallel, RunnablePassthrough\n",
    "from langchain.schema import StrOutputParser\n",
    "\n",
    "# PDF 파일 로드. 파일의 경로 입력\n",
    "file_path = \"D:/[24]ICT_Practice/practice_file/ex1.pdf\"\n",
    "loader = PyPDFLoader(file_path=file_path)\n",
    "\n",
    "# 단계 2: 문서 분할(Split Documents)\n",
    "text_splitter = RecursiveCharacterTextSplitter(chunk_size=1000, chunk_overlap=50)\n",
    "\n",
    "split_docs = loader.load_and_split(text_splitter=text_splitter)\n",
    "\n",
    "# 단계 3, 4: 임베딩 & 벡터스토어 생성(Create Vectorstore)\n",
    "# 벡터스토어를 생성합니다.\n",
    "vectorstore = FAISS.from_documents(documents=split_docs, embedding=OpenAIEmbeddings(openai_api_key=\"개인키작성\"))\n",
    "\n",
    "# 단계 5: 리트리버 생성(Create Retriever)\n",
    "# 사용자의 질문(query) 에 부합하는 문서를 검색합니다.\n",
    "\n",
    "# 유사도 높은 K 개의 문서를 검색합니다.\n",
    "k = 3\n",
    "\n",
    "# (Sparse) bm25 retriever and (Dense) faiss retriever 를 초기화 합니다.\n",
    "bm25_retriever = BM25Retriever.from_documents(split_docs)\n",
    "bm25_retriever.k = k\n",
    "\n",
    "faiss_vectorstore = FAISS.from_documents(split_docs, OpenAIEmbeddings(openai_api_key=\"개인키작성\"))\n",
    "faiss_retriever = faiss_vectorstore.as_retriever(search_kwargs={\"k\": k})\n",
    "\n",
    "# initialize the ensemble retriever\n",
    "ensemble_retriever = EnsembleRetriever(\n",
    "    retrievers=[bm25_retriever, faiss_retriever], weights=[0.5, 0.5]\n",
    ")\n",
    "\n",
    "# 단계 6: 프롬프트 생성(Create Prompt)\n",
    "# 프롬프트를 생성합니다.\n",
    "prompt = hub.pull(\"rlm/rag-prompt\")\n",
    "\n",
    "# 단계 7: 언어모델 생성(Create LLM)\n",
    "# 모델(LLM) 을 생성합니다.\n",
    "llm = ChatOpenAI(model_name=\"gpt-4o\", temperature=0,\n",
    "                 openai_api_key=\"개인키작성\")\n",
    "\n",
    "def format_docs(docs):\n",
    "    # 검색한 문서 결과를 하나의 문단으로 합쳐줍니다.\n",
    "    return \"\\n\\n\".join(doc.page_content for doc in docs)\n",
    "\n",
    "\n",
    "# 단계 8: 체인 생성(Create Chain)\n",
    "rag_chain = (\n",
    "    {\"context\": ensemble_retriever | format_docs, \"question\": RunnablePassthrough()}\n",
    "    | prompt\n",
    "    | llm\n",
    "    | StrOutputParser()\n",
    ")\n",
    "\n",
    "response = rag_chain.invoke(question)\n",
    "\n",
    "# 결과 출력\n",
    "print(f\"PDF Path: {file_path}\")\n",
    "print(f\"문서의 수: {len(docs)}\")\n",
    "print(\"===\" * 20)\n",
    "print(f\"[HUMAN]\\n{question}\\n\")\n",
    "print(f\"[AI]\\n{response}\")"
   ]
  },
  {
   "cell_type": "code",
   "execution_count": 42,
   "id": "9d0e9bc6-487b-49ae-a34b-75978dbf7cae",
   "metadata": {},
   "outputs": [
    {
     "name": "stdout",
     "output_type": "stream",
     "text": [
      "평형수입항보고를 허위로 신고하거나 평형수관리기록부를 허위로 작성하는 경우, 「선박평형수 관리법」에 따라 항해정지(출항금지)나 과태료 처분을 받을 수 있습니다.\n"
     ]
    }
   ],
   "source": [
    "# 단계 8: 체인 실행(Run Chain)\n",
    "# 문서에 대한 질의를 입력하고, 답변을 출력합니다.\n",
    "question = \"평형수입항보고를 허위로 신고하거나 평형수관리기록부를 허위로 작성하면 어떻게 돼?\"\n",
    "response = rag_chain.invoke(question)\n",
    "print(response)"
   ]
  },
  {
   "cell_type": "markdown",
   "id": "6f695204-41aa-4445-b257-2b418d08e007",
   "metadata": {},
   "source": [
    "# csv 데이터 활용"
   ]
  },
  {
   "cell_type": "code",
   "execution_count": 61,
   "id": "9b19e1c0-794f-4b39-bede-40a501a3933a",
   "metadata": {},
   "outputs": [],
   "source": [
    "#https://teddylee777.github.io/langchain/langchain-tutorial-04/"
   ]
  },
  {
   "cell_type": "code",
   "execution_count": 43,
   "id": "b43e9328-00f9-4acd-a0e2-a15cbde16aba",
   "metadata": {},
   "outputs": [],
   "source": [
    "# OPENAI_API\n",
    "import os\n",
    "\n",
    "os.environ['OPENAI_API_KEY'] = \"개인키작성\""
   ]
  },
  {
   "cell_type": "code",
   "execution_count": 53,
   "id": "20ce8916-62a3-4bdf-bd09-e11dcd63c746",
   "metadata": {},
   "outputs": [
    {
     "data": {
      "text/html": [
       "<div>\n",
       "<style scoped>\n",
       "    .dataframe tbody tr th:only-of-type {\n",
       "        vertical-align: middle;\n",
       "    }\n",
       "\n",
       "    .dataframe tbody tr th {\n",
       "        vertical-align: top;\n",
       "    }\n",
       "\n",
       "    .dataframe thead th {\n",
       "        text-align: right;\n",
       "    }\n",
       "</style>\n",
       "<table border=\"1\" class=\"dataframe\">\n",
       "  <thead>\n",
       "    <tr style=\"text-align: right;\">\n",
       "      <th></th>\n",
       "      <th>순번</th>\n",
       "      <th>국가코드</th>\n",
       "      <th>국가한글명</th>\n",
       "      <th>국가영문명</th>\n",
       "      <th>국가대륙코드</th>\n",
       "    </tr>\n",
       "  </thead>\n",
       "  <tbody>\n",
       "    <tr>\n",
       "      <th>0</th>\n",
       "      <td>1</td>\n",
       "      <td>AM</td>\n",
       "      <td>아르메니아</td>\n",
       "      <td>ARMENIA</td>\n",
       "      <td>아시아</td>\n",
       "    </tr>\n",
       "    <tr>\n",
       "      <th>1</th>\n",
       "      <td>2</td>\n",
       "      <td>AZ</td>\n",
       "      <td>아제르바이잔</td>\n",
       "      <td>AZERBAIJAN</td>\n",
       "      <td>아시아</td>\n",
       "    </tr>\n",
       "    <tr>\n",
       "      <th>2</th>\n",
       "      <td>3</td>\n",
       "      <td>BD</td>\n",
       "      <td>방글라데시</td>\n",
       "      <td>BANGLADESH</td>\n",
       "      <td>아시아</td>\n",
       "    </tr>\n",
       "    <tr>\n",
       "      <th>3</th>\n",
       "      <td>4</td>\n",
       "      <td>BN</td>\n",
       "      <td>브루나이</td>\n",
       "      <td>BRUNEI DARUSSALAM</td>\n",
       "      <td>아시아</td>\n",
       "    </tr>\n",
       "    <tr>\n",
       "      <th>4</th>\n",
       "      <td>5</td>\n",
       "      <td>BT</td>\n",
       "      <td>부탄</td>\n",
       "      <td>BHUTAN</td>\n",
       "      <td>아시아</td>\n",
       "    </tr>\n",
       "  </tbody>\n",
       "</table>\n",
       "</div>"
      ],
      "text/plain": [
       "   순번 국가코드   국가한글명              국가영문명 국가대륙코드\n",
       "0   1   AM   아르메니아            ARMENIA    아시아\n",
       "1   2   AZ  아제르바이잔         AZERBAIJAN    아시아\n",
       "2   3   BD   방글라데시         BANGLADESH    아시아\n",
       "3   4   BN    브루나이  BRUNEI DARUSSALAM    아시아\n",
       "4   5   BT      부탄             BHUTAN    아시아"
      ]
     },
     "execution_count": 53,
     "metadata": {},
     "output_type": "execute_result"
    }
   ],
   "source": [
    "import pandas as pd\n",
    "\n",
    "# csv 파일을 데이터프레임으로 로드\n",
    "df = pd.read_csv(\"D:/[24]ICT_Practice/practice_file/code.csv\" , encoding='cp949')\n",
    "df.head()"
   ]
  },
  {
   "cell_type": "code",
   "execution_count": 58,
   "id": "1a45a491-02c6-4dfa-a6d5-91a494bd3288",
   "metadata": {},
   "outputs": [],
   "source": [
    "from langchain_experimental.agents import create_pandas_dataframe_agent\n",
    "from langchain.chat_models import ChatOpenAI\n",
    "from langchain.agents.agent_types import AgentType\n",
    "\n",
    "\n",
    "# 에이전트 생성\n",
    "agent = create_pandas_dataframe_agent(\n",
    "    ChatOpenAI(temperature=0, \n",
    "               model='gpt-4-0613',\n",
    "               openai_api_key=\"개인키작성\"),        # 모델 정의\n",
    "    df,                                    # 데이터프레임\n",
    "    verbose=True,                          # 추론과정 출력\n",
    "    agent_type=AgentType.OPENAI_FUNCTIONS, # AgentType.ZERO_SHOT_REACT_DESCRIPTION\n",
    "    allow_dangerous_code=True \n",
    ")"
   ]
  },
  {
   "cell_type": "code",
   "execution_count": 59,
   "id": "5c2bd70a-2639-42e8-a779-29f81e147827",
   "metadata": {},
   "outputs": [
    {
     "name": "stdout",
     "output_type": "stream",
     "text": [
      "\n",
      "\n",
      "\u001b[1m> Entering new AgentExecutor chain...\u001b[0m\n",
      "\u001b[32;1m\u001b[1;3m\n",
      "Invoking: `python_repl_ast` with `{'query': 'df.shape'}`\n",
      "\n",
      "\n",
      "\u001b[0m\u001b[36;1m\u001b[1;3m(249, 5)\u001b[0m\u001b[32;1m\u001b[1;3m데이터프레임에는 총 249개의 행과 5개의 열이 있습니다.\u001b[0m\n",
      "\n",
      "\u001b[1m> Finished chain.\u001b[0m\n"
     ]
    },
    {
     "data": {
      "text/plain": [
       "'데이터프레임에는 총 249개의 행과 5개의 열이 있습니다.'"
      ]
     },
     "execution_count": 59,
     "metadata": {},
     "output_type": "execute_result"
    }
   ],
   "source": [
    "# 질의\n",
    "agent.run('데이터의 행과 열의 갯수는 어떻게 돼?')"
   ]
  },
  {
   "cell_type": "code",
   "execution_count": 60,
   "id": "e8ba23c4-ec94-4f9a-85a3-72a49eca6237",
   "metadata": {},
   "outputs": [
    {
     "name": "stdout",
     "output_type": "stream",
     "text": [
      "\n",
      "\n",
      "\u001b[1m> Entering new AgentExecutor chain...\u001b[0m\n",
      "\u001b[32;1m\u001b[1;3m\n",
      "Invoking: `python_repl_ast` with `{'query': \"df[df['국가한글명'] == '브루나이'][['국가코드', '국가대륙코드']]\"}`\n",
      "\n",
      "\n",
      "\u001b[0m\u001b[36;1m\u001b[1;3m  국가코드 국가대륙코드\n",
      "3   BN    아시아\u001b[0m\u001b[32;1m\u001b[1;3m브루나이의 국가코드는 'BN'이고, 국가대륙코드는 '아시아'입니다.\u001b[0m\n",
      "\n",
      "\u001b[1m> Finished chain.\u001b[0m\n"
     ]
    },
    {
     "data": {
      "text/plain": [
       "\"브루나이의 국가코드는 'BN'이고, 국가대륙코드는 '아시아'입니다.\""
      ]
     },
     "execution_count": 60,
     "metadata": {},
     "output_type": "execute_result"
    }
   ],
   "source": [
    "# 질의\n",
    "agent.run('브루나인의 국가코드랑 국가대륙코드는 뭐야?')"
   ]
  }
 ],
 "metadata": {
  "kernelspec": {
   "display_name": "langchainenv",
   "language": "python",
   "name": "langchainenv"
  },
  "language_info": {
   "codemirror_mode": {
    "name": "ipython",
    "version": 3
   },
   "file_extension": ".py",
   "mimetype": "text/x-python",
   "name": "python",
   "nbconvert_exporter": "python",
   "pygments_lexer": "ipython3",
   "version": "3.12.3"
  }
 },
 "nbformat": 4,
 "nbformat_minor": 5
}
